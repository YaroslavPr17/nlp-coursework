{
 "cells": [
  {
   "cell_type": "code",
   "execution_count": 1,
   "id": "b7a31b18",
   "metadata": {},
   "outputs": [],
   "source": [
    "from datasets.getters import  load_reviews_Review_Label\n",
    "\n",
    "import numpy as np\n",
    "import pandas as pd\n",
    "import matplotlib.pyplot as plt\n",
    "\n",
    "from sklearn.feature_extraction.text import TfidfVectorizer, CountVectorizer\n",
    "from sklearn.model_selection import train_test_split\n",
    "from sklearn.metrics import classification_report, f1_score\n",
    "from sklearn.linear_model import LogisticRegression \n",
    "from nltk.tokenize import TreebankWordTokenizer, TweetTokenizer\n",
    "from sklearn.utils import resample\n",
    "from sklearn.ensemble import GradientBoostingClassifier\n",
    "from gensim.models import Word2Vec\n",
    "\n",
    "from pprint import pprint\n",
    "\n",
    "from pymystem3 import Mystem\n",
    "\n",
    "np.set_printoptions(threshold=np.inf)"
   ]
  },
  {
   "cell_type": "code",
   "execution_count": 2,
   "id": "b7103ba6",
   "metadata": {},
   "outputs": [
    {
     "data": {
      "text/html": [
       "<div>\n",
       "<style scoped>\n",
       "    .dataframe tbody tr th:only-of-type {\n",
       "        vertical-align: middle;\n",
       "    }\n",
       "\n",
       "    .dataframe tbody tr th {\n",
       "        vertical-align: top;\n",
       "    }\n",
       "\n",
       "    .dataframe thead th {\n",
       "        text-align: right;\n",
       "    }\n",
       "</style>\n",
       "<table border=\"1\" class=\"dataframe\">\n",
       "  <thead>\n",
       "    <tr style=\"text-align: right;\">\n",
       "      <th></th>\n",
       "      <th>review</th>\n",
       "      <th>label</th>\n",
       "    </tr>\n",
       "  </thead>\n",
       "  <tbody>\n",
       "    <tr>\n",
       "      <th>0</th>\n",
       "      <td>В 1999 году этот фильм я и увидел. Его показыв...</td>\n",
       "      <td>POSITIVE</td>\n",
       "    </tr>\n",
       "    <tr>\n",
       "      <th>1</th>\n",
       "      <td>В 1999 году этот фильм я и увидел. Его показыв...</td>\n",
       "      <td>POSITIVE</td>\n",
       "    </tr>\n",
       "    <tr>\n",
       "      <th>2</th>\n",
       "      <td>Один из лучших фильмов, которые, собственно, я...</td>\n",
       "      <td>POSITIVE</td>\n",
       "    </tr>\n",
       "    <tr>\n",
       "      <th>3</th>\n",
       "      <td>Середина и конец девяностых оказались богатыми...</td>\n",
       "      <td>POSITIVE</td>\n",
       "    </tr>\n",
       "    <tr>\n",
       "      <th>4</th>\n",
       "      <td>Не читая книгу, мне трудно судить насколько фи...</td>\n",
       "      <td>POSITIVE</td>\n",
       "    </tr>\n",
       "    <tr>\n",
       "      <th>...</th>\n",
       "      <td>...</td>\n",
       "      <td>...</td>\n",
       "    </tr>\n",
       "    <tr>\n",
       "      <th>22324</th>\n",
       "      <td>Да да Кристофер Нолан снял на столько великоле...</td>\n",
       "      <td>POSITIVE</td>\n",
       "    </tr>\n",
       "    <tr>\n",
       "      <th>22325</th>\n",
       "      <td>Бред! Так думаешь сначала... Ничего не понятно...</td>\n",
       "      <td>POSITIVE</td>\n",
       "    </tr>\n",
       "    <tr>\n",
       "      <th>22326</th>\n",
       "      <td>Фильм достойный обсуждения, анализа, изучения....</td>\n",
       "      <td>POSITIVE</td>\n",
       "    </tr>\n",
       "    <tr>\n",
       "      <th>22327</th>\n",
       "      <td>'Темный рыцарь' - один из моих самых любимых ф...</td>\n",
       "      <td>POSITIVE</td>\n",
       "    </tr>\n",
       "    <tr>\n",
       "      <th>22328</th>\n",
       "      <td>&lt;b&gt;Вместо предисловия &lt;/b&gt;\\r\\n\\r\\n&lt;i&gt;Говорят, ...</td>\n",
       "      <td>POSITIVE</td>\n",
       "    </tr>\n",
       "  </tbody>\n",
       "</table>\n",
       "<p>15902 rows × 2 columns</p>\n",
       "</div>"
      ],
      "text/plain": [
       "                                                  review     label\n",
       "0      В 1999 году этот фильм я и увидел. Его показыв...  POSITIVE\n",
       "1      В 1999 году этот фильм я и увидел. Его показыв...  POSITIVE\n",
       "2      Один из лучших фильмов, которые, собственно, я...  POSITIVE\n",
       "3      Середина и конец девяностых оказались богатыми...  POSITIVE\n",
       "4      Не читая книгу, мне трудно судить насколько фи...  POSITIVE\n",
       "...                                                  ...       ...\n",
       "22324  Да да Кристофер Нолан снял на столько великоле...  POSITIVE\n",
       "22325  Бред! Так думаешь сначала... Ничего не понятно...  POSITIVE\n",
       "22326  Фильм достойный обсуждения, анализа, изучения....  POSITIVE\n",
       "22327  'Темный рыцарь' - один из моих самых любимых ф...  POSITIVE\n",
       "22328  <b>Вместо предисловия </b>\\r\\n\\r\\n<i>Говорят, ...  POSITIVE\n",
       "\n",
       "[15902 rows x 2 columns]"
      ]
     },
     "execution_count": 2,
     "metadata": {},
     "output_type": "execute_result"
    }
   ],
   "source": [
    "reviews = load_reviews_Review_Label()\n",
    "reviews"
   ]
  },
  {
   "cell_type": "code",
   "execution_count": 3,
   "id": "e028114d",
   "metadata": {},
   "outputs": [
    {
     "data": {
      "text/plain": [
       "POSITIVE    13236\n",
       "NEUTRAL      1517\n",
       "NEGATIVE     1149\n",
       "Name: label, dtype: int64"
      ]
     },
     "execution_count": 3,
     "metadata": {},
     "output_type": "execute_result"
    }
   ],
   "source": [
    "reviews.label.value_counts()"
   ]
  },
  {
   "cell_type": "code",
   "execution_count": 4,
   "id": "d6005b42",
   "metadata": {},
   "outputs": [
    {
     "data": {
      "image/png": "[encoded data removed]",
      "text/plain": [
       "<Figure size 500x300 with 1 Axes>"
      ]
     },
     "metadata": {},
     "output_type": "display_data"
    }
   ],
   "source": [
    "fig, ax = plt.subplots(figsize=(5, 3))\n",
    "\n",
    "ax.bar(reviews.label.value_counts().index, \n",
    "       reviews.label.value_counts().values, \n",
    "       color = 'moccasin', width = 0.9)\n",
    "plt.title(\"Category distribution\")\n",
    "plt.xlabel(\"Review types\")\n",
    "plt.ylabel(\"Number of reviews\")\n",
    "plt.grid(True)"
   ]
  },
  {
   "cell_type": "code",
   "execution_count": 5,
   "id": "669dc54e",
   "metadata": {},
   "outputs": [],
   "source": [
    "label_encoding = {\n",
    "    'POSITIVE': 2,\n",
    "    'NEUTRAL': 1,\n",
    "    'NEGATIVE': 0\n",
    "}"
   ]
  },
  {
   "cell_type": "code",
   "execution_count": 6,
   "id": "12292ef5",
   "metadata": {},
   "outputs": [
    {
     "data": {
      "text/html": [
       "<div>\n",
       "<style scoped>\n",
       "    .dataframe tbody tr th:only-of-type {\n",
       "        vertical-align: middle;\n",
       "    }\n",
       "\n",
       "    .dataframe tbody tr th {\n",
       "        vertical-align: top;\n",
       "    }\n",
       "\n",
       "    .dataframe thead th {\n",
       "        text-align: right;\n",
       "    }\n",
       "</style>\n",
       "<table border=\"1\" class=\"dataframe\">\n",
       "  <thead>\n",
       "    <tr style=\"text-align: right;\">\n",
       "      <th></th>\n",
       "      <th>review</th>\n",
       "      <th>label</th>\n",
       "    </tr>\n",
       "  </thead>\n",
       "  <tbody>\n",
       "    <tr>\n",
       "      <th>0</th>\n",
       "      <td>В 1999 году этот фильм я и увидел. Его показыв...</td>\n",
       "      <td>2</td>\n",
       "    </tr>\n",
       "    <tr>\n",
       "      <th>1</th>\n",
       "      <td>В 1999 году этот фильм я и увидел. Его показыв...</td>\n",
       "      <td>2</td>\n",
       "    </tr>\n",
       "    <tr>\n",
       "      <th>2</th>\n",
       "      <td>Один из лучших фильмов, которые, собственно, я...</td>\n",
       "      <td>2</td>\n",
       "    </tr>\n",
       "    <tr>\n",
       "      <th>3</th>\n",
       "      <td>Середина и конец девяностых оказались богатыми...</td>\n",
       "      <td>2</td>\n",
       "    </tr>\n",
       "    <tr>\n",
       "      <th>4</th>\n",
       "      <td>Не читая книгу, мне трудно судить насколько фи...</td>\n",
       "      <td>2</td>\n",
       "    </tr>\n",
       "    <tr>\n",
       "      <th>...</th>\n",
       "      <td>...</td>\n",
       "      <td>...</td>\n",
       "    </tr>\n",
       "    <tr>\n",
       "      <th>22324</th>\n",
       "      <td>Да да Кристофер Нолан снял на столько великоле...</td>\n",
       "      <td>2</td>\n",
       "    </tr>\n",
       "    <tr>\n",
       "      <th>22325</th>\n",
       "      <td>Бред! Так думаешь сначала... Ничего не понятно...</td>\n",
       "      <td>2</td>\n",
       "    </tr>\n",
       "    <tr>\n",
       "      <th>22326</th>\n",
       "      <td>Фильм достойный обсуждения, анализа, изучения....</td>\n",
       "      <td>2</td>\n",
       "    </tr>\n",
       "    <tr>\n",
       "      <th>22327</th>\n",
       "      <td>'Темный рыцарь' - один из моих самых любимых ф...</td>\n",
       "      <td>2</td>\n",
       "    </tr>\n",
       "    <tr>\n",
       "      <th>22328</th>\n",
       "      <td>&lt;b&gt;Вместо предисловия &lt;/b&gt;\\r\\n\\r\\n&lt;i&gt;Говорят, ...</td>\n",
       "      <td>2</td>\n",
       "    </tr>\n",
       "  </tbody>\n",
       "</table>\n",
       "<p>15902 rows × 2 columns</p>\n",
       "</div>"
      ],
      "text/plain": [
       "                                                  review  label\n",
       "0      В 1999 году этот фильм я и увидел. Его показыв...      2\n",
       "1      В 1999 году этот фильм я и увидел. Его показыв...      2\n",
       "2      Один из лучших фильмов, которые, собственно, я...      2\n",
       "3      Середина и конец девяностых оказались богатыми...      2\n",
       "4      Не читая книгу, мне трудно судить насколько фи...      2\n",
       "...                                                  ...    ...\n",
       "22324  Да да Кристофер Нолан снял на столько великоле...      2\n",
       "22325  Бред! Так думаешь сначала... Ничего не понятно...      2\n",
       "22326  Фильм достойный обсуждения, анализа, изучения....      2\n",
       "22327  'Темный рыцарь' - один из моих самых любимых ф...      2\n",
       "22328  <b>Вместо предисловия </b>\\r\\n\\r\\n<i>Говорят, ...      2\n",
       "\n",
       "[15902 rows x 2 columns]"
      ]
     },
     "execution_count": 6,
     "metadata": {},
     "output_type": "execute_result"
    }
   ],
   "source": [
    "reviews.label = reviews.label.apply(lambda label: label_encoding[label])\n",
    "reviews"
   ]
  },
  {
   "cell_type": "code",
   "execution_count": 7,
   "id": "55574e2f",
   "metadata": {},
   "outputs": [
    {
     "data": {
      "text/html": [
       "<div>\n",
       "<style scoped>\n",
       "    .dataframe tbody tr th:only-of-type {\n",
       "        vertical-align: middle;\n",
       "    }\n",
       "\n",
       "    .dataframe tbody tr th {\n",
       "        vertical-align: top;\n",
       "    }\n",
       "\n",
       "    .dataframe thead th {\n",
       "        text-align: right;\n",
       "    }\n",
       "</style>\n",
       "<table border=\"1\" class=\"dataframe\">\n",
       "  <thead>\n",
       "    <tr style=\"text-align: right;\">\n",
       "      <th></th>\n",
       "      <th>review</th>\n",
       "      <th>label</th>\n",
       "    </tr>\n",
       "  </thead>\n",
       "  <tbody>\n",
       "    <tr>\n",
       "      <th>0</th>\n",
       "      <td>В 1999 году этот фильм я и увидел. Его показыв...</td>\n",
       "      <td>2</td>\n",
       "    </tr>\n",
       "    <tr>\n",
       "      <th>1</th>\n",
       "      <td>В 1999 году этот фильм я и увидел. Его показыв...</td>\n",
       "      <td>2</td>\n",
       "    </tr>\n",
       "    <tr>\n",
       "      <th>2</th>\n",
       "      <td>Один из лучших фильмов, которые, собственно, я...</td>\n",
       "      <td>2</td>\n",
       "    </tr>\n",
       "    <tr>\n",
       "      <th>3</th>\n",
       "      <td>Середина и конец девяностых оказались богатыми...</td>\n",
       "      <td>2</td>\n",
       "    </tr>\n",
       "    <tr>\n",
       "      <th>4</th>\n",
       "      <td>Не читая книгу, мне трудно судить насколько фи...</td>\n",
       "      <td>2</td>\n",
       "    </tr>\n",
       "    <tr>\n",
       "      <th>...</th>\n",
       "      <td>...</td>\n",
       "      <td>...</td>\n",
       "    </tr>\n",
       "    <tr>\n",
       "      <th>22324</th>\n",
       "      <td>Да да Кристофер Нолан снял на столько великоле...</td>\n",
       "      <td>2</td>\n",
       "    </tr>\n",
       "    <tr>\n",
       "      <th>22325</th>\n",
       "      <td>Бред! Так думаешь сначала... Ничего не понятно...</td>\n",
       "      <td>2</td>\n",
       "    </tr>\n",
       "    <tr>\n",
       "      <th>22326</th>\n",
       "      <td>Фильм достойный обсуждения, анализа, изучения....</td>\n",
       "      <td>2</td>\n",
       "    </tr>\n",
       "    <tr>\n",
       "      <th>22327</th>\n",
       "      <td>'Темный рыцарь' - один из моих самых любимых ф...</td>\n",
       "      <td>2</td>\n",
       "    </tr>\n",
       "    <tr>\n",
       "      <th>22328</th>\n",
       "      <td>&lt;b&gt;Вместо предисловия &lt;/b&gt;\\r\\n\\r\\n&lt;i&gt;Говорят, ...</td>\n",
       "      <td>2</td>\n",
       "    </tr>\n",
       "  </tbody>\n",
       "</table>\n",
       "<p>14385 rows × 2 columns</p>\n",
       "</div>"
      ],
      "text/plain": [
       "                                                  review  label\n",
       "0      В 1999 году этот фильм я и увидел. Его показыв...      2\n",
       "1      В 1999 году этот фильм я и увидел. Его показыв...      2\n",
       "2      Один из лучших фильмов, которые, собственно, я...      2\n",
       "3      Середина и конец девяностых оказались богатыми...      2\n",
       "4      Не читая книгу, мне трудно судить насколько фи...      2\n",
       "...                                                  ...    ...\n",
       "22324  Да да Кристофер Нолан снял на столько великоле...      2\n",
       "22325  Бред! Так думаешь сначала... Ничего не понятно...      2\n",
       "22326  Фильм достойный обсуждения, анализа, изучения....      2\n",
       "22327  'Темный рыцарь' - один из моих самых любимых ф...      2\n",
       "22328  <b>Вместо предисловия </b>\\r\\n\\r\\n<i>Говорят, ...      2\n",
       "\n",
       "[14385 rows x 2 columns]"
      ]
     },
     "execution_count": 7,
     "metadata": {},
     "output_type": "execute_result"
    }
   ],
   "source": [
    "reviews = reviews[reviews.label != 1]\n",
    "reviews"
   ]
  },
  {
   "cell_type": "code",
   "execution_count": 8,
   "id": "d52deb5f",
   "metadata": {},
   "outputs": [
    {
     "name": "stdout",
     "output_type": "stream",
     "text": [
      "(10069, 2) (4316, 2)\n"
     ]
    },
    {
     "data": {
      "text/html": [
       "<div>\n",
       "<style scoped>\n",
       "    .dataframe tbody tr th:only-of-type {\n",
       "        vertical-align: middle;\n",
       "    }\n",
       "\n",
       "    .dataframe tbody tr th {\n",
       "        vertical-align: top;\n",
       "    }\n",
       "\n",
       "    .dataframe thead th {\n",
       "        text-align: right;\n",
       "    }\n",
       "</style>\n",
       "<table border=\"1\" class=\"dataframe\">\n",
       "  <thead>\n",
       "    <tr style=\"text-align: right;\">\n",
       "      <th></th>\n",
       "      <th>review</th>\n",
       "      <th>label</th>\n",
       "    </tr>\n",
       "  </thead>\n",
       "  <tbody>\n",
       "    <tr>\n",
       "      <th>7126</th>\n",
       "      <td>Безусловно лучшее творение Бессона. Безупречна...</td>\n",
       "      <td>2</td>\n",
       "    </tr>\n",
       "    <tr>\n",
       "      <th>22072</th>\n",
       "      <td>Как и многие, ждала этот фильм с нетерпением  ...</td>\n",
       "      <td>0</td>\n",
       "    </tr>\n",
       "    <tr>\n",
       "      <th>17088</th>\n",
       "      <td>На самом деле, очень хороший мультик.Долгое вр...</td>\n",
       "      <td>2</td>\n",
       "    </tr>\n",
       "    <tr>\n",
       "      <th>15030</th>\n",
       "      <td>Один из самых заслуженных «Оскаров» за лучший ...</td>\n",
       "      <td>2</td>\n",
       "    </tr>\n",
       "    <tr>\n",
       "      <th>14947</th>\n",
       "      <td>Лидер советского кинопроката далекого 1973 год...</td>\n",
       "      <td>2</td>\n",
       "    </tr>\n",
       "    <tr>\n",
       "      <th>...</th>\n",
       "      <td>...</td>\n",
       "      <td>...</td>\n",
       "    </tr>\n",
       "    <tr>\n",
       "      <th>5705</th>\n",
       "      <td>В общем недолюбливающая фильмы снятые по комик...</td>\n",
       "      <td>2</td>\n",
       "    </tr>\n",
       "    <tr>\n",
       "      <th>21225</th>\n",
       "      <td>Помните в школе мальчишки баловались тем, что ...</td>\n",
       "      <td>2</td>\n",
       "    </tr>\n",
       "    <tr>\n",
       "      <th>5941</th>\n",
       "      <td>Я поговорю не о фильме, обогнавшем в рейтингах...</td>\n",
       "      <td>2</td>\n",
       "    </tr>\n",
       "    <tr>\n",
       "      <th>932</th>\n",
       "      <td>Если посмотреть фильм сейчас, в конце 2016 год...</td>\n",
       "      <td>2</td>\n",
       "    </tr>\n",
       "    <tr>\n",
       "      <th>8025</th>\n",
       "      <td>Прекрасный фильм, после просмотра которого о м...</td>\n",
       "      <td>2</td>\n",
       "    </tr>\n",
       "  </tbody>\n",
       "</table>\n",
       "<p>10069 rows × 2 columns</p>\n",
       "</div>"
      ],
      "text/plain": [
       "                                                  review  label\n",
       "7126   Безусловно лучшее творение Бессона. Безупречна...      2\n",
       "22072  Как и многие, ждала этот фильм с нетерпением  ...      0\n",
       "17088  На самом деле, очень хороший мультик.Долгое вр...      2\n",
       "15030  Один из самых заслуженных «Оскаров» за лучший ...      2\n",
       "14947  Лидер советского кинопроката далекого 1973 год...      2\n",
       "...                                                  ...    ...\n",
       "5705   В общем недолюбливающая фильмы снятые по комик...      2\n",
       "21225  Помните в школе мальчишки баловались тем, что ...      2\n",
       "5941   Я поговорю не о фильме, обогнавшем в рейтингах...      2\n",
       "932    Если посмотреть фильм сейчас, в конце 2016 год...      2\n",
       "8025   Прекрасный фильм, после просмотра которого о м...      2\n",
       "\n",
       "[10069 rows x 2 columns]"
      ]
     },
     "execution_count": 8,
     "metadata": {},
     "output_type": "execute_result"
    }
   ],
   "source": [
    "train, test = train_test_split(reviews, test_size=0.3, random_state=42)\n",
    "print(train.shape, test.shape)\n",
    "train"
   ]
  },
  {
   "cell_type": "code",
   "execution_count": 9,
   "id": "f8cbb496",
   "metadata": {},
   "outputs": [],
   "source": [
    "# cnt_vec_text = CountVectorizer()\n",
    "# train_vectorized = cnt_vec_text.fit_transform(train.review)\n",
    "# train_vectorized"
   ]
  },
  {
   "cell_type": "code",
   "execution_count": 10,
   "id": "962e3a7b",
   "metadata": {},
   "outputs": [],
   "source": [
    "# cnt_vec_text.vocabulary_"
   ]
  },
  {
   "cell_type": "markdown",
   "id": "06921b51",
   "metadata": {},
   "source": [
    "---"
   ]
  },
  {
   "cell_type": "code",
   "execution_count": 27,
   "id": "6ff68337",
   "metadata": {},
   "outputs": [
    {
     "name": "stdout",
     "output_type": "stream",
     "text": [
      "CountVectorizing finished.\n",
      "              precision    recall  f1-score   support\n",
      "\n",
      "           0       0.65      0.46      0.54       324\n",
      "           1       0.31      0.20      0.25       447\n",
      "           2       0.90      0.96      0.93      4000\n",
      "\n",
      "    accuracy                           0.86      4771\n",
      "   macro avg       0.62      0.54      0.57      4771\n",
      "weighted avg       0.83      0.86      0.84      4771\n",
      "\n"
     ]
    }
   ],
   "source": [
    "cnt_vec = CountVectorizer()\n",
    "X_train = cnt_vec.fit_transform(train.review)\n",
    "X_test  = cnt_vec.transform(test.review)\n",
    "\n",
    "print('CountVectorizing finished.')\n",
    "\n",
    "clf = LogisticRegression(max_iter=200, n_jobs=-1, multi_class='multinomial')\n",
    "clf.fit(X_train, train.label)\n",
    "print(classification_report(test.label, clf.predict(X_test)))"
   ]
  },
  {
   "cell_type": "code",
   "execution_count": 66,
   "id": "065433d4",
   "metadata": {},
   "outputs": [
    {
     "name": "stdout",
     "output_type": "stream",
     "text": [
      "CountVectorizing finished.\n",
      "0.9759980101977366\n",
      "0.6734348561759729\n",
      "              precision    recall  f1-score   support\n",
      "\n",
      "           0       0.80      0.58      0.67       341\n",
      "           2       0.97      0.99      0.98      3975\n",
      "\n",
      "    accuracy                           0.96      4316\n",
      "   macro avg       0.88      0.79      0.82      4316\n",
      "weighted avg       0.95      0.96      0.95      4316\n",
      "\n"
     ]
    }
   ],
   "source": [
    "cnt_vec = CountVectorizer(tokenizer=TreebankWordTokenizer().tokenize)\n",
    "X_train = cnt_vec.fit_transform(train.review)\n",
    "X_test  = cnt_vec.transform(test.review)\n",
    "\n",
    "print('CountVectorizing finished.')\n",
    "\n",
    "clf = LogisticRegression(max_iter=200, n_jobs=-1)\n",
    "clf.fit(X_train, train.label)\n",
    "pred = clf.predict(X_test)\n",
    "\n",
    "print(f1_score(test.label, pred, pos_label=2))\n",
    "print(f1_score(test.label, pred, pos_label=0))\n",
    "print(classification_report(test.label, pred))"
   ]
  },
  {
   "cell_type": "code",
   "execution_count": 67,
   "id": "296fee4d",
   "metadata": {},
   "outputs": [
    {
     "name": "stdout",
     "output_type": "stream",
     "text": [
      "TfidfVectorizing finished.\n",
      "0.9614221792236063\n",
      "0.12121212121212122\n",
      "              precision    recall  f1-score   support\n",
      "\n",
      "           0       1.00      0.06      0.12       341\n",
      "           2       0.93      1.00      0.96      3975\n",
      "\n",
      "    accuracy                           0.93      4316\n",
      "   macro avg       0.96      0.53      0.54      4316\n",
      "weighted avg       0.93      0.93      0.90      4316\n",
      "\n"
     ]
    }
   ],
   "source": [
    "cnt_vec = TfidfVectorizer(tokenizer=TreebankWordTokenizer().tokenize)\n",
    "X_train = cnt_vec.fit_transform(train.review)\n",
    "X_test  = cnt_vec.transform(test.review)\n",
    "\n",
    "print('TfidfVectorizing finished.')\n",
    "\n",
    "clf = LogisticRegression(max_iter=200, n_jobs=-1)\n",
    "clf.fit(X_train, train.label)\n",
    "pred = clf.predict(X_test)\n",
    "\n",
    "print(f1_score(test.label, pred, pos_label=2))\n",
    "print(f1_score(test.label, pred, pos_label=0))\n",
    "print(classification_report(test.label, pred))"
   ]
  },
  {
   "cell_type": "markdown",
   "id": "ca05d650",
   "metadata": {},
   "source": [
    "#### Balancing dataset"
   ]
  },
  {
   "cell_type": "markdown",
   "id": "caeeb00e",
   "metadata": {},
   "source": [
    "[SMOTE: метод увеличения числа примеров миноритарного класса](https://medium.com/nuances-of-programming/smote-%D0%BC%D0%B5%D1%82%D0%BE%D0%B4-%D1%83%D0%B2%D0%B5%D0%BB%D0%B8%D1%87%D0%B5%D0%BD%D0%B8%D1%8F-%D1%87%D0%B8%D1%81%D0%BB%D0%B0-%D0%BF%D1%80%D0%B8%D0%BC%D0%B5%D1%80%D0%BE%D0%B2-%D0%BC%D0%B8%D0%BD%D0%BE%D1%80%D0%B8%D1%82%D0%B0%D1%80%D0%BD%D0%BE%D0%B3%D0%BE-%D0%BA%D0%BB%D0%B0%D1%81%D1%81%D0%B0-da91a62f9914)\n",
    "> Другим вариантом является увеличение примеров миноритарного класса. Иными словами, случайным образом дублируются образцы миноритарного класса. Проблема этого подхода заключается в том, что он приводит к чрезмерному обучению, поскольку модель обучается на одних и тех же примерах."
   ]
  },
  {
   "cell_type": "code",
   "execution_count": 10,
   "id": "8394fa79",
   "metadata": {},
   "outputs": [
    {
     "data": {
      "text/plain": [
       "2    9261\n",
       "0     808\n",
       "Name: label, dtype: int64"
      ]
     },
     "execution_count": 10,
     "metadata": {},
     "output_type": "execute_result"
    }
   ],
   "source": [
    "train.label.value_counts()"
   ]
  },
  {
   "cell_type": "code",
   "execution_count": 11,
   "id": "94b000d1",
   "metadata": {},
   "outputs": [
    {
     "data": {
      "text/html": [
       "<div>\n",
       "<style scoped>\n",
       "    .dataframe tbody tr th:only-of-type {\n",
       "        vertical-align: middle;\n",
       "    }\n",
       "\n",
       "    .dataframe tbody tr th {\n",
       "        vertical-align: top;\n",
       "    }\n",
       "\n",
       "    .dataframe thead th {\n",
       "        text-align: right;\n",
       "    }\n",
       "</style>\n",
       "<table border=\"1\" class=\"dataframe\">\n",
       "  <thead>\n",
       "    <tr style=\"text-align: right;\">\n",
       "      <th></th>\n",
       "      <th>review</th>\n",
       "      <th>label</th>\n",
       "    </tr>\n",
       "  </thead>\n",
       "  <tbody>\n",
       "    <tr>\n",
       "      <th>7126</th>\n",
       "      <td>Безусловно лучшее творение Бессона. Безупречна...</td>\n",
       "      <td>2</td>\n",
       "    </tr>\n",
       "    <tr>\n",
       "      <th>22072</th>\n",
       "      <td>Как и многие, ждала этот фильм с нетерпением  ...</td>\n",
       "      <td>0</td>\n",
       "    </tr>\n",
       "    <tr>\n",
       "      <th>17088</th>\n",
       "      <td>На самом деле, очень хороший мультик.Долгое вр...</td>\n",
       "      <td>2</td>\n",
       "    </tr>\n",
       "    <tr>\n",
       "      <th>15030</th>\n",
       "      <td>Один из самых заслуженных «Оскаров» за лучший ...</td>\n",
       "      <td>2</td>\n",
       "    </tr>\n",
       "    <tr>\n",
       "      <th>14947</th>\n",
       "      <td>Лидер советского кинопроката далекого 1973 год...</td>\n",
       "      <td>2</td>\n",
       "    </tr>\n",
       "    <tr>\n",
       "      <th>...</th>\n",
       "      <td>...</td>\n",
       "      <td>...</td>\n",
       "    </tr>\n",
       "    <tr>\n",
       "      <th>5705</th>\n",
       "      <td>В общем недолюбливающая фильмы снятые по комик...</td>\n",
       "      <td>2</td>\n",
       "    </tr>\n",
       "    <tr>\n",
       "      <th>21225</th>\n",
       "      <td>Помните в школе мальчишки баловались тем, что ...</td>\n",
       "      <td>2</td>\n",
       "    </tr>\n",
       "    <tr>\n",
       "      <th>5941</th>\n",
       "      <td>Я поговорю не о фильме, обогнавшем в рейтингах...</td>\n",
       "      <td>2</td>\n",
       "    </tr>\n",
       "    <tr>\n",
       "      <th>932</th>\n",
       "      <td>Если посмотреть фильм сейчас, в конце 2016 год...</td>\n",
       "      <td>2</td>\n",
       "    </tr>\n",
       "    <tr>\n",
       "      <th>8025</th>\n",
       "      <td>Прекрасный фильм, после просмотра которого о м...</td>\n",
       "      <td>2</td>\n",
       "    </tr>\n",
       "  </tbody>\n",
       "</table>\n",
       "<p>10069 rows × 2 columns</p>\n",
       "</div>"
      ],
      "text/plain": [
       "                                                  review  label\n",
       "7126   Безусловно лучшее творение Бессона. Безупречна...      2\n",
       "22072  Как и многие, ждала этот фильм с нетерпением  ...      0\n",
       "17088  На самом деле, очень хороший мультик.Долгое вр...      2\n",
       "15030  Один из самых заслуженных «Оскаров» за лучший ...      2\n",
       "14947  Лидер советского кинопроката далекого 1973 год...      2\n",
       "...                                                  ...    ...\n",
       "5705   В общем недолюбливающая фильмы снятые по комик...      2\n",
       "21225  Помните в школе мальчишки баловались тем, что ...      2\n",
       "5941   Я поговорю не о фильме, обогнавшем в рейтингах...      2\n",
       "932    Если посмотреть фильм сейчас, в конце 2016 год...      2\n",
       "8025   Прекрасный фильм, после просмотра которого о м...      2\n",
       "\n",
       "[10069 rows x 2 columns]"
      ]
     },
     "execution_count": 11,
     "metadata": {},
     "output_type": "execute_result"
    }
   ],
   "source": [
    "train"
   ]
  },
  {
   "cell_type": "code",
   "execution_count": 12,
   "id": "370adce6",
   "metadata": {},
   "outputs": [
    {
     "data": {
      "text/html": [
       "<div>\n",
       "<style scoped>\n",
       "    .dataframe tbody tr th:only-of-type {\n",
       "        vertical-align: middle;\n",
       "    }\n",
       "\n",
       "    .dataframe tbody tr th {\n",
       "        vertical-align: top;\n",
       "    }\n",
       "\n",
       "    .dataframe thead th {\n",
       "        text-align: right;\n",
       "    }\n",
       "</style>\n",
       "<table border=\"1\" class=\"dataframe\">\n",
       "  <thead>\n",
       "    <tr style=\"text-align: right;\">\n",
       "      <th></th>\n",
       "      <th>review</th>\n",
       "      <th>label</th>\n",
       "    </tr>\n",
       "  </thead>\n",
       "  <tbody>\n",
       "    <tr>\n",
       "      <th>22072</th>\n",
       "      <td>Как и многие, ждала этот фильм с нетерпением  ...</td>\n",
       "      <td>0</td>\n",
       "    </tr>\n",
       "    <tr>\n",
       "      <th>8651</th>\n",
       "      <td>Возможно, если бы я не читала книгу, то фильм ...</td>\n",
       "      <td>0</td>\n",
       "    </tr>\n",
       "    <tr>\n",
       "      <th>21207</th>\n",
       "      <td>Фильм закончился, титры уплыли. Ну и… и что? Г...</td>\n",
       "      <td>0</td>\n",
       "    </tr>\n",
       "    <tr>\n",
       "      <th>7142</th>\n",
       "      <td>Я тот, судя по всему, редкий человек, которому...</td>\n",
       "      <td>0</td>\n",
       "    </tr>\n",
       "    <tr>\n",
       "      <th>18677</th>\n",
       "      <td>Гладиатор нравится многим, это и не удивительн...</td>\n",
       "      <td>0</td>\n",
       "    </tr>\n",
       "    <tr>\n",
       "      <th>...</th>\n",
       "      <td>...</td>\n",
       "      <td>...</td>\n",
       "    </tr>\n",
       "    <tr>\n",
       "      <th>837</th>\n",
       "      <td>Если почитать всё что писали люди выше - этот ...</td>\n",
       "      <td>0</td>\n",
       "    </tr>\n",
       "    <tr>\n",
       "      <th>3936</th>\n",
       "      <td>Никогда не понимал творения Кветина Тарантино!...</td>\n",
       "      <td>0</td>\n",
       "    </tr>\n",
       "    <tr>\n",
       "      <th>2237</th>\n",
       "      <td>Приступая к просмотру одного из самых известны...</td>\n",
       "      <td>0</td>\n",
       "    </tr>\n",
       "    <tr>\n",
       "      <th>2832</th>\n",
       "      <td>Классическая ситуация: На поход в кино данной ...</td>\n",
       "      <td>0</td>\n",
       "    </tr>\n",
       "    <tr>\n",
       "      <th>21656</th>\n",
       "      <td>Я тут на досуге посмотрела 'Начало'. Я последн...</td>\n",
       "      <td>0</td>\n",
       "    </tr>\n",
       "  </tbody>\n",
       "</table>\n",
       "<p>808 rows × 2 columns</p>\n",
       "</div>"
      ],
      "text/plain": [
       "                                                  review  label\n",
       "22072  Как и многие, ждала этот фильм с нетерпением  ...      0\n",
       "8651   Возможно, если бы я не читала книгу, то фильм ...      0\n",
       "21207  Фильм закончился, титры уплыли. Ну и… и что? Г...      0\n",
       "7142   Я тот, судя по всему, редкий человек, которому...      0\n",
       "18677  Гладиатор нравится многим, это и не удивительн...      0\n",
       "...                                                  ...    ...\n",
       "837    Если почитать всё что писали люди выше - этот ...      0\n",
       "3936   Никогда не понимал творения Кветина Тарантино!...      0\n",
       "2237   Приступая к просмотру одного из самых известны...      0\n",
       "2832   Классическая ситуация: На поход в кино данной ...      0\n",
       "21656  Я тут на досуге посмотрела 'Начало'. Я последн...      0\n",
       "\n",
       "[808 rows x 2 columns]"
      ]
     },
     "execution_count": 12,
     "metadata": {},
     "output_type": "execute_result"
    }
   ],
   "source": [
    "train[train.label == 0]"
   ]
  },
  {
   "cell_type": "code",
   "execution_count": 13,
   "id": "21da6a68",
   "metadata": {},
   "outputs": [
    {
     "data": {
      "text/html": [
       "<div>\n",
       "<style scoped>\n",
       "    .dataframe tbody tr th:only-of-type {\n",
       "        vertical-align: middle;\n",
       "    }\n",
       "\n",
       "    .dataframe tbody tr th {\n",
       "        vertical-align: top;\n",
       "    }\n",
       "\n",
       "    .dataframe thead th {\n",
       "        text-align: right;\n",
       "    }\n",
       "</style>\n",
       "<table border=\"1\" class=\"dataframe\">\n",
       "  <thead>\n",
       "    <tr style=\"text-align: right;\">\n",
       "      <th></th>\n",
       "      <th>review</th>\n",
       "      <th>label</th>\n",
       "    </tr>\n",
       "  </thead>\n",
       "  <tbody>\n",
       "    <tr>\n",
       "      <th>7126</th>\n",
       "      <td>Безусловно лучшее творение Бессона. Безупречна...</td>\n",
       "      <td>2</td>\n",
       "    </tr>\n",
       "    <tr>\n",
       "      <th>22072</th>\n",
       "      <td>Как и многие, ждала этот фильм с нетерпением  ...</td>\n",
       "      <td>0</td>\n",
       "    </tr>\n",
       "    <tr>\n",
       "      <th>17088</th>\n",
       "      <td>На самом деле, очень хороший мультик.Долгое вр...</td>\n",
       "      <td>2</td>\n",
       "    </tr>\n",
       "    <tr>\n",
       "      <th>15030</th>\n",
       "      <td>Один из самых заслуженных «Оскаров» за лучший ...</td>\n",
       "      <td>2</td>\n",
       "    </tr>\n",
       "    <tr>\n",
       "      <th>14947</th>\n",
       "      <td>Лидер советского кинопроката далекого 1973 год...</td>\n",
       "      <td>2</td>\n",
       "    </tr>\n",
       "    <tr>\n",
       "      <th>...</th>\n",
       "      <td>...</td>\n",
       "      <td>...</td>\n",
       "    </tr>\n",
       "    <tr>\n",
       "      <th>3124</th>\n",
       "      <td>Фильмы Нолана – это, по сути, всегда ловкачест...</td>\n",
       "      <td>0</td>\n",
       "    </tr>\n",
       "    <tr>\n",
       "      <th>1662</th>\n",
       "      <td>Именно этими словами я начну свою рецензию. За...</td>\n",
       "      <td>0</td>\n",
       "    </tr>\n",
       "    <tr>\n",
       "      <th>8908</th>\n",
       "      <td>Боже мой! Что они сделали? Фильм просто разоча...</td>\n",
       "      <td>0</td>\n",
       "    </tr>\n",
       "    <tr>\n",
       "      <th>8013</th>\n",
       "      <td>После просмотра фильма я никак не мог отделать...</td>\n",
       "      <td>0</td>\n",
       "    </tr>\n",
       "    <tr>\n",
       "      <th>2810</th>\n",
       "      <td>Интерстеллар  –  фильм, которого многие (в том...</td>\n",
       "      <td>0</td>\n",
       "    </tr>\n",
       "  </tbody>\n",
       "</table>\n",
       "<p>18569 rows × 2 columns</p>\n",
       "</div>"
      ],
      "text/plain": [
       "                                                  review  label\n",
       "7126   Безусловно лучшее творение Бессона. Безупречна...      2\n",
       "22072  Как и многие, ждала этот фильм с нетерпением  ...      0\n",
       "17088  На самом деле, очень хороший мультик.Долгое вр...      2\n",
       "15030  Один из самых заслуженных «Оскаров» за лучший ...      2\n",
       "14947  Лидер советского кинопроката далекого 1973 год...      2\n",
       "...                                                  ...    ...\n",
       "3124   Фильмы Нолана – это, по сути, всегда ловкачест...      0\n",
       "1662   Именно этими словами я начну свою рецензию. За...      0\n",
       "8908   Боже мой! Что они сделали? Фильм просто разоча...      0\n",
       "8013   После просмотра фильма я никак не мог отделать...      0\n",
       "2810   Интерстеллар  –  фильм, которого многие (в том...      0\n",
       "\n",
       "[18569 rows x 2 columns]"
      ]
     },
     "execution_count": 13,
     "metadata": {},
     "output_type": "execute_result"
    }
   ],
   "source": [
    "train = pd.concat([train, resample(train[train.label == 0], n_samples=8500, random_state=42)])\n",
    "train"
   ]
  },
  {
   "cell_type": "code",
   "execution_count": 14,
   "id": "b2fe5c87",
   "metadata": {},
   "outputs": [
    {
     "data": {
      "text/plain": [
       "0    9308\n",
       "2    9261\n",
       "Name: label, dtype: int64"
      ]
     },
     "execution_count": 14,
     "metadata": {},
     "output_type": "execute_result"
    }
   ],
   "source": [
    "train.label.value_counts()"
   ]
  },
  {
   "cell_type": "markdown",
   "id": "46936faf",
   "metadata": {},
   "source": [
    "#### Training & Exploring `CountVectorizer`"
   ]
  },
  {
   "cell_type": "code",
   "execution_count": 15,
   "id": "c3a003e8",
   "metadata": {},
   "outputs": [
    {
     "ename": "KeyboardInterrupt",
     "evalue": "",
     "output_type": "error",
     "traceback": [
      "\u001b[1;31m---------------------------------------------------------------------------\u001b[0m",
      "\u001b[1;31mKeyboardInterrupt\u001b[0m                         Traceback (most recent call last)",
      "\u001b[1;32m~\\AppData\\Local\\Temp\\ipykernel_9512\\3114457028.py\u001b[0m in \u001b[0;36m<module>\u001b[1;34m\u001b[0m\n\u001b[0;32m      1\u001b[0m \u001b[0mcnt_vec\u001b[0m \u001b[1;33m=\u001b[0m \u001b[0mCountVectorizer\u001b[0m\u001b[1;33m(\u001b[0m\u001b[0mtokenizer\u001b[0m\u001b[1;33m=\u001b[0m\u001b[0mTreebankWordTokenizer\u001b[0m\u001b[1;33m(\u001b[0m\u001b[1;33m)\u001b[0m\u001b[1;33m.\u001b[0m\u001b[0mtokenize\u001b[0m\u001b[1;33m,\u001b[0m \u001b[0mmax_df\u001b[0m\u001b[1;33m=\u001b[0m\u001b[1;36m0.6\u001b[0m\u001b[1;33m,\u001b[0m \u001b[0mmax_features\u001b[0m\u001b[1;33m=\u001b[0m\u001b[1;36m1000\u001b[0m\u001b[1;33m)\u001b[0m\u001b[1;33m\u001b[0m\u001b[1;33m\u001b[0m\u001b[0m\n\u001b[1;32m----> 2\u001b[1;33m \u001b[0mX_train\u001b[0m \u001b[1;33m=\u001b[0m \u001b[0mcnt_vec\u001b[0m\u001b[1;33m.\u001b[0m\u001b[0mfit_transform\u001b[0m\u001b[1;33m(\u001b[0m\u001b[0mtrain\u001b[0m\u001b[1;33m.\u001b[0m\u001b[0mreview\u001b[0m\u001b[1;33m)\u001b[0m\u001b[1;33m\u001b[0m\u001b[1;33m\u001b[0m\u001b[0m\n\u001b[0m\u001b[0;32m      3\u001b[0m \u001b[0mprint\u001b[0m\u001b[1;33m(\u001b[0m\u001b[1;34mf'{X_train.shape=}'\u001b[0m\u001b[1;33m)\u001b[0m\u001b[1;33m\u001b[0m\u001b[1;33m\u001b[0m\u001b[0m\n\u001b[0;32m      4\u001b[0m \u001b[0mX_test\u001b[0m  \u001b[1;33m=\u001b[0m \u001b[0mcnt_vec\u001b[0m\u001b[1;33m.\u001b[0m\u001b[0mtransform\u001b[0m\u001b[1;33m(\u001b[0m\u001b[0mtest\u001b[0m\u001b[1;33m.\u001b[0m\u001b[0mreview\u001b[0m\u001b[1;33m)\u001b[0m\u001b[1;33m\u001b[0m\u001b[1;33m\u001b[0m\u001b[0m\n\u001b[0;32m      5\u001b[0m \u001b[1;33m\u001b[0m\u001b[0m\n",
      "\u001b[1;32mD:\\ProgramData\\anaconda3\\lib\\site-packages\\sklearn\\feature_extraction\\text.py\u001b[0m in \u001b[0;36mfit_transform\u001b[1;34m(self, raw_documents, y)\u001b[0m\n\u001b[0;32m   1328\u001b[0m                     \u001b[1;32mbreak\u001b[0m\u001b[1;33m\u001b[0m\u001b[1;33m\u001b[0m\u001b[0m\n\u001b[0;32m   1329\u001b[0m \u001b[1;33m\u001b[0m\u001b[0m\n\u001b[1;32m-> 1330\u001b[1;33m         \u001b[0mvocabulary\u001b[0m\u001b[1;33m,\u001b[0m \u001b[0mX\u001b[0m \u001b[1;33m=\u001b[0m \u001b[0mself\u001b[0m\u001b[1;33m.\u001b[0m\u001b[0m_count_vocab\u001b[0m\u001b[1;33m(\u001b[0m\u001b[0mraw_documents\u001b[0m\u001b[1;33m,\u001b[0m \u001b[0mself\u001b[0m\u001b[1;33m.\u001b[0m\u001b[0mfixed_vocabulary_\u001b[0m\u001b[1;33m)\u001b[0m\u001b[1;33m\u001b[0m\u001b[1;33m\u001b[0m\u001b[0m\n\u001b[0m\u001b[0;32m   1331\u001b[0m \u001b[1;33m\u001b[0m\u001b[0m\n\u001b[0;32m   1332\u001b[0m         \u001b[1;32mif\u001b[0m \u001b[0mself\u001b[0m\u001b[1;33m.\u001b[0m\u001b[0mbinary\u001b[0m\u001b[1;33m:\u001b[0m\u001b[1;33m\u001b[0m\u001b[1;33m\u001b[0m\u001b[0m\n",
      "\u001b[1;32mD:\\ProgramData\\anaconda3\\lib\\site-packages\\sklearn\\feature_extraction\\text.py\u001b[0m in \u001b[0;36m_count_vocab\u001b[1;34m(self, raw_documents, fixed_vocab)\u001b[0m\n\u001b[0;32m   1199\u001b[0m         \u001b[1;32mfor\u001b[0m \u001b[0mdoc\u001b[0m \u001b[1;32min\u001b[0m \u001b[0mraw_documents\u001b[0m\u001b[1;33m:\u001b[0m\u001b[1;33m\u001b[0m\u001b[1;33m\u001b[0m\u001b[0m\n\u001b[0;32m   1200\u001b[0m             \u001b[0mfeature_counter\u001b[0m \u001b[1;33m=\u001b[0m \u001b[1;33m{\u001b[0m\u001b[1;33m}\u001b[0m\u001b[1;33m\u001b[0m\u001b[1;33m\u001b[0m\u001b[0m\n\u001b[1;32m-> 1201\u001b[1;33m             \u001b[1;32mfor\u001b[0m \u001b[0mfeature\u001b[0m \u001b[1;32min\u001b[0m \u001b[0manalyze\u001b[0m\u001b[1;33m(\u001b[0m\u001b[0mdoc\u001b[0m\u001b[1;33m)\u001b[0m\u001b[1;33m:\u001b[0m\u001b[1;33m\u001b[0m\u001b[1;33m\u001b[0m\u001b[0m\n\u001b[0m\u001b[0;32m   1202\u001b[0m                 \u001b[1;32mtry\u001b[0m\u001b[1;33m:\u001b[0m\u001b[1;33m\u001b[0m\u001b[1;33m\u001b[0m\u001b[0m\n\u001b[0;32m   1203\u001b[0m                     \u001b[0mfeature_idx\u001b[0m \u001b[1;33m=\u001b[0m \u001b[0mvocabulary\u001b[0m\u001b[1;33m[\u001b[0m\u001b[0mfeature\u001b[0m\u001b[1;33m]\u001b[0m\u001b[1;33m\u001b[0m\u001b[1;33m\u001b[0m\u001b[0m\n",
      "\u001b[1;32mD:\\ProgramData\\anaconda3\\lib\\site-packages\\sklearn\\feature_extraction\\text.py\u001b[0m in \u001b[0;36m_analyze\u001b[1;34m(doc, analyzer, tokenizer, ngrams, preprocessor, decoder, stop_words)\u001b[0m\n\u001b[0;32m    113\u001b[0m             \u001b[0mdoc\u001b[0m \u001b[1;33m=\u001b[0m \u001b[0mpreprocessor\u001b[0m\u001b[1;33m(\u001b[0m\u001b[0mdoc\u001b[0m\u001b[1;33m)\u001b[0m\u001b[1;33m\u001b[0m\u001b[1;33m\u001b[0m\u001b[0m\n\u001b[0;32m    114\u001b[0m         \u001b[1;32mif\u001b[0m \u001b[0mtokenizer\u001b[0m \u001b[1;32mis\u001b[0m \u001b[1;32mnot\u001b[0m \u001b[1;32mNone\u001b[0m\u001b[1;33m:\u001b[0m\u001b[1;33m\u001b[0m\u001b[1;33m\u001b[0m\u001b[0m\n\u001b[1;32m--> 115\u001b[1;33m             \u001b[0mdoc\u001b[0m \u001b[1;33m=\u001b[0m \u001b[0mtokenizer\u001b[0m\u001b[1;33m(\u001b[0m\u001b[0mdoc\u001b[0m\u001b[1;33m)\u001b[0m\u001b[1;33m\u001b[0m\u001b[1;33m\u001b[0m\u001b[0m\n\u001b[0m\u001b[0;32m    116\u001b[0m         \u001b[1;32mif\u001b[0m \u001b[0mngrams\u001b[0m \u001b[1;32mis\u001b[0m \u001b[1;32mnot\u001b[0m \u001b[1;32mNone\u001b[0m\u001b[1;33m:\u001b[0m\u001b[1;33m\u001b[0m\u001b[1;33m\u001b[0m\u001b[0m\n\u001b[0;32m    117\u001b[0m             \u001b[1;32mif\u001b[0m \u001b[0mstop_words\u001b[0m \u001b[1;32mis\u001b[0m \u001b[1;32mnot\u001b[0m \u001b[1;32mNone\u001b[0m\u001b[1;33m:\u001b[0m\u001b[1;33m\u001b[0m\u001b[1;33m\u001b[0m\u001b[0m\n",
      "\u001b[1;32mD:\\ProgramData\\anaconda3\\lib\\site-packages\\nltk\\tokenize\\treebank.py\u001b[0m in \u001b[0;36mtokenize\u001b[1;34m(self, text, convert_parentheses, return_str)\u001b[0m\n\u001b[0;32m    161\u001b[0m \u001b[1;33m\u001b[0m\u001b[0m\n\u001b[0;32m    162\u001b[0m         \u001b[1;32mfor\u001b[0m \u001b[0mregexp\u001b[0m \u001b[1;32min\u001b[0m \u001b[0mself\u001b[0m\u001b[1;33m.\u001b[0m\u001b[0mCONTRACTIONS2\u001b[0m\u001b[1;33m:\u001b[0m\u001b[1;33m\u001b[0m\u001b[1;33m\u001b[0m\u001b[0m\n\u001b[1;32m--> 163\u001b[1;33m             \u001b[0mtext\u001b[0m \u001b[1;33m=\u001b[0m \u001b[0mregexp\u001b[0m\u001b[1;33m.\u001b[0m\u001b[0msub\u001b[0m\u001b[1;33m(\u001b[0m\u001b[1;34mr\" \\1 \\2 \"\u001b[0m\u001b[1;33m,\u001b[0m \u001b[0mtext\u001b[0m\u001b[1;33m)\u001b[0m\u001b[1;33m\u001b[0m\u001b[1;33m\u001b[0m\u001b[0m\n\u001b[0m\u001b[0;32m    164\u001b[0m         \u001b[1;32mfor\u001b[0m \u001b[0mregexp\u001b[0m \u001b[1;32min\u001b[0m \u001b[0mself\u001b[0m\u001b[1;33m.\u001b[0m\u001b[0mCONTRACTIONS3\u001b[0m\u001b[1;33m:\u001b[0m\u001b[1;33m\u001b[0m\u001b[1;33m\u001b[0m\u001b[0m\n\u001b[0;32m    165\u001b[0m             \u001b[0mtext\u001b[0m \u001b[1;33m=\u001b[0m \u001b[0mregexp\u001b[0m\u001b[1;33m.\u001b[0m\u001b[0msub\u001b[0m\u001b[1;33m(\u001b[0m\u001b[1;34mr\" \\1 \\2 \"\u001b[0m\u001b[1;33m,\u001b[0m \u001b[0mtext\u001b[0m\u001b[1;33m)\u001b[0m\u001b[1;33m\u001b[0m\u001b[1;33m\u001b[0m\u001b[0m\n",
      "\u001b[1;31mKeyboardInterrupt\u001b[0m: "
     ]
    }
   ],
   "source": [
    "cnt_vec = CountVectorizer(tokenizer=TreebankWordTokenizer().tokenize, max_df=0.6, max_features=1000)\n",
    "X_train = cnt_vec.fit_transform(train.review)\n",
    "print(f'{X_train.shape=}')\n",
    "X_test  = cnt_vec.transform(test.review)\n",
    "\n",
    "print('CountVectorizing finished.')\n",
    "\n",
    "clf = LogisticRegression(max_iter=200, n_jobs=-1)\n",
    "clf.fit(X_train, train.label)\n",
    "pred = clf.predict(X_test)\n",
    "\n",
    "print(f1_score(test.label, pred, pos_label=2))\n",
    "print(f1_score(test.label, pred, pos_label=0))\n",
    "print(classification_report(test.label, pred))"
   ]
  },
  {
   "cell_type": "code",
   "execution_count": 28,
   "id": "99640bcf",
   "metadata": {},
   "outputs": [
    {
     "name": "stdout",
     "output_type": "stream",
     "text": [
      "1000\n"
     ]
    },
    {
     "data": {
      "text/plain": [
       "array(['!', '%', \"'\", \"'начало\", '(', ')', '-', '.', '..', '...', '/b',\n",
       "       '/i', '1', '1995', '2', '3', '4', '5', '6', '7', '8', '9', ':',\n",
       "       ';', '<', '>', '?', 'b', 'i', 'p.s.'], dtype=object)"
      ]
     },
     "execution_count": 28,
     "metadata": {},
     "output_type": "execute_result"
    }
   ],
   "source": [
    "print(len(cnt_vec.get_feature_names_out()))\n",
    "cnt_vec.get_feature_names_out()[:30]"
   ]
  },
  {
   "cell_type": "code",
   "execution_count": 53,
   "id": "64766f46",
   "metadata": {},
   "outputs": [
    {
     "data": {
      "text/plain": [
       "array([ 7.14938552, -3.25944661, 17.71304206,  7.63793307, 12.62043272,\n",
       "       14.18661778, 17.76266587,  8.10928626,  1.65291985,  6.08774599])"
      ]
     },
     "execution_count": 53,
     "metadata": {},
     "output_type": "execute_result"
    }
   ],
   "source": [
    "# Just watching...\n",
    "clf.decision_function(X_train[:10])  # Confidence scores for each sample"
   ]
  },
  {
   "cell_type": "code",
   "execution_count": 142,
   "id": "4f2e2912",
   "metadata": {},
   "outputs": [
    {
     "data": {
      "text/plain": [
       "array(['станет', 'несмотря', 'каждого', 'картину', 'года.', 'другие',\n",
       "       'музыкальное', 'моменты', 'одновременно', 'благодаря', 'душу',\n",
       "       'ту', 'произведение', 'сне', 'бывает', 'отлично', '9', 'мэттью',\n",
       "       '8', 'новые', 'атмосфера', 'создал', 'джек', 'думаю', 'одном',\n",
       "       'жизнь.', 'писать', 'любит', 'помимо', 'впервые'], dtype=object)"
      ]
     },
     "execution_count": 142,
     "metadata": {},
     "output_type": "execute_result"
    }
   ],
   "source": [
    "cnt_vec.get_feature_names_out()[np.argpartition(clf.coef_[0], -30)[-30:]]"
   ]
  },
  {
   "cell_type": "code",
   "execution_count": 143,
   "id": "6f489674",
   "metadata": {},
   "outputs": [
    {
     "data": {
      "text/plain": [
       "array(['зрителя.', 'оценка', 'типа', 'какая-то', 'оказался', 'решили',\n",
       "       'дом', 'понимаю', 'увидела', 'ди', 'авторы', 'сути', 'данного',\n",
       "       'откровенно', '2', '3', '4', '5', '6', 'пытаются', 'видимо',\n",
       "       'нечто', 'неужели', 'сожалению', '7', 'создатели', 'сей',\n",
       "       'картинка', 'оценку', 'остальных'], dtype=object)"
      ]
     },
     "execution_count": 143,
     "metadata": {},
     "output_type": "execute_result"
    }
   ],
   "source": [
    "cnt_vec.get_feature_names_out()[np.argpartition(clf.coef_[0], 30)[:30]]"
   ]
  },
  {
   "cell_type": "code",
   "execution_count": 82,
   "id": "44f6ced3",
   "metadata": {},
   "outputs": [
    {
     "data": {
      "text/plain": [
       "array([519,  20, 583, 205,  35,  21, 408,  18,  17,  16], dtype=int64)"
      ]
     },
     "execution_count": 82,
     "metadata": {},
     "output_type": "execute_result"
    }
   ],
   "source": [
    "np.argpartition(np.abs(clf.coef_[0]), -10)[-10:]"
   ]
  },
  {
   "cell_type": "code",
   "execution_count": 19,
   "id": "3a65e2b0",
   "metadata": {},
   "outputs": [
    {
     "data": {
      "text/plain": [
       "(18569, 1000)"
      ]
     },
     "execution_count": 19,
     "metadata": {},
     "output_type": "execute_result"
    }
   ],
   "source": [
    "# _X_train = X_train.toarray()\n",
    "# _X_train.shape"
   ]
  },
  {
   "cell_type": "code",
   "execution_count": 21,
   "id": "fd4b6487",
   "metadata": {},
   "outputs": [
    {
     "data": {
      "text/plain": [
       "(1000,)"
      ]
     },
     "execution_count": 21,
     "metadata": {},
     "output_type": "execute_result"
    }
   ],
   "source": [
    "# s = np.sum(_X_train, axis=0)\n",
    "# s.shape"
   ]
  },
  {
   "cell_type": "code",
   "execution_count": 23,
   "id": "6d55adb6",
   "metadata": {},
   "outputs": [
    {
     "data": {
      "text/plain": [
       "array([52997, 52985, 40041, 38662, 31842, 31351, 29612, 27402, 25133,\n",
       "       25069, 24788, 21735, 21332, 21277, 19883, 19697, 19291, 18419,\n",
       "       18393, 18290, 18183, 17001, 16279, 15782, 15594, 14768, 14584,\n",
       "       14445, 13828, 13585, 13512, 13381, 13353, 13321, 13290, 12375,\n",
       "       12182, 12130, 11983, 11755, 11670, 11486, 11384, 11294, 10998,\n",
       "       10950, 10945, 10830, 10760, 10748, 10257, 10085, 10044,  9766,\n",
       "        9730,  9480,  8867,  8752,  8618,  8577,  8515,  8404,  8319,\n",
       "        8211,  8157,  8106,  8095,  7996,  7983,  7950,  7935,  7890,\n",
       "        7864,  7833,  7713,  7617,  7437,  7409,  7270,  7267,  7227,\n",
       "        7186,  7186,  7160,  7117,  6965,  6854,  6838,  6824,  6752,\n",
       "        6739,  6693,  6550,  6540,  6475,  6373,  6308,  6290,  6028,\n",
       "        6019,  5893,  5875,  5827,  5702,  5692,  5675,  5666,  5623,\n",
       "        5568,  5561,  5543,  5471,  5330,  5318,  5303,  5103,  5102,\n",
       "        5011,  5011,  4952,  4839,  4818,  4788,  4777,  4728,  4700,\n",
       "        4665,  4640,  4595,  4590,  4588,  4565,  4555,  4536,  4520,\n",
       "        4498,  4489,  4438,  4428,  4397,  4350,  4316,  4310,  4302,\n",
       "        4266,  4254,  4254,  4246,  4194,  4171,  4171,  4128,  4113,\n",
       "        4083,  4067,  4062,  4053,  4051,  4043,  3966,  3932,  3868,\n",
       "        3854,  3828,  3817,  3815,  3769,  3737,  3733,  3719,  3645,\n",
       "        3582,  3546,  3537,  3528,  3526,  3521,  3519,  3504,  3480,\n",
       "        3455,  3387,  3353,  3323,  3320,  3271,  3260,  3237,  3213,\n",
       "        3209,  3182,  3181,  3172,  3165,  3162,  3156,  3127,  3115,\n",
       "        3113,  3111,  3107,  3105,  3100,  3095,  3095,  3075,  3072,\n",
       "        3062,  3061,  3035,  3010,  2972,  2942,  2937,  2913,  2910,\n",
       "        2909,  2869,  2861,  2839,  2839,  2831,  2827,  2805,  2780,\n",
       "        2767,  2743,  2742,  2739,  2731,  2730,  2729,  2719,  2718,\n",
       "        2694,  2692,  2689,  2689,  2684,  2664,  2582,  2558,  2536,\n",
       "        2532,  2530,  2525,  2511,  2510,  2507,  2503,  2498,  2493,\n",
       "        2486,  2486,  2480,  2479,  2478,  2472,  2468,  2466,  2434,\n",
       "        2401,  2394,  2393,  2385,  2378,  2378,  2369,  2351,  2346,\n",
       "        2338,  2334,  2330,  2319,  2317,  2311,  2305,  2303,  2300,\n",
       "        2277,  2264,  2262,  2261,  2248,  2239,  2234,  2231,  2223,\n",
       "        2217,  2210,  2199,  2188,  2175,  2167,  2167,  2153,  2151,\n",
       "        2148,  2146,  2121,  2120,  2117,  2114,  2112,  2111,  2109,\n",
       "        2104,  2101,  2096,  2089,  2088,  2084,  2084,  2079,  2073,\n",
       "        2071,  2066,  2058,  2056,  2053,  2047,  2042,  2039,  2027,\n",
       "        2021,  2020,  2017,  2016,  2000,  2000,  1994,  1991,  1984,\n",
       "        1981,  1980,  1975,  1973,  1971,  1971,  1961,  1953,  1952,\n",
       "        1950,  1949,  1944,  1944,  1944,  1939,  1934,  1929,  1929,\n",
       "        1911,  1896,  1890,  1885,  1883,  1874,  1873,  1855,  1855,\n",
       "        1852,  1847,  1830,  1830,  1827,  1821,  1816,  1811,  1808,\n",
       "        1807,  1805,  1802,  1797,  1793,  1789,  1772,  1766,  1762,\n",
       "        1757,  1757,  1747,  1742,  1742,  1737,  1736,  1734,  1731,\n",
       "        1730,  1726,  1726,  1723,  1719,  1718,  1715,  1713,  1711,\n",
       "        1709,  1705,  1705,  1702,  1698,  1695,  1691,  1688,  1686,\n",
       "        1685,  1682,  1666,  1657,  1656,  1656,  1655,  1648,  1646,\n",
       "        1644,  1641,  1626,  1623,  1622,  1612,  1609,  1608,  1604,\n",
       "        1603,  1598,  1597,  1591,  1590,  1586,  1581,  1578,  1568,\n",
       "        1558,  1552,  1552,  1550,  1549,  1547,  1542,  1542,  1541,\n",
       "        1540,  1538,  1537,  1534,  1533,  1530,  1524,  1514,  1503,\n",
       "        1500,  1496,  1496,  1486,  1483,  1482,  1476,  1475,  1474,\n",
       "        1474,  1471,  1468,  1464,  1461,  1459,  1456,  1455,  1453,\n",
       "        1449,  1448,  1444,  1444,  1438,  1437,  1434,  1432,  1430,\n",
       "        1429,  1422,  1420,  1417,  1415,  1414,  1410,  1410,  1403,\n",
       "        1398,  1387,  1385,  1385,  1381,  1371,  1365,  1365,  1363,\n",
       "        1360,  1356,  1354,  1347,  1347,  1346,  1344,  1339,  1338,\n",
       "        1332,  1331,  1328,  1327,  1326,  1321,  1315,  1313,  1310,\n",
       "        1298,  1296,  1293,  1283,  1275,  1275,  1274,  1269,  1267,\n",
       "        1254,  1254,  1253,  1252,  1252,  1251,  1250,  1249,  1247,\n",
       "        1246,  1246,  1246,  1241,  1241,  1234,  1233,  1232,  1230,\n",
       "        1227,  1224,  1222,  1221,  1219,  1217,  1214,  1212,  1212,\n",
       "        1210,  1208,  1206,  1206,  1203,  1202,  1201,  1197,  1197,\n",
       "        1195,  1194,  1193,  1192,  1189,  1188,  1183,  1180,  1179,\n",
       "        1177,  1176,  1176,  1170,  1170,  1169,  1168,  1166,  1165,\n",
       "        1162,  1157,  1154,  1150,  1144,  1142,  1141,  1135,  1133,\n",
       "        1131,  1129,  1128,  1125,  1125,  1124,  1124,  1123,  1121,\n",
       "        1120,  1119,  1118,  1117,  1115,  1113,  1112,  1111,  1109,\n",
       "        1106,  1105,  1103,  1100,  1099,  1099,  1098,  1098,  1097,\n",
       "        1096,  1095,  1090,  1089,  1087,  1083,  1082,  1081,  1078,\n",
       "        1076,  1072,  1071,  1071,  1071,  1070,  1070,  1068,  1068,\n",
       "        1063,  1058,  1056,  1056,  1055,  1052,  1052,  1050,  1043,\n",
       "        1043,  1040,  1040,  1037,  1036,  1036,  1034,  1027,  1025,\n",
       "        1019,  1018,  1018,  1016,  1013,  1012,  1011,  1011,  1009,\n",
       "        1008,  1008,  1004,  1003,  1002,  1001,   998,   995,   995,\n",
       "         994,   993,   992,   991,   990,   989,   986,   985,   982,\n",
       "         981,   980,   980,   977,   977,   976,   975,   975,   973,\n",
       "         972,   970,   970,   969,   968,   968,   967,   967,   965,\n",
       "         962,   961,   960,   959,   959,   958,   958,   958,   957,\n",
       "         957,   955,   955,   955,   955,   952,   949,   947,   945,\n",
       "         943,   943,   942,   941,   940,   939,   938,   937,   936,\n",
       "         933,   933,   931,   931,   931,   928,   928,   928,   928,\n",
       "         928,   926,   923,   923,   922,   921,   921,   920,   919,\n",
       "         918,   917,   915,   913,   912,   909,   909,   908,   906,\n",
       "         900,   899,   899,   899,   898,   889,   887,   885,   884,\n",
       "         884,   882,   882,   879,   877,   877,   876,   875,   875,\n",
       "         869,   866,   865,   865,   865,   863,   863,   863,   862,\n",
       "         859,   859,   858,   857,   857,   855,   853,   851,   851,\n",
       "         850,   850,   848,   847,   847,   847,   844,   844,   844,\n",
       "         840,   838,   838,   837,   836,   834,   832,   832,   832,\n",
       "         832,   832,   830,   828,   825,   825,   823,   822,   821,\n",
       "         819,   818,   818,   817,   817,   813,   813,   813,   811,\n",
       "         809,   806,   806,   806,   804,   803,   801,   800,   797,\n",
       "         797,   797,   795,   792,   792,   792,   790,   790,   788,\n",
       "         788,   787,   787,   786,   784,   782,   781,   780,   778,\n",
       "         778,   777,   777,   777,   776,   776,   776,   775,   774,\n",
       "         772,   771,   769,   769,   768,   767,   766,   765,   765,\n",
       "         763,   763,   763,   758,   758,   757,   757,   756,   755,\n",
       "         754,   753,   752,   750,   749,   749,   748,   748,   748,\n",
       "         748,   747,   746,   746,   745,   744,   743,   743,   741,\n",
       "         741,   741,   740,   740,   739,   738,   738,   737,   735,\n",
       "         734,   734,   734,   733,   732,   732,   732,   731,   729,\n",
       "         728,   728,   728,   728,   726,   726,   725,   725,   725,\n",
       "         724,   724,   724,   723,   723,   723,   723,   722,   722,\n",
       "         721,   720,   719,   719,   717,   717,   716,   716,   716,\n",
       "         716,   715,   715,   714,   714,   714,   713,   712,   711,\n",
       "         710,   708,   708,   707,   707,   707,   707,   706,   704,\n",
       "         703,   702,   700,   700,   698,   698,   698,   697,   696,\n",
       "         695,   693,   691,   690,   689,   688,   687,   687,   687,\n",
       "         687,   686,   685,   683,   683,   683,   682,   681,   679,\n",
       "         678,   677,   677,   677,   676,   675,   675,   674,   674,\n",
       "         673,   672,   671,   671,   670,   669,   669,   669,   668,\n",
       "         668], dtype=int64)"
      ]
     },
     "execution_count": 23,
     "metadata": {},
     "output_type": "execute_result"
    }
   ],
   "source": [
    "np.sort(s)[::-1][:5000]"
   ]
  },
  {
   "cell_type": "code",
   "execution_count": 29,
   "id": "1f905e3a",
   "metadata": {},
   "outputs": [
    {
     "data": {
      "image/png": "[encoded data removed]",
      "text/plain": [
       "<Figure size 640x480 with 1 Axes>"
      ]
     },
     "metadata": {},
     "output_type": "display_data"
    }
   ],
   "source": [
    "plt.plot(np.sort(s)[::-1])\n",
    "plt.xlabel('Token index in sorted feature list')\n",
    "plt.ylabel('The number of tokens in whole corpus')\n",
    "plt.title(\"Zipf's law illustration\")\n",
    "plt.show()"
   ]
  },
  {
   "cell_type": "markdown",
   "id": "0d9a0ad5",
   "metadata": {},
   "source": [
    "#### What if binary coding chosen?"
   ]
  },
  {
   "cell_type": "code",
   "execution_count": 144,
   "id": "dc6ddd8c",
   "metadata": {},
   "outputs": [
    {
     "name": "stdout",
     "output_type": "stream",
     "text": [
      "X_train.shape=(18569, 1000)\n",
      "CountVectorizing finished.\n",
      "0.9483688671975341\n",
      "0.524822695035461\n",
      "              precision    recall  f1-score   support\n",
      "\n",
      "           0       0.44      0.65      0.52       341\n",
      "           2       0.97      0.93      0.95      3975\n",
      "\n",
      "    accuracy                           0.91      4316\n",
      "   macro avg       0.70      0.79      0.74      4316\n",
      "weighted avg       0.93      0.91      0.91      4316\n",
      "\n"
     ]
    }
   ],
   "source": [
    "cnt_vec = CountVectorizer(tokenizer=TreebankWordTokenizer().tokenize, max_df=0.6, max_features=1000, binary=True)\n",
    "X_train = cnt_vec.fit_transform(train.review)\n",
    "print(f'{X_train.shape=}')\n",
    "X_test  = cnt_vec.transform(test.review)\n",
    "\n",
    "print('CountVectorizing finished.')\n",
    "\n",
    "clf = LogisticRegression(max_iter=200, n_jobs=-1)\n",
    "clf.fit(X_train, train.label)\n",
    "pred = clf.predict(X_test)\n",
    "\n",
    "print(f1_score(test.label, pred, pos_label=2))\n",
    "print(f1_score(test.label, pred, pos_label=0))\n",
    "print(classification_report(test.label, pred))"
   ]
  },
  {
   "cell_type": "markdown",
   "id": "3646d90f",
   "metadata": {},
   "source": [
    "*Nothing positive happened.*"
   ]
  },
  {
   "cell_type": "markdown",
   "id": "95c18fb6",
   "metadata": {},
   "source": [
    "#### GB Classifier testing"
   ]
  },
  {
   "cell_type": "code",
   "execution_count": 148,
   "id": "0f0766db",
   "metadata": {},
   "outputs": [
    {
     "name": "stdout",
     "output_type": "stream",
     "text": [
      "X_train.shape=(18569, 1000)\n",
      "CountVectorizing finished.\n",
      "0.9406535947712418\n",
      "0.5376782077393076\n",
      "              precision    recall  f1-score   support\n",
      "\n",
      "           0       0.41      0.77      0.54       341\n",
      "           2       0.98      0.91      0.94      3975\n",
      "\n",
      "    accuracy                           0.89      4316\n",
      "   macro avg       0.70      0.84      0.74      4316\n",
      "weighted avg       0.93      0.89      0.91      4316\n",
      "\n"
     ]
    }
   ],
   "source": [
    "cnt_vec = CountVectorizer(tokenizer=TreebankWordTokenizer().tokenize, max_df=0.6, max_features=1000)\n",
    "X_train = cnt_vec.fit_transform(train.review)\n",
    "print(f'{X_train.shape=}')\n",
    "X_test  = cnt_vec.transform(test.review)\n",
    "\n",
    "print('CountVectorizing finished.')\n",
    "\n",
    "clf = GradientBoostingClassifier()\n",
    "clf.fit(X_train, train.label)\n",
    "pred = clf.predict(X_test)\n",
    "\n",
    "print(f1_score(test.label, pred, pos_label=2))\n",
    "print(f1_score(test.label, pred, pos_label=0))\n",
    "print(classification_report(test.label, pred))"
   ]
  },
  {
   "cell_type": "code",
   "execution_count": 150,
   "id": "0be87c33",
   "metadata": {},
   "outputs": [
    {
     "data": {
      "text/plain": [
       "1000"
      ]
     },
     "execution_count": 150,
     "metadata": {},
     "output_type": "execute_result"
    }
   ],
   "source": [
    "len(clf.feature_importances_)"
   ]
  },
  {
   "cell_type": "code",
   "execution_count": 152,
   "id": "1f98235b",
   "metadata": {},
   "outputs": [
    {
     "data": {
      "text/plain": [
       "array(['самых', 'бы', 'вместо', 'мир', 'видимо', 'вообще', 'роль',\n",
       "       'понимаю', 'ничего', 'который', 'каждый', 'именно', 'работа', '?',\n",
       "       'ты', '<', '9', 'джейн', '7', '6', '5', '4', '3', '2', '1',\n",
       "       'зачем', 'очень', '.', 'заставляет', 'жизнь'], dtype=object)"
      ]
     },
     "execution_count": 152,
     "metadata": {},
     "output_type": "execute_result"
    }
   ],
   "source": [
    "cnt_vec.get_feature_names_out()[np.argpartition(clf.feature_importances_, -30)[-30:]]"
   ]
  },
  {
   "cell_type": "code",
   "execution_count": 155,
   "id": "6b4ac859",
   "metadata": {},
   "outputs": [
    {
     "data": {
      "text/plain": [
       "array(['обязательно', 'обычно', 'остальных', 'остальные', 'осталось',\n",
       "       'остается', 'оставляет', 'особо', 'оскар', 'опять', 'они',\n",
       "       'оказывается', 'оказался', 'оказалось', 'одну', 'одном', 'одной',\n",
       "       'одного', 'одновременно', 'одним', 'однако', 'одна', 'увидеть',\n",
       "       'огромное', 'остин', 'уровне', 'факт', 'ним', 'никто', 'никого'],\n",
       "      dtype=object)"
      ]
     },
     "execution_count": 155,
     "metadata": {},
     "output_type": "execute_result"
    }
   ],
   "source": [
    "cnt_vec.get_feature_names_out()[np.argpartition(clf.feature_importances_, 30)[:30]]"
   ]
  },
  {
   "cell_type": "markdown",
   "id": "03dfacc4",
   "metadata": {},
   "source": [
    "#### Training & Exploring `TfidfVectorizer`"
   ]
  },
  {
   "cell_type": "code",
   "execution_count": 16,
   "id": "4cc68006",
   "metadata": {},
   "outputs": [
    {
     "name": "stdout",
     "output_type": "stream",
     "text": [
      "X_train.shape=(18569, 215812)\n",
      "TfidfVectorizing finished.\n",
      "0.9650866462793068\n",
      "0.6505102040816327\n",
      "              precision    recall  f1-score   support\n",
      "\n",
      "           0       0.58      0.75      0.65       341\n",
      "           2       0.98      0.95      0.97      3975\n",
      "\n",
      "    accuracy                           0.94      4316\n",
      "   macro avg       0.78      0.85      0.81      4316\n",
      "weighted avg       0.95      0.94      0.94      4316\n",
      "\n"
     ]
    }
   ],
   "source": [
    "tfidf_vec = TfidfVectorizer(tokenizer=TreebankWordTokenizer().tokenize)\n",
    "X_train = tfidf_vec.fit_transform(train.review)\n",
    "print(f'{X_train.shape=}')\n",
    "X_test  = tfidf_vec.transform(test.review)\n",
    "\n",
    "print('TfidfVectorizing finished.')\n",
    "\n",
    "clf = LogisticRegression(max_iter=200, n_jobs=-1)\n",
    "clf.fit(X_train, train.label)\n",
    "pred = clf.predict(X_test)\n",
    "\n",
    "print(f1_score(test.label, pred, pos_label=2))\n",
    "print(f1_score(test.label, pred, pos_label=0))\n",
    "print(classification_report(test.label, pred))"
   ]
  },
  {
   "cell_type": "code",
   "execution_count": 17,
   "id": "bc416ecb",
   "metadata": {},
   "outputs": [
    {
     "data": {
      "text/plain": [
       "<18569x215812 sparse matrix of type '<class 'numpy.float64'>'\n",
       "\twith 5013759 stored elements in Compressed Sparse Row format>"
      ]
     },
     "execution_count": 17,
     "metadata": {},
     "output_type": "execute_result"
    }
   ],
   "source": [
    "X_train"
   ]
  },
  {
   "cell_type": "code",
   "execution_count": 18,
   "id": "e44c6195",
   "metadata": {},
   "outputs": [
    {
     "data": {
      "text/plain": [
       "(18569, 215812)"
      ]
     },
     "execution_count": 18,
     "metadata": {},
     "output_type": "execute_result"
    }
   ],
   "source": [
    "_X_train = X_train.toarray()\n",
    "_X_train.shape"
   ]
  },
  {
   "cell_type": "code",
   "execution_count": null,
   "id": "38450634",
   "metadata": {},
   "outputs": [],
   "source": []
  },
  {
   "cell_type": "code",
   "execution_count": null,
   "id": "026f8222",
   "metadata": {},
   "outputs": [],
   "source": []
  },
  {
   "cell_type": "code",
   "execution_count": null,
   "id": "77c33003",
   "metadata": {},
   "outputs": [],
   "source": []
  },
  {
   "cell_type": "code",
   "execution_count": null,
   "id": "5c715164",
   "metadata": {},
   "outputs": [],
   "source": []
  },
  {
   "cell_type": "markdown",
   "id": "862e260f",
   "metadata": {},
   "source": [
    "---"
   ]
  },
  {
   "cell_type": "code",
   "execution_count": 52,
   "id": "5f4a6553",
   "metadata": {},
   "outputs": [],
   "source": [
    "def bestTokenizerEver(review: str, inner_tokenizer=TreebankWordTokenizer().tokenize):\n",
    "    assert type(review) == str, 'Wrong input type'\n",
    "    \n",
    "    review = review.lower()\n",
    "    \n",
    "    tokenized_review = inner_tokenizer(review)\n",
    "    \n",
    "    lemmatizer = Mystem()\n",
    "    tokenized_review = lemmatizer.lemmatize(' '.join(tokenized_review))\n",
    "    \n",
    "    return tokenized_review"
   ]
  },
  {
   "cell_type": "code",
   "execution_count": null,
   "id": "d2122e4d",
   "metadata": {},
   "outputs": [],
   "source": []
  },
  {
   "cell_type": "code",
   "execution_count": null,
   "id": "c075648f",
   "metadata": {},
   "outputs": [],
   "source": [
    "# bestTokenizerEver(train.iloc[0][0])"
   ]
  },
  {
   "cell_type": "code",
   "execution_count": null,
   "id": "373d8321",
   "metadata": {},
   "outputs": [],
   "source": []
  },
  {
   "cell_type": "code",
   "execution_count": null,
   "id": "09b8b53e",
   "metadata": {},
   "outputs": [],
   "source": [
    "cnt_vec = CountVectorizer(tokenizer=bestTokenizerEver)\n",
    "X_train = cnt_vec.fit_transform(train.review)\n",
    "X_test  = cnt_vec.transform(test.review)\n",
    "\n",
    "print('CountVectorizing finished.')\n",
    "\n",
    "clf = LogisticRegression(max_iter=200, n_jobs=-1)\n",
    "clf.fit(X_train, train.label)\n",
    "pred = clf.predict(X_test)\n",
    "\n",
    "print(f1_score(test.label, pred, pos_label=2))\n",
    "print(f1_score(test.label, pred, pos_label=0))\n",
    "print(classification_report(test.label, pred))"
   ]
  },
  {
   "cell_type": "code",
   "execution_count": null,
   "id": "c67b0551",
   "metadata": {},
   "outputs": [],
   "source": []
  },
  {
   "cell_type": "markdown",
   "id": "85cd3040",
   "metadata": {},
   "source": [
    "---"
   ]
  },
  {
   "cell_type": "markdown",
   "id": "2c715444",
   "metadata": {},
   "source": [
    "#### Exploring Word2Vec"
   ]
  },
  {
   "cell_type": "code",
   "execution_count": 17,
   "id": "b58da328",
   "metadata": {},
   "outputs": [
    {
     "data": {
      "text/html": [
       "<div>\n",
       "<style scoped>\n",
       "    .dataframe tbody tr th:only-of-type {\n",
       "        vertical-align: middle;\n",
       "    }\n",
       "\n",
       "    .dataframe tbody tr th {\n",
       "        vertical-align: top;\n",
       "    }\n",
       "\n",
       "    .dataframe thead th {\n",
       "        text-align: right;\n",
       "    }\n",
       "</style>\n",
       "<table border=\"1\" class=\"dataframe\">\n",
       "  <thead>\n",
       "    <tr style=\"text-align: right;\">\n",
       "      <th></th>\n",
       "      <th>review</th>\n",
       "      <th>label</th>\n",
       "    </tr>\n",
       "  </thead>\n",
       "  <tbody>\n",
       "    <tr>\n",
       "      <th>7126</th>\n",
       "      <td>Безусловно лучшее творение Бессона. Безупречна...</td>\n",
       "      <td>2</td>\n",
       "    </tr>\n",
       "    <tr>\n",
       "      <th>22072</th>\n",
       "      <td>Как и многие, ждала этот фильм с нетерпением  ...</td>\n",
       "      <td>0</td>\n",
       "    </tr>\n",
       "    <tr>\n",
       "      <th>17088</th>\n",
       "      <td>На самом деле, очень хороший мультик.Долгое вр...</td>\n",
       "      <td>2</td>\n",
       "    </tr>\n",
       "    <tr>\n",
       "      <th>15030</th>\n",
       "      <td>Один из самых заслуженных «Оскаров» за лучший ...</td>\n",
       "      <td>2</td>\n",
       "    </tr>\n",
       "    <tr>\n",
       "      <th>14947</th>\n",
       "      <td>Лидер советского кинопроката далекого 1973 год...</td>\n",
       "      <td>2</td>\n",
       "    </tr>\n",
       "    <tr>\n",
       "      <th>...</th>\n",
       "      <td>...</td>\n",
       "      <td>...</td>\n",
       "    </tr>\n",
       "    <tr>\n",
       "      <th>3124</th>\n",
       "      <td>Фильмы Нолана – это, по сути, всегда ловкачест...</td>\n",
       "      <td>0</td>\n",
       "    </tr>\n",
       "    <tr>\n",
       "      <th>1662</th>\n",
       "      <td>Именно этими словами я начну свою рецензию. За...</td>\n",
       "      <td>0</td>\n",
       "    </tr>\n",
       "    <tr>\n",
       "      <th>8908</th>\n",
       "      <td>Боже мой! Что они сделали? Фильм просто разоча...</td>\n",
       "      <td>0</td>\n",
       "    </tr>\n",
       "    <tr>\n",
       "      <th>8013</th>\n",
       "      <td>После просмотра фильма я никак не мог отделать...</td>\n",
       "      <td>0</td>\n",
       "    </tr>\n",
       "    <tr>\n",
       "      <th>2810</th>\n",
       "      <td>Интерстеллар  –  фильм, которого многие (в том...</td>\n",
       "      <td>0</td>\n",
       "    </tr>\n",
       "  </tbody>\n",
       "</table>\n",
       "<p>18569 rows × 2 columns</p>\n",
       "</div>"
      ],
      "text/plain": [
       "                                                  review  label\n",
       "7126   Безусловно лучшее творение Бессона. Безупречна...      2\n",
       "22072  Как и многие, ждала этот фильм с нетерпением  ...      0\n",
       "17088  На самом деле, очень хороший мультик.Долгое вр...      2\n",
       "15030  Один из самых заслуженных «Оскаров» за лучший ...      2\n",
       "14947  Лидер советского кинопроката далекого 1973 год...      2\n",
       "...                                                  ...    ...\n",
       "3124   Фильмы Нолана – это, по сути, всегда ловкачест...      0\n",
       "1662   Именно этими словами я начну свою рецензию. За...      0\n",
       "8908   Боже мой! Что они сделали? Фильм просто разоча...      0\n",
       "8013   После просмотра фильма я никак не мог отделать...      0\n",
       "2810   Интерстеллар  –  фильм, которого многие (в том...      0\n",
       "\n",
       "[18569 rows x 2 columns]"
      ]
     },
     "execution_count": 17,
     "metadata": {},
     "output_type": "execute_result"
    }
   ],
   "source": [
    "train"
   ]
  },
  {
   "cell_type": "code",
   "execution_count": 17,
   "id": "f7e2501a",
   "metadata": {},
   "outputs": [],
   "source": [
    "tokenizer = TreebankWordTokenizer()"
   ]
  },
  {
   "cell_type": "code",
   "execution_count": 18,
   "id": "92c5ab4c",
   "metadata": {},
   "outputs": [
    {
     "data": {
      "text/html": [
       "<div>\n",
       "<style scoped>\n",
       "    .dataframe tbody tr th:only-of-type {\n",
       "        vertical-align: middle;\n",
       "    }\n",
       "\n",
       "    .dataframe tbody tr th {\n",
       "        vertical-align: top;\n",
       "    }\n",
       "\n",
       "    .dataframe thead th {\n",
       "        text-align: right;\n",
       "    }\n",
       "</style>\n",
       "<table border=\"1\" class=\"dataframe\">\n",
       "  <thead>\n",
       "    <tr style=\"text-align: right;\">\n",
       "      <th></th>\n",
       "      <th>review</th>\n",
       "      <th>label</th>\n",
       "    </tr>\n",
       "  </thead>\n",
       "  <tbody>\n",
       "    <tr>\n",
       "      <th>7126</th>\n",
       "      <td>[Безусловно, лучшее, творение, Бессона., Безуп...</td>\n",
       "      <td>2</td>\n",
       "    </tr>\n",
       "    <tr>\n",
       "      <th>22072</th>\n",
       "      <td>[Как, и, многие, ,, ждала, этот, фильм, с, нет...</td>\n",
       "      <td>0</td>\n",
       "    </tr>\n",
       "    <tr>\n",
       "      <th>17088</th>\n",
       "      <td>[На, самом, деле, ,, очень, хороший, мультик.Д...</td>\n",
       "      <td>2</td>\n",
       "    </tr>\n",
       "    <tr>\n",
       "      <th>15030</th>\n",
       "      <td>[Один, из, самых, заслуженных, «Оскаров», за, ...</td>\n",
       "      <td>2</td>\n",
       "    </tr>\n",
       "    <tr>\n",
       "      <th>14947</th>\n",
       "      <td>[Лидер, советского, кинопроката, далекого, 197...</td>\n",
       "      <td>2</td>\n",
       "    </tr>\n",
       "    <tr>\n",
       "      <th>...</th>\n",
       "      <td>...</td>\n",
       "      <td>...</td>\n",
       "    </tr>\n",
       "    <tr>\n",
       "      <th>3124</th>\n",
       "      <td>[Фильмы, Нолана, –, это, ,, по, сути, ,, всегд...</td>\n",
       "      <td>0</td>\n",
       "    </tr>\n",
       "    <tr>\n",
       "      <th>1662</th>\n",
       "      <td>[Именно, этими, словами, я, начну, свою, рецен...</td>\n",
       "      <td>0</td>\n",
       "    </tr>\n",
       "    <tr>\n",
       "      <th>8908</th>\n",
       "      <td>[Боже, мой, !, Что, они, сделали, ?, Фильм, пр...</td>\n",
       "      <td>0</td>\n",
       "    </tr>\n",
       "    <tr>\n",
       "      <th>8013</th>\n",
       "      <td>[После, просмотра, фильма, я, никак, не, мог, ...</td>\n",
       "      <td>0</td>\n",
       "    </tr>\n",
       "    <tr>\n",
       "      <th>2810</th>\n",
       "      <td>[Интерстеллар, –, фильм, ,, которого, многие, ...</td>\n",
       "      <td>0</td>\n",
       "    </tr>\n",
       "  </tbody>\n",
       "</table>\n",
       "<p>18569 rows × 2 columns</p>\n",
       "</div>"
      ],
      "text/plain": [
       "                                                  review  label\n",
       "7126   [Безусловно, лучшее, творение, Бессона., Безуп...      2\n",
       "22072  [Как, и, многие, ,, ждала, этот, фильм, с, нет...      0\n",
       "17088  [На, самом, деле, ,, очень, хороший, мультик.Д...      2\n",
       "15030  [Один, из, самых, заслуженных, «Оскаров», за, ...      2\n",
       "14947  [Лидер, советского, кинопроката, далекого, 197...      2\n",
       "...                                                  ...    ...\n",
       "3124   [Фильмы, Нолана, –, это, ,, по, сути, ,, всегд...      0\n",
       "1662   [Именно, этими, словами, я, начну, свою, рецен...      0\n",
       "8908   [Боже, мой, !, Что, они, сделали, ?, Фильм, пр...      0\n",
       "8013   [После, просмотра, фильма, я, никак, не, мог, ...      0\n",
       "2810   [Интерстеллар, –, фильм, ,, которого, многие, ...      0\n",
       "\n",
       "[18569 rows x 2 columns]"
      ]
     },
     "execution_count": 18,
     "metadata": {},
     "output_type": "execute_result"
    }
   ],
   "source": [
    "train = pd.concat([pd.Series(map(tokenizer.tokenize, train.review), index=train.label.index), \n",
    "                   train.label],\n",
    "                   axis=1)\n",
    "train.columns = test.columns\n",
    "\n",
    "test = pd.concat([pd.Series(map(tokenizer.tokenize, test.review), index=test.label.index), \n",
    "                   test.label],\n",
    "                   axis=1)\n",
    "test.columns = train.columns\n",
    "train"
   ]
  },
  {
   "cell_type": "code",
   "execution_count": 138,
   "id": "cab9024b",
   "metadata": {},
   "outputs": [
    {
     "data": {
      "text/plain": [
       "7126     [Безусловно, лучшее, творение, Бессона., Безуп...\n",
       "22072    [Как, и, многие, ,, ждала, этот, фильм, с, нет...\n",
       "17088    [На, самом, деле, ,, очень, хороший, мультик.Д...\n",
       "15030    [Один, из, самых, заслуженных, «Оскаров», за, ...\n",
       "14947    [Лидер, советского, кинопроката, далекого, 197...\n",
       "1748     [«Моя, мама, всегда, говорила, :, «Жизнь, как,...\n",
       "21696    [Поскольку, рецензий, на, 'Начало, ', написано...\n",
       "22240    [Не, даром, столько, шума, вокруг, и, столько,...\n",
       "9180     [В, общем, ,, фильм, понравился., Я, раза, 4, ...\n",
       "14152    [«Бойцовский, клуб», ,, я, думаю, ,, на, начал...\n",
       "dtype: object"
      ]
     },
     "execution_count": 138,
     "metadata": {},
     "output_type": "execute_result"
    }
   ],
   "source": [
    "pd.Series(map(TreebankWordTokenizer().tokenize, train.review), index=train.label.index)"
   ]
  },
  {
   "cell_type": "code",
   "execution_count": 135,
   "id": "aba250c4",
   "metadata": {},
   "outputs": [
    {
     "data": {
      "text/plain": [
       "7126     2\n",
       "22072    0\n",
       "17088    2\n",
       "15030    2\n",
       "14947    2\n",
       "        ..\n",
       "3124     0\n",
       "1662     0\n",
       "8908     0\n",
       "8013     0\n",
       "2810     0\n",
       "Name: label, Length: 18569, dtype: int64"
      ]
     },
     "execution_count": 135,
     "metadata": {},
     "output_type": "execute_result"
    }
   ],
   "source": [
    "train.label"
   ]
  },
  {
   "cell_type": "code",
   "execution_count": 165,
   "id": "9d9969a4",
   "metadata": {},
   "outputs": [
    {
     "data": {
      "text/plain": [
       "7126     [Безусловно, лучшее, творение, Бессона., Безуп...\n",
       "22072    [Как, и, многие, ,, ждала, этот, фильм, с, нет...\n",
       "17088    [На, самом, деле, ,, очень, хороший, мультик.Д...\n",
       "15030    [Один, из, самых, заслуженных, «Оскаров», за, ...\n",
       "14947    [Лидер, советского, кинопроката, далекого, 197...\n",
       "                               ...                        \n",
       "3124     [Фильмы, Нолана, –, это, ,, по, сути, ,, всегд...\n",
       "1662     [Именно, этими, словами, я, начну, свою, рецен...\n",
       "8908     [Боже, мой, !, Что, они, сделали, ?, Фильм, пр...\n",
       "8013     [После, просмотра, фильма, я, никак, не, мог, ...\n",
       "2810     [Интерстеллар, –, фильм, ,, которого, многие, ...\n",
       "Name: review, Length: 18569, dtype: object"
      ]
     },
     "execution_count": 165,
     "metadata": {},
     "output_type": "execute_result"
    }
   ],
   "source": [
    "train.review"
   ]
  },
  {
   "cell_type": "code",
   "execution_count": 248,
   "id": "fb42368e",
   "metadata": {},
   "outputs": [
    {
     "data": {
      "text/plain": [
       "7126    [Безусловно, лучшее, творение, Бессона., Безуп...\n",
       "Name: review, dtype: object"
      ]
     },
     "execution_count": 248,
     "metadata": {},
     "output_type": "execute_result"
    }
   ],
   "source": [
    "train.review[0:1]"
   ]
  },
  {
   "cell_type": "code",
   "execution_count": 22,
   "id": "679ad5d2",
   "metadata": {},
   "outputs": [
    {
     "name": "stdout",
     "output_type": "stream",
     "text": [
      "Wall time: 37.5 s\n"
     ]
    }
   ],
   "source": [
    "%%time\n",
    "\n",
    "model = Word2Vec(sentences=train.review, \n",
    "                          vector_size=300, \n",
    "                          window=5,\n",
    "                    )"
   ]
  },
  {
   "cell_type": "code",
   "execution_count": 23,
   "id": "a32f20b0",
   "metadata": {
    "scrolled": true
   },
   "outputs": [
    {
     "data": {
      "text/plain": [
       "(300,)"
      ]
     },
     "execution_count": 23,
     "metadata": {},
     "output_type": "execute_result"
    }
   ],
   "source": [
    "model.wv['том'].shape"
   ]
  },
  {
   "cell_type": "code",
   "execution_count": 27,
   "id": "0fd61aca",
   "metadata": {},
   "outputs": [
    {
     "ename": "KeyError",
     "evalue": "\"Key 'Алиса' not present\"",
     "output_type": "error",
     "traceback": [
      "\u001b[1;31m---------------------------------------------------------------------------\u001b[0m",
      "\u001b[1;31mKeyError\u001b[0m                                  Traceback (most recent call last)",
      "\u001b[1;32m~\\AppData\\Local\\Temp\\ipykernel_9512\\2372213709.py\u001b[0m in \u001b[0;36m<module>\u001b[1;34m\u001b[0m\n\u001b[1;32m----> 1\u001b[1;33m \u001b[0mmodel\u001b[0m\u001b[1;33m.\u001b[0m\u001b[0mwv\u001b[0m\u001b[1;33m.\u001b[0m\u001b[0mmost_similar\u001b[0m\u001b[1;33m(\u001b[0m\u001b[0mpositive\u001b[0m\u001b[1;33m=\u001b[0m\u001b[1;34m'Алиса'\u001b[0m\u001b[1;33m,\u001b[0m \u001b[0mtopn\u001b[0m\u001b[1;33m=\u001b[0m\u001b[1;36m10\u001b[0m\u001b[1;33m)\u001b[0m\u001b[1;33m\u001b[0m\u001b[1;33m\u001b[0m\u001b[0m\n\u001b[0m",
      "\u001b[1;32mD:\\ProgramData\\anaconda3\\lib\\site-packages\\gensim\\models\\keyedvectors.py\u001b[0m in \u001b[0;36mmost_similar\u001b[1;34m(self, positive, negative, topn, clip_start, clip_end, restrict_vocab, indexer)\u001b[0m\n\u001b[0;32m    771\u001b[0m                 \u001b[0mmean\u001b[0m\u001b[1;33m.\u001b[0m\u001b[0mappend\u001b[0m\u001b[1;33m(\u001b[0m\u001b[0mweight\u001b[0m \u001b[1;33m*\u001b[0m \u001b[0mkey\u001b[0m\u001b[1;33m)\u001b[0m\u001b[1;33m\u001b[0m\u001b[1;33m\u001b[0m\u001b[0m\n\u001b[0;32m    772\u001b[0m             \u001b[1;32melse\u001b[0m\u001b[1;33m:\u001b[0m\u001b[1;33m\u001b[0m\u001b[1;33m\u001b[0m\u001b[0m\n\u001b[1;32m--> 773\u001b[1;33m                 \u001b[0mmean\u001b[0m\u001b[1;33m.\u001b[0m\u001b[0mappend\u001b[0m\u001b[1;33m(\u001b[0m\u001b[0mweight\u001b[0m \u001b[1;33m*\u001b[0m \u001b[0mself\u001b[0m\u001b[1;33m.\u001b[0m\u001b[0mget_vector\u001b[0m\u001b[1;33m(\u001b[0m\u001b[0mkey\u001b[0m\u001b[1;33m,\u001b[0m \u001b[0mnorm\u001b[0m\u001b[1;33m=\u001b[0m\u001b[1;32mTrue\u001b[0m\u001b[1;33m)\u001b[0m\u001b[1;33m)\u001b[0m\u001b[1;33m\u001b[0m\u001b[1;33m\u001b[0m\u001b[0m\n\u001b[0m\u001b[0;32m    774\u001b[0m                 \u001b[1;32mif\u001b[0m \u001b[0mself\u001b[0m\u001b[1;33m.\u001b[0m\u001b[0mhas_index_for\u001b[0m\u001b[1;33m(\u001b[0m\u001b[0mkey\u001b[0m\u001b[1;33m)\u001b[0m\u001b[1;33m:\u001b[0m\u001b[1;33m\u001b[0m\u001b[1;33m\u001b[0m\u001b[0m\n\u001b[0;32m    775\u001b[0m                     \u001b[0mall_keys\u001b[0m\u001b[1;33m.\u001b[0m\u001b[0madd\u001b[0m\u001b[1;33m(\u001b[0m\u001b[0mself\u001b[0m\u001b[1;33m.\u001b[0m\u001b[0mget_index\u001b[0m\u001b[1;33m(\u001b[0m\u001b[0mkey\u001b[0m\u001b[1;33m)\u001b[0m\u001b[1;33m)\u001b[0m\u001b[1;33m\u001b[0m\u001b[1;33m\u001b[0m\u001b[0m\n",
      "\u001b[1;32mD:\\ProgramData\\anaconda3\\lib\\site-packages\\gensim\\models\\keyedvectors.py\u001b[0m in \u001b[0;36mget_vector\u001b[1;34m(self, key, norm)\u001b[0m\n\u001b[0;32m    436\u001b[0m \u001b[1;33m\u001b[0m\u001b[0m\n\u001b[0;32m    437\u001b[0m         \"\"\"\n\u001b[1;32m--> 438\u001b[1;33m         \u001b[0mindex\u001b[0m \u001b[1;33m=\u001b[0m \u001b[0mself\u001b[0m\u001b[1;33m.\u001b[0m\u001b[0mget_index\u001b[0m\u001b[1;33m(\u001b[0m\u001b[0mkey\u001b[0m\u001b[1;33m)\u001b[0m\u001b[1;33m\u001b[0m\u001b[1;33m\u001b[0m\u001b[0m\n\u001b[0m\u001b[0;32m    439\u001b[0m         \u001b[1;32mif\u001b[0m \u001b[0mnorm\u001b[0m\u001b[1;33m:\u001b[0m\u001b[1;33m\u001b[0m\u001b[1;33m\u001b[0m\u001b[0m\n\u001b[0;32m    440\u001b[0m             \u001b[0mself\u001b[0m\u001b[1;33m.\u001b[0m\u001b[0mfill_norms\u001b[0m\u001b[1;33m(\u001b[0m\u001b[1;33m)\u001b[0m\u001b[1;33m\u001b[0m\u001b[1;33m\u001b[0m\u001b[0m\n",
      "\u001b[1;32mD:\\ProgramData\\anaconda3\\lib\\site-packages\\gensim\\models\\keyedvectors.py\u001b[0m in \u001b[0;36mget_index\u001b[1;34m(self, key, default)\u001b[0m\n\u001b[0;32m    410\u001b[0m             \u001b[1;32mreturn\u001b[0m \u001b[0mdefault\u001b[0m\u001b[1;33m\u001b[0m\u001b[1;33m\u001b[0m\u001b[0m\n\u001b[0;32m    411\u001b[0m         \u001b[1;32melse\u001b[0m\u001b[1;33m:\u001b[0m\u001b[1;33m\u001b[0m\u001b[1;33m\u001b[0m\u001b[0m\n\u001b[1;32m--> 412\u001b[1;33m             \u001b[1;32mraise\u001b[0m \u001b[0mKeyError\u001b[0m\u001b[1;33m(\u001b[0m\u001b[1;34mf\"Key '{key}' not present\"\u001b[0m\u001b[1;33m)\u001b[0m\u001b[1;33m\u001b[0m\u001b[1;33m\u001b[0m\u001b[0m\n\u001b[0m\u001b[0;32m    413\u001b[0m \u001b[1;33m\u001b[0m\u001b[0m\n\u001b[0;32m    414\u001b[0m     \u001b[1;32mdef\u001b[0m \u001b[0mget_vector\u001b[0m\u001b[1;33m(\u001b[0m\u001b[0mself\u001b[0m\u001b[1;33m,\u001b[0m \u001b[0mkey\u001b[0m\u001b[1;33m,\u001b[0m \u001b[0mnorm\u001b[0m\u001b[1;33m=\u001b[0m\u001b[1;32mFalse\u001b[0m\u001b[1;33m)\u001b[0m\u001b[1;33m:\u001b[0m\u001b[1;33m\u001b[0m\u001b[1;33m\u001b[0m\u001b[0m\n",
      "\u001b[1;31mKeyError\u001b[0m: \"Key 'Алиса' not present\""
     ]
    }
   ],
   "source": [
    "model.wv.most_similar(positive='Алиса', topn=10)"
   ]
  },
  {
   "cell_type": "code",
   "execution_count": 29,
   "id": "9574ef9f",
   "metadata": {},
   "outputs": [
    {
     "data": {
      "text/plain": [
       "[('Толкина.', 0.43248140811920166),\n",
       " ('Уильямс.', 0.3997892141342163),\n",
       " ('3-й', 0.394602507352829),\n",
       " ('сюжетом.', 0.386676549911499),\n",
       " ('достойной', 0.3828672766685486),\n",
       " ('детский.', 0.3818534016609192),\n",
       " ('спасают.', 0.3745390772819519),\n",
       " ('Оценку', 0.3718530535697937),\n",
       " ('«зашёл»', 0.3706556558609009),\n",
       " ('уважением.', 0.3668305277824402)]"
      ]
     },
     "execution_count": 29,
     "metadata": {},
     "output_type": "execute_result"
    }
   ],
   "source": [
    "model.wv.most_similar(positive=(model.wv['монстр']-model.wv['ужас']), topn=10)"
   ]
  },
  {
   "cell_type": "code",
   "execution_count": 159,
   "id": "0355a30b",
   "metadata": {},
   "outputs": [
    {
     "data": {
      "text/plain": [
       "7126     [Безусловно, лучшее, творение, Бессона., Безуп...\n",
       "22072    [Как, и, многие, ,, ждала, этот, фильм, с, нет...\n",
       "17088    [На, самом, деле, ,, очень, хороший, мультик.Д...\n",
       "15030    [Один, из, самых, заслуженных, «Оскаров», за, ...\n",
       "14947    [Лидер, советского, кинопроката, далекого, 197...\n",
       "                               ...                        \n",
       "3124     [Фильмы, Нолана, –, это, ,, по, сути, ,, всегд...\n",
       "1662     [Именно, этими, словами, я, начну, свою, рецен...\n",
       "8908     [Боже, мой, !, Что, они, сделали, ?, Фильм, пр...\n",
       "8013     [После, просмотра, фильма, я, никак, не, мог, ...\n",
       "2810     [Интерстеллар, –, фильм, ,, которого, многие, ...\n",
       "Name: review, Length: 18569, dtype: object"
      ]
     },
     "execution_count": 159,
     "metadata": {},
     "output_type": "execute_result"
    }
   ],
   "source": [
    "train.review"
   ]
  },
  {
   "cell_type": "code",
   "execution_count": 215,
   "id": "2b3e208d",
   "metadata": {},
   "outputs": [
    {
     "data": {
      "text/plain": [
       "[<matplotlib.lines.Line2D at 0x2050ba648b0>]"
      ]
     },
     "execution_count": 215,
     "metadata": {},
     "output_type": "execute_result"
    },
    {
     "data": {
      "image/png": "[encoded data removed]",
      "text/plain": [
       "<Figure size 640x480 with 1 Axes>"
      ]
     },
     "metadata": {},
     "output_type": "display_data"
    }
   ],
   "source": [
    "plt.plot(model.wv.get_vector(0))"
   ]
  },
  {
   "cell_type": "code",
   "execution_count": 216,
   "id": "b3e25bed",
   "metadata": {},
   "outputs": [
    {
     "data": {
      "text/plain": [
       "[<matplotlib.lines.Line2D at 0x2050ba17490>]"
      ]
     },
     "execution_count": 216,
     "metadata": {},
     "output_type": "execute_result"
    },
    {
     "data": {
      "image/png": "[encoded data removed]",
      "text/plain": [
       "<Figure size 640x480 with 1 Axes>"
      ]
     },
     "metadata": {},
     "output_type": "display_data"
    }
   ],
   "source": [
    "plt.plot(model.wv.get_normed_vectors()[0])"
   ]
  },
  {
   "cell_type": "code",
   "execution_count": 222,
   "id": "722ee697",
   "metadata": {},
   "outputs": [
    {
     "data": {
      "text/plain": [
       "[('вы', 0.9776759),\n",
       " ('если', 0.01145803),\n",
       " ('Вы', 0.0049927887),\n",
       " ('Если', 0.0046948916),\n",
       " ('увидеть', 0.0011114695),\n",
       " ('хотите', 1.5001338e-05),\n",
       " ('посмотрите', 1.4101071e-05),\n",
       " ('посмотреть', 1.3088356e-05),\n",
       " ('смотрите', 5.57677e-06),\n",
       " ('смотреть', 4.3877812e-06)]"
      ]
     },
     "execution_count": 222,
     "metadata": {},
     "output_type": "execute_result"
    }
   ],
   "source": [
    "model.predict_output_word(['хотите'])"
   ]
  },
  {
   "cell_type": "code",
   "execution_count": 225,
   "id": "179d89aa",
   "metadata": {},
   "outputs": [
    {
     "data": {
      "text/html": [
       "<div>\n",
       "<style scoped>\n",
       "    .dataframe tbody tr th:only-of-type {\n",
       "        vertical-align: middle;\n",
       "    }\n",
       "\n",
       "    .dataframe tbody tr th {\n",
       "        vertical-align: top;\n",
       "    }\n",
       "\n",
       "    .dataframe thead th {\n",
       "        text-align: right;\n",
       "    }\n",
       "</style>\n",
       "<table border=\"1\" class=\"dataframe\">\n",
       "  <thead>\n",
       "    <tr style=\"text-align: right;\">\n",
       "      <th></th>\n",
       "      <th>review</th>\n",
       "      <th>label</th>\n",
       "    </tr>\n",
       "  </thead>\n",
       "  <tbody>\n",
       "    <tr>\n",
       "      <th>7126</th>\n",
       "      <td>[Безусловно, лучшее, творение, Бессона., Безуп...</td>\n",
       "      <td>2</td>\n",
       "    </tr>\n",
       "    <tr>\n",
       "      <th>22072</th>\n",
       "      <td>[Как, и, многие, ,, ждала, этот, фильм, с, нет...</td>\n",
       "      <td>0</td>\n",
       "    </tr>\n",
       "    <tr>\n",
       "      <th>17088</th>\n",
       "      <td>[На, самом, деле, ,, очень, хороший, мультик.Д...</td>\n",
       "      <td>2</td>\n",
       "    </tr>\n",
       "    <tr>\n",
       "      <th>15030</th>\n",
       "      <td>[Один, из, самых, заслуженных, «Оскаров», за, ...</td>\n",
       "      <td>2</td>\n",
       "    </tr>\n",
       "    <tr>\n",
       "      <th>14947</th>\n",
       "      <td>[Лидер, советского, кинопроката, далекого, 197...</td>\n",
       "      <td>2</td>\n",
       "    </tr>\n",
       "    <tr>\n",
       "      <th>...</th>\n",
       "      <td>...</td>\n",
       "      <td>...</td>\n",
       "    </tr>\n",
       "    <tr>\n",
       "      <th>3124</th>\n",
       "      <td>[Фильмы, Нолана, –, это, ,, по, сути, ,, всегд...</td>\n",
       "      <td>0</td>\n",
       "    </tr>\n",
       "    <tr>\n",
       "      <th>1662</th>\n",
       "      <td>[Именно, этими, словами, я, начну, свою, рецен...</td>\n",
       "      <td>0</td>\n",
       "    </tr>\n",
       "    <tr>\n",
       "      <th>8908</th>\n",
       "      <td>[Боже, мой, !, Что, они, сделали, ?, Фильм, пр...</td>\n",
       "      <td>0</td>\n",
       "    </tr>\n",
       "    <tr>\n",
       "      <th>8013</th>\n",
       "      <td>[После, просмотра, фильма, я, никак, не, мог, ...</td>\n",
       "      <td>0</td>\n",
       "    </tr>\n",
       "    <tr>\n",
       "      <th>2810</th>\n",
       "      <td>[Интерстеллар, –, фильм, ,, которого, многие, ...</td>\n",
       "      <td>0</td>\n",
       "    </tr>\n",
       "  </tbody>\n",
       "</table>\n",
       "<p>18569 rows × 2 columns</p>\n",
       "</div>"
      ],
      "text/plain": [
       "                                                  review  label\n",
       "7126   [Безусловно, лучшее, творение, Бессона., Безуп...      2\n",
       "22072  [Как, и, многие, ,, ждала, этот, фильм, с, нет...      0\n",
       "17088  [На, самом, деле, ,, очень, хороший, мультик.Д...      2\n",
       "15030  [Один, из, самых, заслуженных, «Оскаров», за, ...      2\n",
       "14947  [Лидер, советского, кинопроката, далекого, 197...      2\n",
       "...                                                  ...    ...\n",
       "3124   [Фильмы, Нолана, –, это, ,, по, сути, ,, всегд...      0\n",
       "1662   [Именно, этими, словами, я, начну, свою, рецен...      0\n",
       "8908   [Боже, мой, !, Что, они, сделали, ?, Фильм, пр...      0\n",
       "8013   [После, просмотра, фильма, я, никак, не, мог, ...      0\n",
       "2810   [Интерстеллар, –, фильм, ,, которого, многие, ...      0\n",
       "\n",
       "[18569 rows x 2 columns]"
      ]
     },
     "execution_count": 225,
     "metadata": {},
     "output_type": "execute_result"
    }
   ],
   "source": [
    "train"
   ]
  },
  {
   "cell_type": "code",
   "execution_count": 244,
   "id": "9d1deb2e",
   "metadata": {},
   "outputs": [
    {
     "data": {
      "text/plain": [
       "7126      True\n",
       "22072    False\n",
       "17088    False\n",
       "15030    False\n",
       "14947    False\n",
       "         ...  \n",
       "3124     False\n",
       "1662     False\n",
       "8908     False\n",
       "8013     False\n",
       "2810     False\n",
       "Name: review, Length: 18569, dtype: bool"
      ]
     },
     "execution_count": 244,
     "metadata": {},
     "output_type": "execute_result"
    }
   ],
   "source": [
    "train.review.map(lambda tokens: 'Бессона.' in tokens)"
   ]
  },
  {
   "cell_type": "code",
   "execution_count": 234,
   "id": "b2f41181",
   "metadata": {},
   "outputs": [
    {
     "ename": "KeyError",
     "evalue": "\"Key 'мультик.Долгое' not present\"",
     "output_type": "error",
     "traceback": [
      "\u001b[1;31m---------------------------------------------------------------------------\u001b[0m",
      "\u001b[1;31mKeyError\u001b[0m                                  Traceback (most recent call last)",
      "\u001b[1;32m~\\AppData\\Local\\Temp\\ipykernel_18796\\980293250.py\u001b[0m in \u001b[0;36m<module>\u001b[1;34m\u001b[0m\n\u001b[1;32m----> 1\u001b[1;33m \u001b[0mtrain\u001b[0m\u001b[1;33m.\u001b[0m\u001b[0mreview\u001b[0m\u001b[1;33m[\u001b[0m\u001b[1;36m1\u001b[0m\u001b[1;33m:\u001b[0m\u001b[1;33m]\u001b[0m\u001b[1;33m.\u001b[0m\u001b[0mmap\u001b[0m\u001b[1;33m(\u001b[0m\u001b[1;32mlambda\u001b[0m \u001b[0mtokens\u001b[0m\u001b[1;33m:\u001b[0m \u001b[0mlist\u001b[0m\u001b[1;33m(\u001b[0m\u001b[0mmap\u001b[0m\u001b[1;33m(\u001b[0m\u001b[1;32mlambda\u001b[0m \u001b[0mtoken\u001b[0m\u001b[1;33m:\u001b[0m \u001b[0mmodel\u001b[0m\u001b[1;33m.\u001b[0m\u001b[0mwv\u001b[0m\u001b[1;33m[\u001b[0m\u001b[0mtoken\u001b[0m\u001b[1;33m]\u001b[0m\u001b[1;33m,\u001b[0m  \u001b[0mtokens\u001b[0m\u001b[1;33m)\u001b[0m\u001b[1;33m)\u001b[0m\u001b[1;33m)\u001b[0m\u001b[1;33m\u001b[0m\u001b[1;33m\u001b[0m\u001b[0m\n\u001b[0m",
      "\u001b[1;32mD:\\ProgramData\\anaconda3\\lib\\site-packages\\pandas\\core\\series.py\u001b[0m in \u001b[0;36mmap\u001b[1;34m(self, arg, na_action)\u001b[0m\n\u001b[0;32m   4235\u001b[0m         \u001b[0mdtype\u001b[0m\u001b[1;33m:\u001b[0m \u001b[0mobject\u001b[0m\u001b[1;33m\u001b[0m\u001b[1;33m\u001b[0m\u001b[0m\n\u001b[0;32m   4236\u001b[0m         \"\"\"\n\u001b[1;32m-> 4237\u001b[1;33m         \u001b[0mnew_values\u001b[0m \u001b[1;33m=\u001b[0m \u001b[0mself\u001b[0m\u001b[1;33m.\u001b[0m\u001b[0m_map_values\u001b[0m\u001b[1;33m(\u001b[0m\u001b[0marg\u001b[0m\u001b[1;33m,\u001b[0m \u001b[0mna_action\u001b[0m\u001b[1;33m=\u001b[0m\u001b[0mna_action\u001b[0m\u001b[1;33m)\u001b[0m\u001b[1;33m\u001b[0m\u001b[1;33m\u001b[0m\u001b[0m\n\u001b[0m\u001b[0;32m   4238\u001b[0m         return self._constructor(new_values, index=self.index).__finalize__(\n\u001b[0;32m   4239\u001b[0m             \u001b[0mself\u001b[0m\u001b[1;33m,\u001b[0m \u001b[0mmethod\u001b[0m\u001b[1;33m=\u001b[0m\u001b[1;34m\"map\"\u001b[0m\u001b[1;33m\u001b[0m\u001b[1;33m\u001b[0m\u001b[0m\n",
      "\u001b[1;32mD:\\ProgramData\\anaconda3\\lib\\site-packages\\pandas\\core\\base.py\u001b[0m in \u001b[0;36m_map_values\u001b[1;34m(self, mapper, na_action)\u001b[0m\n\u001b[0;32m    878\u001b[0m \u001b[1;33m\u001b[0m\u001b[0m\n\u001b[0;32m    879\u001b[0m         \u001b[1;31m# mapper is a function\u001b[0m\u001b[1;33m\u001b[0m\u001b[1;33m\u001b[0m\u001b[0m\n\u001b[1;32m--> 880\u001b[1;33m         \u001b[0mnew_values\u001b[0m \u001b[1;33m=\u001b[0m \u001b[0mmap_f\u001b[0m\u001b[1;33m(\u001b[0m\u001b[0mvalues\u001b[0m\u001b[1;33m,\u001b[0m \u001b[0mmapper\u001b[0m\u001b[1;33m)\u001b[0m\u001b[1;33m\u001b[0m\u001b[1;33m\u001b[0m\u001b[0m\n\u001b[0m\u001b[0;32m    881\u001b[0m \u001b[1;33m\u001b[0m\u001b[0m\n\u001b[0;32m    882\u001b[0m         \u001b[1;32mreturn\u001b[0m \u001b[0mnew_values\u001b[0m\u001b[1;33m\u001b[0m\u001b[1;33m\u001b[0m\u001b[0m\n",
      "\u001b[1;32mD:\\ProgramData\\anaconda3\\lib\\site-packages\\pandas\\_libs\\lib.pyx\u001b[0m in \u001b[0;36mpandas._libs.lib.map_infer\u001b[1;34m()\u001b[0m\n",
      "\u001b[1;32m~\\AppData\\Local\\Temp\\ipykernel_18796\\980293250.py\u001b[0m in \u001b[0;36m<lambda>\u001b[1;34m(tokens)\u001b[0m\n\u001b[1;32m----> 1\u001b[1;33m \u001b[0mtrain\u001b[0m\u001b[1;33m.\u001b[0m\u001b[0mreview\u001b[0m\u001b[1;33m[\u001b[0m\u001b[1;36m1\u001b[0m\u001b[1;33m:\u001b[0m\u001b[1;33m]\u001b[0m\u001b[1;33m.\u001b[0m\u001b[0mmap\u001b[0m\u001b[1;33m(\u001b[0m\u001b[1;32mlambda\u001b[0m \u001b[0mtokens\u001b[0m\u001b[1;33m:\u001b[0m \u001b[0mlist\u001b[0m\u001b[1;33m(\u001b[0m\u001b[0mmap\u001b[0m\u001b[1;33m(\u001b[0m\u001b[1;32mlambda\u001b[0m \u001b[0mtoken\u001b[0m\u001b[1;33m:\u001b[0m \u001b[0mmodel\u001b[0m\u001b[1;33m.\u001b[0m\u001b[0mwv\u001b[0m\u001b[1;33m[\u001b[0m\u001b[0mtoken\u001b[0m\u001b[1;33m]\u001b[0m\u001b[1;33m,\u001b[0m  \u001b[0mtokens\u001b[0m\u001b[1;33m)\u001b[0m\u001b[1;33m)\u001b[0m\u001b[1;33m)\u001b[0m\u001b[1;33m\u001b[0m\u001b[1;33m\u001b[0m\u001b[0m\n\u001b[0m",
      "\u001b[1;32m~\\AppData\\Local\\Temp\\ipykernel_18796\\980293250.py\u001b[0m in \u001b[0;36m<lambda>\u001b[1;34m(token)\u001b[0m\n\u001b[1;32m----> 1\u001b[1;33m \u001b[0mtrain\u001b[0m\u001b[1;33m.\u001b[0m\u001b[0mreview\u001b[0m\u001b[1;33m[\u001b[0m\u001b[1;36m1\u001b[0m\u001b[1;33m:\u001b[0m\u001b[1;33m]\u001b[0m\u001b[1;33m.\u001b[0m\u001b[0mmap\u001b[0m\u001b[1;33m(\u001b[0m\u001b[1;32mlambda\u001b[0m \u001b[0mtokens\u001b[0m\u001b[1;33m:\u001b[0m \u001b[0mlist\u001b[0m\u001b[1;33m(\u001b[0m\u001b[0mmap\u001b[0m\u001b[1;33m(\u001b[0m\u001b[1;32mlambda\u001b[0m \u001b[0mtoken\u001b[0m\u001b[1;33m:\u001b[0m \u001b[0mmodel\u001b[0m\u001b[1;33m.\u001b[0m\u001b[0mwv\u001b[0m\u001b[1;33m[\u001b[0m\u001b[0mtoken\u001b[0m\u001b[1;33m]\u001b[0m\u001b[1;33m,\u001b[0m  \u001b[0mtokens\u001b[0m\u001b[1;33m)\u001b[0m\u001b[1;33m)\u001b[0m\u001b[1;33m)\u001b[0m\u001b[1;33m\u001b[0m\u001b[1;33m\u001b[0m\u001b[0m\n\u001b[0m",
      "\u001b[1;32mD:\\ProgramData\\anaconda3\\lib\\site-packages\\gensim\\models\\keyedvectors.py\u001b[0m in \u001b[0;36m__getitem__\u001b[1;34m(self, key_or_keys)\u001b[0m\n\u001b[0;32m    393\u001b[0m         \"\"\"\n\u001b[0;32m    394\u001b[0m         \u001b[1;32mif\u001b[0m \u001b[0misinstance\u001b[0m\u001b[1;33m(\u001b[0m\u001b[0mkey_or_keys\u001b[0m\u001b[1;33m,\u001b[0m \u001b[0m_KEY_TYPES\u001b[0m\u001b[1;33m)\u001b[0m\u001b[1;33m:\u001b[0m\u001b[1;33m\u001b[0m\u001b[1;33m\u001b[0m\u001b[0m\n\u001b[1;32m--> 395\u001b[1;33m             \u001b[1;32mreturn\u001b[0m \u001b[0mself\u001b[0m\u001b[1;33m.\u001b[0m\u001b[0mget_vector\u001b[0m\u001b[1;33m(\u001b[0m\u001b[0mkey_or_keys\u001b[0m\u001b[1;33m)\u001b[0m\u001b[1;33m\u001b[0m\u001b[1;33m\u001b[0m\u001b[0m\n\u001b[0m\u001b[0;32m    396\u001b[0m \u001b[1;33m\u001b[0m\u001b[0m\n\u001b[0;32m    397\u001b[0m         \u001b[1;32mreturn\u001b[0m \u001b[0mvstack\u001b[0m\u001b[1;33m(\u001b[0m\u001b[1;33m[\u001b[0m\u001b[0mself\u001b[0m\u001b[1;33m.\u001b[0m\u001b[0mget_vector\u001b[0m\u001b[1;33m(\u001b[0m\u001b[0mkey\u001b[0m\u001b[1;33m)\u001b[0m \u001b[1;32mfor\u001b[0m \u001b[0mkey\u001b[0m \u001b[1;32min\u001b[0m \u001b[0mkey_or_keys\u001b[0m\u001b[1;33m]\u001b[0m\u001b[1;33m)\u001b[0m\u001b[1;33m\u001b[0m\u001b[1;33m\u001b[0m\u001b[0m\n",
      "\u001b[1;32mD:\\ProgramData\\anaconda3\\lib\\site-packages\\gensim\\models\\keyedvectors.py\u001b[0m in \u001b[0;36mget_vector\u001b[1;34m(self, key, norm)\u001b[0m\n\u001b[0;32m    436\u001b[0m \u001b[1;33m\u001b[0m\u001b[0m\n\u001b[0;32m    437\u001b[0m         \"\"\"\n\u001b[1;32m--> 438\u001b[1;33m         \u001b[0mindex\u001b[0m \u001b[1;33m=\u001b[0m \u001b[0mself\u001b[0m\u001b[1;33m.\u001b[0m\u001b[0mget_index\u001b[0m\u001b[1;33m(\u001b[0m\u001b[0mkey\u001b[0m\u001b[1;33m)\u001b[0m\u001b[1;33m\u001b[0m\u001b[1;33m\u001b[0m\u001b[0m\n\u001b[0m\u001b[0;32m    439\u001b[0m         \u001b[1;32mif\u001b[0m \u001b[0mnorm\u001b[0m\u001b[1;33m:\u001b[0m\u001b[1;33m\u001b[0m\u001b[1;33m\u001b[0m\u001b[0m\n\u001b[0;32m    440\u001b[0m             \u001b[0mself\u001b[0m\u001b[1;33m.\u001b[0m\u001b[0mfill_norms\u001b[0m\u001b[1;33m(\u001b[0m\u001b[1;33m)\u001b[0m\u001b[1;33m\u001b[0m\u001b[1;33m\u001b[0m\u001b[0m\n",
      "\u001b[1;32mD:\\ProgramData\\anaconda3\\lib\\site-packages\\gensim\\models\\keyedvectors.py\u001b[0m in \u001b[0;36mget_index\u001b[1;34m(self, key, default)\u001b[0m\n\u001b[0;32m    410\u001b[0m             \u001b[1;32mreturn\u001b[0m \u001b[0mdefault\u001b[0m\u001b[1;33m\u001b[0m\u001b[1;33m\u001b[0m\u001b[0m\n\u001b[0;32m    411\u001b[0m         \u001b[1;32melse\u001b[0m\u001b[1;33m:\u001b[0m\u001b[1;33m\u001b[0m\u001b[1;33m\u001b[0m\u001b[0m\n\u001b[1;32m--> 412\u001b[1;33m             \u001b[1;32mraise\u001b[0m \u001b[0mKeyError\u001b[0m\u001b[1;33m(\u001b[0m\u001b[1;34mf\"Key '{key}' not present\"\u001b[0m\u001b[1;33m)\u001b[0m\u001b[1;33m\u001b[0m\u001b[1;33m\u001b[0m\u001b[0m\n\u001b[0m\u001b[0;32m    413\u001b[0m \u001b[1;33m\u001b[0m\u001b[0m\n\u001b[0;32m    414\u001b[0m     \u001b[1;32mdef\u001b[0m \u001b[0mget_vector\u001b[0m\u001b[1;33m(\u001b[0m\u001b[0mself\u001b[0m\u001b[1;33m,\u001b[0m \u001b[0mkey\u001b[0m\u001b[1;33m,\u001b[0m \u001b[0mnorm\u001b[0m\u001b[1;33m=\u001b[0m\u001b[1;32mFalse\u001b[0m\u001b[1;33m)\u001b[0m\u001b[1;33m:\u001b[0m\u001b[1;33m\u001b[0m\u001b[1;33m\u001b[0m\u001b[0m\n",
      "\u001b[1;31mKeyError\u001b[0m: \"Key 'мультик.Долгое' not present\""
     ]
    }
   ],
   "source": [
    "train.review[1:].map(lambda tokens: list(map(lambda token: model.wv[token],  tokens)))"
   ]
  },
  {
   "cell_type": "code",
   "execution_count": 30,
   "id": "d6b794d3",
   "metadata": {},
   "outputs": [
    {
     "data": {
      "text/plain": [
       "False"
      ]
     },
     "execution_count": 30,
     "metadata": {},
     "output_type": "execute_result"
    }
   ],
   "source": [
    "'мультик.Долгое' in model.wv.index_to_key"
   ]
  },
  {
   "cell_type": "code",
   "execution_count": 21,
   "id": "92a3e050",
   "metadata": {},
   "outputs": [],
   "source": [
    "from gensim.models.doc2vec import Doc2Vec, TaggedDocument"
   ]
  },
  {
   "cell_type": "code",
   "execution_count": 22,
   "id": "0a9a7682",
   "metadata": {},
   "outputs": [],
   "source": [
    "documents = [TaggedDocument(doc, [i]) for i, doc in enumerate(train.review.values)]"
   ]
  },
  {
   "cell_type": "code",
   "execution_count": 48,
   "id": "a69bb3c5",
   "metadata": {},
   "outputs": [
    {
     "name": "stdout",
     "output_type": "stream",
     "text": [
      "Wall time: 1min 42s\n"
     ]
    }
   ],
   "source": [
    "%%time\n",
    "\n",
    "model = Doc2Vec(documents=documents, \n",
    "                          vector_size=300, \n",
    "                          window=5,\n",
    "                          workers=12\n",
    "                    )"
   ]
  },
  {
   "cell_type": "code",
   "execution_count": 35,
   "id": "1148c6ac",
   "metadata": {
    "scrolled": true
   },
   "outputs": [
    {
     "data": {
      "text/plain": [
       "[' ',\n",
       " 'о',\n",
       " 'е',\n",
       " 'а',\n",
       " 'и',\n",
       " 'т',\n",
       " 'н',\n",
       " 'с',\n",
       " 'р',\n",
       " 'л',\n",
       " 'в',\n",
       " 'м',\n",
       " 'к',\n",
       " 'д',\n",
       " 'п',\n",
       " 'у',\n",
       " 'ь',\n",
       " ',',\n",
       " 'я',\n",
       " 'ы',\n",
       " 'г',\n",
       " 'з',\n",
       " 'ч',\n",
       " 'б',\n",
       " '.',\n",
       " 'й',\n",
       " 'ж',\n",
       " 'х',\n",
       " 'ю',\n",
       " '\\n',\n",
       " '\\r',\n",
       " 'ш',\n",
       " 'ф',\n",
       " 'э',\n",
       " 'ц',\n",
       " 'щ',\n",
       " '-',\n",
       " 'Н',\n",
       " \"'\",\n",
       " 'В',\n",
       " 'К',\n",
       " 'ё',\n",
       " 'Д',\n",
       " 'П',\n",
       " '>',\n",
       " '<',\n",
       " 'О',\n",
       " 'С',\n",
       " 'И',\n",
       " '»',\n",
       " '«',\n",
       " 'Т',\n",
       " 'М',\n",
       " '?',\n",
       " 'b',\n",
       " 'Б',\n",
       " '0',\n",
       " '1',\n",
       " '!',\n",
       " 'А',\n",
       " ')',\n",
       " '/',\n",
       " '(',\n",
       " 'Э',\n",
       " '—',\n",
       " ':',\n",
       " 'Г',\n",
       " 'Л',\n",
       " 'Р',\n",
       " 'i',\n",
       " 'Ф',\n",
       " 'Х',\n",
       " 'Е',\n",
       " 'З',\n",
       " 'Я',\n",
       " 'Ч',\n",
       " '–',\n",
       " 'У',\n",
       " '…',\n",
       " '2',\n",
       " 'Ш',\n",
       " 'ъ',\n",
       " '9',\n",
       " '5',\n",
       " 'e',\n",
       " '3',\n",
       " 'o',\n",
       " 'a',\n",
       " 'n',\n",
       " '4',\n",
       " 't',\n",
       " 'r',\n",
       " ';',\n",
       " '8',\n",
       " 's',\n",
       " 'Ж',\n",
       " 'I',\n",
       " '7',\n",
       " 'P',\n",
       " '6',\n",
       " 'l',\n",
       " 'h',\n",
       " 'B',\n",
       " 'S',\n",
       " 'Ц',\n",
       " 'D',\n",
       " 'u',\n",
       " 'c',\n",
       " 'd',\n",
       " 'y',\n",
       " 'm',\n",
       " 'p',\n",
       " '%',\n",
       " 'M',\n",
       " '+',\n",
       " 'Ю',\n",
       " 'g',\n",
       " '\\t',\n",
       " 'A',\n",
       " '”',\n",
       " '“',\n",
       " 'Й',\n",
       " 'X',\n",
       " 'f',\n",
       " 'k',\n",
       " 'T',\n",
       " 'w',\n",
       " 'v',\n",
       " 'Ь',\n",
       " 'C',\n",
       " 'W',\n",
       " 'x',\n",
       " 'Ы',\n",
       " '*',\n",
       " 'H',\n",
       " 'L',\n",
       " 'R',\n",
       " 'V',\n",
       " 'F',\n",
       " 'N',\n",
       " '`',\n",
       " 'E',\n",
       " 'G',\n",
       " 'O',\n",
       " '\\xa0',\n",
       " '#',\n",
       " '&',\n",
       " '=',\n",
       " '©',\n",
       " 'J',\n",
       " '$',\n",
       " 'K',\n",
       " '•',\n",
       " '’',\n",
       " 'Y',\n",
       " 'Щ',\n",
       " '\\\\',\n",
       " '_',\n",
       " '№',\n",
       " '[',\n",
       " ']',\n",
       " 'Ё',\n",
       " 'Q',\n",
       " 'j',\n",
       " 'U',\n",
       " 'Z',\n",
       " 'q',\n",
       " '·',\n",
       " 'z',\n",
       " '‘',\n",
       " '―',\n",
       " '„',\n",
       " 'Ъ',\n",
       " '®',\n",
       " 'і',\n",
       " '\\xad']"
      ]
     },
     "execution_count": 35,
     "metadata": {},
     "output_type": "execute_result"
    }
   ],
   "source": [
    "model.wv.index_to_key"
   ]
  },
  {
   "cell_type": "code",
   "execution_count": 37,
   "id": "d48a0de3",
   "metadata": {},
   "outputs": [
    {
     "ename": "KeyboardInterrupt",
     "evalue": "",
     "output_type": "error",
     "traceback": [
      "\u001b[1;31m---------------------------------------------------------------------------\u001b[0m",
      "\u001b[1;31mKeyboardInterrupt\u001b[0m                         Traceback (most recent call last)",
      "\u001b[1;32m~\\AppData\\Local\\Temp\\ipykernel_4908\\2784859082.py\u001b[0m in \u001b[0;36m<module>\u001b[1;34m\u001b[0m\n\u001b[1;32m----> 1\u001b[1;33m \u001b[0mmodel\u001b[0m\u001b[1;33m.\u001b[0m\u001b[0mdv\u001b[0m\u001b[1;33m.\u001b[0m\u001b[0mget_normed_vectors\u001b[0m\u001b[1;33m(\u001b[0m\u001b[1;33m)\u001b[0m\u001b[1;33m\u001b[0m\u001b[1;33m\u001b[0m\u001b[0m\n\u001b[0m",
      "\u001b[1;32mD:\\ProgramData\\anaconda3\\lib\\site-packages\\IPython\\core\\displayhook.py\u001b[0m in \u001b[0;36m__call__\u001b[1;34m(self, result)\u001b[0m\n\u001b[0;32m    260\u001b[0m             \u001b[0mself\u001b[0m\u001b[1;33m.\u001b[0m\u001b[0mstart_displayhook\u001b[0m\u001b[1;33m(\u001b[0m\u001b[1;33m)\u001b[0m\u001b[1;33m\u001b[0m\u001b[1;33m\u001b[0m\u001b[0m\n\u001b[0;32m    261\u001b[0m             \u001b[0mself\u001b[0m\u001b[1;33m.\u001b[0m\u001b[0mwrite_output_prompt\u001b[0m\u001b[1;33m(\u001b[0m\u001b[1;33m)\u001b[0m\u001b[1;33m\u001b[0m\u001b[1;33m\u001b[0m\u001b[0m\n\u001b[1;32m--> 262\u001b[1;33m             \u001b[0mformat_dict\u001b[0m\u001b[1;33m,\u001b[0m \u001b[0mmd_dict\u001b[0m \u001b[1;33m=\u001b[0m \u001b[0mself\u001b[0m\u001b[1;33m.\u001b[0m\u001b[0mcompute_format_data\u001b[0m\u001b[1;33m(\u001b[0m\u001b[0mresult\u001b[0m\u001b[1;33m)\u001b[0m\u001b[1;33m\u001b[0m\u001b[1;33m\u001b[0m\u001b[0m\n\u001b[0m\u001b[0;32m    263\u001b[0m             \u001b[0mself\u001b[0m\u001b[1;33m.\u001b[0m\u001b[0mupdate_user_ns\u001b[0m\u001b[1;33m(\u001b[0m\u001b[0mresult\u001b[0m\u001b[1;33m)\u001b[0m\u001b[1;33m\u001b[0m\u001b[1;33m\u001b[0m\u001b[0m\n\u001b[0;32m    264\u001b[0m             \u001b[0mself\u001b[0m\u001b[1;33m.\u001b[0m\u001b[0mfill_exec_result\u001b[0m\u001b[1;33m(\u001b[0m\u001b[0mresult\u001b[0m\u001b[1;33m)\u001b[0m\u001b[1;33m\u001b[0m\u001b[1;33m\u001b[0m\u001b[0m\n",
      "\u001b[1;32mD:\\ProgramData\\anaconda3\\lib\\site-packages\\IPython\\core\\displayhook.py\u001b[0m in \u001b[0;36mcompute_format_data\u001b[1;34m(self, result)\u001b[0m\n\u001b[0;32m    149\u001b[0m \u001b[1;33m\u001b[0m\u001b[0m\n\u001b[0;32m    150\u001b[0m         \"\"\"\n\u001b[1;32m--> 151\u001b[1;33m         \u001b[1;32mreturn\u001b[0m \u001b[0mself\u001b[0m\u001b[1;33m.\u001b[0m\u001b[0mshell\u001b[0m\u001b[1;33m.\u001b[0m\u001b[0mdisplay_formatter\u001b[0m\u001b[1;33m.\u001b[0m\u001b[0mformat\u001b[0m\u001b[1;33m(\u001b[0m\u001b[0mresult\u001b[0m\u001b[1;33m)\u001b[0m\u001b[1;33m\u001b[0m\u001b[1;33m\u001b[0m\u001b[0m\n\u001b[0m\u001b[0;32m    152\u001b[0m \u001b[1;33m\u001b[0m\u001b[0m\n\u001b[0;32m    153\u001b[0m     \u001b[1;31m# This can be set to True by the write_output_prompt method in a subclass\u001b[0m\u001b[1;33m\u001b[0m\u001b[1;33m\u001b[0m\u001b[0m\n",
      "\u001b[1;32mD:\\ProgramData\\anaconda3\\lib\\site-packages\\IPython\\core\\formatters.py\u001b[0m in \u001b[0;36mformat\u001b[1;34m(self, obj, include, exclude)\u001b[0m\n\u001b[0;32m    178\u001b[0m             \u001b[0mmd\u001b[0m \u001b[1;33m=\u001b[0m \u001b[1;32mNone\u001b[0m\u001b[1;33m\u001b[0m\u001b[1;33m\u001b[0m\u001b[0m\n\u001b[0;32m    179\u001b[0m             \u001b[1;32mtry\u001b[0m\u001b[1;33m:\u001b[0m\u001b[1;33m\u001b[0m\u001b[1;33m\u001b[0m\u001b[0m\n\u001b[1;32m--> 180\u001b[1;33m                 \u001b[0mdata\u001b[0m \u001b[1;33m=\u001b[0m \u001b[0mformatter\u001b[0m\u001b[1;33m(\u001b[0m\u001b[0mobj\u001b[0m\u001b[1;33m)\u001b[0m\u001b[1;33m\u001b[0m\u001b[1;33m\u001b[0m\u001b[0m\n\u001b[0m\u001b[0;32m    181\u001b[0m             \u001b[1;32mexcept\u001b[0m\u001b[1;33m:\u001b[0m\u001b[1;33m\u001b[0m\u001b[1;33m\u001b[0m\u001b[0m\n\u001b[0;32m    182\u001b[0m                 \u001b[1;31m# FIXME: log the exception\u001b[0m\u001b[1;33m\u001b[0m\u001b[1;33m\u001b[0m\u001b[0m\n",
      "\u001b[1;32mD:\\ProgramData\\anaconda3\\lib\\site-packages\\decorator.py\u001b[0m in \u001b[0;36mfun\u001b[1;34m(*args, **kw)\u001b[0m\n\u001b[0;32m    230\u001b[0m             \u001b[1;32mif\u001b[0m \u001b[1;32mnot\u001b[0m \u001b[0mkwsyntax\u001b[0m\u001b[1;33m:\u001b[0m\u001b[1;33m\u001b[0m\u001b[1;33m\u001b[0m\u001b[0m\n\u001b[0;32m    231\u001b[0m                 \u001b[0margs\u001b[0m\u001b[1;33m,\u001b[0m \u001b[0mkw\u001b[0m \u001b[1;33m=\u001b[0m \u001b[0mfix\u001b[0m\u001b[1;33m(\u001b[0m\u001b[0margs\u001b[0m\u001b[1;33m,\u001b[0m \u001b[0mkw\u001b[0m\u001b[1;33m,\u001b[0m \u001b[0msig\u001b[0m\u001b[1;33m)\u001b[0m\u001b[1;33m\u001b[0m\u001b[1;33m\u001b[0m\u001b[0m\n\u001b[1;32m--> 232\u001b[1;33m             \u001b[1;32mreturn\u001b[0m \u001b[0mcaller\u001b[0m\u001b[1;33m(\u001b[0m\u001b[0mfunc\u001b[0m\u001b[1;33m,\u001b[0m \u001b[1;33m*\u001b[0m\u001b[1;33m(\u001b[0m\u001b[0mextras\u001b[0m \u001b[1;33m+\u001b[0m \u001b[0margs\u001b[0m\u001b[1;33m)\u001b[0m\u001b[1;33m,\u001b[0m \u001b[1;33m**\u001b[0m\u001b[0mkw\u001b[0m\u001b[1;33m)\u001b[0m\u001b[1;33m\u001b[0m\u001b[1;33m\u001b[0m\u001b[0m\n\u001b[0m\u001b[0;32m    233\u001b[0m     \u001b[0mfun\u001b[0m\u001b[1;33m.\u001b[0m\u001b[0m__name__\u001b[0m \u001b[1;33m=\u001b[0m \u001b[0mfunc\u001b[0m\u001b[1;33m.\u001b[0m\u001b[0m__name__\u001b[0m\u001b[1;33m\u001b[0m\u001b[1;33m\u001b[0m\u001b[0m\n\u001b[0;32m    234\u001b[0m     \u001b[0mfun\u001b[0m\u001b[1;33m.\u001b[0m\u001b[0m__doc__\u001b[0m \u001b[1;33m=\u001b[0m \u001b[0mfunc\u001b[0m\u001b[1;33m.\u001b[0m\u001b[0m__doc__\u001b[0m\u001b[1;33m\u001b[0m\u001b[1;33m\u001b[0m\u001b[0m\n",
      "\u001b[1;32mD:\\ProgramData\\anaconda3\\lib\\site-packages\\IPython\\core\\formatters.py\u001b[0m in \u001b[0;36mcatch_format_error\u001b[1;34m(method, self, *args, **kwargs)\u001b[0m\n\u001b[0;32m    222\u001b[0m     \u001b[1;34m\"\"\"show traceback on failed format call\"\"\"\u001b[0m\u001b[1;33m\u001b[0m\u001b[1;33m\u001b[0m\u001b[0m\n\u001b[0;32m    223\u001b[0m     \u001b[1;32mtry\u001b[0m\u001b[1;33m:\u001b[0m\u001b[1;33m\u001b[0m\u001b[1;33m\u001b[0m\u001b[0m\n\u001b[1;32m--> 224\u001b[1;33m         \u001b[0mr\u001b[0m \u001b[1;33m=\u001b[0m \u001b[0mmethod\u001b[0m\u001b[1;33m(\u001b[0m\u001b[0mself\u001b[0m\u001b[1;33m,\u001b[0m \u001b[1;33m*\u001b[0m\u001b[0margs\u001b[0m\u001b[1;33m,\u001b[0m \u001b[1;33m**\u001b[0m\u001b[0mkwargs\u001b[0m\u001b[1;33m)\u001b[0m\u001b[1;33m\u001b[0m\u001b[1;33m\u001b[0m\u001b[0m\n\u001b[0m\u001b[0;32m    225\u001b[0m     \u001b[1;32mexcept\u001b[0m \u001b[0mNotImplementedError\u001b[0m\u001b[1;33m:\u001b[0m\u001b[1;33m\u001b[0m\u001b[1;33m\u001b[0m\u001b[0m\n\u001b[0;32m    226\u001b[0m         \u001b[1;31m# don't warn on NotImplementedErrors\u001b[0m\u001b[1;33m\u001b[0m\u001b[1;33m\u001b[0m\u001b[0m\n",
      "\u001b[1;32mD:\\ProgramData\\anaconda3\\lib\\site-packages\\IPython\\core\\formatters.py\u001b[0m in \u001b[0;36m__call__\u001b[1;34m(self, obj)\u001b[0m\n\u001b[0;32m    700\u001b[0m                 \u001b[0mtype_pprinters\u001b[0m\u001b[1;33m=\u001b[0m\u001b[0mself\u001b[0m\u001b[1;33m.\u001b[0m\u001b[0mtype_printers\u001b[0m\u001b[1;33m,\u001b[0m\u001b[1;33m\u001b[0m\u001b[1;33m\u001b[0m\u001b[0m\n\u001b[0;32m    701\u001b[0m                 deferred_pprinters=self.deferred_printers)\n\u001b[1;32m--> 702\u001b[1;33m             \u001b[0mprinter\u001b[0m\u001b[1;33m.\u001b[0m\u001b[0mpretty\u001b[0m\u001b[1;33m(\u001b[0m\u001b[0mobj\u001b[0m\u001b[1;33m)\u001b[0m\u001b[1;33m\u001b[0m\u001b[1;33m\u001b[0m\u001b[0m\n\u001b[0m\u001b[0;32m    703\u001b[0m             \u001b[0mprinter\u001b[0m\u001b[1;33m.\u001b[0m\u001b[0mflush\u001b[0m\u001b[1;33m(\u001b[0m\u001b[1;33m)\u001b[0m\u001b[1;33m\u001b[0m\u001b[1;33m\u001b[0m\u001b[0m\n\u001b[0;32m    704\u001b[0m             \u001b[1;32mreturn\u001b[0m \u001b[0mstream\u001b[0m\u001b[1;33m.\u001b[0m\u001b[0mgetvalue\u001b[0m\u001b[1;33m(\u001b[0m\u001b[1;33m)\u001b[0m\u001b[1;33m\u001b[0m\u001b[1;33m\u001b[0m\u001b[0m\n",
      "\u001b[1;32mD:\\ProgramData\\anaconda3\\lib\\site-packages\\IPython\\lib\\pretty.py\u001b[0m in \u001b[0;36mpretty\u001b[1;34m(self, obj)\u001b[0m\n\u001b[0;32m    392\u001b[0m                         \u001b[1;32mif\u001b[0m \u001b[0mcls\u001b[0m \u001b[1;32mis\u001b[0m \u001b[1;32mnot\u001b[0m \u001b[0mobject\u001b[0m\u001b[0;31m \u001b[0m\u001b[0;31m\\\u001b[0m\u001b[1;33m\u001b[0m\u001b[1;33m\u001b[0m\u001b[0m\n\u001b[0;32m    393\u001b[0m                                 \u001b[1;32mand\u001b[0m \u001b[0mcallable\u001b[0m\u001b[1;33m(\u001b[0m\u001b[0mcls\u001b[0m\u001b[1;33m.\u001b[0m\u001b[0m__dict__\u001b[0m\u001b[1;33m.\u001b[0m\u001b[0mget\u001b[0m\u001b[1;33m(\u001b[0m\u001b[1;34m'__repr__'\u001b[0m\u001b[1;33m)\u001b[0m\u001b[1;33m)\u001b[0m\u001b[1;33m:\u001b[0m\u001b[1;33m\u001b[0m\u001b[1;33m\u001b[0m\u001b[0m\n\u001b[1;32m--> 394\u001b[1;33m                             \u001b[1;32mreturn\u001b[0m \u001b[0m_repr_pprint\u001b[0m\u001b[1;33m(\u001b[0m\u001b[0mobj\u001b[0m\u001b[1;33m,\u001b[0m \u001b[0mself\u001b[0m\u001b[1;33m,\u001b[0m \u001b[0mcycle\u001b[0m\u001b[1;33m)\u001b[0m\u001b[1;33m\u001b[0m\u001b[1;33m\u001b[0m\u001b[0m\n\u001b[0m\u001b[0;32m    395\u001b[0m \u001b[1;33m\u001b[0m\u001b[0m\n\u001b[0;32m    396\u001b[0m             \u001b[1;32mreturn\u001b[0m \u001b[0m_default_pprint\u001b[0m\u001b[1;33m(\u001b[0m\u001b[0mobj\u001b[0m\u001b[1;33m,\u001b[0m \u001b[0mself\u001b[0m\u001b[1;33m,\u001b[0m \u001b[0mcycle\u001b[0m\u001b[1;33m)\u001b[0m\u001b[1;33m\u001b[0m\u001b[1;33m\u001b[0m\u001b[0m\n",
      "\u001b[1;32mD:\\ProgramData\\anaconda3\\lib\\site-packages\\IPython\\lib\\pretty.py\u001b[0m in \u001b[0;36m_repr_pprint\u001b[1;34m(obj, p, cycle)\u001b[0m\n\u001b[0;32m    698\u001b[0m     \u001b[1;34m\"\"\"A pprint that just redirects to the normal repr function.\"\"\"\u001b[0m\u001b[1;33m\u001b[0m\u001b[1;33m\u001b[0m\u001b[0m\n\u001b[0;32m    699\u001b[0m     \u001b[1;31m# Find newlines and replace them with p.break_()\u001b[0m\u001b[1;33m\u001b[0m\u001b[1;33m\u001b[0m\u001b[0m\n\u001b[1;32m--> 700\u001b[1;33m     \u001b[0moutput\u001b[0m \u001b[1;33m=\u001b[0m \u001b[0mrepr\u001b[0m\u001b[1;33m(\u001b[0m\u001b[0mobj\u001b[0m\u001b[1;33m)\u001b[0m\u001b[1;33m\u001b[0m\u001b[1;33m\u001b[0m\u001b[0m\n\u001b[0m\u001b[0;32m    701\u001b[0m     \u001b[0mlines\u001b[0m \u001b[1;33m=\u001b[0m \u001b[0moutput\u001b[0m\u001b[1;33m.\u001b[0m\u001b[0msplitlines\u001b[0m\u001b[1;33m(\u001b[0m\u001b[1;33m)\u001b[0m\u001b[1;33m\u001b[0m\u001b[1;33m\u001b[0m\u001b[0m\n\u001b[0;32m    702\u001b[0m     \u001b[1;32mwith\u001b[0m \u001b[0mp\u001b[0m\u001b[1;33m.\u001b[0m\u001b[0mgroup\u001b[0m\u001b[1;33m(\u001b[0m\u001b[1;33m)\u001b[0m\u001b[1;33m:\u001b[0m\u001b[1;33m\u001b[0m\u001b[1;33m\u001b[0m\u001b[0m\n",
      "\u001b[1;32mD:\\ProgramData\\anaconda3\\lib\\site-packages\\numpy\\core\\arrayprint.py\u001b[0m in \u001b[0;36m_array_repr_implementation\u001b[1;34m(arr, max_line_width, precision, suppress_small, array2string)\u001b[0m\n\u001b[0;32m   1445\u001b[0m         \u001b[0mlst\u001b[0m \u001b[1;33m=\u001b[0m \u001b[0mrepr\u001b[0m\u001b[1;33m(\u001b[0m\u001b[0marr\u001b[0m\u001b[1;33m.\u001b[0m\u001b[0mitem\u001b[0m\u001b[1;33m(\u001b[0m\u001b[1;33m)\u001b[0m\u001b[1;33m)\u001b[0m\u001b[1;33m\u001b[0m\u001b[1;33m\u001b[0m\u001b[0m\n\u001b[0;32m   1446\u001b[0m     \u001b[1;32melif\u001b[0m \u001b[0marr\u001b[0m\u001b[1;33m.\u001b[0m\u001b[0msize\u001b[0m \u001b[1;33m>\u001b[0m \u001b[1;36m0\u001b[0m \u001b[1;32mor\u001b[0m \u001b[0marr\u001b[0m\u001b[1;33m.\u001b[0m\u001b[0mshape\u001b[0m \u001b[1;33m==\u001b[0m \u001b[1;33m(\u001b[0m\u001b[1;36m0\u001b[0m\u001b[1;33m,\u001b[0m\u001b[1;33m)\u001b[0m\u001b[1;33m:\u001b[0m\u001b[1;33m\u001b[0m\u001b[1;33m\u001b[0m\u001b[0m\n\u001b[1;32m-> 1447\u001b[1;33m         lst = array2string(arr, max_line_width, precision, suppress_small,\n\u001b[0m\u001b[0;32m   1448\u001b[0m                            ', ', prefix, suffix=suffix)\n\u001b[0;32m   1449\u001b[0m     \u001b[1;32melse\u001b[0m\u001b[1;33m:\u001b[0m  \u001b[1;31m# show zero-length shape unless it is (0,)\u001b[0m\u001b[1;33m\u001b[0m\u001b[1;33m\u001b[0m\u001b[0m\n",
      "\u001b[1;32mD:\\ProgramData\\anaconda3\\lib\\site-packages\\numpy\\core\\arrayprint.py\u001b[0m in \u001b[0;36marray2string\u001b[1;34m(a, max_line_width, precision, suppress_small, separator, prefix, style, formatter, threshold, edgeitems, sign, floatmode, suffix, legacy)\u001b[0m\n\u001b[0;32m    696\u001b[0m         \u001b[1;32mreturn\u001b[0m \u001b[1;34m\"[]\"\u001b[0m\u001b[1;33m\u001b[0m\u001b[1;33m\u001b[0m\u001b[0m\n\u001b[0;32m    697\u001b[0m \u001b[1;33m\u001b[0m\u001b[0m\n\u001b[1;32m--> 698\u001b[1;33m     \u001b[1;32mreturn\u001b[0m \u001b[0m_array2string\u001b[0m\u001b[1;33m(\u001b[0m\u001b[0ma\u001b[0m\u001b[1;33m,\u001b[0m \u001b[0moptions\u001b[0m\u001b[1;33m,\u001b[0m \u001b[0mseparator\u001b[0m\u001b[1;33m,\u001b[0m \u001b[0mprefix\u001b[0m\u001b[1;33m)\u001b[0m\u001b[1;33m\u001b[0m\u001b[1;33m\u001b[0m\u001b[0m\n\u001b[0m\u001b[0;32m    699\u001b[0m \u001b[1;33m\u001b[0m\u001b[0m\n\u001b[0;32m    700\u001b[0m \u001b[1;33m\u001b[0m\u001b[0m\n",
      "\u001b[1;32mD:\\ProgramData\\anaconda3\\lib\\site-packages\\numpy\\core\\arrayprint.py\u001b[0m in \u001b[0;36mwrapper\u001b[1;34m(self, *args, **kwargs)\u001b[0m\n\u001b[0;32m    473\u001b[0m             \u001b[0mrepr_running\u001b[0m\u001b[1;33m.\u001b[0m\u001b[0madd\u001b[0m\u001b[1;33m(\u001b[0m\u001b[0mkey\u001b[0m\u001b[1;33m)\u001b[0m\u001b[1;33m\u001b[0m\u001b[1;33m\u001b[0m\u001b[0m\n\u001b[0;32m    474\u001b[0m             \u001b[1;32mtry\u001b[0m\u001b[1;33m:\u001b[0m\u001b[1;33m\u001b[0m\u001b[1;33m\u001b[0m\u001b[0m\n\u001b[1;32m--> 475\u001b[1;33m                 \u001b[1;32mreturn\u001b[0m \u001b[0mf\u001b[0m\u001b[1;33m(\u001b[0m\u001b[0mself\u001b[0m\u001b[1;33m,\u001b[0m \u001b[1;33m*\u001b[0m\u001b[0margs\u001b[0m\u001b[1;33m,\u001b[0m \u001b[1;33m**\u001b[0m\u001b[0mkwargs\u001b[0m\u001b[1;33m)\u001b[0m\u001b[1;33m\u001b[0m\u001b[1;33m\u001b[0m\u001b[0m\n\u001b[0m\u001b[0;32m    476\u001b[0m             \u001b[1;32mfinally\u001b[0m\u001b[1;33m:\u001b[0m\u001b[1;33m\u001b[0m\u001b[1;33m\u001b[0m\u001b[0m\n\u001b[0;32m    477\u001b[0m                 \u001b[0mrepr_running\u001b[0m\u001b[1;33m.\u001b[0m\u001b[0mdiscard\u001b[0m\u001b[1;33m(\u001b[0m\u001b[0mkey\u001b[0m\u001b[1;33m)\u001b[0m\u001b[1;33m\u001b[0m\u001b[1;33m\u001b[0m\u001b[0m\n",
      "\u001b[1;32mD:\\ProgramData\\anaconda3\\lib\\site-packages\\numpy\\core\\arrayprint.py\u001b[0m in \u001b[0;36m_array2string\u001b[1;34m(a, options, separator, prefix)\u001b[0m\n\u001b[0;32m    506\u001b[0m     \u001b[0mnext_line_prefix\u001b[0m \u001b[1;33m+=\u001b[0m \u001b[1;34m\" \"\u001b[0m\u001b[1;33m*\u001b[0m\u001b[0mlen\u001b[0m\u001b[1;33m(\u001b[0m\u001b[0mprefix\u001b[0m\u001b[1;33m)\u001b[0m\u001b[1;33m\u001b[0m\u001b[1;33m\u001b[0m\u001b[0m\n\u001b[0;32m    507\u001b[0m \u001b[1;33m\u001b[0m\u001b[0m\n\u001b[1;32m--> 508\u001b[1;33m     lst = _formatArray(a, format_function, options['linewidth'],\n\u001b[0m\u001b[0;32m    509\u001b[0m                        \u001b[0mnext_line_prefix\u001b[0m\u001b[1;33m,\u001b[0m \u001b[0mseparator\u001b[0m\u001b[1;33m,\u001b[0m \u001b[0moptions\u001b[0m\u001b[1;33m[\u001b[0m\u001b[1;34m'edgeitems'\u001b[0m\u001b[1;33m]\u001b[0m\u001b[1;33m,\u001b[0m\u001b[1;33m\u001b[0m\u001b[1;33m\u001b[0m\u001b[0m\n\u001b[0;32m    510\u001b[0m                        summary_insert, options['legacy'])\n",
      "\u001b[1;32mD:\\ProgramData\\anaconda3\\lib\\site-packages\\numpy\\core\\arrayprint.py\u001b[0m in \u001b[0;36m_formatArray\u001b[1;34m(a, format_function, line_width, next_line_prefix, separator, edge_items, summary_insert, legacy)\u001b[0m\n\u001b[0;32m    849\u001b[0m     \u001b[1;32mtry\u001b[0m\u001b[1;33m:\u001b[0m\u001b[1;33m\u001b[0m\u001b[1;33m\u001b[0m\u001b[0m\n\u001b[0;32m    850\u001b[0m         \u001b[1;31m# invoke the recursive part with an initial index and prefix\u001b[0m\u001b[1;33m\u001b[0m\u001b[1;33m\u001b[0m\u001b[0m\n\u001b[1;32m--> 851\u001b[1;33m         return recurser(index=(),\n\u001b[0m\u001b[0;32m    852\u001b[0m                         \u001b[0mhanging_indent\u001b[0m\u001b[1;33m=\u001b[0m\u001b[0mnext_line_prefix\u001b[0m\u001b[1;33m,\u001b[0m\u001b[1;33m\u001b[0m\u001b[1;33m\u001b[0m\u001b[0m\n\u001b[0;32m    853\u001b[0m                         curr_width=line_width)\n",
      "\u001b[1;32mD:\\ProgramData\\anaconda3\\lib\\site-packages\\numpy\\core\\arrayprint.py\u001b[0m in \u001b[0;36mrecurser\u001b[1;34m(index, hanging_indent, curr_width)\u001b[0m\n\u001b[0;32m    838\u001b[0m                 nested = recurser(index + (-i,), next_hanging_indent,\n\u001b[0;32m    839\u001b[0m                                   next_width)\n\u001b[1;32m--> 840\u001b[1;33m                 \u001b[0ms\u001b[0m \u001b[1;33m+=\u001b[0m \u001b[0mhanging_indent\u001b[0m \u001b[1;33m+\u001b[0m \u001b[0mnested\u001b[0m \u001b[1;33m+\u001b[0m \u001b[0mline_sep\u001b[0m\u001b[1;33m\u001b[0m\u001b[1;33m\u001b[0m\u001b[0m\n\u001b[0m\u001b[0;32m    841\u001b[0m \u001b[1;33m\u001b[0m\u001b[0m\n\u001b[0;32m    842\u001b[0m             \u001b[0mnested\u001b[0m \u001b[1;33m=\u001b[0m \u001b[0mrecurser\u001b[0m\u001b[1;33m(\u001b[0m\u001b[0mindex\u001b[0m \u001b[1;33m+\u001b[0m \u001b[1;33m(\u001b[0m\u001b[1;33m-\u001b[0m\u001b[1;36m1\u001b[0m\u001b[1;33m,\u001b[0m\u001b[1;33m)\u001b[0m\u001b[1;33m,\u001b[0m \u001b[0mnext_hanging_indent\u001b[0m\u001b[1;33m,\u001b[0m \u001b[0mnext_width\u001b[0m\u001b[1;33m)\u001b[0m\u001b[1;33m\u001b[0m\u001b[1;33m\u001b[0m\u001b[0m\n",
      "\u001b[1;31mKeyboardInterrupt\u001b[0m: "
     ]
    }
   ],
   "source": [
    "model.dv.get_normed_vectors()"
   ]
  },
  {
   "cell_type": "code",
   "execution_count": null,
   "id": "d7f1088b",
   "metadata": {},
   "outputs": [],
   "source": [
    "train_tagged = [TaggedDocument(doc, [i]) for i, doc in enumerate(train.review.values)]\n",
    "test_tagged = [TaggedDocument(doc, [i]) for i, doc in enumerate(test.review.values)]\n",
    "\n",
    "print('Tagging finished')"
   ]
  },
  {
   "cell_type": "code",
   "execution_count": 43,
   "id": "c581598b",
   "metadata": {},
   "outputs": [
    {
     "name": "stdout",
     "output_type": "stream",
     "text": [
      "Tagging finished\n",
      "len(X_train)=18569\n",
      "Training classifier...\n",
      "0.10897891494906421\n",
      "0.14735887553842666\n",
      "              precision    recall  f1-score   support\n",
      "\n",
      "           0       0.08      0.95      0.15       341\n",
      "           2       0.93      0.06      0.11      3975\n",
      "\n",
      "    accuracy                           0.13      4316\n",
      "   macro avg       0.51      0.51      0.13      4316\n",
      "weighted avg       0.87      0.13      0.11      4316\n",
      "\n"
     ]
    }
   ],
   "source": [
    "X_train = list(map(lambda document: model.infer_vector([document.words]), train_tagged))\n",
    "print(f'{len(X_train)=}')\n",
    "X_test  = list(map(lambda document: model.infer_vector([document.words]), test_tagged))\n",
    "\n",
    "print('Training classifier...')\n",
    "\n",
    "clf = LogisticRegression(max_iter=200, n_jobs=-1)\n",
    "clf.fit(X_train, train.label)\n",
    "pred = clf.predict(X_test)\n",
    "\n",
    "print(f1_score(test.label, pred, pos_label=2))\n",
    "print(f1_score(test.label, pred, pos_label=0))\n",
    "print(classification_report(test.label, pred))"
   ]
  },
  {
   "cell_type": "code",
   "execution_count": 51,
   "id": "026c69cc",
   "metadata": {},
   "outputs": [
    {
     "data": {
      "text/plain": [
       "4316"
      ]
     },
     "execution_count": 51,
     "metadata": {},
     "output_type": "execute_result"
    }
   ],
   "source": [
    "len(X_test)"
   ]
  },
  {
   "cell_type": "code",
   "execution_count": 45,
   "id": "266189ed",
   "metadata": {},
   "outputs": [
    {
     "name": "stdout",
     "output_type": "stream",
     "text": [
      "len(X_train)=18569\n",
      "Training classifier...\n",
      "0.10897891494906421\n",
      "0.14735887553842666\n",
      "              precision    recall  f1-score   support\n",
      "\n",
      "           0       0.08      0.95      0.15       341\n",
      "           2       0.93      0.06      0.11      3975\n",
      "\n",
      "    accuracy                           0.13      4316\n",
      "   macro avg       0.51      0.51      0.13      4316\n",
      "weighted avg       0.87      0.13      0.11      4316\n",
      "\n"
     ]
    }
   ],
   "source": [
    "X_train = list(map(lambda document: model.infer_vector([document.words]), train_tagged))\n",
    "print(f'{len(X_train)=}')\n",
    "X_test  = list(map(lambda document: model.infer_vector([document.words]), test_tagged))\n",
    "\n",
    "print('Training classifier...')\n",
    "\n",
    "clf = LogisticRegression(max_iter=200, n_jobs=-1)\n",
    "clf.fit(X_train, train.label)\n",
    "pred = clf.predict(X_test)\n",
    "\n",
    "print(f1_score(test.label, pred, pos_label=2))\n",
    "print(f1_score(test.label, pred, pos_label=0))\n",
    "print(classification_report(test.label, pred))"
   ]
  },
  {
   "cell_type": "code",
   "execution_count": 17,
   "id": "d173bd19",
   "metadata": {},
   "outputs": [
    {
     "data": {
      "text/html": [
       "<div>\n",
       "<style scoped>\n",
       "    .dataframe tbody tr th:only-of-type {\n",
       "        vertical-align: middle;\n",
       "    }\n",
       "\n",
       "    .dataframe tbody tr th {\n",
       "        vertical-align: top;\n",
       "    }\n",
       "\n",
       "    .dataframe thead th {\n",
       "        text-align: right;\n",
       "    }\n",
       "</style>\n",
       "<table border=\"1\" class=\"dataframe\">\n",
       "  <thead>\n",
       "    <tr style=\"text-align: right;\">\n",
       "      <th></th>\n",
       "      <th>kinopoiskId</th>\n",
       "      <th>type</th>\n",
       "      <th>date</th>\n",
       "      <th>positiveRating</th>\n",
       "      <th>negativeRating</th>\n",
       "      <th>author</th>\n",
       "      <th>title</th>\n",
       "      <th>film_id</th>\n",
       "    </tr>\n",
       "  </thead>\n",
       "  <tbody>\n",
       "    <tr>\n",
       "      <th>«Зеленую милю» я смотрела два раза: 10 лет назад и сейчас. \\r\\n\\r\\nПервый раз у меня было примерно такое впечатление, о котором говорят большинство зрителей. Я плакала над глубокой и грустной историей, которая надолго оставила след в душе, тем более, что я была подростком.  \\r\\n\\r\\nНесколько лет назад прочитала оригинальный роман Кинга и периодически думала, насколько хороша и точна экранизация (хотя сам фильм я уже успела подзабыть, некоторые моменты еще были живы в памяти). \\r\\n\\r\\nСейчас же я решила освежить впечатления и пощекотать эмоции, но это парадоксальным образом не сработало. После взросления и прочтения книги фильм Дарабонта показался мне плоским, как блин, и даже немного не раскрывающим темы, на которые замахивается. Это довольно странно, учитывая, что фильм идет три часа, при этом являясь экранизацией не такой уж и большой книги.\\r\\n\\r\\nТемы расизма, злоупотребления властью, жизни и смерти — все это отдается на откуп зрительскому восприятию. Особенно нелепа вся эта линия с травлей Перси: за весь  фильм толком непонятно, за что сослуживцы так его ненавидят. За то, что хочет убить милое, но потенциально вредное животное? За то, что работает по блату (во времена Депрессии, ага)? Если честно, эта сюжетная линия выглядит как разборки старшеклассников, а не как работа тюремного блока. \\r\\n\\r\\nИ кстати, ради большей слезовыжималки сценаристы умолчали преступление Делакруа, выставив его чуть ли не положительным персонажем. Мне и в романе-то не нравилось постоянные заигрывания тюремщиков с ним, но здесь это выкрутили да абсурда.\\r\\n\\r\\nВина ли это сценариста и режиссера? Да нет, в общем. Просто «Зеленую милю» невозможно экранизировать. Помимо самих событий там много рефлексии, печальных воспоминаний, внутренних рассуждений героев о морали и общественных нормах. Это не такой большой, но плотный роман, под завязку забитый вещами, которые нельзя перевести на язык кино. \\r\\n\\r\\nИ все же я считаю, что Дарабонт сделал все, что в его силах, и фильм получился настолько хорошим, насколько это вообще было возможно. И кстати, кое-что получилось идеально: атмосфера фильма идеально передает общий тон книги. Про актерскую игру и речи нет. Особенно запал в душу Майкл Кларк Дункан. Он проделал фантастическую работу даже по меркам профессиональных актеров, а ведь у него вроде как не было полноценного образования.\\r\\n\\r\\nХотя сейчас я уже не испытываю от фильма тех же чувств, что и раньше, считаю огромной несправедливостью, что он не взял ни одного «Оскара». Очень жаль: у картины были все шансы.</th>\n",
       "      <td>3221833</td>\n",
       "      <td>NEUTRAL</td>\n",
       "      <td>2023-01-28T20:58:59</td>\n",
       "      <td>4</td>\n",
       "      <td>7</td>\n",
       "      <td>Yanchessa</td>\n",
       "      <td>None</td>\n",
       "      <td>435</td>\n",
       "    </tr>\n",
       "    <tr>\n",
       "      <th>Период конца девяностых годов-начало двухтысячных подарил нам большое количество великолепных и качественных кинолент, которые до сегодняшнего дня мы пересматриваем и каждый раз получаем удовольствие, 'Зелёная миля' режиссёра Фрэнка Дарабонта как раз из тех фильмов, и который я также совсем недавно пересмотрел. Фильм снят по мотивам романа Стивена Кинга 'Зеленая Миля'. \\r\\n\\r\\n   Главную роль исполнил легендарный Том Хэнкс, который давно уже вошёл в список Голливуда как один из лучших харизматичных и талантливых актёров. События в картине разворачиваются в 1935 году, Том иполнил роля начальника тюремного блока смертников по имени Пол Эджкомб. Работа не самая приятная, так как каждый день приходится иметь дело с омерзительными личностями, сидящими в тюремных камерах, хотя не все эти личности и омерзительные, некоторые из выглядят вполне нормальными людьми, но никогда не знаешь о чём они думают, ведь всё же эти люди совершили убийства, а у Пола также есть проблем со здоровьем. \\r\\n\\r\\nВсё меняется, когда в один из дней в тюрьму привозят гиганта Джона Коффи (Майкл Кларк Дункан), и с того самого момента для Пола и его коллег по работе много в жизни изменится.\\r\\n\\r\\nАтмосфера фильма выдержана на высоком уровне, тюремный блок, камеры, заключенные - вс по минимуму, но это и придаёт фильму свою мрачную атмосферу. \\r\\n\\r\\n Фильм можно отнести к драме, к более глубокой и осмысленной драме, так как фильм затрагивает несколько важных жизненных аспектов, в фильме также имеются и смешные моменты, и грустные моменты, и неприятные моменты. Каждый персонаж обладает своим уникальным характером, в особенности тюремщики. Из них отмечу Майкла Кларка Дункана (покойся  миром), Майкла Джитера, исполнивший роль Эдуарда Делокруа, приручившего ручного мышонка, Сэма Рокуэлла.  \\r\\n\\r\\nСреди надзирателей, это конечно же Том Хэнкс, Том - великолпный актёр, ни раз я в этом убеждаюсь. В этом фильме он имел особую связь с Джоном Коффи, в к нему в напарниках были: Дэвид Морс, Барри Пеппер, Джеффри ДеМанн, Джеймс Кромуэлл, и конечно же самый противный персонаж - это персонаж Перси, роль которого исполнил Даг Хатчисон. Среди женского состава - Бонни Хант, исполнившая роль жены Пола и Патришиа Кларксон, которая сыграл роль больной жены начальника тюрьмы (Джеймс Кромуэлл).\\r\\n\\r\\n   Несмотря на очень долгую продолжительность фильма, фильм не кажется затянутым и смотрится на одном дыхании и держит в напряжении, за персонажами интересно наблюдать.\\r\\n\\r\\n Концовка фильма тоже заставляет о многом задуматься и оставляет после себя немало размышлений, и в тоже время заставляет немного ужаснуться. \\r\\n\\r\\n   'Зелёная миля' - шедевр, которого уже никогда не будет, фильм, занесённый в золотой список кинематографа.</th>\n",
       "      <td>3146204</td>\n",
       "      <td>POSITIVE</td>\n",
       "      <td>2022-05-06T09:26:39</td>\n",
       "      <td>13</td>\n",
       "      <td>2</td>\n",
       "      <td>Fozzy</td>\n",
       "      <td>Магия или реальность</td>\n",
       "      <td>435</td>\n",
       "    </tr>\n",
       "    <tr>\n",
       "      <th>Очень сложно писать рецензию на этот фильм, так как это просто нужно видеть. Это один из самых эмоциональных и сильных фильмов за всю историю кинематографа, который заслужено, на момент написания рецензии,  находится на первом месте по оценкам. \\r\\n\\r\\nОпределенно картина обязана своим успехом первоисточнику. Работа снята по мотивам известного писателя Стивена Кинга. Но взять первоисточник это лишь фундамент, нужно также грамотно его реализовать и с этим создатели справились превосходно. \\r\\n\\r\\nГлавной заслугой ленты я считаю драматургию. Я считаю, и думаю многие согласятся, что вызвать сильную скорбь и грусть гораздо сложнее чем улыбку. Для этого нужно проделать большую работу над персонажами, чтобы им хотелось сопереживать и выстроить грамотную историю. И с этими двумя аспектами у картины нет никаких проблем. Режиссер ленты сумел правильно перенести историю на экран, используя хорошие ходы и оставляя детали вместе с зацепками. Произведение идёт три часа и за это время мы успеваем детально проникнутся персонажами и прочувствовать их эмоции. И что не менее важно, то что по ходу действия мы узнаем все более новую информацию и только ближе к концу фильма собираем весь пазл и видим полную картину происходящего. \\r\\n\\r\\nОчень хочется похвалить актеров. Все заключенные и охранники прекрасно справились со своей ролью. У некоторых было немного времени, некоторые блистали всю ленту, но каждый отыграл на славу и ты готов наблюдать за ними без остановки. Но всё же самую сильную игру выдали Майкл Кларк Дункан и Том Хенкс. В данном произведении им нет равных и они заслуживают лишь аплодисменты. \\r\\n\\r\\nИ в заключении, ещё одним аспектом, нанесенным в плюсы картины является высказывание авторов. Создатели умело говорят с нами о жестокости мира, о справедливости и борьбе. Не обходится стороной и также тема жизни и смерти, что вызывает уважение. И после просмотра вам определенно останется над чем подумать и возможно вы даже пересмотрите взгляды на жизнь. \\r\\n\\r\\nВердикт. Это безусловно один из лучших фильмов в истории кино. Если вы ещё не видели данное произведение, то обязательно ознакомьтесь с ним. Не побоюсь сказать, что это шедевр, который заставляет поверить в магию кино. \\r\\n\\r\\n10 из 10</th>\n",
       "      <td>3120334</td>\n",
       "      <td>POSITIVE</td>\n",
       "      <td>2022-01-24T21:36:34</td>\n",
       "      <td>21</td>\n",
       "      <td>2</td>\n",
       "      <td>Denis2oo3</td>\n",
       "      <td>Что происходит на миле, остается на миле</td>\n",
       "      <td>435</td>\n",
       "    </tr>\n",
       "    <tr>\n",
       "      <th>Любимая многими миллионами ценителями киноискусства картина повествует об удивительной истории, произошедшей в стенах тюрьмы для особо опасных преступников, участь которых уже предрешена и подвержена максимально возможной мере наказания.\\r\\n\\r\\nО сюжете фильма бессмысленно долго говорить, так как большое число синефилов не понаслышке знакомы с названием ленты и знают её от корки до корки. Но нельзя не отметить идеальный актёрский состав, подобранный на удивление точечно. Каждый артист на своём месте и изумительно дополняет партнёров, формируя потрясающе цельное киновоплощение мистической книги Стивена Кинга.\\r\\n\\r\\nКонечно, отдельного упоминания стоят такие актёры, как Том Хэнкс, Даг Хатчисон, Сэм Рокуэлл и, естественно, невероятный Майкл Кларк Дункан. Персонаж, сыгранный им, настолько душевен и честен, что не возможно сдержать слёз при виде его мук на экране. А осознание того, что мир слишком рано потерял такого артиста, заставляет вдвойне сопереживать перипетиям героя по ходу сюжета ленты.\\r\\n\\r\\nМузыкальное оформление, операторская работа, вышеупомянутая работа актёров создали невероятно доброе, искреннее, любимое поколениями кинематографическое произведение. \\r\\n\\r\\nУдивительно и то, что постановщик картины Фрэнк Дарабонт, снявший ещё один любимый многими фильм - 'Побег из Шоушенка', смог всего-то двумя своими работами сделать этот мир чуточку лучше, подарив ему беспрецедентно прекрасные, гуманистически настроенные послания любви.\\r\\n\\r\\n'Зелёная миля' - легендарная картина о доброте, честности и достоинстве, о важных составляющих жизни, формирующих в нас самые лучшие человеческие качества.</th>\n",
       "      <td>3104371</td>\n",
       "      <td>POSITIVE</td>\n",
       "      <td>2021-12-19T09:09:50</td>\n",
       "      <td>10</td>\n",
       "      <td>2</td>\n",
       "      <td>kingwayne</td>\n",
       "      <td>Живи долго и счастливо!</td>\n",
       "      <td>435</td>\n",
       "    </tr>\n",
       "    <tr>\n",
       "      <th>В нашем мире существует много разных фильмов. Одни цепляют так, что хочется пересматривать их каждый год. Таким примером могу назвать фильм «Один дома», который мы всей семьей смотрим на новогодних каникулах. А другие вызывают ужас и шок. Такие фильмы я обычно даже не досматриваю. Но среди всего необъятного кинематографа встречаются фильмы-шедевры, истории которых западают в самое сердце. Режиссер Фрэнк Дарабонт, сумел создать необыкновенную картину. В ней заложен огромный спектр эмоций, от смеха до горючих слез.\\r\\n\\r\\nЗеленая Миля. Мистическая драма по одноименному роману Стивена Кинга. Секретом своей жизни с нами делится один из обитателей дома престарелых – Пол Эджкомб. В далеких тридцатых годах, в Америке, наш главный герой работал палачом в последнем приюте для преступников. Тюрьма «Холодная гора», блок Е и «Старая Замыкалка» (так был назван электрический стул в романе Кинга) забирала у осужденных самое дорогое – жизнь.\\r\\n\\r\\nЭтот фильм не стал бы шедевром, не будь в нем таких замечательных актеров. Великий Том Хэнкс, сыгравший главную роль надзирателя Пола Энжкомба, очень точно передал образ серьезного и ответственного начальника. Пускай роль не была такой яркой, но все же без нее фильм не имел бы такого глубокого смысла. Майкл Кларк Дункан сыграл одну из важных ролей фильма – Джона Коффи. На самом деле сложно представить другого актера в этой роли. Актер настолько вжился в роль, что на протяжении всего фильма я жалела огромного чернокожего великана с детскими глазами. Не зря его роль отметили по достоинству вручив «Оскар», за лучшую мужскую роль второго плана. Так же в фильме представлены две роли, которые заставляют всей душой и сердцем чувствовать злость и ненависть. Убийца Уильям Уортон, в исполнении Сэма Рокуэлла сыграна гениально, раз вызвала у меня такие эмоции.Сволочь по натуре, опасный и противный Уортон оживляет фильм. Он умудряется жить на всю катушку будучи в заточении. Вторая жестокая и мерзкая роль сыграна актером Дагом Хатчинсоном. Младший надзиратель Перси Уэтмор, садист и псих. Он бесит всю милю и еще сильнее раздражает зрителя. Аккуратно причесанный, отглаженный Перси мечтает только об одном, увидеть, как на «Старой Замыкалке» умирают заключенные.\\r\\n\\r\\n'Зеленая миля' это 3-х часовой шедевр. Ни один человек в конце не сдержит слез. Если бы у меня была возможность, я бы отдала все награды мира. Его обязан посмотреть каждый, ведь это не умирающая классика. И даже сейчас все новые фильмы не похожи на великое творение Дарабонта. Зеленая миля - это смесь драмы и мистики. Увидев фильм один раз, ты не забудешь его никогда.</th>\n",
       "      <td>3096653</td>\n",
       "      <td>POSITIVE</td>\n",
       "      <td>2021-12-01T05:31:18</td>\n",
       "      <td>18</td>\n",
       "      <td>2</td>\n",
       "      <td>Юлия Березина - 1765</td>\n",
       "      <td>Шедевр!</td>\n",
       "      <td>435</td>\n",
       "    </tr>\n",
       "    <tr>\n",
       "      <th>...</th>\n",
       "      <td>...</td>\n",
       "      <td>...</td>\n",
       "      <td>...</td>\n",
       "      <td>...</td>\n",
       "      <td>...</td>\n",
       "      <td>...</td>\n",
       "      <td>...</td>\n",
       "      <td>...</td>\n",
       "    </tr>\n",
       "    <tr>\n",
       "      <th>Я вообще люблю хорошие фильмы - фэнтези. Но 'Начало' превзошел все мои ожидания. \\r\\n\\r\\nКраткий анонс ничего не дал и усвоился в моем мозге слабо. Первые минут двадцать самого фильма тоже понятного было мало, но потом...\\r\\n\\r\\nФильм становится все интересней и понятней, голова просто кругом начинает идти от немыслимых форм воображения, и ты втягиваешься, следишь за сюжетом и уже болеешь за героев как за своих...\\r\\n\\r\\nПомимо того, что сюжет продуман до мелочей и увлекателен, его исполнение ему ничуть не уступает (если даже не опережает), поэтому композиция складывается замечательная. Не даром фильму дали Оскара за лучшие визуальные эффекты, звук, монтаж звука и лучшую операторскую работу!\\r\\n\\r\\nНу, и конечно, хотелось бы сказать об игре актеров. Ди Каприо хоть и заметно с «Титаника» постарел, но все еще держится молодцом, и с ролью похитителя снов Кобба справился отлично. Понравился и тот факт, что роль жены Кобба досталась Марион Котильяр, актрисе, творчество которой я уважаю и люблю. \\r\\n\\r\\nВ целом, фильм оставляет глобальное впечатление ирреальности и понравится не только любителям фантастики, но и всем остальным любителям кино. Лично я из фильма, несмотря на все его выдуманные чудеса, вынесла одну главную мораль – В мире снов возможно все, но ничто не заменит реальность…\\r\\n\\r\\n10 из 10</th>\n",
       "      <td>1148053</td>\n",
       "      <td>POSITIVE</td>\n",
       "      <td>2011-03-06T04:20:08</td>\n",
       "      <td>12</td>\n",
       "      <td>3</td>\n",
       "      <td>LP24</td>\n",
       "      <td>В мире снов возможно все, но ничто не заменит ...</td>\n",
       "      <td>447301</td>\n",
       "    </tr>\n",
       "    <tr>\n",
       "      <th>Хочу начать с того что &lt;b&gt;Кристофер Нолан&lt;/b&gt; гениальный режиссер. Снимать фильм за фильмом и каждый фильм получается просто шедеврально, это талант.\\r\\n\\r\\n Как мало изучен мозг человека, сколько тайн, не разгаданных учёными он хранит, на что способен и насколько защищён от постороннего вмешательства, влияния и контроля? Много вопросов возникает после просмотра. Прогресс науки и других сфер жизни несётся с такой умопомрачительной скоростью, что начинаешь думать, что события фильма вполне могут стать возможны в будущем, а почему нет?\\r\\n\\r\\n&lt;b&gt;Сон&lt;/b&gt; — &lt;i&gt;естественный физиологический процесс пребывания в состоянии с минимальным уровнем мозговой деятельности и пониженной реакцией на окружающий мир.&lt;/i&gt;И никто и не задумывался о том, что же все таки такое наше сон, наша выдумках которую мы хотим видить в реальности, а получается только в наших снах. Или это просто сон, который многие и забывают на утро.\\r\\n\\r\\n&lt;b&gt;'Начало'&lt;/b&gt; показало мне другое представление об сне. Это что-то необычное и очень сложное.&lt;i&gt;'Говорят, мы используем лишь часть истинного потенциала нашего мозга, но это когда мы бодрствуем. Когда же мы спим, наш мозг способен практически на все.'&lt;/i&gt;А что если и вправду во сне использовать мозг человека в своих благах и тогда может произойти все что угодно.\\r\\n\\r\\nВсех больше из мелочей, но такая интересная запомнилась вот этот маленький вопрос Кобба.\\r\\n\\r\\n&lt;i&gt;'— Не думайте о слонах. О чём вы сейчас думаете?\\r\\n— О слонах.'&lt;/i&gt;\\r\\n\\r\\nНа сам деле так и есть, а почему мы не можем думать об этом, это вопрос. И вообще после просмотра &lt;b&gt;'Начало'&lt;/b&gt; остаются только одни вопросы, и не одного ответа. Этим он меня и поразил, не один фильм не заставлял меня так думать, попросту &lt;b&gt;'Начало'&lt;/b&gt; вынес мне мозг, а отойти после просмотра я смог только после длительного времени.\\r\\n\\r\\nИ даже концовка не простая, она заставляет нас задуматься остался ли Кобба в &lt;i&gt;иллюзии&lt;/i&gt; или все таки вернулся в &lt;i&gt;реальность&lt;/i&gt;.\\r\\n\\r\\nPS.&lt;i&gt;'И когда я лег спать я боялся уснуть, потому что может я проснусь в своих иллюзиях или в реальности.'&lt;/i&gt;\\r\\n\\r\\n&lt;b&gt;Шедевр. \\r\\n\\r\\n10 из 10&lt;/b&gt;</th>\n",
       "      <td>1147098</td>\n",
       "      <td>POSITIVE</td>\n",
       "      <td>2011-03-05T11:50:42</td>\n",
       "      <td>10</td>\n",
       "      <td>4</td>\n",
       "      <td>Кинопоиск</td>\n",
       "      <td>Реальность или Иллюзия.</td>\n",
       "      <td>447301</td>\n",
       "    </tr>\n",
       "    <tr>\n",
       "      <th>Фильм очень сложный по своей структуре именно огромным количеством миров. Два мира - уже путаница. А уж пять миров и только один реальный... И то - реальный ли он?  На первых десяти минутах мне приходилось ставить фильм на паузу (благо я смотрел не в кинотеатре), чтобы уложить в голове всё увиденное, которое на первый взгляд кажется забавной кашкой, в которой нет ни начала, ни конца. Затем, влившись в мир (или миры) фильма, я смотрел более или менее спокойно. \\r\\n\\r\\nФильм поражает тем, что длинен, необычайно для обычного фильма. Фильмы такого размера обычно именуются одним простым словом 'вода'. Но этот фильм так назвать нельзя. Наоборот, он слегка перенасыщен. Очень грамотно сделаны спецэффекты, которые обычно спасают 'водяной' фильм от полного краха. 'Начало' обошёлся бы и без них, так как сам по себе филм достойный. Но они стали грамотным дополнением сюжету и в них не было ничего лишнего и суперкрутого, что явно было бы фильму в накось. \\r\\n\\r\\nБезусловно, внутренний мир главного героя напоминает слоган спорта\\r\\n\\r\\n&lt;b&gt;&lt;i&gt;'Главное соревнование - борьба с собой'&lt;/i&gt;&lt;/b&gt;\\r\\n\\r\\nПомимо приключения, в котором пребывали герои весь фильм, выполняя заказ влиятельного человека, от выполнения которого зависела личная жизнь героя и благосостояние его попутчиков, всё время велась скрытая борьба с внутренним миром героя, с его прошлым. \\r\\n\\r\\nОписывать это всё можно очень и очень долго, но я ставлю \\r\\n\\r\\n&lt;b&gt;&lt;i&gt;10 из&lt;/b&gt; 10&lt;/i&gt; \\r\\n\\r\\nэтому фильму, не задумываясь. Этот фильм должен войти в историю мирового кинематографа, как &lt;b&gt;самый лучший фильм в 2010-м году&lt;/b&gt;.</th>\n",
       "      <td>1146456</td>\n",
       "      <td>POSITIVE</td>\n",
       "      <td>2011-03-04T18:59:53</td>\n",
       "      <td>8</td>\n",
       "      <td>8</td>\n",
       "      <td>ego334</td>\n",
       "      <td>Всё так круто. Ничего лишнего.</td>\n",
       "      <td>447301</td>\n",
       "    </tr>\n",
       "    <tr>\n",
       "      <th>К 'оскаровской' ночи я успела познакомиться со всеми претендентами на главный приз, посмотрела все десять фильмов. Самым сильным из них для меня стал психологический триллер 'Чёрный лебедь', вторым - пронзительная драма '127 часов', а третьим - фантастическое и зрелищное 'Начало'. О нём я сейчас и расскажу.\\r\\n\\r\\nДо 'Начала' я видела только один фильм Кристофера Нолана - 'Тёмного рыцаря', ставшего для меня эталоном сильной режессуры, сильной актёрской игры и бессмертного таланта Хита Леджера. Увидев первый трейлер 'Начала' и узнав, кто режиссёр этого фильма и кто в главных ролях, я решила непременно посмотреть его, когда он выйдет в прокат. К сожалению, в силу некоторых обстоятельств я пролетела, и пришлось ждать, когда фильм появится в хорошем качестве в Интернете. И, нужно сказать, ожидания мои были оправданы в полной мере.\\r\\n\\r\\n'Начало' - фильм-загадка. Не знаю, как другим, а мне так и не удалось найти ответы на все интересовавшие меня вопросы. Нолан создал идеальную головоломку, и, чтобы разрешить её хотя бы наполовину, понадобилось немало времени. Но разве может быть что-то интересней? Вот оно, будущее кинематографа! Современный зритель искушён, ему нужно зрелище, феерия, пища для ума и сердца, многогранность, многоуровневость. Нолан даёт это своему зрителю сполна.\\r\\n\\r\\nМонтаж, звук, спецэффекты - всё прекрасно. В техническом плане, как и в сюжетном, фильм поражает. Великолепна и пронзительна  музыка, просто берёт за душу.\\r\\n\\r\\nСовершенно шикарны в своих образах любимые мною Леонардо ДиКаприо и Марион Котияр. Очень трогательна и необычна история их любви, их мира, созданного общими силами. Кобб хочет исправить ошибки прошлого, совершив своё последнее путешествие по лабиринтам человеческого разума, чтобы вернуть всё то, что он любил. Но чем заканчивается фильм - возвращением в реальный мир, или очередным поворотом сознания, остаётся непонятным. Каждый сам вправе выбрать свой, идеальный конец этой истории. И в этом вся прелесть.\\r\\n\\r\\n&lt;i&gt;...Не уходи из сна моего.\\r\\nСейчас ты так хорошо улыбаешься,\\r\\nКак будто бы мне подарить стараешься\\r\\nКусочек солнышка самого.\\r\\nНе уходи из сна моего!..&lt;/i&gt;</th>\n",
       "      <td>1145471</td>\n",
       "      <td>POSITIVE</td>\n",
       "      <td>2011-03-04T06:03:50</td>\n",
       "      <td>28</td>\n",
       "      <td>3</td>\n",
       "      <td>Настя-Мила</td>\n",
       "      <td>… Не уходи из сна моего…</td>\n",
       "      <td>447301</td>\n",
       "    </tr>\n",
       "    <tr>\n",
       "      <th>&lt;b&gt;&lt;b&gt;Оригинальной я буду в одном -  посмотрела этот фильм только сейчас. дома на ноутбуке.\\r\\n\\r\\nОжидала кучу спецэффектов, бессмысленных, несвязных и отсутствие идеи. ожидания, к счастью, обернулись приятным удивлением. \\r\\n\\r\\nИтак,&lt;b&gt;во-первых,&lt;/b&gt; идея. понравилось тем, что, не смотря на трудности при осмыслении всего фильма, сложной 'конструкции' сценария, основная мысль всем понятна - как разграничить реальность и воображаемый мир? ну и так далее (не вижу смысла перечислять, поскольку всё и так всем понятно).\\r\\n\\r\\n&lt;b&gt;Во-вторых&lt;/b&gt;, актёры+герои. Кто-то здесь написал, что все 2 с половиной часа фильм держится из нескольких человек. согласна. добавлю - все со своей ролью справились прекрасно. а постаревший Лео вызывал только симпатию, не смотря на явную эгоистичность его персонажа.\\r\\n\\r\\n&lt;b&gt;В-третьих,&lt;/b&gt;спецэффекты. претензий нет. всё красиво, реалистично, качественно. особенно выделю сцену ползания по стенкам отеля Артура. очень эффектно.\\r\\n\\r\\n&lt;b&gt;В-четвертых,&lt;/b&gt; музыка. а тут и говорить нечего. Циммер, есть Циммер.\\r\\n\\r\\nЭто один из немногих фильмов, которые при современных технических возможностях, немаленьком бюджете, исчерпываемости идей и сюжетов получился шедевром. да. мне не страшно крикнуть это слово. \\r\\n\\r\\nжалко, что с Оскаром так вышло... фильм его точно заслужил.\\r\\n\\r\\n&lt;i&gt;&lt;b&gt;10 из&lt;/i&gt;10&lt;/b&gt; однозначно.&lt;/b&gt;&lt;/b&gt;</th>\n",
       "      <td>1144961</td>\n",
       "      <td>POSITIVE</td>\n",
       "      <td>2011-03-03T11:19:13</td>\n",
       "      <td>14</td>\n",
       "      <td>7</td>\n",
       "      <td>Оксана Арно</td>\n",
       "      <td>None</td>\n",
       "      <td>447301</td>\n",
       "    </tr>\n",
       "  </tbody>\n",
       "</table>\n",
       "<p>12529 rows × 8 columns</p>\n",
       "</div>"
      ],
      "text/plain": [
       "                                                   kinopoiskId      type  \\\n",
       "«Зеленую милю» я смотрела два раза: 10 лет наза...     3221833   NEUTRAL   \n",
       "Период конца девяностых годов-начало двухтысячн...     3146204  POSITIVE   \n",
       "Очень сложно писать рецензию на этот фильм, так...     3120334  POSITIVE   \n",
       "Любимая многими миллионами ценителями киноискус...     3104371  POSITIVE   \n",
       "В нашем мире существует много разных фильмов. О...     3096653  POSITIVE   \n",
       "...                                                        ...       ...   \n",
       "Я вообще люблю хорошие фильмы - фэнтези. Но 'На...     1148053  POSITIVE   \n",
       "Хочу начать с того что <b>Кристофер Нолан</b> г...     1147098  POSITIVE   \n",
       "Фильм очень сложный по своей структуре именно о...     1146456  POSITIVE   \n",
       "К 'оскаровской' ночи я успела познакомиться со ...     1145471  POSITIVE   \n",
       "<b><b>Оригинальной я буду в одном -  посмотрела...     1144961  POSITIVE   \n",
       "\n",
       "                                                                   date  \\\n",
       "«Зеленую милю» я смотрела два раза: 10 лет наза...  2023-01-28T20:58:59   \n",
       "Период конца девяностых годов-начало двухтысячн...  2022-05-06T09:26:39   \n",
       "Очень сложно писать рецензию на этот фильм, так...  2022-01-24T21:36:34   \n",
       "Любимая многими миллионами ценителями киноискус...  2021-12-19T09:09:50   \n",
       "В нашем мире существует много разных фильмов. О...  2021-12-01T05:31:18   \n",
       "...                                                                 ...   \n",
       "Я вообще люблю хорошие фильмы - фэнтези. Но 'На...  2011-03-06T04:20:08   \n",
       "Хочу начать с того что <b>Кристофер Нолан</b> г...  2011-03-05T11:50:42   \n",
       "Фильм очень сложный по своей структуре именно о...  2011-03-04T18:59:53   \n",
       "К 'оскаровской' ночи я успела познакомиться со ...  2011-03-04T06:03:50   \n",
       "<b><b>Оригинальной я буду в одном -  посмотрела...  2011-03-03T11:19:13   \n",
       "\n",
       "                                                   positiveRating  \\\n",
       "«Зеленую милю» я смотрела два раза: 10 лет наза...              4   \n",
       "Период конца девяностых годов-начало двухтысячн...             13   \n",
       "Очень сложно писать рецензию на этот фильм, так...             21   \n",
       "Любимая многими миллионами ценителями киноискус...             10   \n",
       "В нашем мире существует много разных фильмов. О...             18   \n",
       "...                                                           ...   \n",
       "Я вообще люблю хорошие фильмы - фэнтези. Но 'На...             12   \n",
       "Хочу начать с того что <b>Кристофер Нолан</b> г...             10   \n",
       "Фильм очень сложный по своей структуре именно о...              8   \n",
       "К 'оскаровской' ночи я успела познакомиться со ...             28   \n",
       "<b><b>Оригинальной я буду в одном -  посмотрела...             14   \n",
       "\n",
       "                                                   negativeRating  \\\n",
       "«Зеленую милю» я смотрела два раза: 10 лет наза...              7   \n",
       "Период конца девяностых годов-начало двухтысячн...              2   \n",
       "Очень сложно писать рецензию на этот фильм, так...              2   \n",
       "Любимая многими миллионами ценителями киноискус...              2   \n",
       "В нашем мире существует много разных фильмов. О...              2   \n",
       "...                                                           ...   \n",
       "Я вообще люблю хорошие фильмы - фэнтези. Но 'На...              3   \n",
       "Хочу начать с того что <b>Кристофер Нолан</b> г...              4   \n",
       "Фильм очень сложный по своей структуре именно о...              8   \n",
       "К 'оскаровской' ночи я успела познакомиться со ...              3   \n",
       "<b><b>Оригинальной я буду в одном -  посмотрела...              7   \n",
       "\n",
       "                                                                  author  \\\n",
       "«Зеленую милю» я смотрела два раза: 10 лет наза...             Yanchessa   \n",
       "Период конца девяностых годов-начало двухтысячн...                 Fozzy   \n",
       "Очень сложно писать рецензию на этот фильм, так...             Denis2oo3   \n",
       "Любимая многими миллионами ценителями киноискус...             kingwayne   \n",
       "В нашем мире существует много разных фильмов. О...  Юлия Березина - 1765   \n",
       "...                                                                  ...   \n",
       "Я вообще люблю хорошие фильмы - фэнтези. Но 'На...                  LP24   \n",
       "Хочу начать с того что <b>Кристофер Нолан</b> г...             Кинопоиск   \n",
       "Фильм очень сложный по своей структуре именно о...                ego334   \n",
       "К 'оскаровской' ночи я успела познакомиться со ...            Настя-Мила   \n",
       "<b><b>Оригинальной я буду в одном -  посмотрела...           Оксана Арно   \n",
       "\n",
       "                                                                                                title  \\\n",
       "«Зеленую милю» я смотрела два раза: 10 лет наза...                                               None   \n",
       "Период конца девяностых годов-начало двухтысячн...                               Магия или реальность   \n",
       "Очень сложно писать рецензию на этот фильм, так...           Что происходит на миле, остается на миле   \n",
       "Любимая многими миллионами ценителями киноискус...                            Живи долго и счастливо!   \n",
       "В нашем мире существует много разных фильмов. О...                                            Шедевр!   \n",
       "...                                                                                               ...   \n",
       "Я вообще люблю хорошие фильмы - фэнтези. Но 'На...  В мире снов возможно все, но ничто не заменит ...   \n",
       "Хочу начать с того что <b>Кристофер Нолан</b> г...                            Реальность или Иллюзия.   \n",
       "Фильм очень сложный по своей структуре именно о...                     Всё так круто. Ничего лишнего.   \n",
       "К 'оскаровской' ночи я успела познакомиться со ...                           … Не уходи из сна моего…   \n",
       "<b><b>Оригинальной я буду в одном -  посмотрела...                                               None   \n",
       "\n",
       "                                                   film_id  \n",
       "«Зеленую милю» я смотрела два раза: 10 лет наза...     435  \n",
       "Период конца девяностых годов-начало двухтысячн...     435  \n",
       "Очень сложно писать рецензию на этот фильм, так...     435  \n",
       "Любимая многими миллионами ценителями киноискус...     435  \n",
       "В нашем мире существует много разных фильмов. О...     435  \n",
       "...                                                    ...  \n",
       "Я вообще люблю хорошие фильмы - фэнтези. Но 'На...  447301  \n",
       "Хочу начать с того что <b>Кристофер Нолан</b> г...  447301  \n",
       "Фильм очень сложный по своей структуре именно о...  447301  \n",
       "К 'оскаровской' ночи я успела познакомиться со ...  447301  \n",
       "<b><b>Оригинальной я буду в одном -  посмотрела...  447301  \n",
       "\n",
       "[12529 rows x 8 columns]"
      ]
     },
     "execution_count": 17,
     "metadata": {},
     "output_type": "execute_result"
    }
   ],
   "source": [
    "from datasets.getters import load_reviews\n",
    "\n",
    "load_reviews()"
   ]
  },
  {
   "cell_type": "code",
   "execution_count": null,
   "id": "28231f10",
   "metadata": {},
   "outputs": [],
   "source": []
  },
  {
   "cell_type": "code",
   "execution_count": null,
   "id": "bf986721",
   "metadata": {},
   "outputs": [],
   "source": []
  },
  {
   "cell_type": "code",
   "execution_count": null,
   "id": "908a82dc",
   "metadata": {},
   "outputs": [],
   "source": []
  },
  {
   "cell_type": "code",
   "execution_count": null,
   "id": "a9e6e6b6",
   "metadata": {},
   "outputs": [],
   "source": []
  },
  {
   "cell_type": "code",
   "execution_count": null,
   "id": "f60c03bb",
   "metadata": {},
   "outputs": [],
   "source": []
  },
  {
   "cell_type": "code",
   "execution_count": null,
   "id": "970ad2fb",
   "metadata": {},
   "outputs": [],
   "source": []
  },
  {
   "cell_type": "code",
   "execution_count": null,
   "id": "ec2eba7e",
   "metadata": {},
   "outputs": [],
   "source": []
  }
 ],
 "metadata": {
  "kernelspec": {
   "display_name": "Python 3 (ipykernel)",
   "language": "python",
   "name": "python3"
  },
  "language_info": {
   "codemirror_mode": {
    "name": "ipython",
    "version": 3
   },
   "file_extension": ".py",
   "mimetype": "text/x-python",
   "name": "python",
   "nbconvert_exporter": "python",
   "pygments_lexer": "ipython3",
   "version": "3.9.13"
  }
 },
 "nbformat": 4,
 "nbformat_minor": 5
}
