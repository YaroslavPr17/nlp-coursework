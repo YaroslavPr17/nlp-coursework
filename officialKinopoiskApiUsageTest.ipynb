{
 "cells": [
  {
   "cell_type": "code",
   "execution_count": 1,
   "id": "3e3deb49",
   "metadata": {},
   "outputs": [],
   "source": [
    "from KinoPoiskAPI.kinopoisk_api import KP"
   ]
  },
  {
   "cell_type": "code",
   "execution_count": 2,
   "id": "4a31a073",
   "metadata": {
    "scrolled": false
   },
   "outputs": [],
   "source": [
    "kinopoisk = KP(token='61c2d911-e649-4afc-9790-676eedf367ee')\n",
    "\n",
    "search = kinopoisk.search('alice')\n"
   ]
  },
  {
   "cell_type": "code",
   "execution_count": 40,
   "id": "d7ce9a1a",
   "metadata": {},
   "outputs": [
    {
     "name": "stdout",
     "output_type": "stream",
     "text": [
      "Алиса в Стране чудес (2010)\n",
      "\t детектив, приключения, семейный, фэнтези\n",
      "\t Великобритания, США\n",
      "Алиса в Зазеркалье (2016)\n",
      "\t детектив, приключения, семейный, фэнтези\n",
      "\t США\n",
      "Алиса в стране чудес (1951)\n",
      "\t комедия, мультфильм, мюзикл, приключения, семейный, фэнтези\n",
      "\t США\n",
      "Элис (2019)\n",
      "\t драма, комедия, мелодрама\n",
      "\t Австралия, Великобритания, Франция\n",
      "Элис (1990)\n",
      "\t комедия, мелодрама\n",
      "\t США\n",
      "Всё ещё Элис (2014)\n",
      "\t драма\n",
      "\t Великобритания, США, Франция\n",
      "Алиса в стране чудес (1999)\n",
      "\t комедия, приключения, семейный, фэнтези\n",
      "\t Великобритания, Германия, США\n",
      "Алиса в городах (1973)\n",
      "\t драма\n",
      "\t Германия (ФРГ)\n",
      "Алиса (2002)\n",
      "\t драма\n",
      "\t Великобритания, Франция\n",
      "Алиса в Пограничье (2020)\n",
      "\t боевик, детектив, драма, фантастика\n",
      "\t Япония\n",
      "Алиса (2010)\n",
      "\t для взрослых, фэнтези\n",
      "\t США\n",
      "Алиса здесь больше не живет (1974)\n",
      "\t драма, мелодрама\n",
      "\t США\n",
      "Алиса в стране порночудес (1993)\n",
      "\t для взрослых\n",
      "\t Италия\n",
      "Алиса в Стране Чудес (1976)\n",
      "\t для взрослых, комедия, мюзикл, фэнтези\n",
      "\t США\n"
     ]
    }
   ],
   "source": [
    "for item in search:\n",
    "    print(item.ru_name, ' (', item.year, ')', sep='')\n",
    "    print('\\t', \", \".join(item.genres))\n",
    "    print('\\t', \", \".join(item.countries))"
   ]
  },
  {
   "cell_type": "code",
   "execution_count": 21,
   "id": "a26487e4",
   "metadata": {},
   "outputs": [
    {
     "data": {
      "text/plain": [
       "405609"
      ]
     },
     "execution_count": 21,
     "metadata": {},
     "output_type": "execute_result"
    }
   ],
   "source": [
    "search[0].kp_id"
   ]
  },
  {
   "cell_type": "code",
   "execution_count": 32,
   "id": "0e31f0a8",
   "metadata": {},
   "outputs": [
    {
     "data": {
      "text/plain": [
       "'v2.1.2-release'"
      ]
     },
     "execution_count": 32,
     "metadata": {},
     "output_type": "execute_result"
    }
   ],
   "source": [
    "kinopoisk.version"
   ]
  },
  {
   "cell_type": "code",
   "execution_count": 7,
   "id": "b4fd30c4",
   "metadata": {},
   "outputs": [
    {
     "name": "stdout",
     "output_type": "stream",
     "text": [
      "Побег из Шоушенка\n",
      "Зеленая миля\n",
      "Форрест Гамп\n",
      "Список Шиндлера\n",
      "1+1\n",
      "Начало\n",
      "Леон\n",
      "Король Лев\n",
      "Иван Васильевич меняет профессию\n",
      "Бойцовский клуб\n",
      "Жизнь прекрасна\n",
      "Достучаться до небес\n",
      "Крестный отец\n",
      "Криминальное чтиво\n",
      "Операция «Ы» и другие приключения Шурика\n",
      "Игры разума\n",
      "Престиж\n",
      "Интерстеллар\n",
      "Властелин колец: Возвращение короля\n",
      "Гладиатор\n"
     ]
    }
   ],
   "source": [
    "for el in kinopoisk.top500(1):\n",
    "    print(el.ru_name)"
   ]
  },
  {
   "cell_type": "code",
   "execution_count": null,
   "id": "43522848",
   "metadata": {},
   "outputs": [],
   "source": []
  }
 ],
 "metadata": {
  "kernelspec": {
   "display_name": "Python 3 (ipykernel)",
   "language": "python",
   "name": "python3"
  },
  "language_info": {
   "codemirror_mode": {
    "name": "ipython",
    "version": 3
   },
   "file_extension": ".py",
   "mimetype": "text/x-python",
   "name": "python",
   "nbconvert_exporter": "python",
   "pygments_lexer": "ipython3",
   "version": "3.9.12"
  }
 },
 "nbformat": 4,
 "nbformat_minor": 5
}
