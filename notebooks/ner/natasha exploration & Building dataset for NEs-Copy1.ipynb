{
 "cells": [
  {
   "cell_type": "code",
   "execution_count": 1,
   "id": "a27cb39b",
   "metadata": {
    "cellId": "ghvfunrk3cj3q5sfvvz3fm"
   },
   "outputs": [],
   "source": [
    "%cd ../.."
   ]
  },
  {
   "cell_type": "code",
   "execution_count": 2,
   "id": "896dfdec",
   "metadata": {
    "cellId": "aze2doufdrsvagrht63g28"
   },
   "outputs": [],
   "source": [
    "from datasets_ import DatasetLoader\n",
    "from src.nlp.ner import extract_named_entities\n",
    "\n",
    "import natasha\n",
    "from natasha import (\n",
    "    Segmenter,\n",
    "    MorphVocab,\n",
    "    \n",
    "    NewsEmbedding,\n",
    "    NewsMorphTagger,\n",
    "    NewsSyntaxParser,\n",
    "    NewsNERTagger,\n",
    "    \n",
    "    PER,\n",
    "    NamesExtractor,\n",
    "    DatesExtractor,\n",
    "    MoneyExtractor,\n",
    "    AddrExtractor,\n",
    "\n",
    "    Doc\n",
    ")\n",
    "\n",
    "\n",
    "import pandas as pd\n",
    "\n",
    "from tqdm import tqdm\n",
    "from collections import defaultdict\n",
    "from typing import List\n",
    "import time\n",
    "from IPython.display import clear_output\n",
    "import sys\n",
    "import dill\n",
    "\n",
    "from pandarallel import pandarallel\n",
    "pandarallel.initialize(nb_workers=6, progress_bar=True)"
   ]
  },
  {
   "cell_type": "code",
   "execution_count": 8,
   "id": "7dade211",
   "metadata": {
    "cellId": "1bf0figbg1d6zjj2em6ay9"
   },
   "outputs": [],
   "source": [
    "d = DatasetLoader.load_named_entities_dataset().sort_values(by='n_sents', ascending=False)\n",
    "d"
   ]
  },
  {
   "cell_type": "code",
   "execution_count": 10,
   "id": "cd419be2",
   "metadata": {
    "cellId": "opglva9gxmcb7e7bmhgoq"
   },
   "outputs": [],
   "source": [
    "data = DatasetLoader.load_named_entities_dataset().sort_values(by='n_sents', ascending=False)\n",
    "data"
   ]
  },
  {
   "cell_type": "code",
   "execution_count": 11,
   "id": "49ee57d5",
   "metadata": {
    "cellId": "oxs1d6klwi7sqvxtjpqp4"
   },
   "outputs": [],
   "source": [
    "print(d.iloc[0].occurrences)"
   ]
  },
  {
   "cell_type": "code",
   "execution_count": 3,
   "id": "845e908a",
   "metadata": {
    "cellId": "nj77lpday9b5ot0ij1s7pd"
   },
   "outputs": [],
   "source": [
    "data = DatasetLoader.load_reviews(show_path=True).get(['review', 'film_id'])\n",
    "data"
   ]
  },
  {
   "cell_type": "code",
   "execution_count": 4,
   "id": "6b3409e9",
   "metadata": {
    "cellId": "ust3fx3l1sbsumynl2xc4n"
   },
   "outputs": [],
   "source": [
    "data.iloc[:5]"
   ]
  },
  {
   "cell_type": "code",
   "execution_count": 8,
   "id": "d0316af1",
   "metadata": {
    "cellId": "6vq5c77vnaikbtsm9q403"
   },
   "outputs": [],
   "source": [
    "nents = extract_named_entities(data)"
   ]
  },
  {
   "cell_type": "code",
   "execution_count": 9,
   "id": "73ddedbe",
   "metadata": {
    "cellId": "jpehsdx2vnth2t6229c5s"
   },
   "outputs": [],
   "source": [
    "nents"
   ]
  },
  {
   "cell_type": "code",
   "execution_count": 7,
   "id": "6c5146de",
   "metadata": {
    "cellId": "k2qttlw67hrgrvrxz3ylnv"
   },
   "outputs": [],
   "source": [
    "d = DatasetLoader.load_named_entities_dataset().sort_values(by='n_sents', ascending=False)\n",
    "d"
   ]
  },
  {
   "cell_type": "code",
   "execution_count": null,
   "id": "b2ca5d4f",
   "metadata": {
    "cellId": "rj71lyvqhdhjdl13elc28"
   },
   "outputs": [],
   "source": []
  },
  {
   "cell_type": "code",
   "execution_count": null,
   "id": "240330c8",
   "metadata": {
    "cellId": "3zhit0okdqr2ulq2vghgrt"
   },
   "outputs": [],
   "source": []
  },
  {
   "cell_type": "code",
   "execution_count": null,
   "id": "64bb5a6e",
   "metadata": {
    "cellId": "13t7t0nqk1w968mz0cmuzkd"
   },
   "outputs": [],
   "source": []
  },
  {
   "cell_type": "code",
   "execution_count": 15,
   "id": "66934ddb",
   "metadata": {
    "cellId": "kyxbg0nnrabjwy505kgck"
   },
   "outputs": [],
   "source": [
    "nents.reset_index().drop(columns='index').to_csv('data/named_entities.csv')"
   ]
  },
  {
   "cell_type": "code",
   "execution_count": 13,
   "id": "fdb75320",
   "metadata": {
    "cellId": "70gcm1ky453iojz9u74ep8"
   },
   "outputs": [],
   "source": [
    "nents.loc[3]"
   ]
  },
  {
   "cell_type": "code",
   "execution_count": 37,
   "id": "c77f154e",
   "metadata": {
    "cellId": "n36lksnblw9p4n0ckn4mj"
   },
   "outputs": [],
   "source": [
    "nents[1].iloc[0]"
   ]
  },
  {
   "cell_type": "code",
   "execution_count": null,
   "id": "fd448023",
   "metadata": {
    "cellId": "vhtckut1nbdvq8v2rmlvd"
   },
   "outputs": [],
   "source": [
    "nents.to_csv('data/named_entities.csv')"
   ]
  },
  {
   "cell_type": "code",
   "execution_count": null,
   "id": "b7dc74f9",
   "metadata": {
    "cellId": "eyvz9ycatn6mu2ve2b9hf"
   },
   "outputs": [],
   "source": [
    "with open('data/', 'wb') as f:\n",
    "        dill.dump(nents, f)"
   ]
  },
  {
   "cell_type": "code",
   "execution_count": 40,
   "id": "2f0dcabb",
   "metadata": {
    "cellId": "qzo3lzb4n1owmulwjd43dg"
   },
   "outputs": [],
   "source": [
    "nents"
   ]
  },
  {
   "cell_type": "code",
   "execution_count": 29,
   "id": "6c7b729d",
   "metadata": {
    "cellId": "3rwsq40icr967kgrqmb2ur"
   },
   "outputs": [],
   "source": [
    "list(map(lambda docsent: docsent.text, nents[1].iloc[0]))"
   ]
  },
  {
   "cell_type": "code",
   "execution_count": null,
   "id": "bc5aec1d",
   "metadata": {
    "cellId": "bepef5r0iqm0ek8sasruzt"
   },
   "outputs": [],
   "source": []
  },
  {
   "cell_type": "code",
   "execution_count": 102,
   "id": "941b4cc3",
   "metadata": {
    "cellId": "9dzpnyx3w3s1nvmsaa6vyn"
   },
   "outputs": [],
   "source": [
    "nents = nents[nents['n_sents'] >= 3].reset_index().drop(columns=['index'])\n",
    "nents"
   ]
  },
  {
   "cell_type": "code",
   "execution_count": 97,
   "id": "378d71ee",
   "metadata": {
    "cellId": "e6i493rmgsmfu40df10rsd"
   },
   "outputs": [],
   "source": [
    "nents"
   ]
  },
  {
   "cell_type": "code",
   "execution_count": 114,
   "id": "ab00b413",
   "metadata": {
    "cellId": "er04ohv3eet59d01itb039"
   },
   "outputs": [],
   "source": [
    "print('\\n\\n'.join(list(map(lambda docsent: docsent.text, nents[nents['ne'] == 'Ханс Циммер']['occurences'][455]))))\n"
   ]
  },
  {
   "cell_type": "code",
   "execution_count": 73,
   "id": "1cddaac4",
   "metadata": {
    "cellId": "yveqevck20w63sf3tlsbl"
   },
   "outputs": [],
   "source": [
    "nents.sort_values(by='n_sents', ascending=False).head(50)"
   ]
  },
  {
   "cell_type": "code",
   "execution_count": 50,
   "id": "55cdb7dd",
   "metadata": {
    "cellId": "zwre9z8wl7pw9od2t8yh7t"
   },
   "outputs": [],
   "source": [
    "new_part"
   ]
  },
  {
   "cell_type": "code",
   "execution_count": 11,
   "id": "659b3ffb",
   "metadata": {
    "cellId": "v99z03nagbc7mxprujeuf"
   },
   "outputs": [],
   "source": [
    "ne_related_sentences[435]['Кинг']"
   ]
  },
  {
   "cell_type": "code",
   "execution_count": 13,
   "id": "22567daf",
   "metadata": {
    "cellId": "iyq9kr209cf0m5dmn66iw",
    "scrolled": true
   },
   "outputs": [],
   "source": [
    "list(map(lambda docsent: docsent.text, ne_related_sentences[435]['Кинг']))"
   ]
  },
  {
   "cell_type": "code",
   "execution_count": 37,
   "id": "17218a34",
   "metadata": {
    "cellId": "a5hjkkkvjhyuxabpsmg08"
   },
   "outputs": [],
   "source": [
    "for key, value in ne_related_sentences[435].items():\n",
    "    print(f'{key:15} {len(value)}')"
   ]
  },
  {
   "cell_type": "code",
   "execution_count": 9,
   "id": "222540b8",
   "metadata": {
    "cellId": "zzk47e0vjsg6f96v0y2j9"
   },
   "outputs": [],
   "source": [
    "len(ne_related_sentences)"
   ]
  },
  {
   "cell_type": "code",
   "execution_count": 14,
   "id": "8cf18f81",
   "metadata": {
    "cellId": "nicdm71vy98f3rsmvixhe"
   },
   "outputs": [],
   "source": [
    "with open('models/logreg_086_ngrams_1_3_preprocessed.model', 'rb') as f:\n",
    "    clf = dill.load(f)\n"
   ]
  },
  {
   "cell_type": "code",
   "execution_count": 29,
   "id": "4e4e663b",
   "metadata": {
    "cellId": "qb3e84nqo9sbuuiaua5oh"
   },
   "outputs": [],
   "source": [
    "ne_related_sentences[435].keys()"
   ]
  },
  {
   "cell_type": "code",
   "execution_count": 38,
   "id": "c7edff64",
   "metadata": {
    "cellId": "8n5r71adulomyrzvrucg89"
   },
   "outputs": [],
   "source": [
    "pd.concat([pd.DataFrame(columns=[0, 1]), pd.DataFrame(ne_related_sentences[435].items())]) "
   ]
  },
  {
   "cell_type": "code",
   "execution_count": 31,
   "id": "ae3698c9",
   "metadata": {
    "cellId": "lehv9efijzsw9rdcnld3hr"
   },
   "outputs": [],
   "source": [
    "nents = pd.DataFrame(ne_related_sentences[435].items())\n",
    "nents"
   ]
  },
  {
   "cell_type": "code",
   "execution_count": 33,
   "id": "63e241d6",
   "metadata": {
    "cellId": "haxorn32n9sra8x92dp99d"
   },
   "outputs": [],
   "source": [
    "nents['n_sents'] = nents[1].apply(len)\n",
    "nents"
   ]
  },
  {
   "cell_type": "code",
   "execution_count": 34,
   "id": "fc70b4ea",
   "metadata": {
    "cellId": "einjya2il88r2x3jon8xc"
   },
   "outputs": [],
   "source": [
    "nents['film_id'] = 435\n",
    "nents"
   ]
  },
  {
   "cell_type": "code",
   "execution_count": null,
   "id": "d6ad8dac",
   "metadata": {
    "cellId": "lybha0jly66wi5j4nitux"
   },
   "outputs": [],
   "source": []
  },
  {
   "cell_type": "code",
   "execution_count": null,
   "id": "1a31b963",
   "metadata": {
    "cellId": "1qurehbdt4p7c479vdrd4i"
   },
   "outputs": [],
   "source": []
  },
  {
   "cell_type": "code",
   "execution_count": 160,
   "id": "798bb10b",
   "metadata": {
    "cellId": "cnkzexkhqsq9qg0vyasxul"
   },
   "outputs": [],
   "source": [
    "ne_related_sentences[329]['Спилберг'][0].ner.print()"
   ]
  },
  {
   "cell_type": "code",
   "execution_count": 4,
   "id": "d243b241",
   "metadata": {
    "cellId": "v1jihrcbkcn6xzdc6owx1j"
   },
   "outputs": [],
   "source": [
    "text = data.review[0]\n",
    "text"
   ]
  },
  {
   "cell_type": "code",
   "execution_count": 6,
   "id": "748b0abd",
   "metadata": {
    "cellId": "au4arvgqtxh8u4hv45lhct"
   },
   "outputs": [],
   "source": [
    "doc = Doc(text)\n",
    "print(doc.__attributes__)\n",
    "doc"
   ]
  },
  {
   "cell_type": "markdown",
   "id": "1eed6c21",
   "metadata": {
    "cellId": "xtp38t99e8rb2eq9ln2b6c"
   },
   "source": [
    "#### Segmentation"
   ]
  },
  {
   "cell_type": "code",
   "execution_count": 7,
   "id": "1984db2d",
   "metadata": {
    "cellId": "fwfxcw2sbli61da2ub06b5"
   },
   "outputs": [],
   "source": [
    "doc.segment(segmenter)\n",
    "display(doc)"
   ]
  },
  {
   "cell_type": "code",
   "execution_count": 8,
   "id": "4e25ec45",
   "metadata": {
    "cellId": "oo6yvzy2uic2ax5boz7ubr"
   },
   "outputs": [],
   "source": [
    "display(doc.sents[:3])"
   ]
  },
  {
   "cell_type": "code",
   "execution_count": 9,
   "id": "9bc66217",
   "metadata": {
    "cellId": "zok9c0syossn185yr4zlk"
   },
   "outputs": [],
   "source": [
    "display(doc.tokens[:10])"
   ]
  },
  {
   "cell_type": "markdown",
   "id": "3710ed68",
   "metadata": {
    "cellId": "shymldowif3yuqh00wpf"
   },
   "source": [
    "#### Morphology\n",
    "\n",
    "`DocToken` features:\n",
    "* `start`\n",
    "* `stop`\n",
    "* `pos`\n",
    "* `feats`"
   ]
  },
  {
   "cell_type": "code",
   "execution_count": 10,
   "id": "c8b20683",
   "metadata": {
    "cellId": "uc7rm5e7tkfe0js7krv4b"
   },
   "outputs": [],
   "source": [
    "doc.tag_morph(morph_tagger)\n",
    "display(doc.tokens[:10])"
   ]
  },
  {
   "cell_type": "markdown",
   "id": "71089164",
   "metadata": {
    "cellId": "291lzyjal1uvdkl1xy6e4m"
   },
   "source": [
    "#### Syntax parsing\n",
    "\n",
    "`DocToken` features:\n",
    "* `start`\n",
    "* `stop`\n",
    "* `pos`\n",
    "* `feats`\n",
    "* `id`\n",
    "* `head_id`\n",
    "* `rel`\n",
    "\n",
    "*Universal Dependencies format*"
   ]
  },
  {
   "cell_type": "code",
   "execution_count": 11,
   "id": "8f4055bf",
   "metadata": {
    "cellId": "wwg0rme6ej0meksf9dywi"
   },
   "outputs": [],
   "source": [
    "doc.parse_syntax(syntax_parser)\n",
    "display(doc.tokens[:10])"
   ]
  },
  {
   "cell_type": "markdown",
   "id": "126b5c4b",
   "metadata": {
    "cellId": "e4bljbli97r2rnu63iz8d9"
   },
   "source": [
    "#### NER"
   ]
  },
  {
   "cell_type": "code",
   "execution_count": 12,
   "id": "6c6a78dd",
   "metadata": {
    "cellId": "g0vifu4h2jdut34eobyrn"
   },
   "outputs": [],
   "source": [
    "doc.tag_ner(ner_tagger)\n",
    "display(doc.spans[:5])"
   ]
  },
  {
   "cell_type": "code",
   "execution_count": 13,
   "id": "b0a774bc",
   "metadata": {
    "cellId": "0oik94qm3orjfwqdlizpl7"
   },
   "outputs": [],
   "source": [
    "doc.sents[3].ner.print()"
   ]
  },
  {
   "cell_type": "code",
   "execution_count": 14,
   "id": "810483ca",
   "metadata": {
    "cellId": "snrziyxhgi0skwiygxk9wg"
   },
   "outputs": [],
   "source": [
    "doc.ner.print()"
   ]
  },
  {
   "cell_type": "markdown",
   "id": "d9189111",
   "metadata": {
    "cellId": "u164ecw89vfjzmpz8ijus"
   },
   "source": [
    "---"
   ]
  },
  {
   "cell_type": "code",
   "execution_count": 15,
   "id": "f2f15305",
   "metadata": {
    "cellId": "5e4so2asv4n2szccrbxm2"
   },
   "outputs": [],
   "source": [
    "doc.sents[1].morph.print()"
   ]
  },
  {
   "cell_type": "code",
   "execution_count": 30,
   "id": "220dcdd2",
   "metadata": {
    "cellId": "iud6xb5byqmj0doe2otatd"
   },
   "outputs": [],
   "source": [
    "doc.sents[22].syntax"
   ]
  },
  {
   "cell_type": "code",
   "execution_count": 20,
   "id": "ec0ce754",
   "metadata": {
    "cellId": "gjannjysbnoilnxrejj1ap"
   },
   "outputs": [],
   "source": [
    "doc.sents[3].text"
   ]
  },
  {
   "cell_type": "code",
   "execution_count": 25,
   "id": "24beb905",
   "metadata": {
    "cellId": "rvvn1i2tywbff2al87filg"
   },
   "outputs": [],
   "source": [
    "_ = Doc(data.review[0])\n",
    "_.ner"
   ]
  },
  {
   "cell_type": "code",
   "execution_count": 42,
   "id": "2256a880",
   "metadata": {
    "cellId": "ipsfqfy2i6j3r8lo6it8nf"
   },
   "outputs": [],
   "source": [
    "data = data[data['film_id'] == 329]\n",
    "data"
   ]
  },
  {
   "cell_type": "code",
   "execution_count": 53,
   "id": "f12db197",
   "metadata": {
    "cellId": "d8kmkklz3w4kzm69owkjjp"
   },
   "outputs": [],
   "source": [
    "data.review.iloc[1]"
   ]
  },
  {
   "cell_type": "code",
   "execution_count": 57,
   "id": "7d32ec15",
   "metadata": {
    "cellId": "4udta7o8gp2vdz3eb9x3p"
   },
   "outputs": [],
   "source": [
    "data"
   ]
  },
  {
   "cell_type": "code",
   "execution_count": 62,
   "id": "f2ce72a3",
   "metadata": {
    "cellId": "27p2vuku132ttc2bt2ylud"
   },
   "outputs": [],
   "source": [
    "for i, _ in enumerate(data.review[10:]):\n",
    "    clear_output()\n",
    "    mark_ne(data.review.iloc[i]).ner.print()\n",
    "    sleep(20)"
   ]
  },
  {
   "cell_type": "code",
   "execution_count": 181,
   "id": "ccbe0a8c",
   "metadata": {
    "cellId": "4y1ruqm2kgxcg2oi0j4hfk",
    "scrolled": true
   },
   "outputs": [],
   "source": [
    "ne_related_sentences = defaultdict(list)\n",
    "\n",
    "for _, review in enumerate(tqdm(data.review)):\n",
    "    doc = mark_ne(review)\n",
    "    \n",
    "    for sent in doc.sents:\n",
    "        # display(sent.spans)\n",
    "        for span in sent.spans:\n",
    "            if span.type == 'PER':\n",
    "                span.normalize(morph_vocab)\n",
    "                # print(f\"{span.text} -> {span.normal}\")\n",
    "                ne_related_sentences[span.normal].append(sent)\n",
    "                break"
   ]
  },
  {
   "cell_type": "code",
   "execution_count": 59,
   "id": "aa328c9b",
   "metadata": {
    "cellId": "sxsay8hn0bjz2wbwchqz"
   },
   "outputs": [],
   "source": []
  },
  {
   "cell_type": "code",
   "execution_count": 191,
   "id": "202a4a3b",
   "metadata": {
    "cellId": "zueos885wihi5pineegydi",
    "scrolled": true
   },
   "outputs": [],
   "source": [
    "for key in ne_related_sentences.keys():\n",
    "    if len(ne_related_sentences[key]) <= 2:\n",
    "        "
   ]
  },
  {
   "cell_type": "code",
   "execution_count": 190,
   "id": "af07fe7a",
   "metadata": {
    "cellId": "oswgxxbgnbfkg51yncds9l"
   },
   "outputs": [],
   "source": [
    "' '.join(list(map(lambda docsent: docsent.text, ne_related_sentences['Спилберг'])))"
   ]
  },
  {
   "cell_type": "code",
   "execution_count": 117,
   "id": "d1ae1b0e",
   "metadata": {
    "cellId": "44mtwrannv9yfxcj2t2uw9"
   },
   "outputs": [],
   "source": [
    "ne_related_sentences[0].text"
   ]
  },
  {
   "cell_type": "code",
   "execution_count": null,
   "id": "7b84f31b",
   "metadata": {
    "cellId": "8g8gh4l8uuqz22a8drshbs"
   },
   "outputs": [],
   "source": [
    "print('\\n\\n'.join(list(map(lambda docsent: docsent.text, ne_related_sentences))))"
   ]
  },
  {
   "cell_type": "code",
   "execution_count": 97,
   "id": "cb71be5a",
   "metadata": {
    "cellId": "pqdfzvsyljvn96f1idiys"
   },
   "outputs": [],
   "source": [
    "ne_related_sentences[2].text"
   ]
  },
  {
   "cell_type": "code",
   "execution_count": 76,
   "id": "57029d22",
   "metadata": {
    "cellId": "1rnapfb4b49mvy91zjaq"
   },
   "outputs": [],
   "source": [
    "for sent in doc.sents:\n",
    "    # sent.ner.print()\n",
    "    for named_entity in sent.ner.spans:\n",
    "        print(named_entity)"
   ]
  },
  {
   "cell_type": "code",
   "execution_count": 65,
   "id": "7dda6050",
   "metadata": {
    "cellId": "af301qnp7b8zf78m1zarv7"
   },
   "outputs": [],
   "source": [
    "doc.ner"
   ]
  },
  {
   "cell_type": "code",
   "execution_count": 63,
   "id": "8802e9aa",
   "metadata": {
    "cellId": "0r00lwlgpv984mjhukdj0g"
   },
   "outputs": [],
   "source": [
    "names_extractor.find(doc.text)"
   ]
  },
  {
   "cell_type": "code",
   "execution_count": 64,
   "id": "84c6b9d2",
   "metadata": {
    "cellId": "vq5owbaa99lkim3vxixi"
   },
   "outputs": [],
   "source": [
    "doc.text"
   ]
  },
  {
   "cell_type": "code",
   "execution_count": 86,
   "id": "5bc6fa0d",
   "metadata": {
    "cellId": "d014rhe66ndaaa8tqw0bc"
   },
   "outputs": [],
   "source": [
    "import fasttext"
   ]
  },
  {
   "cell_type": "code",
   "execution_count": 87,
   "id": "5a601213",
   "metadata": {
    "cellId": "rt39lokrf0ca3rraybc23s"
   },
   "outputs": [],
   "source": [
    "model = fasttext.load_model('models/fasttext_100.model')"
   ]
  },
  {
   "cell_type": "code",
   "execution_count": 96,
   "id": "f87cd13b",
   "metadata": {
    "cellId": "hqygz9gai89pi6kugwibs"
   },
   "outputs": [],
   "source": [
    "model.get_nearest_neighbors('ганди')"
   ]
  },
  {
   "cell_type": "code",
   "execution_count": null,
   "id": "a099ab49",
   "metadata": {
    "cellId": "qbdf3nvpz6bx1pa88irv8"
   },
   "outputs": [],
   "source": []
  }
 ],
 "metadata": {
  "language_info": {
   "codemirror_mode": {
    "name": "ipython",
    "version": 3
   },
   "file_extension": ".py",
   "mimetype": "text/x-python",
   "name": "python",
   "nbconvert_exporter": "python",
   "pygments_lexer": "ipython3",
   "version": "3.7.7"
  },
  "notebookId": "31c24742-1f01-45ec-bd43-2e19c4b76d3a",
  "notebookPath": "nlp-coursework/notebooks/ner/natasha exploration & Building dataset for NEs-Copy1.ipynb"
 },
 "nbformat": 4,
 "nbformat_minor": 5
}
