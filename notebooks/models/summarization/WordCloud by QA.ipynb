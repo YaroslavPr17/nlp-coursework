{
 "cells": [
  {
   "cell_type": "code",
   "execution_count": 1,
   "id": "49cf3f5d",
   "metadata": {},
   "outputs": [
    {
     "name": "stdout",
     "output_type": "stream",
     "text": [
      "/home/pristalovya/Inter/Programming/nlp-coursework\n"
     ]
    }
   ],
   "source": [
    "%cd ../../.."
   ]
  },
  {
   "cell_type": "code",
   "execution_count": 27,
   "id": "4d2ded60",
   "metadata": {},
   "outputs": [
    {
     "data": {
      "text/plain": [
       "device(type='cpu')"
      ]
     },
     "execution_count": 27,
     "metadata": {},
     "output_type": "execute_result"
    }
   ],
   "source": [
    "from src.nlp.application import (Pipeline, \n",
    "                                 get_df_by_film_and_person, \n",
    "                                 get_df_by_person, \n",
    "                                 collect_sents_to_summarize,\n",
    "                                 split_opinions_to_chunks)\n",
    "from datasets_ import DatasetLoader\n",
    "\n",
    "import dill\n",
    "from tqdm.notebook import tqdm\n",
    "import sys\n",
    "\n",
    "import pandas as pd\n",
    "import numpy as np\n",
    "\n",
    "import matplotlib.pyplot as plt\n",
    "%matplotlib notebook\n",
    "from wordcloud import WordCloud\n",
    "\n",
    "\n",
    "from transformers import AutoTokenizer, AutoModelForQuestionAnswering, pipeline\n",
    "from transformers import MBartTokenizer, MBartForConditionalGeneration\n",
    "from transformers import AutoTokenizer, T5ForConditionalGeneration\n",
    "from transformers import AutoTokenizer, AutoModelForSeq2SeqLM\n",
    "from transformers.pipelines.question_answering import QuestionAnsweringPipeline\n",
    "\n",
    "\n",
    "import torch\n",
    "\n",
    "device = torch.device('cuda' if torch.cuda.is_available() else 'cpu')\n",
    "device"
   ]
  },
  {
   "cell_type": "code",
   "execution_count": 3,
   "id": "e3b652b5",
   "metadata": {},
   "outputs": [
    {
     "name": "stdout",
     "output_type": "stream",
     "text": [
      "/home/pristalovya/Inter/Programming/nlp-coursework/data/named_entities.csv\n"
     ]
    },
    {
     "data": {
      "text/html": [
       "<div>\n",
       "<style scoped>\n",
       "    .dataframe tbody tr th:only-of-type {\n",
       "        vertical-align: middle;\n",
       "    }\n",
       "\n",
       "    .dataframe tbody tr th {\n",
       "        vertical-align: top;\n",
       "    }\n",
       "\n",
       "    .dataframe thead th {\n",
       "        text-align: right;\n",
       "    }\n",
       "</style>\n",
       "<table border=\"1\" class=\"dataframe\">\n",
       "  <thead>\n",
       "    <tr style=\"text-align: right;\">\n",
       "      <th></th>\n",
       "      <th>ne</th>\n",
       "      <th>occurrences</th>\n",
       "      <th>film_id</th>\n",
       "      <th>n_sents</th>\n",
       "    </tr>\n",
       "  </thead>\n",
       "  <tbody>\n",
       "    <tr>\n",
       "      <th>0</th>\n",
       "      <td>Кинг</td>\n",
       "      <td>[Несколько лет назад прочитала оригинальный ро...</td>\n",
       "      <td>435</td>\n",
       "      <td>150</td>\n",
       "    </tr>\n",
       "    <tr>\n",
       "      <th>1</th>\n",
       "      <td>Дарабонт</td>\n",
       "      <td>[После взросления и прочтения книги фильм Дара...</td>\n",
       "      <td>435</td>\n",
       "      <td>65</td>\n",
       "    </tr>\n",
       "    <tr>\n",
       "      <th>2</th>\n",
       "      <td>Перси</td>\n",
       "      <td>[Особенно нелепа вся эта линия с травлей Перси...</td>\n",
       "      <td>435</td>\n",
       "      <td>93</td>\n",
       "    </tr>\n",
       "    <tr>\n",
       "      <th>3</th>\n",
       "      <td>Депрессия</td>\n",
       "      <td>[За то, что работает по блату (во времена Депр...</td>\n",
       "      <td>435</td>\n",
       "      <td>1</td>\n",
       "    </tr>\n",
       "    <tr>\n",
       "      <th>4</th>\n",
       "      <td>Делакруа</td>\n",
       "      <td>[И кстати, ради большей слезовыжималки сценари...</td>\n",
       "      <td>435</td>\n",
       "      <td>26</td>\n",
       "    </tr>\n",
       "    <tr>\n",
       "      <th>...</th>\n",
       "      <td>...</td>\n",
       "      <td>...</td>\n",
       "      <td>...</td>\n",
       "      <td>...</td>\n",
       "    </tr>\n",
       "    <tr>\n",
       "      <th>106669</th>\n",
       "      <td>Сергей Эйзенштейн</td>\n",
       "      <td>[В качестве наглядного примера могу предложить...</td>\n",
       "      <td>969760</td>\n",
       "      <td>1</td>\n",
       "    </tr>\n",
       "    <tr>\n",
       "      <th>106670</th>\n",
       "      <td>Ферруччо</td>\n",
       "      <td>[Молодой Ферруччо - типичный англо-саксонский ...</td>\n",
       "      <td>969760</td>\n",
       "      <td>9</td>\n",
       "    </tr>\n",
       "    <tr>\n",
       "      <th>106671</th>\n",
       "      <td>Эдуардо де Филиппо</td>\n",
       "      <td>[Авторам смотреть старые итальянские фильмы и ...</td>\n",
       "      <td>969760</td>\n",
       "      <td>1</td>\n",
       "    </tr>\n",
       "    <tr>\n",
       "      <th>106672</th>\n",
       "      <td>Ютюба</td>\n",
       "      <td>[И он по законам мотивашек с Ютюба читает как ...</td>\n",
       "      <td>969760</td>\n",
       "      <td>1</td>\n",
       "    </tr>\n",
       "    <tr>\n",
       "      <th>106673</th>\n",
       "      <td>Энцо</td>\n",
       "      <td>[По итогу процесс создания машины тоже не раск...</td>\n",
       "      <td>969760</td>\n",
       "      <td>1</td>\n",
       "    </tr>\n",
       "  </tbody>\n",
       "</table>\n",
       "<p>106674 rows × 4 columns</p>\n",
       "</div>"
      ],
      "text/plain": [
       "                        ne                                        occurrences  \\\n",
       "0                     Кинг  [Несколько лет назад прочитала оригинальный ро...   \n",
       "1                 Дарабонт  [После взросления и прочтения книги фильм Дара...   \n",
       "2                    Перси  [Особенно нелепа вся эта линия с травлей Перси...   \n",
       "3                Депрессия  [За то, что работает по блату (во времена Депр...   \n",
       "4                 Делакруа  [И кстати, ради большей слезовыжималки сценари...   \n",
       "...                    ...                                                ...   \n",
       "106669   Сергей Эйзенштейн  [В качестве наглядного примера могу предложить...   \n",
       "106670            Ферруччо  [Молодой Ферруччо - типичный англо-саксонский ...   \n",
       "106671  Эдуардо де Филиппо  [Авторам смотреть старые итальянские фильмы и ...   \n",
       "106672               Ютюба  [И он по законам мотивашек с Ютюба читает как ...   \n",
       "106673                Энцо  [По итогу процесс создания машины тоже не раск...   \n",
       "\n",
       "        film_id  n_sents  \n",
       "0           435      150  \n",
       "1           435       65  \n",
       "2           435       93  \n",
       "3           435        1  \n",
       "4           435       26  \n",
       "...         ...      ...  \n",
       "106669   969760        1  \n",
       "106670   969760        9  \n",
       "106671   969760        1  \n",
       "106672   969760        1  \n",
       "106673   969760        1  \n",
       "\n",
       "[106674 rows x 4 columns]"
      ]
     },
     "execution_count": 3,
     "metadata": {},
     "output_type": "execute_result"
    }
   ],
   "source": [
    "data = DatasetLoader.load_named_entities_dataset(show_path=True)\n",
    "data"
   ]
  },
  {
   "cell_type": "code",
   "execution_count": null,
   "id": "d465a13d",
   "metadata": {},
   "outputs": [],
   "source": [
    "# tokenizer = AutoTokenizer.from_pretrained(\"AlexKay/xlm-roberta-large-qa-multilingual-finedtuned-ru\")\n",
    "# model = AutoModelForQuestionAnswering.from_pretrained(\"AlexKay/xlm-roberta-large-qa-multilingual-finedtuned-ru\")"
   ]
  },
  {
   "cell_type": "code",
   "execution_count": 6,
   "id": "515640a6",
   "metadata": {},
   "outputs": [],
   "source": [
    "# listed_opinions = collect_sents_to_summarize(get_df_by_person(data, 'хэнкс'), n_sents = 100)\n",
    "# opinions = '\\n'.join(listed_opinions)"
   ]
  },
  {
   "cell_type": "code",
   "execution_count": 4,
   "id": "6c5d19a1",
   "metadata": {},
   "outputs": [],
   "source": [
    "# a) Get predictions\n",
    "model_name = \"AlexKay/xlm-roberta-large-qa-multilingual-finedtuned-ru\"\n",
    "model = pipeline('question-answering', model=model_name, tokenizer=model_name, device=device)"
   ]
  },
  {
   "cell_type": "code",
   "execution_count": 16,
   "id": "5f5d620d",
   "metadata": {},
   "outputs": [],
   "source": [
    "def get_person_characteristics(data: pd.DataFrame, \n",
    "                               name: str, \n",
    "                               model: QuestionAnsweringPipeline,\n",
    "                               film_id: int = None,\n",
    "                               ):\n",
    "    from src.nlp.preprocessing import clean\n",
    "    from random import shuffle\n",
    "    \n",
    "    _N_SENTS = 100\n",
    "    \n",
    "    if film_id is not None:\n",
    "        listed_opinions = collect_sents_to_summarize(\n",
    "            get_df_by_film_and_person(data, film_id, name), \n",
    "            n_sents = _N_SENTS\n",
    "        )\n",
    "    else:\n",
    "        listed_opinions = collect_sents_to_summarize(\n",
    "            get_df_by_person(data, name), \n",
    "            n_sents = _N_SENTS\n",
    "        )       \n",
    "    \n",
    "    opinions = '\\n'.join(listed_opinions)\n",
    "#     print(opinions, end='\\n------------------------------------\\n')\n",
    "    opinions = clean(opinions, char_clean_only=True, lowercase=False)\n",
    "#     print(opinions)\n",
    "    \n",
    "    answers = []\n",
    "    scores = []\n",
    "\n",
    "    try:\n",
    "        while True:\n",
    "            QA_which_input = {\n",
    "                'question': f'Какая {name}?',\n",
    "                'context': opinions\n",
    "            }\n",
    "            answer = model(QA_which_input)\n",
    "            print(answer, end='\\n\\n')\n",
    "            opinions = opinions.replace(answer['answer'], ' ')\n",
    "            answers.append(answer['answer'])\n",
    "            scores.append(answer['score'])\n",
    "\n",
    "            QA_do_input = {\n",
    "                'question': f'Что сделала {name}?',\n",
    "                'context': opinions\n",
    "            }\n",
    "            answer = model(QA_do_input)\n",
    "            print(answer, end='\\n\\n')\n",
    "            opinions = opinions.replace(answer['answer'], ' ')\n",
    "            answers.append(answer['answer'])\n",
    "            scores.append(answer['score'])\n",
    "    except KeyboardInterrupt:\n",
    "        pass\n",
    "    finally:\n",
    "        return scores, answers\n",
    "        \n",
    "        "
   ]
  },
  {
   "cell_type": "code",
   "execution_count": 17,
   "id": "1b58d9ee",
   "metadata": {
    "scrolled": false
   },
   "outputs": [
    {
     "name": "stdout",
     "output_type": "stream",
     "text": [
      "{'score': 0.6866518259048462, 'start': 5516, 'end': 5536, 'answer': ' прекрасная актриса,'}\n",
      "\n",
      "{'score': 0.5645515322685242, 'start': 6473, 'end': 6508, 'answer': ' отлично отыграла своего персонажа,'}\n",
      "\n",
      "{'score': 0.3694393038749695, 'start': 11617, 'end': 11652, 'answer': ' свежа, очаровательна и убедительна'}\n",
      "\n",
      "{'score': 0.3420686721801758, 'start': 12963, 'end': 12983, 'answer': ' стала Селиной Кайл.'}\n",
      "\n",
      "{'score': 0.4906225800514221, 'start': 12358, 'end': 12378, 'answer': ' Потрясающая, милая,'}\n",
      "\n",
      "{'score': 0.3423472046852112, 'start': 16342, 'end': 16356, 'answer': ' делает выбор,'}\n",
      "\n",
      "{'score': 0.3278907835483551, 'start': 8010, 'end': 8039, 'answer': ' невероятно красивая женщина.'}\n",
      "\n",
      "{'score': 0.2848639190196991, 'start': 6804, 'end': 6818, 'answer': ' Неплохую игру'}\n",
      "\n"
     ]
    }
   ],
   "source": [
    "scores, answers = get_person_characteristics(data, 'Хэтэуэй', model)"
   ]
  },
  {
   "cell_type": "code",
   "execution_count": 18,
   "id": "7b311f71",
   "metadata": {},
   "outputs": [
    {
     "data": {
      "text/plain": [
       "[0.6866518259048462,\n",
       " 0.5645515322685242,\n",
       " 0.3694393038749695,\n",
       " 0.3420686721801758,\n",
       " 0.4906225800514221,\n",
       " 0.3423472046852112,\n",
       " 0.3278907835483551,\n",
       " 0.2848639190196991]"
      ]
     },
     "execution_count": 18,
     "metadata": {},
     "output_type": "execute_result"
    }
   ],
   "source": [
    "scores"
   ]
  },
  {
   "cell_type": "code",
   "execution_count": 19,
   "id": "05cc109d",
   "metadata": {},
   "outputs": [
    {
     "data": {
      "text/plain": [
       "[' прекрасная актриса,',\n",
       " ' отлично отыграла своего персонажа,',\n",
       " ' свежа, очаровательна и убедительна',\n",
       " ' стала Селиной Кайл.',\n",
       " ' Потрясающая, милая,',\n",
       " ' делает выбор,',\n",
       " ' невероятно красивая женщина.',\n",
       " ' Неплохую игру']"
      ]
     },
     "execution_count": 19,
     "metadata": {},
     "output_type": "execute_result"
    }
   ],
   "source": [
    "answers"
   ]
  },
  {
   "cell_type": "code",
   "execution_count": 29,
   "id": "70e01af9",
   "metadata": {},
   "outputs": [],
   "source": [
    "clean_answers = list(map(lambda s: s.strip(' .,:'), answers))"
   ]
  },
  {
   "cell_type": "code",
   "execution_count": 30,
   "id": "089a9dcc",
   "metadata": {},
   "outputs": [
    {
     "data": {
      "image/png": "[encoded data removed]",
      "text/plain": [
       "<PIL.Image.Image image mode=RGB size=400x200>"
      ]
     },
     "execution_count": 30,
     "metadata": {},
     "output_type": "execute_result"
    }
   ],
   "source": [
    "wc = WordCloud().generate(' '.join(clean_answers))\n",
    "wc.to_image()"
   ]
  },
  {
   "cell_type": "code",
   "execution_count": null,
   "id": "e19bf70d",
   "metadata": {},
   "outputs": [],
   "source": []
  },
  {
   "cell_type": "code",
   "execution_count": null,
   "id": "f67b3d4f",
   "metadata": {},
   "outputs": [],
   "source": []
  },
  {
   "cell_type": "code",
   "execution_count": null,
   "id": "f5146397",
   "metadata": {},
   "outputs": [],
   "source": []
  },
  {
   "cell_type": "code",
   "execution_count": null,
   "id": "baa59ebf",
   "metadata": {},
   "outputs": [],
   "source": []
  },
  {
   "cell_type": "code",
   "execution_count": 5,
   "id": "29851a44",
   "metadata": {},
   "outputs": [
    {
     "name": "stdout",
     "output_type": "stream",
     "text": [
      "{'score': 0.5166663527488708, 'start': 9153, 'end': 9173, 'answer': ' стала Селиной Кайл.'}\n",
      "\n",
      "{'score': 0.44638943672180176, 'start': 13962, 'end': 13998, 'answer': ' мастерски воплотила Энди на экране,'}\n",
      "\n",
      "{'score': 0.3692881464958191, 'start': 927, 'end': 965, 'answer': \" отлично сыграла 'блаженную' королеву,\"}\n",
      "\n",
      "{'score': 0.4662542939186096, 'start': 15934, 'end': 15948, 'answer': ' делает выбор,'}\n",
      "\n",
      "{'score': 0.27789342403411865, 'start': 7304, 'end': 7335, 'answer': ' отлично выполнила свою работу.'}\n",
      "\n",
      "{'score': 0.27670738101005554, 'start': 14036, 'end': 14066, 'answer': ' своим упорством и трудолюбием'}\n",
      "\n",
      "{'score': 0.26221901178359985, 'start': 8339, 'end': 8382, 'answer': ' вполне достойно справилась со своей ролью.'}\n",
      "\n",
      "{'score': 0.30214592814445496, 'start': 9017, 'end': 9039, 'answer': ' замечательно сыграла,'}\n",
      "\n",
      "{'score': 0.29231899976730347, 'start': 15927, 'end': 15955, 'answer': ' сыграла она просто блестяще'}\n",
      "\n",
      "{'score': 0.275224894285202, 'start': 14325, 'end': 14364, 'answer': ' великолепно справилась со своей ролью,'}\n",
      "\n",
      "{'score': 0.22630028426647186, 'start': 5225, 'end': 5246, 'answer': ' превзошла саму себя,'}\n",
      "\n",
      "{'score': 0.21053454279899597, 'start': 7209, 'end': 7244, 'answer': ' прекрасно справилась с этой ролью.'}\n",
      "\n",
      "{'score': 0.3199557662010193, 'start': 12530, 'end': 12544, 'answer': '\\nНеплохую игру'}\n",
      "\n",
      "{'score': 0.3008093535900116, 'start': 6710, 'end': 6730, 'answer': ' прекрасная актриса,'}\n",
      "\n",
      "{'score': 0.18110670149326324, 'start': 12534, 'end': 12571, 'answer': ' очень порадовала Хелена Бонем Картер'}\n",
      "\n",
      "{'score': 0.1882282942533493, 'start': 12476, 'end': 12511, 'answer': ' покорительницы космической бездны.'}\n",
      "\n",
      "{'score': 0.17194904386997223, 'start': 10194, 'end': 10229, 'answer': ' отлично отыграла своего персонажа,'}\n",
      "\n",
      "{'score': 0.1570185273885727, 'start': 9334, 'end': 9371, 'answer': ' исполнила эту роль просто прекрасно,'}\n",
      "\n",
      "{'score': 0.348905473947525, 'start': 12349, 'end': 12372, 'answer': ' прекрасно справляется,'}\n",
      "\n",
      "{'score': 0.1464299112558365, 'start': 14078, 'end': 14131, 'answer': ' отлично меняя личину симпатичной девушки на воровку,'}\n",
      "\n",
      "{'score': 0.14382518827915192, 'start': 7240, 'end': 7275, 'answer': ' свежа, очаровательна и убедительна'}\n",
      "\n",
      "{'score': 0.1629435122013092, 'start': 6740, 'end': 6788, 'answer': ' свои роли в такого рода всегда исполняет на 5+,'}\n",
      "\n",
      "{'score': 0.25193580985069275, 'start': 9639, 'end': 9685, 'answer': ' великолепно воплотилась в роль Женщины-кошки,'}\n",
      "\n",
      "{'score': 0.18764841556549072, 'start': 10206, 'end': 10244, 'answer': ' очень хорошо изобразила женщину-кошку'}\n",
      "\n",
      "{'score': 0.15731501579284668, 'start': 13916, 'end': 13946, 'answer': ' отлично умеющую менять маски,'}\n",
      "\n",
      "{'score': 0.14604900777339935, 'start': 10209, 'end': 10255, 'answer': ' достойно ответила всем скептикам своей игрой.'}\n",
      "\n",
      "{'score': 0.14566099643707275, 'start': 10689, 'end': 10736, 'answer': ' всё что она делала было на благо человечества,'}\n",
      "\n",
      "{'score': 0.3067903220653534, 'start': 10081, 'end': 10099, 'answer': ' чертовски хороша,'}\n",
      "\n",
      "{'score': 0.13115838170051575, 'start': 13387, 'end': 13429, 'answer': ' смогла адаптироваться в этом ритме жизни,'}\n",
      "\n",
      "{'score': 0.1183086633682251, 'start': 10086, 'end': 10114, 'answer': ' заслуживает особой похвалы,'}\n",
      "\n",
      "{'score': 0.19602373242378235, 'start': 12493, 'end': 12547, 'answer': ' появление которой вызывает одни положительные эмоции.'}\n",
      "\n",
      "{'score': 0.2761104106903076, 'start': 13308, 'end': 13331, 'answer': ' обрести чувство стиля,'}\n",
      "\n",
      "{'score': 0.15191800892353058, 'start': 13174, 'end': 13182, 'answer': ' героиню'}\n",
      "\n",
      "{'score': 0.11495839059352875, 'start': 11586, 'end': 11622, 'answer': ' достойно воспроизвела Женщину-кошку'}\n",
      "\n",
      "{'score': 0.09262032061815262, 'start': 5784, 'end': 5806, 'answer': ' сыграла замечательно.'}\n",
      "\n",
      "{'score': 0.13644547760486603, 'start': 15427, 'end': 15476, 'answer': ' доказала, что она может думать не только о себе.'}\n",
      "\n",
      "{'score': 0.1066664606332779, 'start': 10807, 'end': 10836, 'answer': ' невероятно красивая женщина.'}\n",
      "\n",
      "{'score': 0.12079033255577087, 'start': 11777, 'end': 11813, 'answer': ' способна блестяще воплотить в жизнь'}\n",
      "\n",
      "{'score': 0.1625857800245285, 'start': 15031, 'end': 15043, 'answer': ' лучшая роль'}\n",
      "\n",
      "{'score': 0.11280575394630432, 'start': 11778, 'end': 11826, 'answer': ' безумную правительницу белого мраморного замка.'}\n",
      "\n",
      "{'score': 0.1257016658782959, 'start': 13132, 'end': 13185, 'answer': ' смогла заслужить одобрение своей суровой начальницы.'}\n",
      "\n",
      "{'score': 0.2389814555644989, 'start': 13940, 'end': 13981, 'answer': ' разрушила все законы квантовой механики.'}\n",
      "\n",
      "{'score': 0.08652947843074799, 'start': 9686, 'end': 9719, 'answer': ' очень гармонично влился в фильм,'}\n",
      "\n",
      "{'score': 0.14041006565093994, 'start': 10170, 'end': 10192, 'answer': ' сыграл отлично.<i>Энн'}\n",
      "\n",
      "{'score': 0.20182064175605774, 'start': 9586, 'end': 9611, 'answer': ' отлично сыграла Хэтэуэй,'}\n",
      "\n",
      "{'score': 0.07966422289609909, 'start': 4383, 'end': 4402, 'answer': ' готичной королевы.'}\n",
      "\n",
      "{'score': 0.1716935932636261, 'start': 11640, 'end': 11670, 'answer': ' превосходно исполненных ролей'}\n",
      "\n",
      "{'score': 0.07188615947961807, 'start': 1937, 'end': 1996, 'answer': ' занималась физическими упражнениями по пять дней в неделю,'}\n",
      "\n",
      "{'score': 0.3797621428966522, 'start': 1946, 'end': 1976, 'answer': ' изучала танцы и разные трюки,'}\n",
      "\n",
      "{'score': 0.23211145401000977, 'start': 8524, 'end': 8567, 'answer': ' создав отличную гармоничную пару с Мэттью.'}\n",
      "\n",
      "{'score': 0.17673835158348083, 'start': 6115, 'end': 6151, 'answer': ' вошла в свою роль как нельзя лучше.'}\n",
      "\n",
      "{'score': 0.29601895809173584, 'start': 6137, 'end': 6161, 'answer': ' сыграла очень не плохо,'}\n",
      "\n",
      "{'score': 0.2992566227912903, 'start': 8442, 'end': 8466, 'answer': ' была очень убедительна,'}\n",
      "\n",
      "{'score': 0.17551307380199432, 'start': 4355, 'end': 4391, 'answer': ' с ролью она определенно справилась,'}\n",
      "\n",
      "{'score': 0.15497538447380066, 'start': 1655, 'end': 1678, 'answer': ' сыграла очень красиво,'}\n",
      "\n",
      "{'score': 0.24163658916950226, 'start': 1563, 'end': 1592, 'answer': ' играла с переменным успехом,'}\n",
      "\n",
      "{'score': 0.11750376969575882, 'start': 6888, 'end': 6908, 'answer': ' Потрясающая, милая,'}\n",
      "\n",
      "{'score': 0.15284201502799988, 'start': 6057, 'end': 6078, 'answer': ' сыграла интересную ,'}\n",
      "\n",
      "{'score': 0.10893481969833374, 'start': 10043, 'end': 10069, 'answer': ' милая Энн была на высоте,'}\n",
      "\n",
      "{'score': 0.10049434751272202, 'start': 13969, 'end': 13993, 'answer': ' войти в образ Энди Сакс'}\n",
      "\n",
      "{'score': 0.08708002418279648, 'start': 14083, 'end': 14123, 'answer': ' меняет свой образ, становится успешной,'}\n",
      "\n",
      "{'score': 0.07557152956724167, 'start': 12431, 'end': 12454, 'answer': ' в роли Белой Королевы,'}\n",
      "\n",
      "{'score': 0.12159965187311172, 'start': 14029, 'end': 14061, 'answer': ' готова работать с утра до ночи,'}\n",
      "\n",
      "{'score': 0.07506370544433594, 'start': 10694, 'end': 10749, 'answer': ' она отлично вписывается под фирменный прием режиссера,'}\n",
      "\n",
      "{'score': 0.45982804894447327, 'start': 10706, 'end': 10715, 'answer': ' реализм.'}\n",
      "\n",
      "{'score': 0.08147634565830231, 'start': 13864, 'end': 13885, 'answer': ' удалось очень хорошо'}\n",
      "\n",
      "{'score': 0.07183480262756348, 'start': 5191, 'end': 5212, 'answer': ' следить за ее игрой,'}\n",
      "\n",
      "{'score': 0.21193383634090424, 'start': 4558, 'end': 4601, 'answer': ' создав живого, привлекательного персонажа.'}\n",
      "\n",
      "{'score': 0.13454757630825043, 'start': 10921, 'end': 10947, 'answer': ' превзошла Мишель Пфайфер,'}\n",
      "\n",
      "{'score': 0.13568444550037384, 'start': 14063, 'end': 14081, 'answer': '\\nОчень понравилась'}\n",
      "\n",
      "{'score': 0.11389074474573135, 'start': 6033, 'end': 6088, 'answer': ' быть самой собой или стать такой же как ее начальница.'}\n",
      "\n",
      "{'score': 0.14703258872032166, 'start': 7380, 'end': 7435, 'answer': ' дала мне повод воспринимать её как взрослеющую звезду,'}\n",
      "\n",
      "{'score': 0.4997049570083618, 'start': 7389, 'end': 7408, 'answer': ' по плечу все роли.'}\n",
      "\n",
      "{'score': 0.1336147040128708, 'start': 11723, 'end': 11766, 'answer': ' была уж слишком напыщенна и изнеженна.</i>'}\n",
      "\n",
      "{'score': 0.10051300376653671, 'start': 12421, 'end': 12455, 'answer': ' сыграла безупречно Женщину-кошку.'}\n",
      "\n",
      "{'score': 0.0927778109908104, 'start': 9192, 'end': 9225, 'answer': ' не покидала пределы лаборатории.'}\n",
      "\n"
     ]
    },
    {
     "name": "stderr",
     "output_type": "stream",
     "text": [
      "\n",
      "KeyboardInterrupt\n",
      "\n"
     ]
    }
   ],
   "source": [
    "listed_opinions = collect_sents_to_summarize(get_df_by_person(data, 'хэтэуэй'), n_sents = 100)\n",
    "opinions = '\\n'.join(listed_opinions)\n",
    "\n",
    "answers = []\n",
    "\n",
    "while True:\n",
    "    QA_input = {\n",
    "        'question': 'Что сделала Хэтэуэй?',\n",
    "        'context': opinions}\n",
    "    answer = nlp(QA_input)\n",
    "    print(answer, end='\\n\\n')\n",
    "    opinions = opinions.replace(answer['answer'], ' ')\n",
    "    answers.append(answer['answer'])"
   ]
  },
  {
   "cell_type": "code",
   "execution_count": 13,
   "id": "ef411eac",
   "metadata": {},
   "outputs": [],
   "source": [
    "answers_str = '\\n'.join(answers)"
   ]
  },
  {
   "cell_type": "code",
   "execution_count": 15,
   "id": "0fb8d8fc",
   "metadata": {
    "scrolled": true
   },
   "outputs": [
    {
     "name": "stdout",
     "output_type": "stream",
     "text": [
      " невероятно красивая женщина.\n",
      " своенравная, дерзкая, гордая и опасная,\n",
      " красивая, сексуальная и убедительная\n",
      " Красавица\n",
      "\n",
      "Героиня\n",
      " невероятна:\n",
      " милая Энн была на высоте,\n",
      " взрослеющую звезду,\n",
      " по плечу все роли.\n",
      " талантливой актрисой,\n",
      " роль на самом деле небольшая.\n",
      " готичной королевы.\n",
      " моя любимая актриса,\n",
      "\n",
      "Женщину — кошку\n",
      " 'блаженную' королеву,\n",
      " прекрасная актриса,\n",
      " милая, обаятельная и мечтательная Белая Королева..\n",
      " покорительницы космической бездны.\n",
      " чертовски хороша,\n",
      "\n",
      "Хороша\n",
      " свежа, очаровательна и убедительна\n",
      " грациозная, гибкая, неприступная,\n",
      " Потрясающая, милая,\n",
      " героиня жаждущая любить и быть любимой,\n",
      " бесподобна,\n",
      " стервозной, грациозной и сексуальной женщины-кошки\n",
      " маленькую,\n",
      " прекрасную\n",
      " очень хороша.\n",
      " отлично играющую без скидок на возраст,\n",
      " обычной обаятельной девушки,\n",
      " единственная женщина, которая получила двоякую роль,\n",
      " очаровательная и милая\n",
      " очаровательной\n",
      " потрясающая\n",
      " была великолепна,\n",
      " права,\n",
      " Энди Сакс\n",
      " это идеальное сочетание качеств\n",
      " романтичных, мечтательных и обаятельных девушек.\n",
      " была очень убедительна,\n",
      " слишком юной, неопытной и неуклюжей,\n",
      " Андреа,\n",
      " заслуживает особой похвалы,\n",
      " очень хорошо изобразила женщину-кошку\n",
      " безумную правительницу белого мраморного замка.\n",
      " стала Селиной Кайл.\n",
      " хрупкой, но решительной Белой Королевы.\n",
      "\n",
      "Энн Хэтэуэй\n",
      " очаровательная\n",
      " не покидала пределы лаборатории.\n",
      " девушка, которая может покорить любого парня своим только взглядом,\n",
      " Женщины-кошки,\n",
      " прекрасная.\n",
      "\n",
      "Кошка\n",
      " персонаж на вырост — изящный эскиз,\n",
      " не менее яркая актриса Голливуда.\n",
      " одной из моих любимых актрис,\n",
      " сексапильной Энн Хэтэуэй  воровку,\n",
      " пусть и не драматическая,\n",
      " известная\n",
      " Женщину-кошку образца XXI века.\n",
      " радует глаз не только внешностью, но и отличной игрой,\n",
      " слегка мальчишеском, гаврошевом образе,\n",
      " была уж слишком напыщенна и изнеженна.</i>\n",
      " нежной, легкой, воздушной,\n",
      " достаточно готичной Белой королевы;\n",
      "\r\n",
      "<b>7 из 10</b>\n",
      " которая уже второй раз работает с Ноланом,\n",
      " женщины-кошки\n",
      " Энн как до луны,\n",
      " героиня Энн Хэтэуэй столь же интересна,\n",
      " очень притягательная.\n",
      " Белой Королевы,\n",
      " всегда исполняет на 5+,\n",
      " губаста и упряма,\n",
      "\n",
      "Неплохую игру\n",
      " героиню\n",
      " глубоким непостижимым взглядом и монологом о любви,\n"
     ]
    }
   ],
   "source": [
    "print(answers_str)"
   ]
  },
  {
   "cell_type": "markdown",
   "id": "ae3b9859",
   "metadata": {},
   "source": [
    "#### Summarization by mBART"
   ]
  },
  {
   "cell_type": "code",
   "execution_count": 13,
   "id": "e95875f1",
   "metadata": {},
   "outputs": [],
   "source": [
    "model_name = \"IlyaGusev/mbart_ru_sum_gazeta\"\n",
    "tokenizer = MBartTokenizer.from_pretrained(model_name)\n",
    "model = MBartForConditionalGeneration.from_pretrained(model_name)"
   ]
  },
  {
   "cell_type": "code",
   "execution_count": 20,
   "id": "48ab68ce",
   "metadata": {},
   "outputs": [
    {
     "name": "stdout",
     "output_type": "stream",
     "text": [
      "В российском прокате «Эн Хэтэуэй: Женщина-кошка» — одна из самых интересных и красивых актрис Голливуда, сыгравшая Белую Королеву в космической бездне, а также сыгравшая Энди Сакс в мраморном замке в исполнении Андреа Андреа Нолана, которая сыграла героиню-кошку в фильме «Таинственный лес» и стала одной из самых популярных актрис в российском кино с момента выхода картины на экраны в 2011 году.. В этом году она сыграла главную роль в сериале «Энн: Белая Королева» — в главной роли в ленте «Секс-таинственный замок» в исполнении Энди Скотта Скотта Нолана в роли Белой Королевы в космического принцессии. В роляхозревателя космической королевы-ко-кошки-кошки Энновой-короевы-кошки, которую она играла в Голливудской космической женщины-кошек-кошки в «блаженной Королевы-королевки-кошки» в Голливуданы-кошеккишницы-кошки и «блаженщины-кошки «блаженки-кошка-кошки», — Белой Королевской королевы-короевой-кошки.» и «кошки-королевской королевы» в роляхрупкой-кошки — «блаженской королевышки-кошикшной королевы-кашки-кошке-кошек.» в «благотики-кошек, которая-кошек и «кошек-корое-кошки». Вселенной-кошекушки-кошки с космической-кошки из-кошки космической «блаженных-кошишек-кошек» и «бласти.» — в Голливусушки-кошек в Голливушки-кошку-кошишки-кошка.» — Белой-кошек — Белой королевы и «благостиковой-кошка, которую она-кошки все-кошишка-кошкой-кошки покошки-блаженной-коше».\n",
      "\n"
     ]
    }
   ],
   "source": [
    "input_ids = tokenizer(\n",
    "    [answers],\n",
    "    max_length=600,\n",
    "    padding=\"max_length\",\n",
    "    truncation=True,\n",
    "    return_tensors=\"pt\",\n",
    ")[\"input_ids\"]\n",
    "\n",
    "output_ids = model.generate(\n",
    "    input_ids=input_ids,\n",
    "    no_repeat_ngram_size=4,\n",
    "    min_length = 500,\n",
    "    max_new_tokens=1000\n",
    ")[0]\n",
    "\n",
    "summary = tokenizer.decode(output_ids, skip_special_tokens=True)\n",
    "print(summary, end='\\n\\n')\n"
   ]
  },
  {
   "cell_type": "markdown",
   "id": "2dcf5d9f",
   "metadata": {},
   "source": [
    "#### Summarization by FRED-T5"
   ]
  },
  {
   "cell_type": "code",
   "execution_count": 12,
   "id": "29ed8291",
   "metadata": {},
   "outputs": [
    {
     "name": "stderr",
     "output_type": "stream",
     "text": [
      "Special tokens have been added in the vocabulary, make sure the associated word embeddings are fine-tuned or trained.\n"
     ]
    }
   ],
   "source": [
    "tokenizer = AutoTokenizer.from_pretrained(\"ai-forever/FRED-T5-large\")\n",
    "model = AutoModelForSeq2SeqLM.from_pretrained(\"ai-forever/FRED-T5-large\")"
   ]
  },
  {
   "cell_type": "markdown",
   "id": "1486791b",
   "metadata": {},
   "source": [
    "...to be continued..."
   ]
  }
 ],
 "metadata": {
  "kernelspec": {
   "display_name": "Python 3 (ipykernel)",
   "language": "python",
   "name": "python3"
  },
  "language_info": {
   "codemirror_mode": {
    "name": "ipython",
    "version": 3
   },
   "file_extension": ".py",
   "mimetype": "text/x-python",
   "name": "python",
   "nbconvert_exporter": "python",
   "pygments_lexer": "ipython3",
   "version": "3.10.4"
  }
 },
 "nbformat": 4,
 "nbformat_minor": 5
}
