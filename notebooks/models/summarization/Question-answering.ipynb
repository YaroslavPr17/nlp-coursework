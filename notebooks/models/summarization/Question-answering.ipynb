{
 "cells": [
  {
   "cell_type": "code",
   "execution_count": 1,
   "id": "49cf3f5d",
   "metadata": {},
   "outputs": [
    {
     "name": "stdout",
     "output_type": "stream",
     "text": [
      "/home/pristalovya/Inter/Programming/nlp-coursework\n"
     ]
    }
   ],
   "source": [
    "%cd ../../.."
   ]
  },
  {
   "cell_type": "code",
   "execution_count": 2,
   "id": "4d2ded60",
   "metadata": {},
   "outputs": [
    {
     "data": {
      "text/plain": [
       "device(type='cpu')"
      ]
     },
     "execution_count": 2,
     "metadata": {},
     "output_type": "execute_result"
    }
   ],
   "source": [
    "from src.nlp.application import (Pipeline, \n",
    "                                 get_df_by_film_and_person, \n",
    "                                 get_df_by_person, \n",
    "                                 collect_sents_to_summarize,\n",
    "                                 split_opinions_to_chunks)\n",
    "from datasets_ import DatasetLoader\n",
    "\n",
    "import dill\n",
    "from tqdm.notebook import tqdm\n",
    "import sys\n",
    "\n",
    "import pandas as pd\n",
    "import numpy as np\n",
    "\n",
    "import matplotlib.pyplot as plt\n",
    "\n",
    "%matplotlib notebook\n",
    "\n",
    "\n",
    "from transformers import AutoTokenizer, AutoModelForQuestionAnswering, pipeline\n",
    "from transformers import MBartTokenizer, MBartForConditionalGeneration\n",
    "from transformers import AutoTokenizer, T5ForConditionalGeneration\n",
    "from transformers import AutoTokenizer, AutoModelForSeq2SeqLM\n",
    "\n",
    "\n",
    "import torch\n",
    "\n",
    "device = torch.device('cuda' if torch.cuda.is_available() else 'cpu')\n",
    "device"
   ]
  },
  {
   "cell_type": "code",
   "execution_count": 3,
   "id": "e3b652b5",
   "metadata": {},
   "outputs": [
    {
     "name": "stdout",
     "output_type": "stream",
     "text": [
      "/home/pristalovya/Inter/Programming/nlp-coursework/data/named_entities.csv\n"
     ]
    },
    {
     "data": {
      "text/html": [
       "<div>\n",
       "<style scoped>\n",
       "    .dataframe tbody tr th:only-of-type {\n",
       "        vertical-align: middle;\n",
       "    }\n",
       "\n",
       "    .dataframe tbody tr th {\n",
       "        vertical-align: top;\n",
       "    }\n",
       "\n",
       "    .dataframe thead th {\n",
       "        text-align: right;\n",
       "    }\n",
       "</style>\n",
       "<table border=\"1\" class=\"dataframe\">\n",
       "  <thead>\n",
       "    <tr style=\"text-align: right;\">\n",
       "      <th></th>\n",
       "      <th>ne</th>\n",
       "      <th>occurrences</th>\n",
       "      <th>film_id</th>\n",
       "      <th>n_sents</th>\n",
       "    </tr>\n",
       "  </thead>\n",
       "  <tbody>\n",
       "    <tr>\n",
       "      <th>0</th>\n",
       "      <td>Кинг</td>\n",
       "      <td>[Несколько лет назад прочитала оригинальный ро...</td>\n",
       "      <td>435</td>\n",
       "      <td>150</td>\n",
       "    </tr>\n",
       "    <tr>\n",
       "      <th>1</th>\n",
       "      <td>Дарабонт</td>\n",
       "      <td>[После взросления и прочтения книги фильм Дара...</td>\n",
       "      <td>435</td>\n",
       "      <td>65</td>\n",
       "    </tr>\n",
       "    <tr>\n",
       "      <th>2</th>\n",
       "      <td>Перси</td>\n",
       "      <td>[Особенно нелепа вся эта линия с травлей Перси...</td>\n",
       "      <td>435</td>\n",
       "      <td>93</td>\n",
       "    </tr>\n",
       "    <tr>\n",
       "      <th>3</th>\n",
       "      <td>Депрессия</td>\n",
       "      <td>[За то, что работает по блату (во времена Депр...</td>\n",
       "      <td>435</td>\n",
       "      <td>1</td>\n",
       "    </tr>\n",
       "    <tr>\n",
       "      <th>4</th>\n",
       "      <td>Делакруа</td>\n",
       "      <td>[И кстати, ради большей слезовыжималки сценари...</td>\n",
       "      <td>435</td>\n",
       "      <td>26</td>\n",
       "    </tr>\n",
       "    <tr>\n",
       "      <th>...</th>\n",
       "      <td>...</td>\n",
       "      <td>...</td>\n",
       "      <td>...</td>\n",
       "      <td>...</td>\n",
       "    </tr>\n",
       "    <tr>\n",
       "      <th>106669</th>\n",
       "      <td>Сергей Эйзенштейн</td>\n",
       "      <td>[В качестве наглядного примера могу предложить...</td>\n",
       "      <td>969760</td>\n",
       "      <td>1</td>\n",
       "    </tr>\n",
       "    <tr>\n",
       "      <th>106670</th>\n",
       "      <td>Ферруччо</td>\n",
       "      <td>[Молодой Ферруччо - типичный англо-саксонский ...</td>\n",
       "      <td>969760</td>\n",
       "      <td>9</td>\n",
       "    </tr>\n",
       "    <tr>\n",
       "      <th>106671</th>\n",
       "      <td>Эдуардо де Филиппо</td>\n",
       "      <td>[Авторам смотреть старые итальянские фильмы и ...</td>\n",
       "      <td>969760</td>\n",
       "      <td>1</td>\n",
       "    </tr>\n",
       "    <tr>\n",
       "      <th>106672</th>\n",
       "      <td>Ютюба</td>\n",
       "      <td>[И он по законам мотивашек с Ютюба читает как ...</td>\n",
       "      <td>969760</td>\n",
       "      <td>1</td>\n",
       "    </tr>\n",
       "    <tr>\n",
       "      <th>106673</th>\n",
       "      <td>Энцо</td>\n",
       "      <td>[По итогу процесс создания машины тоже не раск...</td>\n",
       "      <td>969760</td>\n",
       "      <td>1</td>\n",
       "    </tr>\n",
       "  </tbody>\n",
       "</table>\n",
       "<p>106674 rows × 4 columns</p>\n",
       "</div>"
      ],
      "text/plain": [
       "                        ne                                        occurrences  \\\n",
       "0                     Кинг  [Несколько лет назад прочитала оригинальный ро...   \n",
       "1                 Дарабонт  [После взросления и прочтения книги фильм Дара...   \n",
       "2                    Перси  [Особенно нелепа вся эта линия с травлей Перси...   \n",
       "3                Депрессия  [За то, что работает по блату (во времена Депр...   \n",
       "4                 Делакруа  [И кстати, ради большей слезовыжималки сценари...   \n",
       "...                    ...                                                ...   \n",
       "106669   Сергей Эйзенштейн  [В качестве наглядного примера могу предложить...   \n",
       "106670            Ферруччо  [Молодой Ферруччо - типичный англо-саксонский ...   \n",
       "106671  Эдуардо де Филиппо  [Авторам смотреть старые итальянские фильмы и ...   \n",
       "106672               Ютюба  [И он по законам мотивашек с Ютюба читает как ...   \n",
       "106673                Энцо  [По итогу процесс создания машины тоже не раск...   \n",
       "\n",
       "        film_id  n_sents  \n",
       "0           435      150  \n",
       "1           435       65  \n",
       "2           435       93  \n",
       "3           435        1  \n",
       "4           435       26  \n",
       "...         ...      ...  \n",
       "106669   969760        1  \n",
       "106670   969760        9  \n",
       "106671   969760        1  \n",
       "106672   969760        1  \n",
       "106673   969760        1  \n",
       "\n",
       "[106674 rows x 4 columns]"
      ]
     },
     "execution_count": 3,
     "metadata": {},
     "output_type": "execute_result"
    }
   ],
   "source": [
    "data = DatasetLoader.load_named_entities_dataset(show_path=True)\n",
    "data"
   ]
  },
  {
   "cell_type": "code",
   "execution_count": null,
   "id": "d465a13d",
   "metadata": {},
   "outputs": [],
   "source": [
    "tokenizer = AutoTokenizer.from_pretrained(\"AlexKay/xlm-roberta-large-qa-multilingual-finedtuned-ru\")\n",
    "model = AutoModelForQuestionAnswering.from_pretrained(\"AlexKay/xlm-roberta-large-qa-multilingual-finedtuned-ru\")"
   ]
  },
  {
   "cell_type": "code",
   "execution_count": 6,
   "id": "515640a6",
   "metadata": {},
   "outputs": [],
   "source": [
    "listed_opinions = collect_sents_to_summarize(get_df_by_person(data, 'хэнкс'), n_sents = 100)\n",
    "opinions = '\\n'.join(listed_opinions)"
   ]
  },
  {
   "cell_type": "code",
   "execution_count": 4,
   "id": "6c5d19a1",
   "metadata": {},
   "outputs": [],
   "source": [
    "# a) Get predictions\n",
    "model_name = \"AlexKay/xlm-roberta-large-qa-multilingual-finedtuned-ru\"\n",
    "nlp = pipeline('question-answering', model=model_name, tokenizer=model_name, device=device)"
   ]
  },
  {
   "cell_type": "code",
   "execution_count": null,
   "id": "29851a44",
   "metadata": {},
   "outputs": [
    {
     "name": "stdout",
     "output_type": "stream",
     "text": [
      "{'score': 0.5166663527488708, 'start': 9153, 'end': 9173, 'answer': ' стала Селиной Кайл.'}\n",
      "\n",
      "{'score': 0.44638943672180176, 'start': 13962, 'end': 13998, 'answer': ' мастерски воплотила Энди на экране,'}\n",
      "\n",
      "{'score': 0.3692881464958191, 'start': 927, 'end': 965, 'answer': \" отлично сыграла 'блаженную' королеву,\"}\n",
      "\n",
      "{'score': 0.4662542939186096, 'start': 15934, 'end': 15948, 'answer': ' делает выбор,'}\n",
      "\n",
      "{'score': 0.27789342403411865, 'start': 7304, 'end': 7335, 'answer': ' отлично выполнила свою работу.'}\n",
      "\n",
      "{'score': 0.27670738101005554, 'start': 14036, 'end': 14066, 'answer': ' своим упорством и трудолюбием'}\n",
      "\n",
      "{'score': 0.26221901178359985, 'start': 8339, 'end': 8382, 'answer': ' вполне достойно справилась со своей ролью.'}\n",
      "\n",
      "{'score': 0.30214592814445496, 'start': 9017, 'end': 9039, 'answer': ' замечательно сыграла,'}\n",
      "\n",
      "{'score': 0.29231899976730347, 'start': 15927, 'end': 15955, 'answer': ' сыграла она просто блестяще'}\n",
      "\n",
      "{'score': 0.275224894285202, 'start': 14325, 'end': 14364, 'answer': ' великолепно справилась со своей ролью,'}\n",
      "\n",
      "{'score': 0.22630028426647186, 'start': 5225, 'end': 5246, 'answer': ' превзошла саму себя,'}\n",
      "\n",
      "{'score': 0.21053454279899597, 'start': 7209, 'end': 7244, 'answer': ' прекрасно справилась с этой ролью.'}\n",
      "\n",
      "{'score': 0.3199557662010193, 'start': 12530, 'end': 12544, 'answer': '\\nНеплохую игру'}\n",
      "\n",
      "{'score': 0.3008093535900116, 'start': 6710, 'end': 6730, 'answer': ' прекрасная актриса,'}\n",
      "\n",
      "{'score': 0.18110670149326324, 'start': 12534, 'end': 12571, 'answer': ' очень порадовала Хелена Бонем Картер'}\n",
      "\n",
      "{'score': 0.1882282942533493, 'start': 12476, 'end': 12511, 'answer': ' покорительницы космической бездны.'}\n",
      "\n",
      "{'score': 0.17194904386997223, 'start': 10194, 'end': 10229, 'answer': ' отлично отыграла своего персонажа,'}\n",
      "\n",
      "{'score': 0.1570185273885727, 'start': 9334, 'end': 9371, 'answer': ' исполнила эту роль просто прекрасно,'}\n",
      "\n"
     ]
    }
   ],
   "source": [
    "listed_opinions = collect_sents_to_summarize(get_df_by_person(data, 'хэтэуэй'), n_sents = 100)\n",
    "opinions = '\\n'.join(listed_opinions)\n",
    "\n",
    "answers = []\n",
    "\n",
    "while True:\n",
    "    QA_input = {\n",
    "        'question': 'Что сделала Хэтэуэй?',\n",
    "        'context': opinions}\n",
    "    answer = nlp(QA_input)\n",
    "    print(answer, end='\\n\\n')\n",
    "    opinions = opinions.replace(answer['answer'], ' ')\n",
    "    answers.append(answer['answer'])"
   ]
  },
  {
   "cell_type": "code",
   "execution_count": 13,
   "id": "ef411eac",
   "metadata": {},
   "outputs": [],
   "source": [
    "answers_str = '\\n'.join(answers)"
   ]
  },
  {
   "cell_type": "code",
   "execution_count": 15,
   "id": "0fb8d8fc",
   "metadata": {
    "scrolled": true
   },
   "outputs": [
    {
     "name": "stdout",
     "output_type": "stream",
     "text": [
      " невероятно красивая женщина.\n",
      " своенравная, дерзкая, гордая и опасная,\n",
      " красивая, сексуальная и убедительная\n",
      " Красавица\n",
      "\n",
      "Героиня\n",
      " невероятна:\n",
      " милая Энн была на высоте,\n",
      " взрослеющую звезду,\n",
      " по плечу все роли.\n",
      " талантливой актрисой,\n",
      " роль на самом деле небольшая.\n",
      " готичной королевы.\n",
      " моя любимая актриса,\n",
      "\n",
      "Женщину — кошку\n",
      " 'блаженную' королеву,\n",
      " прекрасная актриса,\n",
      " милая, обаятельная и мечтательная Белая Королева..\n",
      " покорительницы космической бездны.\n",
      " чертовски хороша,\n",
      "\n",
      "Хороша\n",
      " свежа, очаровательна и убедительна\n",
      " грациозная, гибкая, неприступная,\n",
      " Потрясающая, милая,\n",
      " героиня жаждущая любить и быть любимой,\n",
      " бесподобна,\n",
      " стервозной, грациозной и сексуальной женщины-кошки\n",
      " маленькую,\n",
      " прекрасную\n",
      " очень хороша.\n",
      " отлично играющую без скидок на возраст,\n",
      " обычной обаятельной девушки,\n",
      " единственная женщина, которая получила двоякую роль,\n",
      " очаровательная и милая\n",
      " очаровательной\n",
      " потрясающая\n",
      " была великолепна,\n",
      " права,\n",
      " Энди Сакс\n",
      " это идеальное сочетание качеств\n",
      " романтичных, мечтательных и обаятельных девушек.\n",
      " была очень убедительна,\n",
      " слишком юной, неопытной и неуклюжей,\n",
      " Андреа,\n",
      " заслуживает особой похвалы,\n",
      " очень хорошо изобразила женщину-кошку\n",
      " безумную правительницу белого мраморного замка.\n",
      " стала Селиной Кайл.\n",
      " хрупкой, но решительной Белой Королевы.\n",
      "\n",
      "Энн Хэтэуэй\n",
      " очаровательная\n",
      " не покидала пределы лаборатории.\n",
      " девушка, которая может покорить любого парня своим только взглядом,\n",
      " Женщины-кошки,\n",
      " прекрасная.\n",
      "\n",
      "Кошка\n",
      " персонаж на вырост — изящный эскиз,\n",
      " не менее яркая актриса Голливуда.\n",
      " одной из моих любимых актрис,\n",
      " сексапильной Энн Хэтэуэй  воровку,\n",
      " пусть и не драматическая,\n",
      " известная\n",
      " Женщину-кошку образца XXI века.\n",
      " радует глаз не только внешностью, но и отличной игрой,\n",
      " слегка мальчишеском, гаврошевом образе,\n",
      " была уж слишком напыщенна и изнеженна.</i>\n",
      " нежной, легкой, воздушной,\n",
      " достаточно готичной Белой королевы;\n",
      "\r\n",
      "<b>7 из 10</b>\n",
      " которая уже второй раз работает с Ноланом,\n",
      " женщины-кошки\n",
      " Энн как до луны,\n",
      " героиня Энн Хэтэуэй столь же интересна,\n",
      " очень притягательная.\n",
      " Белой Королевы,\n",
      " всегда исполняет на 5+,\n",
      " губаста и упряма,\n",
      "\n",
      "Неплохую игру\n",
      " героиню\n",
      " глубоким непостижимым взглядом и монологом о любви,\n"
     ]
    }
   ],
   "source": [
    "print(answers_str)"
   ]
  },
  {
   "cell_type": "markdown",
   "id": "ae3b9859",
   "metadata": {},
   "source": [
    "#### Summarization by mBART"
   ]
  },
  {
   "cell_type": "code",
   "execution_count": 13,
   "id": "e95875f1",
   "metadata": {},
   "outputs": [],
   "source": [
    "model_name = \"IlyaGusev/mbart_ru_sum_gazeta\"\n",
    "tokenizer = MBartTokenizer.from_pretrained(model_name)\n",
    "model = MBartForConditionalGeneration.from_pretrained(model_name)"
   ]
  },
  {
   "cell_type": "code",
   "execution_count": 20,
   "id": "48ab68ce",
   "metadata": {},
   "outputs": [
    {
     "name": "stdout",
     "output_type": "stream",
     "text": [
      "В российском прокате «Эн Хэтэуэй: Женщина-кошка» — одна из самых интересных и красивых актрис Голливуда, сыгравшая Белую Королеву в космической бездне, а также сыгравшая Энди Сакс в мраморном замке в исполнении Андреа Андреа Нолана, которая сыграла героиню-кошку в фильме «Таинственный лес» и стала одной из самых популярных актрис в российском кино с момента выхода картины на экраны в 2011 году.. В этом году она сыграла главную роль в сериале «Энн: Белая Королева» — в главной роли в ленте «Секс-таинственный замок» в исполнении Энди Скотта Скотта Нолана в роли Белой Королевы в космического принцессии. В роляхозревателя космической королевы-ко-кошки-кошки Энновой-короевы-кошки, которую она играла в Голливудской космической женщины-кошек-кошки в «блаженной Королевы-королевки-кошки» в Голливуданы-кошеккишницы-кошки и «блаженщины-кошки «блаженки-кошка-кошки», — Белой Королевской королевы-короевой-кошки.» и «кошки-королевской королевы» в роляхрупкой-кошки — «блаженской королевышки-кошикшной королевы-кашки-кошке-кошек.» в «благотики-кошек, которая-кошек и «кошек-корое-кошки». Вселенной-кошекушки-кошки с космической-кошки из-кошки космической «блаженных-кошишек-кошек» и «бласти.» — в Голливусушки-кошек в Голливушки-кошку-кошишки-кошка.» — Белой-кошек — Белой королевы и «благостиковой-кошка, которую она-кошки все-кошишка-кошкой-кошки покошки-блаженной-коше».\n",
      "\n"
     ]
    }
   ],
   "source": [
    "input_ids = tokenizer(\n",
    "    [answers],\n",
    "    max_length=600,\n",
    "    padding=\"max_length\",\n",
    "    truncation=True,\n",
    "    return_tensors=\"pt\",\n",
    ")[\"input_ids\"]\n",
    "\n",
    "output_ids = model.generate(\n",
    "    input_ids=input_ids,\n",
    "    no_repeat_ngram_size=4,\n",
    "    min_length = 500,\n",
    "    max_new_tokens=1000\n",
    ")[0]\n",
    "\n",
    "summary = tokenizer.decode(output_ids, skip_special_tokens=True)\n",
    "print(summary, end='\\n\\n')\n"
   ]
  },
  {
   "cell_type": "markdown",
   "id": "2dcf5d9f",
   "metadata": {},
   "source": [
    "#### Summarization by FRED-T5"
   ]
  },
  {
   "cell_type": "code",
   "execution_count": 12,
   "id": "29ed8291",
   "metadata": {},
   "outputs": [
    {
     "name": "stderr",
     "output_type": "stream",
     "text": [
      "Special tokens have been added in the vocabulary, make sure the associated word embeddings are fine-tuned or trained.\n"
     ]
    }
   ],
   "source": [
    "tokenizer = AutoTokenizer.from_pretrained(\"ai-forever/FRED-T5-large\")\n",
    "model = AutoModelForSeq2SeqLM.from_pretrained(\"ai-forever/FRED-T5-large\")"
   ]
  },
  {
   "cell_type": "code",
   "execution_count": 17,
   "id": "02b0cdeb",
   "metadata": {},
   "outputs": [
    {
     "name": "stdout",
     "output_type": "stream",
     "text": [
      "\n",
      " Энн Хэтэуэй\n",
      " очаровательная,\n",
      " очаровательная и милая,\n",
      " очаровательной и милой,\n",
      " очаровательна и милая, —\n",
      "\n",
      "Энн Хэтэуээй\n",
      " очаровательна,\n",
      " очаровательно и милая, очаровательная и нежная,\n",
      " очаровательный и нежный,\n",
      " очаровательные и нежные,\n",
      " очаровательны и нежные, —\n",
      " очаровательная\n",
      " очаровательная Энн Хэтээуэй\n",
      "\n",
      "Энни Хэтээуэй,\n",
      " очаровательное и очаровательное,\n",
      " очаровательного и очаровательного,\n",
      " очаровательных и очаровательных,\n",
      " очаровательным и очаровательным,\n",
      " очаровательными и очаровательными,\n",
      " очаровательную и очаровательную,\n",
      " очаровательному и очаровательному,\n",
      " очаровательном и очаровательном,\n",
      " очаровательности и очаровательной,\n",
      " очаровательность и очаровательной\n",
      " очаровательной, очаровательной и очаровательной.\n",
      " очаровательной\n",
      " и очаровательной и обаятельной,\n",
      " прелестной и очаровательной очаровательной, —\n",
      " прелестной,\n",
      "\n"
     ]
    }
   ],
   "source": [
    "input_ids = tokenizer(\n",
    "    [answers_str],\n",
    "    max_length=600,\n",
    "    padding=\"max_length\",\n",
    "    truncation=True,\n",
    "    return_tensors=\"pt\",\n",
    ")[\"input_ids\"]\n",
    "\n",
    "output_ids = model.generate(\n",
    "    input_ids=input_ids,\n",
    "    no_repeat_ngram_size=4,\n",
    "    max_new_tokens=200\n",
    ")[0]\n",
    "\n",
    "summary = tokenizer.decode(output_ids, skip_special_tokens=True)\n",
    "print(summary, end='\\n\\n')\n"
   ]
  },
  {
   "cell_type": "code",
   "execution_count": null,
   "id": "6dbcf20c",
   "metadata": {},
   "outputs": [],
   "source": []
  },
  {
   "cell_type": "code",
   "execution_count": null,
   "id": "6cb28da0",
   "metadata": {},
   "outputs": [],
   "source": []
  },
  {
   "cell_type": "code",
   "execution_count": null,
   "id": "dc42138f",
   "metadata": {},
   "outputs": [],
   "source": []
  },
  {
   "cell_type": "code",
   "execution_count": 13,
   "id": "f9cca20f",
   "metadata": {},
   "outputs": [
    {
     "data": {
      "text/plain": [
       "{'score': 0.8244541883468628,\n",
       " 'start': 11425,\n",
       " 'end': 11454,\n",
       " 'answer': ' невероятно красивая женщина.'}"
      ]
     },
     "execution_count": 13,
     "metadata": {},
     "output_type": "execute_result"
    }
   ],
   "source": [
    "res"
   ]
  },
  {
   "cell_type": "code",
   "execution_count": null,
   "id": "45ab780c",
   "metadata": {},
   "outputs": [],
   "source": []
  },
  {
   "cell_type": "code",
   "execution_count": null,
   "id": "8ea43a49",
   "metadata": {},
   "outputs": [],
   "source": []
  },
  {
   "cell_type": "code",
   "execution_count": null,
   "id": "87e6cb34",
   "metadata": {},
   "outputs": [],
   "source": []
  }
 ],
 "metadata": {
  "kernelspec": {
   "display_name": "Python 3 (ipykernel)",
   "language": "python",
   "name": "python3"
  },
  "language_info": {
   "codemirror_mode": {
    "name": "ipython",
    "version": 3
   },
   "file_extension": ".py",
   "mimetype": "text/x-python",
   "name": "python",
   "nbconvert_exporter": "python",
   "pygments_lexer": "ipython3",
   "version": "3.10.4"
  }
 },
 "nbformat": 4,
 "nbformat_minor": 5
}
