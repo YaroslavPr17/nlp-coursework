{
 "cells": [
  {
   "cell_type": "markdown",
   "id": "2b01b9d5",
   "metadata": {},
   "source": [
    "# Notebook structure:\n",
    "* Categories distribution\n",
    "* CountVectorizer + LogReg + TfidfVectorizer training with unbalanced dataset\n",
    "* Balancing dataset\n",
    "* Training LogReg & GB with Tfidf & CountVectorizer on balanced dataset\n",
    "* Feature importances + greater&smaller weights\n",
    "* Trying word2vec + training models\n",
    "\n",
    "**Dataset:** Top 100 films + low-rating films\n",
    "\n",
    "**Dataset shape:** 60058∗2\n",
    "\n",
    "Reviews: reviews without nltk.stopwords, without tags, with lemmatization"
   ]
  },
  {
   "cell_type": "code",
   "execution_count": 1,
   "id": "b7a31b18",
   "metadata": {},
   "outputs": [],
   "source": [
    "%cd ../..\n",
    "\n",
    "from datasets.getters import  load_reviews_Review_Label_clean\n",
    "\n",
    "import numpy as np\n",
    "import pandas as pd\n",
    "import matplotlib.pyplot as plt\n",
    "import dill\n",
    "\n",
    "from sklearn.feature_extraction.text import TfidfVectorizer, CountVectorizer\n",
    "from sklearn.model_selection import train_test_split\n",
    "from sklearn.metrics import classification_report, f1_score\n",
    "from sklearn.linear_model import LogisticRegression \n",
    "from nltk.tokenize import TreebankWordTokenizer, TweetTokenizer\n",
    "import nltk\n",
    "from sklearn.utils import resample\n",
    "from sklearn.ensemble import GradientBoostingClassifier\n",
    "import catboost as cb\n",
    "from gensim.models import Word2Vec\n",
    "\n",
    "from pprint import pprint\n",
    "\n",
    "from pymystem3 import Mystem\n",
    "\n",
    "np.set_printoptions(threshold=np.inf)"
   ]
  },
  {
   "cell_type": "code",
   "execution_count": 2,
   "id": "b7103ba6",
   "metadata": {},
   "outputs": [
    {
     "data": {
      "text/html": [
       "<div>\n",
       "<style scoped>\n",
       "    .dataframe tbody tr th:only-of-type {\n",
       "        vertical-align: middle;\n",
       "    }\n",
       "\n",
       "    .dataframe tbody tr th {\n",
       "        vertical-align: top;\n",
       "    }\n",
       "\n",
       "    .dataframe thead th {\n",
       "        text-align: right;\n",
       "    }\n",
       "</style>\n",
       "<table border=\"1\" class=\"dataframe\">\n",
       "  <thead>\n",
       "    <tr style=\"text-align: right;\">\n",
       "      <th></th>\n",
       "      <th>review</th>\n",
       "      <th>label</th>\n",
       "    </tr>\n",
       "  </thead>\n",
       "  <tbody>\n",
       "    <tr>\n",
       "      <th>0</th>\n",
       "      <td>«зелёный милю» смотреть раз : 10 год назад сей...</td>\n",
       "      <td>NEUTRAL</td>\n",
       "    </tr>\n",
       "    <tr>\n",
       "      <th>1</th>\n",
       "      <td>период конец девяностый годов-начало двухтысяч...</td>\n",
       "      <td>POSITIVE</td>\n",
       "    </tr>\n",
       "    <tr>\n",
       "      <th>2</th>\n",
       "      <td>очень сложно писать рецензия фильм , это прост...</td>\n",
       "      <td>POSITIVE</td>\n",
       "    </tr>\n",
       "    <tr>\n",
       "      <th>3</th>\n",
       "      <td>любимый многий миллион ценитель киноискусство ...</td>\n",
       "      <td>POSITIVE</td>\n",
       "    </tr>\n",
       "    <tr>\n",
       "      <th>4</th>\n",
       "      <td>наш мир существовать разный фильмов. один цепл...</td>\n",
       "      <td>POSITIVE</td>\n",
       "    </tr>\n",
       "    <tr>\n",
       "      <th>...</th>\n",
       "      <td>...</td>\n",
       "      <td>...</td>\n",
       "    </tr>\n",
       "    <tr>\n",
       "      <th>60053</th>\n",
       "      <td>исключение легендарный 'челюсть ' , качественн...</td>\n",
       "      <td>NEUTRAL</td>\n",
       "    </tr>\n",
       "    <tr>\n",
       "      <th>60054</th>\n",
       "      <td>действие фильм происходить космический корабле...</td>\n",
       "      <td>NEGATIVE</td>\n",
       "    </tr>\n",
       "    <tr>\n",
       "      <th>60055</th>\n",
       "      <td>стоить поверить низкий оценка смотреть фильм ,...</td>\n",
       "      <td>NEGATIVE</td>\n",
       "    </tr>\n",
       "    <tr>\n",
       "      <th>60056</th>\n",
       "      <td>повестись , каждый фильм жанр фантастика , кот...</td>\n",
       "      <td>NEGATIVE</td>\n",
       "    </tr>\n",
       "    <tr>\n",
       "      <th>60057</th>\n",
       "      <td>последний десятилетие , фон засилье фэнтэзь , ...</td>\n",
       "      <td>NEUTRAL</td>\n",
       "    </tr>\n",
       "  </tbody>\n",
       "</table>\n",
       "<p>60058 rows × 2 columns</p>\n",
       "</div>"
      ],
      "text/plain": [
       "                                                  review     label\n",
       "0      «зелёный милю» смотреть раз : 10 год назад сей...   NEUTRAL\n",
       "1      период конец девяностый годов-начало двухтысяч...  POSITIVE\n",
       "2      очень сложно писать рецензия фильм , это прост...  POSITIVE\n",
       "3      любимый многий миллион ценитель киноискусство ...  POSITIVE\n",
       "4      наш мир существовать разный фильмов. один цепл...  POSITIVE\n",
       "...                                                  ...       ...\n",
       "60053  исключение легендарный 'челюсть ' , качественн...   NEUTRAL\n",
       "60054  действие фильм происходить космический корабле...  NEGATIVE\n",
       "60055  стоить поверить низкий оценка смотреть фильм ,...  NEGATIVE\n",
       "60056  повестись , каждый фильм жанр фантастика , кот...  NEGATIVE\n",
       "60057  последний десятилетие , фон засилье фэнтэзь , ...   NEUTRAL\n",
       "\n",
       "[60058 rows x 2 columns]"
      ]
     },
     "execution_count": 2,
     "metadata": {},
     "output_type": "execute_result"
    }
   ],
   "source": [
    "reviews = load_reviews_Review_Label_clean()\n",
    "reviews"
   ]
  },
  {
   "cell_type": "code",
   "execution_count": 3,
   "id": "e028114d",
   "metadata": {},
   "outputs": [
    {
     "data": {
      "text/plain": [
       "POSITIVE    47847\n",
       "NEUTRAL      6744\n",
       "NEGATIVE     5467\n",
       "Name: label, dtype: int64"
      ]
     },
     "execution_count": 3,
     "metadata": {},
     "output_type": "execute_result"
    }
   ],
   "source": [
    "reviews.label.value_counts()"
   ]
  },
  {
   "cell_type": "code",
   "execution_count": 4,
   "id": "d6005b42",
   "metadata": {},
   "outputs": [
    {
     "data": {
      "image/png": "[encoded data removed]",
      "text/plain": [
       "<Figure size 500x300 with 1 Axes>"
      ]
     },
     "metadata": {},
     "output_type": "display_data"
    }
   ],
   "source": [
    "fig, ax = plt.subplots(figsize=(5, 3))\n",
    "\n",
    "ax.bar(reviews.label.value_counts().index, \n",
    "       reviews.label.value_counts().values, \n",
    "       color = 'moccasin', width = 0.9)\n",
    "plt.title(\"Category distribution\")\n",
    "plt.xlabel(\"Review types\")\n",
    "plt.ylabel(\"Number of reviews\")\n",
    "plt.grid(True)"
   ]
  },
  {
   "cell_type": "code",
   "execution_count": 5,
   "id": "669dc54e",
   "metadata": {},
   "outputs": [],
   "source": [
    "label_encoding = {\n",
    "    'POSITIVE': 2,\n",
    "    'NEUTRAL': 1,\n",
    "    'NEGATIVE': 0\n",
    "}"
   ]
  },
  {
   "cell_type": "code",
   "execution_count": 6,
   "id": "12292ef5",
   "metadata": {},
   "outputs": [
    {
     "data": {
      "text/html": [
       "<div>\n",
       "<style scoped>\n",
       "    .dataframe tbody tr th:only-of-type {\n",
       "        vertical-align: middle;\n",
       "    }\n",
       "\n",
       "    .dataframe tbody tr th {\n",
       "        vertical-align: top;\n",
       "    }\n",
       "\n",
       "    .dataframe thead th {\n",
       "        text-align: right;\n",
       "    }\n",
       "</style>\n",
       "<table border=\"1\" class=\"dataframe\">\n",
       "  <thead>\n",
       "    <tr style=\"text-align: right;\">\n",
       "      <th></th>\n",
       "      <th>review</th>\n",
       "      <th>label</th>\n",
       "    </tr>\n",
       "  </thead>\n",
       "  <tbody>\n",
       "    <tr>\n",
       "      <th>0</th>\n",
       "      <td>«зелёный милю» смотреть раз : 10 год назад сей...</td>\n",
       "      <td>1</td>\n",
       "    </tr>\n",
       "    <tr>\n",
       "      <th>1</th>\n",
       "      <td>период конец девяностый годов-начало двухтысяч...</td>\n",
       "      <td>2</td>\n",
       "    </tr>\n",
       "    <tr>\n",
       "      <th>2</th>\n",
       "      <td>очень сложно писать рецензия фильм , это прост...</td>\n",
       "      <td>2</td>\n",
       "    </tr>\n",
       "    <tr>\n",
       "      <th>3</th>\n",
       "      <td>любимый многий миллион ценитель киноискусство ...</td>\n",
       "      <td>2</td>\n",
       "    </tr>\n",
       "    <tr>\n",
       "      <th>4</th>\n",
       "      <td>наш мир существовать разный фильмов. один цепл...</td>\n",
       "      <td>2</td>\n",
       "    </tr>\n",
       "    <tr>\n",
       "      <th>...</th>\n",
       "      <td>...</td>\n",
       "      <td>...</td>\n",
       "    </tr>\n",
       "    <tr>\n",
       "      <th>60053</th>\n",
       "      <td>исключение легендарный 'челюсть ' , качественн...</td>\n",
       "      <td>1</td>\n",
       "    </tr>\n",
       "    <tr>\n",
       "      <th>60054</th>\n",
       "      <td>действие фильм происходить космический корабле...</td>\n",
       "      <td>0</td>\n",
       "    </tr>\n",
       "    <tr>\n",
       "      <th>60055</th>\n",
       "      <td>стоить поверить низкий оценка смотреть фильм ,...</td>\n",
       "      <td>0</td>\n",
       "    </tr>\n",
       "    <tr>\n",
       "      <th>60056</th>\n",
       "      <td>повестись , каждый фильм жанр фантастика , кот...</td>\n",
       "      <td>0</td>\n",
       "    </tr>\n",
       "    <tr>\n",
       "      <th>60057</th>\n",
       "      <td>последний десятилетие , фон засилье фэнтэзь , ...</td>\n",
       "      <td>1</td>\n",
       "    </tr>\n",
       "  </tbody>\n",
       "</table>\n",
       "<p>60058 rows × 2 columns</p>\n",
       "</div>"
      ],
      "text/plain": [
       "                                                  review  label\n",
       "0      «зелёный милю» смотреть раз : 10 год назад сей...      1\n",
       "1      период конец девяностый годов-начало двухтысяч...      2\n",
       "2      очень сложно писать рецензия фильм , это прост...      2\n",
       "3      любимый многий миллион ценитель киноискусство ...      2\n",
       "4      наш мир существовать разный фильмов. один цепл...      2\n",
       "...                                                  ...    ...\n",
       "60053  исключение легендарный 'челюсть ' , качественн...      1\n",
       "60054  действие фильм происходить космический корабле...      0\n",
       "60055  стоить поверить низкий оценка смотреть фильм ,...      0\n",
       "60056  повестись , каждый фильм жанр фантастика , кот...      0\n",
       "60057  последний десятилетие , фон засилье фэнтэзь , ...      1\n",
       "\n",
       "[60058 rows x 2 columns]"
      ]
     },
     "execution_count": 6,
     "metadata": {},
     "output_type": "execute_result"
    }
   ],
   "source": [
    "reviews.label = reviews.label.apply(lambda label: label_encoding[label])\n",
    "reviews"
   ]
  },
  {
   "cell_type": "code",
   "execution_count": 7,
   "id": "55574e2f",
   "metadata": {},
   "outputs": [
    {
     "data": {
      "text/html": [
       "<div>\n",
       "<style scoped>\n",
       "    .dataframe tbody tr th:only-of-type {\n",
       "        vertical-align: middle;\n",
       "    }\n",
       "\n",
       "    .dataframe tbody tr th {\n",
       "        vertical-align: top;\n",
       "    }\n",
       "\n",
       "    .dataframe thead th {\n",
       "        text-align: right;\n",
       "    }\n",
       "</style>\n",
       "<table border=\"1\" class=\"dataframe\">\n",
       "  <thead>\n",
       "    <tr style=\"text-align: right;\">\n",
       "      <th></th>\n",
       "      <th>review</th>\n",
       "      <th>label</th>\n",
       "    </tr>\n",
       "  </thead>\n",
       "  <tbody>\n",
       "    <tr>\n",
       "      <th>0</th>\n",
       "      <td>период конец девяностый годов-начало двухтысяч...</td>\n",
       "      <td>2</td>\n",
       "    </tr>\n",
       "    <tr>\n",
       "      <th>1</th>\n",
       "      <td>очень сложно писать рецензия фильм , это прост...</td>\n",
       "      <td>2</td>\n",
       "    </tr>\n",
       "    <tr>\n",
       "      <th>2</th>\n",
       "      <td>любимый многий миллион ценитель киноискусство ...</td>\n",
       "      <td>2</td>\n",
       "    </tr>\n",
       "    <tr>\n",
       "      <th>3</th>\n",
       "      <td>наш мир существовать разный фильмов. один цепл...</td>\n",
       "      <td>2</td>\n",
       "    </tr>\n",
       "    <tr>\n",
       "      <th>4</th>\n",
       "      <td>1999 год фильм увидел. показывать местный тв. ...</td>\n",
       "      <td>2</td>\n",
       "    </tr>\n",
       "    <tr>\n",
       "      <th>...</th>\n",
       "      <td>...</td>\n",
       "      <td>...</td>\n",
       "    </tr>\n",
       "    <tr>\n",
       "      <th>53309</th>\n",
       "      <td>хотеть знать , 'осторожно ! ребёнок играть ' о...</td>\n",
       "      <td>0</td>\n",
       "    </tr>\n",
       "    <tr>\n",
       "      <th>53310</th>\n",
       "      <td>непотопляемый ( право славиться свой долгожите...</td>\n",
       "      <td>2</td>\n",
       "    </tr>\n",
       "    <tr>\n",
       "      <th>53311</th>\n",
       "      <td>действие фильм происходить космический корабле...</td>\n",
       "      <td>0</td>\n",
       "    </tr>\n",
       "    <tr>\n",
       "      <th>53312</th>\n",
       "      <td>стоить поверить низкий оценка смотреть фильм ,...</td>\n",
       "      <td>0</td>\n",
       "    </tr>\n",
       "    <tr>\n",
       "      <th>53313</th>\n",
       "      <td>повестись , каждый фильм жанр фантастика , кот...</td>\n",
       "      <td>0</td>\n",
       "    </tr>\n",
       "  </tbody>\n",
       "</table>\n",
       "<p>53314 rows × 2 columns</p>\n",
       "</div>"
      ],
      "text/plain": [
       "                                                  review  label\n",
       "0      период конец девяностый годов-начало двухтысяч...      2\n",
       "1      очень сложно писать рецензия фильм , это прост...      2\n",
       "2      любимый многий миллион ценитель киноискусство ...      2\n",
       "3      наш мир существовать разный фильмов. один цепл...      2\n",
       "4      1999 год фильм увидел. показывать местный тв. ...      2\n",
       "...                                                  ...    ...\n",
       "53309  хотеть знать , 'осторожно ! ребёнок играть ' о...      0\n",
       "53310  непотопляемый ( право славиться свой долгожите...      2\n",
       "53311  действие фильм происходить космический корабле...      0\n",
       "53312  стоить поверить низкий оценка смотреть фильм ,...      0\n",
       "53313  повестись , каждый фильм жанр фантастика , кот...      0\n",
       "\n",
       "[53314 rows x 2 columns]"
      ]
     },
     "execution_count": 7,
     "metadata": {},
     "output_type": "execute_result"
    }
   ],
   "source": [
    "reviews = reviews[reviews.label != 1].reset_index().drop(columns=['index'])\n",
    "reviews"
   ]
  },
  {
   "cell_type": "code",
   "execution_count": 8,
   "id": "d52deb5f",
   "metadata": {},
   "outputs": [
    {
     "name": "stdout",
     "output_type": "stream",
     "text": [
      "(37319, 2) (15995, 2)\n"
     ]
    },
    {
     "data": {
      "text/html": [
       "<div>\n",
       "<style scoped>\n",
       "    .dataframe tbody tr th:only-of-type {\n",
       "        vertical-align: middle;\n",
       "    }\n",
       "\n",
       "    .dataframe tbody tr th {\n",
       "        vertical-align: top;\n",
       "    }\n",
       "\n",
       "    .dataframe thead th {\n",
       "        text-align: right;\n",
       "    }\n",
       "</style>\n",
       "<table border=\"1\" class=\"dataframe\">\n",
       "  <thead>\n",
       "    <tr style=\"text-align: right;\">\n",
       "      <th></th>\n",
       "      <th>review</th>\n",
       "      <th>label</th>\n",
       "    </tr>\n",
       "  </thead>\n",
       "  <tbody>\n",
       "    <tr>\n",
       "      <th>43974</th>\n",
       "      <td>всё-таки продюсерский жадность - дело удивител...</td>\n",
       "      <td>2</td>\n",
       "    </tr>\n",
       "    <tr>\n",
       "      <th>20438</th>\n",
       "      <td>самый зрелищный фильм 2007 год — «пират карибс...</td>\n",
       "      <td>2</td>\n",
       "    </tr>\n",
       "    <tr>\n",
       "      <th>5134</th>\n",
       "      <td>второй фильм заметно первого. «два крепости» с...</td>\n",
       "      <td>2</td>\n",
       "    </tr>\n",
       "    <tr>\n",
       "      <th>6870</th>\n",
       "      <td>микки маус научиться летать , обязательно спас...</td>\n",
       "      <td>2</td>\n",
       "    </tr>\n",
       "    <tr>\n",
       "      <th>33304</th>\n",
       "      <td>парить воздух гора , птица удивительный расцве...</td>\n",
       "      <td>2</td>\n",
       "    </tr>\n",
       "    <tr>\n",
       "      <th>...</th>\n",
       "      <td>...</td>\n",
       "      <td>...</td>\n",
       "    </tr>\n",
       "    <tr>\n",
       "      <th>11284</th>\n",
       "      <td>... ввернуть идея подсознание человек сон ... ...</td>\n",
       "      <td>2</td>\n",
       "    </tr>\n",
       "    <tr>\n",
       "      <th>44732</th>\n",
       "      <td>фильм потрясающий. мало , необычен. необычный ...</td>\n",
       "      <td>2</td>\n",
       "    </tr>\n",
       "    <tr>\n",
       "      <th>38158</th>\n",
       "      <td>кто-то заметить : человек жаждать сэкономить н...</td>\n",
       "      <td>2</td>\n",
       "    </tr>\n",
       "    <tr>\n",
       "      <th>860</th>\n",
       "      <td>фильм , который неизменно занимать первый мест...</td>\n",
       "      <td>2</td>\n",
       "    </tr>\n",
       "    <tr>\n",
       "      <th>15795</th>\n",
       "      <td>фильм ждать весь сердце , истинный ценитель тв...</td>\n",
       "      <td>2</td>\n",
       "    </tr>\n",
       "  </tbody>\n",
       "</table>\n",
       "<p>37319 rows × 2 columns</p>\n",
       "</div>"
      ],
      "text/plain": [
       "                                                  review  label\n",
       "43974  всё-таки продюсерский жадность - дело удивител...      2\n",
       "20438  самый зрелищный фильм 2007 год — «пират карибс...      2\n",
       "5134   второй фильм заметно первого. «два крепости» с...      2\n",
       "6870   микки маус научиться летать , обязательно спас...      2\n",
       "33304  парить воздух гора , птица удивительный расцве...      2\n",
       "...                                                  ...    ...\n",
       "11284  ... ввернуть идея подсознание человек сон ... ...      2\n",
       "44732  фильм потрясающий. мало , необычен. необычный ...      2\n",
       "38158  кто-то заметить : человек жаждать сэкономить н...      2\n",
       "860    фильм , который неизменно занимать первый мест...      2\n",
       "15795  фильм ждать весь сердце , истинный ценитель тв...      2\n",
       "\n",
       "[37319 rows x 2 columns]"
      ]
     },
     "execution_count": 8,
     "metadata": {},
     "output_type": "execute_result"
    }
   ],
   "source": [
    "train, test = train_test_split(reviews, test_size=0.3, random_state=42)\n",
    "print(train.shape, test.shape)\n",
    "train"
   ]
  },
  {
   "cell_type": "code",
   "execution_count": 9,
   "id": "f8cbb496",
   "metadata": {},
   "outputs": [],
   "source": [
    "# cnt_vec_text = CountVectorizer()\n",
    "# train_vectorized = cnt_vec_text.fit_transform(train.review)\n",
    "# train_vectorized"
   ]
  },
  {
   "cell_type": "code",
   "execution_count": 10,
   "id": "962e3a7b",
   "metadata": {},
   "outputs": [],
   "source": [
    "# cnt_vec_text.vocabulary_"
   ]
  },
  {
   "cell_type": "markdown",
   "id": "06921b51",
   "metadata": {},
   "source": [
    "---"
   ]
  },
  {
   "cell_type": "code",
   "execution_count": 11,
   "id": "065433d4",
   "metadata": {},
   "outputs": [
    {
     "name": "stdout",
     "output_type": "stream",
     "text": [
      "CountVectorizing finished.\n",
      "0.9714029459450135\n",
      "0.7237587470843053\n",
      "              precision    recall  f1-score   support\n",
      "\n",
      "           0       0.78      0.68      0.72      1608\n",
      "           2       0.96      0.98      0.97     14387\n",
      "\n",
      "    accuracy                           0.95     15995\n",
      "   macro avg       0.87      0.83      0.85     15995\n",
      "weighted avg       0.95      0.95      0.95     15995\n",
      "\n"
     ]
    }
   ],
   "source": [
    "cnt_vec = CountVectorizer(tokenizer=TreebankWordTokenizer().tokenize)\n",
    "X_train = cnt_vec.fit_transform(train.review)\n",
    "X_test  = cnt_vec.transform(test.review)\n",
    "\n",
    "print('CountVectorizing finished.')\n",
    "\n",
    "clf = LogisticRegression(max_iter=200, n_jobs=-1)\n",
    "clf.fit(X_train, train.label)\n",
    "pred = clf.predict(X_test)\n",
    "\n",
    "print(f1_score(test.label, pred, pos_label=2))\n",
    "print(f1_score(test.label, pred, pos_label=0))\n",
    "print(classification_report(test.label, pred))"
   ]
  },
  {
   "cell_type": "code",
   "execution_count": 12,
   "id": "296fee4d",
   "metadata": {},
   "outputs": [
    {
     "name": "stdout",
     "output_type": "stream",
     "text": [
      "TfidfVectorizing finished.\n",
      "0.9648058252427185\n",
      "0.5511607910576096\n",
      "              precision    recall  f1-score   support\n",
      "\n",
      "           0       0.89      0.40      0.55      1608\n",
      "           2       0.94      0.99      0.96     14387\n",
      "\n",
      "    accuracy                           0.93     15995\n",
      "   macro avg       0.91      0.70      0.76     15995\n",
      "weighted avg       0.93      0.93      0.92     15995\n",
      "\n"
     ]
    }
   ],
   "source": [
    "cnt_vec = TfidfVectorizer(tokenizer=TreebankWordTokenizer().tokenize)\n",
    "X_train = cnt_vec.fit_transform(train.review)\n",
    "X_test  = cnt_vec.transform(test.review)\n",
    "\n",
    "print('TfidfVectorizing finished.')\n",
    "\n",
    "clf = LogisticRegression(max_iter=200, n_jobs=-1)\n",
    "clf.fit(X_train, train.label)\n",
    "pred = clf.predict(X_test)\n",
    "\n",
    "print(f1_score(test.label, pred, pos_label=2))\n",
    "print(f1_score(test.label, pred, pos_label=0))\n",
    "print(classification_report(test.label, pred))"
   ]
  },
  {
   "cell_type": "code",
   "execution_count": 12,
   "id": "13148510",
   "metadata": {},
   "outputs": [
    {
     "name": "stdout",
     "output_type": "stream",
     "text": [
      "TfidfVectorizing finished.\n",
      "0.9723006134969324\n",
      "0.8086458995549904\n",
      "              precision    recall  f1-score   support\n",
      "\n",
      "           0       0.68      0.99      0.81      3859\n",
      "           2       1.00      0.95      0.97     33460\n",
      "\n",
      "    accuracy                           0.95     37319\n",
      "   macro avg       0.84      0.97      0.89     37319\n",
      "weighted avg       0.97      0.95      0.96     37319\n",
      "\n"
     ]
    }
   ],
   "source": [
    "cnt_vec = TfidfVectorizer(tokenizer=TreebankWordTokenizer().tokenize)\n",
    "X_train = cnt_vec.fit_transform(train.review)\n",
    "X_test  = cnt_vec.transform(test.review)\n",
    "\n",
    "print('TfidfVectorizing finished.')\n",
    "\n",
    "clf = LogisticRegression(max_iter=200, n_jobs=-1, class_weight='balanced')\n",
    "clf.fit(X_train, train.label)\n",
    "pred = clf.predict(X_train)\n",
    "\n",
    "print(f1_score(train.label, pred, pos_label=2))\n",
    "print(f1_score(train.label, pred, pos_label=0))\n",
    "print(classification_report(train.label, pred))"
   ]
  },
  {
   "cell_type": "code",
   "execution_count": 14,
   "id": "3d9cb4ae",
   "metadata": {},
   "outputs": [
    {
     "name": "stdout",
     "output_type": "stream",
     "text": [
      "CountVectorizing finished.\n",
      "0.9697075208913649\n",
      "0.7339449541284405\n",
      "              precision    recall  f1-score   support\n",
      "\n",
      "           0       0.72      0.75      0.73      1608\n",
      "           2       0.97      0.97      0.97     14387\n",
      "\n",
      "    accuracy                           0.95     15995\n",
      "   macro avg       0.85      0.86      0.85     15995\n",
      "weighted avg       0.95      0.95      0.95     15995\n",
      "\n"
     ]
    }
   ],
   "source": [
    "cnt_vec = CountVectorizer(tokenizer=TreebankWordTokenizer().tokenize)\n",
    "X_train = cnt_vec.fit_transform(train.review)\n",
    "X_test  = cnt_vec.transform(test.review)\n",
    "\n",
    "print('CountVectorizing finished.')\n",
    "\n",
    "clf = LogisticRegression(max_iter=200, n_jobs=-1, class_weight='balanced')\n",
    "clf.fit(X_train, train.label)\n",
    "pred = clf.predict(X_test)\n",
    "\n",
    "print(f1_score(test.label, pred, pos_label=2))\n",
    "print(f1_score(test.label, pred, pos_label=0))\n",
    "print(classification_report(test.label, pred))"
   ]
  },
  {
   "cell_type": "code",
   "execution_count": 15,
   "id": "68c47123",
   "metadata": {},
   "outputs": [
    {
     "name": "stdout",
     "output_type": "stream",
     "text": [
      "0.9697075208913649\n",
      "0.7339449541284405\n",
      "              precision    recall  f1-score   support\n",
      "\n",
      "           0       0.72      0.75      0.73      1608\n",
      "           2       0.97      0.97      0.97     14387\n",
      "\n",
      "    accuracy                           0.95     15995\n",
      "   macro avg       0.85      0.86      0.85     15995\n",
      "weighted avg       0.95      0.95      0.95     15995\n",
      "\n"
     ]
    }
   ],
   "source": [
    "pred = clf.predict(X_test)\n",
    "\n",
    "print(f1_score(test.label, pred, pos_label=2))\n",
    "print(f1_score(test.label, pred, pos_label=0))\n",
    "print(classification_report(test.label, pred))"
   ]
  },
  {
   "cell_type": "markdown",
   "id": "ac9b2625",
   "metadata": {},
   "source": [
    "**Почему такая разница в метриках между `CountVectorizer` и `TfidfVectorizer`?**"
   ]
  },
  {
   "cell_type": "markdown",
   "id": "ca05d650",
   "metadata": {},
   "source": [
    "#### Balancing dataset"
   ]
  },
  {
   "cell_type": "markdown",
   "id": "caeeb00e",
   "metadata": {},
   "source": [
    "[SMOTE: метод увеличения числа примеров миноритарного класса](https://medium.com/nuances-of-programming/smote-%D0%BC%D0%B5%D1%82%D0%BE%D0%B4-%D1%83%D0%B2%D0%B5%D0%BB%D0%B8%D1%87%D0%B5%D0%BD%D0%B8%D1%8F-%D1%87%D0%B8%D1%81%D0%BB%D0%B0-%D0%BF%D1%80%D0%B8%D0%BC%D0%B5%D1%80%D0%BE%D0%B2-%D0%BC%D0%B8%D0%BD%D0%BE%D1%80%D0%B8%D1%82%D0%B0%D1%80%D0%BD%D0%BE%D0%B3%D0%BE-%D0%BA%D0%BB%D0%B0%D1%81%D1%81%D0%B0-da91a62f9914)\n",
    "> Другим вариантом является увеличение примеров миноритарного класса. Иными словами, случайным образом дублируются образцы миноритарного класса. Проблема этого подхода заключается в том, что он приводит к чрезмерному обучению, поскольку модель обучается на одних и тех же примерах."
   ]
  },
  {
   "cell_type": "code",
   "execution_count": 13,
   "id": "8394fa79",
   "metadata": {},
   "outputs": [
    {
     "data": {
      "text/plain": [
       "2    33460\n",
       "0     3859\n",
       "Name: label, dtype: int64"
      ]
     },
     "execution_count": 13,
     "metadata": {},
     "output_type": "execute_result"
    }
   ],
   "source": [
    "train.label.value_counts()"
   ]
  },
  {
   "cell_type": "code",
   "execution_count": 14,
   "id": "94b000d1",
   "metadata": {},
   "outputs": [
    {
     "data": {
      "text/html": [
       "<div>\n",
       "<style scoped>\n",
       "    .dataframe tbody tr th:only-of-type {\n",
       "        vertical-align: middle;\n",
       "    }\n",
       "\n",
       "    .dataframe tbody tr th {\n",
       "        vertical-align: top;\n",
       "    }\n",
       "\n",
       "    .dataframe thead th {\n",
       "        text-align: right;\n",
       "    }\n",
       "</style>\n",
       "<table border=\"1\" class=\"dataframe\">\n",
       "  <thead>\n",
       "    <tr style=\"text-align: right;\">\n",
       "      <th></th>\n",
       "      <th>review</th>\n",
       "      <th>label</th>\n",
       "    </tr>\n",
       "  </thead>\n",
       "  <tbody>\n",
       "    <tr>\n",
       "      <th>43974</th>\n",
       "      <td>всё-таки продюсерский жадность - дело удивител...</td>\n",
       "      <td>2</td>\n",
       "    </tr>\n",
       "    <tr>\n",
       "      <th>20438</th>\n",
       "      <td>самый зрелищный фильм 2007 год — «пират карибс...</td>\n",
       "      <td>2</td>\n",
       "    </tr>\n",
       "    <tr>\n",
       "      <th>5134</th>\n",
       "      <td>второй фильм заметно первого. «два крепости» с...</td>\n",
       "      <td>2</td>\n",
       "    </tr>\n",
       "    <tr>\n",
       "      <th>6870</th>\n",
       "      <td>микки маус научиться летать , обязательно спас...</td>\n",
       "      <td>2</td>\n",
       "    </tr>\n",
       "    <tr>\n",
       "      <th>33304</th>\n",
       "      <td>парить воздух гора , птица удивительный расцве...</td>\n",
       "      <td>2</td>\n",
       "    </tr>\n",
       "    <tr>\n",
       "      <th>...</th>\n",
       "      <td>...</td>\n",
       "      <td>...</td>\n",
       "    </tr>\n",
       "    <tr>\n",
       "      <th>11284</th>\n",
       "      <td>... ввернуть идея подсознание человек сон ... ...</td>\n",
       "      <td>2</td>\n",
       "    </tr>\n",
       "    <tr>\n",
       "      <th>44732</th>\n",
       "      <td>фильм потрясающий. мало , необычен. необычный ...</td>\n",
       "      <td>2</td>\n",
       "    </tr>\n",
       "    <tr>\n",
       "      <th>38158</th>\n",
       "      <td>кто-то заметить : человек жаждать сэкономить н...</td>\n",
       "      <td>2</td>\n",
       "    </tr>\n",
       "    <tr>\n",
       "      <th>860</th>\n",
       "      <td>фильм , который неизменно занимать первый мест...</td>\n",
       "      <td>2</td>\n",
       "    </tr>\n",
       "    <tr>\n",
       "      <th>15795</th>\n",
       "      <td>фильм ждать весь сердце , истинный ценитель тв...</td>\n",
       "      <td>2</td>\n",
       "    </tr>\n",
       "  </tbody>\n",
       "</table>\n",
       "<p>37319 rows × 2 columns</p>\n",
       "</div>"
      ],
      "text/plain": [
       "                                                  review  label\n",
       "43974  всё-таки продюсерский жадность - дело удивител...      2\n",
       "20438  самый зрелищный фильм 2007 год — «пират карибс...      2\n",
       "5134   второй фильм заметно первого. «два крепости» с...      2\n",
       "6870   микки маус научиться летать , обязательно спас...      2\n",
       "33304  парить воздух гора , птица удивительный расцве...      2\n",
       "...                                                  ...    ...\n",
       "11284  ... ввернуть идея подсознание человек сон ... ...      2\n",
       "44732  фильм потрясающий. мало , необычен. необычный ...      2\n",
       "38158  кто-то заметить : человек жаждать сэкономить н...      2\n",
       "860    фильм , который неизменно занимать первый мест...      2\n",
       "15795  фильм ждать весь сердце , истинный ценитель тв...      2\n",
       "\n",
       "[37319 rows x 2 columns]"
      ]
     },
     "execution_count": 14,
     "metadata": {},
     "output_type": "execute_result"
    }
   ],
   "source": [
    "train"
   ]
  },
  {
   "cell_type": "code",
   "execution_count": 15,
   "id": "370adce6",
   "metadata": {},
   "outputs": [
    {
     "data": {
      "text/html": [
       "<div>\n",
       "<style scoped>\n",
       "    .dataframe tbody tr th:only-of-type {\n",
       "        vertical-align: middle;\n",
       "    }\n",
       "\n",
       "    .dataframe tbody tr th {\n",
       "        vertical-align: top;\n",
       "    }\n",
       "\n",
       "    .dataframe thead th {\n",
       "        text-align: right;\n",
       "    }\n",
       "</style>\n",
       "<table border=\"1\" class=\"dataframe\">\n",
       "  <thead>\n",
       "    <tr style=\"text-align: right;\">\n",
       "      <th></th>\n",
       "      <th>review</th>\n",
       "      <th>label</th>\n",
       "    </tr>\n",
       "  </thead>\n",
       "  <tbody>\n",
       "    <tr>\n",
       "      <th>3007</th>\n",
       "      <td>выйти очередной фильм кристофер нолан , событи...</td>\n",
       "      <td>0</td>\n",
       "    </tr>\n",
       "    <tr>\n",
       "      <th>23467</th>\n",
       "      <td>такой предположение , актёр играть ... вообще ...</td>\n",
       "      <td>0</td>\n",
       "    </tr>\n",
       "    <tr>\n",
       "      <th>42716</th>\n",
       "      <td>пятнадцать год , первый прочтение книга кизя ,...</td>\n",
       "      <td>0</td>\n",
       "    </tr>\n",
       "    <tr>\n",
       "      <th>6700</th>\n",
       "      <td>наделать шум прошлый 2008 год очередной киноко...</td>\n",
       "      <td>0</td>\n",
       "    </tr>\n",
       "    <tr>\n",
       "      <th>51369</th>\n",
       "      <td>полнота картина хватать балалайка медведь улиц...</td>\n",
       "      <td>0</td>\n",
       "    </tr>\n",
       "    <tr>\n",
       "      <th>...</th>\n",
       "      <td>...</td>\n",
       "      <td>...</td>\n",
       "    </tr>\n",
       "    <tr>\n",
       "      <th>43021</th>\n",
       "      <td>время просмотр фильм показаться сильный , отме...</td>\n",
       "      <td>0</td>\n",
       "    </tr>\n",
       "    <tr>\n",
       "      <th>43323</th>\n",
       "      <td>фильм слышать друг , знакомый вообще мужиков. ...</td>\n",
       "      <td>0</td>\n",
       "    </tr>\n",
       "    <tr>\n",
       "      <th>189</th>\n",
       "      <td>слышать фильм заглянуть топ 250 кинопоиска. по...</td>\n",
       "      <td>0</td>\n",
       "    </tr>\n",
       "    <tr>\n",
       "      <th>25658</th>\n",
       "      <td>наверно сказать я страшно непопулярный , всё-т...</td>\n",
       "      <td>0</td>\n",
       "    </tr>\n",
       "    <tr>\n",
       "      <th>6265</th>\n",
       "      <td>весь мы равный мера свойственно злорадствовать...</td>\n",
       "      <td>0</td>\n",
       "    </tr>\n",
       "  </tbody>\n",
       "</table>\n",
       "<p>3859 rows × 2 columns</p>\n",
       "</div>"
      ],
      "text/plain": [
       "                                                  review  label\n",
       "3007   выйти очередной фильм кристофер нолан , событи...      0\n",
       "23467  такой предположение , актёр играть ... вообще ...      0\n",
       "42716  пятнадцать год , первый прочтение книга кизя ,...      0\n",
       "6700   наделать шум прошлый 2008 год очередной киноко...      0\n",
       "51369  полнота картина хватать балалайка медведь улиц...      0\n",
       "...                                                  ...    ...\n",
       "43021  время просмотр фильм показаться сильный , отме...      0\n",
       "43323  фильм слышать друг , знакомый вообще мужиков. ...      0\n",
       "189    слышать фильм заглянуть топ 250 кинопоиска. по...      0\n",
       "25658  наверно сказать я страшно непопулярный , всё-т...      0\n",
       "6265   весь мы равный мера свойственно злорадствовать...      0\n",
       "\n",
       "[3859 rows x 2 columns]"
      ]
     },
     "execution_count": 15,
     "metadata": {},
     "output_type": "execute_result"
    }
   ],
   "source": [
    "train[train.label == 0]"
   ]
  },
  {
   "cell_type": "code",
   "execution_count": 16,
   "id": "21da6a68",
   "metadata": {},
   "outputs": [
    {
     "data": {
      "text/html": [
       "<div>\n",
       "<style scoped>\n",
       "    .dataframe tbody tr th:only-of-type {\n",
       "        vertical-align: middle;\n",
       "    }\n",
       "\n",
       "    .dataframe tbody tr th {\n",
       "        vertical-align: top;\n",
       "    }\n",
       "\n",
       "    .dataframe thead th {\n",
       "        text-align: right;\n",
       "    }\n",
       "</style>\n",
       "<table border=\"1\" class=\"dataframe\">\n",
       "  <thead>\n",
       "    <tr style=\"text-align: right;\">\n",
       "      <th></th>\n",
       "      <th>review</th>\n",
       "      <th>label</th>\n",
       "    </tr>\n",
       "  </thead>\n",
       "  <tbody>\n",
       "    <tr>\n",
       "      <th>43974</th>\n",
       "      <td>всё-таки продюсерский жадность - дело удивител...</td>\n",
       "      <td>2</td>\n",
       "    </tr>\n",
       "    <tr>\n",
       "      <th>20438</th>\n",
       "      <td>самый зрелищный фильм 2007 год — «пират карибс...</td>\n",
       "      <td>2</td>\n",
       "    </tr>\n",
       "    <tr>\n",
       "      <th>5134</th>\n",
       "      <td>второй фильм заметно первого. «два крепости» с...</td>\n",
       "      <td>2</td>\n",
       "    </tr>\n",
       "    <tr>\n",
       "      <th>6870</th>\n",
       "      <td>микки маус научиться летать , обязательно спас...</td>\n",
       "      <td>2</td>\n",
       "    </tr>\n",
       "    <tr>\n",
       "      <th>33304</th>\n",
       "      <td>парить воздух гора , птица удивительный расцве...</td>\n",
       "      <td>2</td>\n",
       "    </tr>\n",
       "    <tr>\n",
       "      <th>...</th>\n",
       "      <td>...</td>\n",
       "      <td>...</td>\n",
       "    </tr>\n",
       "    <tr>\n",
       "      <th>25997</th>\n",
       "      <td>представлять свой объективный мнение , ибо кни...</td>\n",
       "      <td>0</td>\n",
       "    </tr>\n",
       "    <tr>\n",
       "      <th>52959</th>\n",
       "      <td>понимать , компьютер попасть фильм. серьезно. ...</td>\n",
       "      <td>0</td>\n",
       "    </tr>\n",
       "    <tr>\n",
       "      <th>24897</th>\n",
       "      <td>дама господин , фильм настолько разочаровать ,...</td>\n",
       "      <td>0</td>\n",
       "    </tr>\n",
       "    <tr>\n",
       "      <th>27699</th>\n",
       "      <td>властелин кольцо безусловно хороший кинотрилог...</td>\n",
       "      <td>0</td>\n",
       "    </tr>\n",
       "    <tr>\n",
       "      <th>25658</th>\n",
       "      <td>наверно сказать я страшно непопулярный , всё-т...</td>\n",
       "      <td>0</td>\n",
       "    </tr>\n",
       "  </tbody>\n",
       "</table>\n",
       "<p>66819 rows × 2 columns</p>\n",
       "</div>"
      ],
      "text/plain": [
       "                                                  review  label\n",
       "43974  всё-таки продюсерский жадность - дело удивител...      2\n",
       "20438  самый зрелищный фильм 2007 год — «пират карибс...      2\n",
       "5134   второй фильм заметно первого. «два крепости» с...      2\n",
       "6870   микки маус научиться летать , обязательно спас...      2\n",
       "33304  парить воздух гора , птица удивительный расцве...      2\n",
       "...                                                  ...    ...\n",
       "25997  представлять свой объективный мнение , ибо кни...      0\n",
       "52959  понимать , компьютер попасть фильм. серьезно. ...      0\n",
       "24897  дама господин , фильм настолько разочаровать ,...      0\n",
       "27699  властелин кольцо безусловно хороший кинотрилог...      0\n",
       "25658  наверно сказать я страшно непопулярный , всё-т...      0\n",
       "\n",
       "[66819 rows x 2 columns]"
      ]
     },
     "execution_count": 16,
     "metadata": {},
     "output_type": "execute_result"
    }
   ],
   "source": [
    "train = pd.concat([train, resample(train[train.label == 0], n_samples=29500, random_state=42)])\n",
    "train"
   ]
  },
  {
   "cell_type": "code",
   "execution_count": 17,
   "id": "b2fe5c87",
   "metadata": {},
   "outputs": [
    {
     "data": {
      "text/plain": [
       "2    33460\n",
       "0    33359\n",
       "Name: label, dtype: int64"
      ]
     },
     "execution_count": 17,
     "metadata": {},
     "output_type": "execute_result"
    }
   ],
   "source": [
    "train.label.value_counts()"
   ]
  },
  {
   "cell_type": "markdown",
   "id": "46936faf",
   "metadata": {},
   "source": [
    "#### Training & Exploring `CountVectorizer`"
   ]
  },
  {
   "cell_type": "code",
   "execution_count": 11,
   "id": "c3a003e8",
   "metadata": {},
   "outputs": [
    {
     "name": "stdout",
     "output_type": "stream",
     "text": [
      "X_train.shape=(37319, 1000)\n",
      "CountVectorizing finished.\n",
      "0.9626786387470442\n",
      "0.6125933831376735\n",
      "              precision    recall  f1-score   support\n",
      "\n",
      "           0       0.72      0.54      0.61      1608\n",
      "           2       0.95      0.98      0.96     14387\n",
      "\n",
      "    accuracy                           0.93     15995\n",
      "   macro avg       0.83      0.76      0.79     15995\n",
      "weighted avg       0.93      0.93      0.93     15995\n",
      "\n",
      "Wall time: 50.7 s\n"
     ]
    }
   ],
   "source": [
    "%%time\n",
    "\n",
    "cnt_vec = CountVectorizer(tokenizer=TreebankWordTokenizer().tokenize, max_df=0.6, max_features=1000)\n",
    "X_train = cnt_vec.fit_transform(train.review)\n",
    "print(f'{X_train.shape=}')\n",
    "X_test  = cnt_vec.transform(test.review)\n",
    "\n",
    "print('CountVectorizing finished.')\n",
    "\n",
    "clf = LogisticRegression(max_iter=200, n_jobs=-1)\n",
    "clf.fit(X_train, train.label)\n",
    "pred = clf.predict(X_test)\n",
    "\n",
    "print(f1_score(test.label, pred, pos_label=2))\n",
    "print(f1_score(test.label, pred, pos_label=0))\n",
    "print(classification_report(test.label, pred))"
   ]
  },
  {
   "cell_type": "code",
   "execution_count": 19,
   "id": "99640bcf",
   "metadata": {},
   "outputs": [
    {
     "name": "stdout",
     "output_type": "stream",
     "text": [
      "1000\n"
     ]
    },
    {
     "data": {
      "text/plain": [
       "array(['!', '%', \"'\", '(', ')', '-', '.', '...', '1', '2', '3', '3d', '4',\n",
       "       '5', '8', '9', ':', ';', '?', '»', 'абсолютно', 'автор', 'актриса',\n",
       "       'актёр', 'актёрский', 'алиса', 'америка', 'американец',\n",
       "       'американский', 'армия'], dtype=object)"
      ]
     },
     "execution_count": 19,
     "metadata": {},
     "output_type": "execute_result"
    }
   ],
   "source": [
    "print(len(cnt_vec.get_feature_names_out()))\n",
    "cnt_vec.get_feature_names_out()[:30]"
   ]
  },
  {
   "cell_type": "code",
   "execution_count": 20,
   "id": "64766f46",
   "metadata": {},
   "outputs": [
    {
     "data": {
      "text/plain": [
       "array([ 2.98113515e+00,  3.78216115e+00, -3.18933806e-01, -3.30459246e+00,\n",
       "       -1.18534020e-02, -3.86244787e+00,  2.06051868e+00,  1.45943519e-01,\n",
       "        1.14235978e+00,  1.46798393e+01])"
      ]
     },
     "execution_count": 20,
     "metadata": {},
     "output_type": "execute_result"
    }
   ],
   "source": [
    "# Just watching...\n",
    "clf.decision_function(X_train[:10])  # Confidence scores for each sample"
   ]
  },
  {
   "cell_type": "code",
   "execution_count": 21,
   "id": "4f2e2912",
   "metadata": {},
   "outputs": [
    {
     "data": {
      "text/plain": [
       "array(['отдельный', 'замечательный', 'спасибо', 'продолжение', 'обладать',\n",
       "       'шикарный', 'пересматривать', 'невозможно', 'советовать',\n",
       "       'приятный', 'отличный', 'вера', 'подобрать', 'приятно', 'элемент',\n",
       "       'триллер', 'порой', 'одновременно', 'роберт', 'отлично', 'рон',\n",
       "       'потрясать', '9', 'идеальный', '8', 'идеально', 'суметь',\n",
       "       'удивительный', 'впервые', 'звучать'], dtype=object)"
      ]
     },
     "execution_count": 21,
     "metadata": {},
     "output_type": "execute_result"
    }
   ],
   "source": [
    "cnt_vec.get_feature_names_out()[np.argpartition(clf.coef_[0], -30)[-30:]]"
   ]
  },
  {
   "cell_type": "code",
   "execution_count": 22,
   "id": "6f489674",
   "metadata": {},
   "outputs": [
    {
     "data": {
      "text/plain": [
       "array(['разочарование', 'пустой', 'откровенно', 'поведение', 'неужели',\n",
       "       'бред', 'непонятно', 'вместо', 'попытка', 'потратить', 'похоже',\n",
       "       'увы', '4', '5', 'джейн', 'скучный', 'бедный', 'неплохой',\n",
       "       'логика', 'середина', 'оценка', 'слабый', 'сожаление', 'рейтинг',\n",
       "       'голливуд', 'нести', 'видимо', 'банальный', 'глупый', 'надеяться'],\n",
       "      dtype=object)"
      ]
     },
     "execution_count": 22,
     "metadata": {},
     "output_type": "execute_result"
    }
   ],
   "source": [
    "cnt_vec.get_feature_names_out()[np.argpartition(clf.coef_[0], 30)[:30]]"
   ]
  },
  {
   "cell_type": "code",
   "execution_count": 82,
   "id": "44f6ced3",
   "metadata": {},
   "outputs": [
    {
     "data": {
      "text/plain": [
       "array([519,  20, 583, 205,  35,  21, 408,  18,  17,  16], dtype=int64)"
      ]
     },
     "execution_count": 82,
     "metadata": {},
     "output_type": "execute_result"
    }
   ],
   "source": [
    "np.argpartition(np.abs(clf.coef_[0]), -10)[-10:]"
   ]
  },
  {
   "cell_type": "code",
   "execution_count": 19,
   "id": "3a65e2b0",
   "metadata": {},
   "outputs": [
    {
     "data": {
      "text/plain": [
       "(18569, 1000)"
      ]
     },
     "execution_count": 19,
     "metadata": {},
     "output_type": "execute_result"
    }
   ],
   "source": [
    "# _X_train = X_train.toarray()\n",
    "# _X_train.shape"
   ]
  },
  {
   "cell_type": "code",
   "execution_count": 37,
   "id": "fd4b6487",
   "metadata": {},
   "outputs": [
    {
     "data": {
      "text/plain": [
       "(1000,)"
      ]
     },
     "execution_count": 37,
     "metadata": {},
     "output_type": "execute_result"
    }
   ],
   "source": [
    "s = np.array(np.sum(X_train, axis=0))[0]\n",
    "s.shape"
   ]
  },
  {
   "cell_type": "code",
   "execution_count": 39,
   "id": "6d55adb6",
   "metadata": {},
   "outputs": [
    {
     "data": {
      "text/plain": [
       "array([138146, 130778, 116080, 112399, 104244,  98762,  92826,  84273,\n",
       "        79316,  76593,  75977,  67780,  64852,  58501,  57771,  52409,\n",
       "        49618,  49334,  48890,  48092,  47169,  46114,  46072,  43608,\n",
       "        42029,  41457,  41266,  41240,  41100,  40195,  39197,  39095,\n",
       "        38709,  38365,  37208,  36591,  36559,  36461,  34091,  33717,\n",
       "        33623,  33306,  33047,  31084,  30643,  29678,  29449,  29198,\n",
       "        28929,  28716,  28694,  27906,  27858,  27408,  27317,  26830,\n",
       "        26814,  26491,  26127,  26011,  25932,  25866,  24829,  24784,\n",
       "        24646,  24564,  24436,  23601,  23543,  23498,  22844,  22534,\n",
       "        21875,  21371,  21278,  20294,  20284,  19992,  19941,  19896,\n",
       "        19644,  19588,  19441,  19394,  19003,  18966,  18819,  18468,\n",
       "        18307,  18271,  18260,  18127,  18081,  17721,  17446,  17218,\n",
       "        17044,  17016,  16839,  16727,  16707,  16542,  16499,  16337,\n",
       "        16105,  16023,  15907,  15514,  15436,  15430,  15278,  15265,\n",
       "        15225,  15221,  15022,  14995,  14904,  14904,  14742,  14702,\n",
       "        14670,  14637,  14621,  14476,  14435,  14406,  14298,  14161,\n",
       "        14044,  13995,  13974,  13967,  13791,  13782,  13771,  13725,\n",
       "        13716,  13574,  13547,  13544,  13507,  13389,  13330,  13273,\n",
       "        13258,  13251,  13090,  12937,  12896,  12856,  12532,  12435,\n",
       "        12341,  12305,  12265,  12240,  12091,  12057,  11998,  11994,\n",
       "        11980,  11956,  11913,  11904,  11867,  11866,  11770,  11632,\n",
       "        11618,  11540,  11530,  11482,  11480,  11459,  11445,  11443,\n",
       "        11434,  11430,  11341,  11315,  11307,  11301,  11246,  11216,\n",
       "        11207,  11184,  11140,  11136,  11060,  11046,  11024,  11012,\n",
       "        10907,  10709,  10658,  10597,  10588,  10580,  10567,  10454,\n",
       "        10426,  10392,  10387,  10368,  10278,  10277,   9999,   9992,\n",
       "         9982,   9918,   9846,   9837,   9734,   9726,   9666,   9632,\n",
       "         9543,   9334,   9330,   9327,   9275,   9270,   9254,   9190,\n",
       "         9158,   9135,   9128,   9070,   9040,   9023,   8986,   8942,\n",
       "         8940,   8915,   8909,   8847,   8837,   8795,   8744,   8722,\n",
       "         8700,   8620,   8614,   8553,   8517,   8515,   8494,   8466,\n",
       "         8451,   8405,   8397,   8394,   8370,   8323,   8312,   8299,\n",
       "         8298,   8293,   8286,   8266,   8258,   8258,   8242,   8197,\n",
       "         8190,   8184,   8183,   8158,   8157,   8124,   8107,   8099,\n",
       "         8061,   8048,   8046,   8034,   8005,   8002,   7946,   7936,\n",
       "         7904,   7791,   7757,   7694,   7691,   7689,   7679,   7676,\n",
       "         7648,   7628,   7619,   7501,   7452,   7425,   7404,   7402,\n",
       "         7363,   7363,   7343,   7339,   7316,   7260,   7231,   7222,\n",
       "         7193,   7131,   7122,   7121,   7115,   7080,   7051,   7051,\n",
       "         7009,   6979,   6966,   6957,   6935,   6932,   6918,   6895,\n",
       "         6887,   6881,   6861,   6844,   6839,   6826,   6811,   6810,\n",
       "         6797,   6780,   6749,   6715,   6705,   6690,   6677,   6676,\n",
       "         6671,   6662,   6645,   6614,   6603,   6598,   6594,   6547,\n",
       "         6546,   6517,   6499,   6498,   6492,   6430,   6427,   6410,\n",
       "         6407,   6390,   6376,   6358,   6357,   6340,   6324,   6313,\n",
       "         6311,   6263,   6261,   6253,   6248,   6195,   6179,   6172,\n",
       "         6169,   6119,   6115,   6104,   6086,   6068,   6061,   6054,\n",
       "         6043,   6041,   6038,   6000,   5990,   5981,   5961,   5959,\n",
       "         5936,   5896,   5876,   5870,   5865,   5861,   5842,   5836,\n",
       "         5789,   5762,   5737,   5713,   5699,   5648,   5603,   5594,\n",
       "         5587,   5570,   5565,   5560,   5558,   5544,   5509,   5508,\n",
       "         5489,   5486,   5473,   5466,   5438,   5437,   5436,   5429,\n",
       "         5427,   5423,   5397,   5394,   5386,   5382,   5377,   5377,\n",
       "         5375,   5369,   5316,   5313,   5302,   5292,   5281,   5273,\n",
       "         5273,   5268,   5257,   5250,   5248,   5208,   5200,   5199,\n",
       "         5172,   5170,   5161,   5152,   5142,   5134,   5132,   5102,\n",
       "         5097,   5094,   5088,   5085,   5061,   5054,   5050,   5048,\n",
       "         5047,   5044,   5036,   5007,   5004,   4979,   4973,   4972,\n",
       "         4948,   4926,   4916,   4901,   4894,   4892,   4889,   4885,\n",
       "         4877,   4867,   4866,   4837,   4836,   4823,   4807,   4798,\n",
       "         4774,   4774,   4757,   4757,   4755,   4750,   4748,   4730,\n",
       "         4729,   4729,   4723,   4721,   4715,   4712,   4698,   4693,\n",
       "         4690,   4682,   4672,   4671,   4670,   4668,   4667,   4662,\n",
       "         4659,   4631,   4618,   4617,   4612,   4608,   4607,   4602,\n",
       "         4600,   4587,   4582,   4579,   4576,   4573,   4571,   4568,\n",
       "         4564,   4558,   4547,   4544,   4544,   4543,   4541,   4541,\n",
       "         4532,   4524,   4494,   4480,   4480,   4478,   4474,   4473,\n",
       "         4472,   4472,   4465,   4463,   4442,   4433,   4432,   4429,\n",
       "         4417,   4407,   4403,   4391,   4390,   4382,   4363,   4348,\n",
       "         4345,   4333,   4315,   4311,   4309,   4282,   4272,   4250,\n",
       "         4247,   4241,   4231,   4222,   4220,   4215,   4212,   4211,\n",
       "         4203,   4195,   4175,   4172,   4162,   4158,   4152,   4147,\n",
       "         4133,   4131,   4131,   4131,   4125,   4125,   4109,   4105,\n",
       "         4101,   4098,   4096,   4077,   4076,   4073,   4071,   4071,\n",
       "         4050,   4048,   4047,   4033,   4030,   4021,   4019,   4009,\n",
       "         4000,   4000,   3998,   3991,   3991,   3984,   3980,   3974,\n",
       "         3971,   3962,   3957,   3955,   3955,   3948,   3938,   3934,\n",
       "         3919,   3917,   3910,   3905,   3902,   3887,   3873,   3870,\n",
       "         3869,   3866,   3865,   3850,   3846,   3827,   3821,   3821,\n",
       "         3818,   3817,   3811,   3802,   3781,   3778,   3775,   3764,\n",
       "         3757,   3757,   3745,   3741,   3738,   3732,   3732,   3719,\n",
       "         3718,   3717,   3703,   3694,   3689,   3688,   3683,   3679,\n",
       "         3673,   3655,   3655,   3646,   3643,   3639,   3632,   3629,\n",
       "         3629,   3624,   3612,   3608,   3608,   3606,   3584,   3578,\n",
       "         3569,   3568,   3557,   3554,   3544,   3541,   3526,   3520,\n",
       "         3510,   3507,   3504,   3501,   3498,   3481,   3481,   3480,\n",
       "         3474,   3473,   3470,   3467,   3464,   3459,   3458,   3457,\n",
       "         3449,   3448,   3445,   3432,   3431,   3430,   3420,   3418,\n",
       "         3416,   3411,   3402,   3401,   3401,   3400,   3392,   3375,\n",
       "         3360,   3358,   3355,   3340,   3339,   3330,   3329,   3328,\n",
       "         3326,   3322,   3320,   3319,   3316,   3312,   3311,   3299,\n",
       "         3296,   3296,   3295,   3294,   3293,   3284,   3278,   3278,\n",
       "         3277,   3276,   3271,   3270,   3267,   3266,   3259,   3253,\n",
       "         3245,   3245,   3234,   3233,   3229,   3227,   3215,   3213,\n",
       "         3211,   3209,   3208,   3205,   3204,   3194,   3193,   3191,\n",
       "         3189,   3187,   3184,   3182,   3173,   3171,   3163,   3158,\n",
       "         3149,   3143,   3141,   3131,   3129,   3126,   3125,   3125,\n",
       "         3117,   3117,   3102,   3091,   3089,   3086,   3084,   3080,\n",
       "         3080,   3078,   3066,   3059,   3056,   3036,   3035,   3031,\n",
       "         3029,   3025,   3024,   3017,   3011,   3008,   3005,   3004,\n",
       "         3003,   3001,   2996,   2995,   2990,   2983,   2983,   2977,\n",
       "         2965,   2962,   2962,   2961,   2957,   2955,   2948,   2945,\n",
       "         2941,   2935,   2934,   2928,   2918,   2917,   2917,   2916,\n",
       "         2911,   2909,   2907,   2903,   2902,   2902,   2900,   2895,\n",
       "         2892,   2889,   2887,   2882,   2874,   2872,   2871,   2863,\n",
       "         2858,   2857,   2849,   2848,   2847,   2846,   2846,   2844,\n",
       "         2838,   2835,   2832,   2832,   2830,   2829,   2822,   2822,\n",
       "         2808,   2799,   2794,   2793,   2792,   2790,   2786,   2781,\n",
       "         2781,   2773,   2772,   2772,   2768,   2766,   2763,   2761,\n",
       "         2758,   2758,   2750,   2748,   2742,   2739,   2736,   2732,\n",
       "         2730,   2728,   2728,   2727,   2726,   2725,   2717,   2716,\n",
       "         2716,   2705,   2704,   2703,   2702,   2701,   2695,   2691,\n",
       "         2680,   2678,   2677,   2676,   2669,   2664,   2658,   2653,\n",
       "         2652,   2647,   2642,   2640,   2638,   2633,   2626,   2622,\n",
       "         2621,   2618,   2616,   2613,   2611,   2611,   2606,   2605,\n",
       "         2604,   2603,   2602,   2599,   2596,   2596,   2595,   2592,\n",
       "         2588,   2586,   2585,   2585,   2584,   2580,   2575,   2567,\n",
       "         2563,   2561,   2558,   2557,   2556,   2551,   2550,   2549,\n",
       "         2549,   2545,   2544,   2544,   2541,   2539,   2538,   2536,\n",
       "         2534,   2529,   2529,   2528,   2525,   2524,   2521,   2517,\n",
       "         2516,   2514,   2514,   2510,   2509,   2502,   2501,   2499,\n",
       "         2498,   2494,   2492,   2491,   2484,   2482,   2480,   2479,\n",
       "         2479,   2478,   2477,   2475,   2470,   2470,   2468,   2465,\n",
       "         2465,   2464,   2462,   2461,   2459,   2458,   2456,   2452,\n",
       "         2451,   2451,   2449,   2448,   2444,   2441,   2439,   2437],\n",
       "      dtype=int64)"
      ]
     },
     "execution_count": 39,
     "metadata": {},
     "output_type": "execute_result"
    }
   ],
   "source": [
    "np.sort(s)[::-1][:5000]"
   ]
  },
  {
   "cell_type": "code",
   "execution_count": 40,
   "id": "1f905e3a",
   "metadata": {},
   "outputs": [
    {
     "data": {
      "image/png": "[encoded data removed]",
      "text/plain": [
       "<Figure size 640x480 with 1 Axes>"
      ]
     },
     "metadata": {},
     "output_type": "display_data"
    }
   ],
   "source": [
    "plt.plot(np.sort(s)[::-1])\n",
    "plt.xlabel('Token index in sorted feature list')\n",
    "plt.ylabel('The number of tokens in whole corpus')\n",
    "plt.title(\"Zipf's law illustration\")\n",
    "plt.show()"
   ]
  },
  {
   "cell_type": "markdown",
   "id": "0d9a0ad5",
   "metadata": {},
   "source": [
    "#### What if binary coding chosen?"
   ]
  },
  {
   "cell_type": "code",
   "execution_count": 41,
   "id": "dc6ddd8c",
   "metadata": {},
   "outputs": [
    {
     "name": "stdout",
     "output_type": "stream",
     "text": [
      "X_train.shape=(66819, 1000)\n",
      "CountVectorizing finished.\n",
      "0.9280538681109566\n",
      "0.5784734133790738\n",
      "              precision    recall  f1-score   support\n",
      "\n",
      "           0       0.44      0.84      0.58      1608\n",
      "           2       0.98      0.88      0.93     14387\n",
      "\n",
      "    accuracy                           0.88     15995\n",
      "   macro avg       0.71      0.86      0.75     15995\n",
      "weighted avg       0.93      0.88      0.89     15995\n",
      "\n"
     ]
    }
   ],
   "source": [
    "cnt_vec = CountVectorizer(tokenizer=TreebankWordTokenizer().tokenize, max_df=0.6, max_features=1000, binary=True)\n",
    "X_train = cnt_vec.fit_transform(train.review)\n",
    "print(f'{X_train.shape=}')\n",
    "X_test  = cnt_vec.transform(test.review)\n",
    "\n",
    "print('CountVectorizing finished.')\n",
    "\n",
    "clf = LogisticRegression(max_iter=200, n_jobs=-1)\n",
    "clf.fit(X_train, train.label)\n",
    "pred = clf.predict(X_test)\n",
    "\n",
    "print(f1_score(test.label, pred, pos_label=2))\n",
    "print(f1_score(test.label, pred, pos_label=0))\n",
    "print(classification_report(test.label, pred))"
   ]
  },
  {
   "cell_type": "markdown",
   "id": "3646d90f",
   "metadata": {},
   "source": [
    "*Nothing positive happened.*"
   ]
  },
  {
   "cell_type": "markdown",
   "id": "95c18fb6",
   "metadata": {},
   "source": [
    "#### GB Classifier testing"
   ]
  },
  {
   "cell_type": "code",
   "execution_count": 42,
   "id": "0f0766db",
   "metadata": {},
   "outputs": [
    {
     "name": "stdout",
     "output_type": "stream",
     "text": [
      "X_train.shape=(66819, 1000)\n",
      "CountVectorizing finished.\n",
      "0.901611218857228\n",
      "0.4905368868288914\n",
      "              precision    recall  f1-score   support\n",
      "\n",
      "           0       0.36      0.79      0.49      1608\n",
      "           2       0.97      0.84      0.90     14387\n",
      "\n",
      "    accuracy                           0.84     15995\n",
      "   macro avg       0.66      0.81      0.70     15995\n",
      "weighted avg       0.91      0.84      0.86     15995\n",
      "\n"
     ]
    }
   ],
   "source": [
    "cnt_vec = CountVectorizer(tokenizer=TreebankWordTokenizer().tokenize, max_df=0.6, max_features=1000)\n",
    "X_train = cnt_vec.fit_transform(train.review)\n",
    "print(f'{X_train.shape=}')\n",
    "X_test  = cnt_vec.transform(test.review)\n",
    "\n",
    "print('CountVectorizing finished.')\n",
    "\n",
    "clf = GradientBoostingClassifier()\n",
    "clf.fit(X_train, train.label)\n",
    "pred = clf.predict(X_test)\n",
    "\n",
    "print(f1_score(test.label, pred, pos_label=2))\n",
    "print(f1_score(test.label, pred, pos_label=0))\n",
    "print(classification_report(test.label, pred))"
   ]
  },
  {
   "cell_type": "code",
   "execution_count": 43,
   "id": "0be87c33",
   "metadata": {},
   "outputs": [
    {
     "data": {
      "text/plain": [
       "1000"
      ]
     },
     "execution_count": 43,
     "metadata": {},
     "output_type": "execute_result"
    }
   ],
   "source": [
    "len(clf.feature_importances_)"
   ]
  },
  {
   "cell_type": "code",
   "execution_count": 44,
   "id": "1f98235b",
   "metadata": {},
   "outputs": [
    {
     "data": {
      "text/plain": [
       "array(['.', 'увы', 'пустой', 'отлично', 'откровенно', 'непонятно',\n",
       "       'замечательный', 'скучный', 'великолепный', 'слишком', '?',\n",
       "       'вообще', 'роль', '9', 'очень', '5', '4', 'настоящий', '3',\n",
       "       'вместо', 'прекрасный', 'видимо', 'заставлять', 'какой-то',\n",
       "       'жизнь', 'потрясать', 'никакой', 'каждый', 'разочарование',\n",
       "       'плохой'], dtype=object)"
      ]
     },
     "execution_count": 44,
     "metadata": {},
     "output_type": "execute_result"
    }
   ],
   "source": [
    "cnt_vec.get_feature_names_out()[np.argpartition(clf.feature_importances_, -30)[-30:]]"
   ]
  },
  {
   "cell_type": "code",
   "execution_count": 45,
   "id": "6b4ac859",
   "metadata": {},
   "outputs": [
    {
     "data": {
      "text/plain": [
       "array(['потерять', 'постоянно', 'природа', 'принять', 'принцип', 'пример',\n",
       "       'прийтись', 'прийти', 'признаться', 'придумать', 'прежде',\n",
       "       'предыдущий', 'представлять', 'представить', 'превратиться',\n",
       "       'практически', 'право', 'правильный', 'правило', 'правда',\n",
       "       'появляться', 'появление', 'появиться', 'поэтому', 'почему-то',\n",
       "       'похожий', 'приходить', 'поступок', 'помочь', 'помощь'],\n",
       "      dtype=object)"
      ]
     },
     "execution_count": 45,
     "metadata": {},
     "output_type": "execute_result"
    }
   ],
   "source": [
    "# Все фичи на букву П!!!\n",
    "\n",
    "cnt_vec.get_feature_names_out()[np.argpartition(clf.feature_importances_, 30)[:30]]"
   ]
  }
 ],
 "metadata": {
  "kernelspec": {
   "display_name": "Python 3 (ipykernel)",
   "language": "python",
   "name": "python3"
  },
  "language_info": {
   "codemirror_mode": {
    "name": "ipython",
    "version": 3
   },
   "file_extension": ".py",
   "mimetype": "text/x-python",
   "name": "python",
   "nbconvert_exporter": "python",
   "pygments_lexer": "ipython3",
   "version": "3.9.13"
  }
 },
 "nbformat": 4,
 "nbformat_minor": 5
}
