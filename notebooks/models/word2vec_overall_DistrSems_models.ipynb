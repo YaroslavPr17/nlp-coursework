{
 "cells": [
  {
   "cell_type": "markdown",
   "id": "eeaf81e4",
   "metadata": {},
   "source": [
    "# Word2Vec exploration\n",
    "\n",
    "## Description:\n",
    "Some minor examples of Word2Vec usage \n",
    "\n",
    "## Contents:\n",
    "* imports & dataset initialization\n",
    "* Intuitive documents vectorization\n",
    "* Loading gensim models"
   ]
  },
  {
   "cell_type": "code",
   "execution_count": 1,
   "id": "764dc976",
   "metadata": {},
   "outputs": [
    {
     "name": "stdout",
     "output_type": "stream",
     "text": [
      "C:\\Users\\Yaroslav Pristalov\\Documents\\Programming\\nlp-coursework\n"
     ]
    }
   ],
   "source": [
    "%cd ../.."
   ]
  },
  {
   "cell_type": "code",
   "execution_count": 2,
   "id": "b20e405a",
   "metadata": {},
   "outputs": [],
   "source": [
    "from nltk.tokenize import WhitespaceTokenizer, TreebankWordTokenizer\n",
    "from gensim.test.utils import common_texts\n",
    "from gensim.models import Word2Vec\n",
    "\n",
    "import numpy as np\n",
    "import dill\n",
    "\n",
    "from src.nlp.word2vec import doc2vec\n",
    "from src.nlp.word2vec import tokenize_by_whitespaces, doc2vec\n",
    "from src.nlp.word2vec import corp2vecs"
   ]
  },
  {
   "cell_type": "code",
   "execution_count": 3,
   "id": "76f6aa38",
   "metadata": {},
   "outputs": [
    {
     "data": {
      "text/html": [
       "<div>\n",
       "<style scoped>\n",
       "    .dataframe tbody tr th:only-of-type {\n",
       "        vertical-align: middle;\n",
       "    }\n",
       "\n",
       "    .dataframe tbody tr th {\n",
       "        vertical-align: top;\n",
       "    }\n",
       "\n",
       "    .dataframe thead th {\n",
       "        text-align: right;\n",
       "    }\n",
       "</style>\n",
       "<table border=\"1\" class=\"dataframe\">\n",
       "  <thead>\n",
       "    <tr style=\"text-align: right;\">\n",
       "      <th></th>\n",
       "      <th>review</th>\n",
       "      <th>label</th>\n",
       "    </tr>\n",
       "  </thead>\n",
       "  <tbody>\n",
       "    <tr>\n",
       "      <th>0</th>\n",
       "      <td>« зелёный миля » смотреть : 10 . примерно впеч...</td>\n",
       "      <td>NEUTRAL</td>\n",
       "    </tr>\n",
       "    <tr>\n",
       "      <th>1</th>\n",
       "      <td>период конец девяностый годов-начало двухтысяч...</td>\n",
       "      <td>POSITIVE</td>\n",
       "    </tr>\n",
       "    <tr>\n",
       "      <th>2</th>\n",
       "      <td>сложно писать рецензия фильм , видеть . самый ...</td>\n",
       "      <td>POSITIVE</td>\n",
       "    </tr>\n",
       "    <tr>\n",
       "      <th>3</th>\n",
       "      <td>любимый многий миллион ценитель киноискусство ...</td>\n",
       "      <td>POSITIVE</td>\n",
       "    </tr>\n",
       "    <tr>\n",
       "      <th>4</th>\n",
       "      <td>мир существовать разный фильм . цеплять , хоте...</td>\n",
       "      <td>POSITIVE</td>\n",
       "    </tr>\n",
       "    <tr>\n",
       "      <th>...</th>\n",
       "      <td>...</td>\n",
       "      <td>...</td>\n",
       "    </tr>\n",
       "    <tr>\n",
       "      <th>90641</th>\n",
       "      <td>, фильм - хороший представитель жанр ' биограф...</td>\n",
       "      <td>POSITIVE</td>\n",
       "    </tr>\n",
       "    <tr>\n",
       "      <th>90642</th>\n",
       "      <td>фильм « ламборгиня : человек-легенда » снятой ...</td>\n",
       "      <td>NEGATIVE</td>\n",
       "    </tr>\n",
       "    <tr>\n",
       "      <th>90643</th>\n",
       "      <td>эй , рагацци , серьёзно , показывать итальянск...</td>\n",
       "      <td>NEGATIVE</td>\n",
       "    </tr>\n",
       "    <tr>\n",
       "      <th>90644</th>\n",
       "      <td>вообще , говорить байопик , стоить отметить , ...</td>\n",
       "      <td>NEGATIVE</td>\n",
       "    </tr>\n",
       "    <tr>\n",
       "      <th>90645</th>\n",
       "      <td>визуальный качество , , безупречный – единстве...</td>\n",
       "      <td>NEUTRAL</td>\n",
       "    </tr>\n",
       "  </tbody>\n",
       "</table>\n",
       "<p>90646 rows × 2 columns</p>\n",
       "</div>"
      ],
      "text/plain": [
       "                                                  review     label\n",
       "0      « зелёный миля » смотреть : 10 . примерно впеч...   NEUTRAL\n",
       "1      период конец девяностый годов-начало двухтысяч...  POSITIVE\n",
       "2      сложно писать рецензия фильм , видеть . самый ...  POSITIVE\n",
       "3      любимый многий миллион ценитель киноискусство ...  POSITIVE\n",
       "4      мир существовать разный фильм . цеплять , хоте...  POSITIVE\n",
       "...                                                  ...       ...\n",
       "90641  , фильм - хороший представитель жанр ' биограф...  POSITIVE\n",
       "90642  фильм « ламборгиня : человек-легенда » снятой ...  NEGATIVE\n",
       "90643  эй , рагацци , серьёзно , показывать итальянск...  NEGATIVE\n",
       "90644  вообще , говорить байопик , стоить отметить , ...  NEGATIVE\n",
       "90645  визуальный качество , , безупречный – единстве...   NEUTRAL\n",
       "\n",
       "[90646 rows x 2 columns]"
      ]
     },
     "execution_count": 3,
     "metadata": {},
     "output_type": "execute_result"
    }
   ],
   "source": [
    "from src.nlp.visual import get_n_most_frequent_ngrams, visualize_ngram_occurrences\n",
    "\n",
    "with open(f'reviews_Review_Label_razdel_third_party_nltk.df', 'rb') as file:\n",
    "    data = dill.load(file)\n",
    "data"
   ]
  },
  {
   "cell_type": "markdown",
   "id": "9f79f817",
   "metadata": {},
   "source": [
    "#### Intuitive documents vectorization"
   ]
  },
  {
   "cell_type": "code",
   "execution_count": 10,
   "id": "c819e1cf",
   "metadata": {},
   "outputs": [
    {
     "name": "stdout",
     "output_type": "stream",
     "text": [
      "Wall time: 9.16 s\n",
      "Wall time: 38.7 s\n",
      "Wall time: 1min 8s\n"
     ]
    }
   ],
   "source": [
    "# Tokenizing docs\n",
    "%time tokenized_corpus = tokenize_by_whitespaces(data.review)\n",
    "# Building language model\n",
    "%time model = Word2Vec(sentences=tokenized_corpus, vector_size=100, workers=12)\n",
    "# Applying language model to the whole corpus (each document)\n",
    "%time vectorized_corpus = tokenized_corpus.apply(doc2vec, args=(model, 100))"
   ]
  },
  {
   "cell_type": "code",
   "execution_count": 11,
   "id": "52ccb51f",
   "metadata": {},
   "outputs": [
    {
     "data": {
      "text/plain": [
       "0        [-0.08935338542189288, 0.20498913871394336, -0...\n",
       "1        [-0.019402487606898246, 0.10809285813333964, -...\n",
       "2        [-0.04886518893065957, 0.4468649200241734, -0....\n",
       "3        [0.023877773297394756, 0.17978147982926893, -0...\n",
       "4        [-0.028057341522447043, 0.10552403178186186, -...\n",
       "                               ...                        \n",
       "90641    [-0.057445766115110486, 0.22400612860482427, -...\n",
       "90642    [0.02728318853248189, 0.2290514498834373, -0.3...\n",
       "90643    [0.12170386840099175, -0.032185551492709734, -...\n",
       "90644    [0.10083488899227364, 0.1595038571540499, -0.6...\n",
       "90645    [-0.0977801340688756, 0.04174740470402328, -0....\n",
       "Name: review, Length: 90646, dtype: object"
      ]
     },
     "execution_count": 11,
     "metadata": {},
     "output_type": "execute_result"
    }
   ],
   "source": [
    "vectorized_corpus"
   ]
  },
  {
   "cell_type": "markdown",
   "id": "33302bbb",
   "metadata": {},
   "source": [
    "---"
   ]
  },
  {
   "cell_type": "markdown",
   "id": "46ca39fb",
   "metadata": {},
   "source": [
    "#### Loading `gensim` models"
   ]
  },
  {
   "cell_type": "code",
   "execution_count": 9,
   "id": "bdf6ee3a",
   "metadata": {},
   "outputs": [
    {
     "name": "stdout",
     "output_type": "stream",
     "text": [
      "['fasttext-wiki-news-subwords-300', 'conceptnet-numberbatch-17-06-300', 'word2vec-ruscorpora-300', 'word2vec-google-news-300', 'glove-wiki-gigaword-50', 'glove-wiki-gigaword-100', 'glove-wiki-gigaword-200', 'glove-wiki-gigaword-300', 'glove-twitter-25', 'glove-twitter-50', 'glove-twitter-100', 'glove-twitter-200', '__testing_word2vec-matrix-synopsis']\n"
     ]
    }
   ],
   "source": [
    "import gensim.downloader\n",
    "\n",
    "print(list(gensim.downloader.info()['models'].keys()))"
   ]
  },
  {
   "cell_type": "code",
   "execution_count": 19,
   "id": "193bf176",
   "metadata": {
    "scrolled": true
   },
   "outputs": [
    {
     "name": "stdout",
     "output_type": "stream",
     "text": [
      "[--------------------------------------------------] 1.4% 23.4/1662.8MB downloaded"
     ]
    },
    {
     "name": "stderr",
     "output_type": "stream",
     "text": [
      "IOPub message rate exceeded.\n",
      "The notebook server will temporarily stop sending output\n",
      "to the client in order to avoid crashing it.\n",
      "To change this limit, set the config variable\n",
      "`--NotebookApp.iopub_msg_rate_limit`.\n",
      "\n",
      "Current values:\n",
      "NotebookApp.iopub_msg_rate_limit=1000.0 (msgs/sec)\n",
      "NotebookApp.rate_limit_window=3.0 (secs)\n",
      "\n"
     ]
    },
    {
     "name": "stdout",
     "output_type": "stream",
     "text": [
      "[=-------------------------------------------------] 3.5% 58.9/1662.8MB downloaded"
     ]
    },
    {
     "name": "stderr",
     "output_type": "stream",
     "text": [
      "IOPub message rate exceeded.\n",
      "The notebook server will temporarily stop sending output\n",
      "to the client in order to avoid crashing it.\n",
      "To change this limit, set the config variable\n",
      "`--NotebookApp.iopub_msg_rate_limit`.\n",
      "\n",
      "Current values:\n",
      "NotebookApp.iopub_msg_rate_limit=1000.0 (msgs/sec)\n",
      "NotebookApp.rate_limit_window=3.0 (secs)\n",
      "\n"
     ]
    },
    {
     "name": "stdout",
     "output_type": "stream",
     "text": [
      "[==------------------------------------------------] 5.7% 94.0/1662.8MB downloaded"
     ]
    },
    {
     "name": "stderr",
     "output_type": "stream",
     "text": [
      "IOPub message rate exceeded.\n",
      "The notebook server will temporarily stop sending output\n",
      "to the client in order to avoid crashing it.\n",
      "To change this limit, set the config variable\n",
      "`--NotebookApp.iopub_msg_rate_limit`.\n",
      "\n",
      "Current values:\n",
      "NotebookApp.iopub_msg_rate_limit=1000.0 (msgs/sec)\n",
      "NotebookApp.rate_limit_window=3.0 (secs)\n",
      "\n"
     ]
    },
    {
     "name": "stdout",
     "output_type": "stream",
     "text": [
      "[===-----------------------------------------------] 7.6% 126.5/1662.8MB downloaded"
     ]
    },
    {
     "name": "stderr",
     "output_type": "stream",
     "text": [
      "IOPub message rate exceeded.\n",
      "The notebook server will temporarily stop sending output\n",
      "to the client in order to avoid crashing it.\n",
      "To change this limit, set the config variable\n",
      "`--NotebookApp.iopub_msg_rate_limit`.\n",
      "\n",
      "Current values:\n",
      "NotebookApp.iopub_msg_rate_limit=1000.0 (msgs/sec)\n",
      "NotebookApp.rate_limit_window=3.0 (secs)\n",
      "\n"
     ]
    },
    {
     "name": "stdout",
     "output_type": "stream",
     "text": [
      "[====----------------------------------------------] 9.8% 163.8/1662.8MB downloaded"
     ]
    },
    {
     "name": "stderr",
     "output_type": "stream",
     "text": [
      "IOPub message rate exceeded.\n",
      "The notebook server will temporarily stop sending output\n",
      "to the client in order to avoid crashing it.\n",
      "To change this limit, set the config variable\n",
      "`--NotebookApp.iopub_msg_rate_limit`.\n",
      "\n",
      "Current values:\n",
      "NotebookApp.iopub_msg_rate_limit=1000.0 (msgs/sec)\n",
      "NotebookApp.rate_limit_window=3.0 (secs)\n",
      "\n"
     ]
    },
    {
     "name": "stdout",
     "output_type": "stream",
     "text": [
      "[======--------------------------------------------] 12.0% 199.6/1662.8MB downloaded"
     ]
    },
    {
     "name": "stderr",
     "output_type": "stream",
     "text": [
      "IOPub message rate exceeded.\n",
      "The notebook server will temporarily stop sending output\n",
      "to the client in order to avoid crashing it.\n",
      "To change this limit, set the config variable\n",
      "`--NotebookApp.iopub_msg_rate_limit`.\n",
      "\n",
      "Current values:\n",
      "NotebookApp.iopub_msg_rate_limit=1000.0 (msgs/sec)\n",
      "NotebookApp.rate_limit_window=3.0 (secs)\n",
      "\n"
     ]
    },
    {
     "name": "stdout",
     "output_type": "stream",
     "text": [
      "[=======-------------------------------------------] 14.1% 234.4/1662.8MB downloaded"
     ]
    },
    {
     "name": "stderr",
     "output_type": "stream",
     "text": [
      "IOPub message rate exceeded.\n",
      "The notebook server will temporarily stop sending output\n",
      "to the client in order to avoid crashing it.\n",
      "To change this limit, set the config variable\n",
      "`--NotebookApp.iopub_msg_rate_limit`.\n",
      "\n",
      "Current values:\n",
      "NotebookApp.iopub_msg_rate_limit=1000.0 (msgs/sec)\n",
      "NotebookApp.rate_limit_window=3.0 (secs)\n",
      "\n"
     ]
    },
    {
     "name": "stdout",
     "output_type": "stream",
     "text": [
      "[=========-----------------------------------------] 18.5% 307.5/1662.8MB downloaded"
     ]
    },
    {
     "name": "stderr",
     "output_type": "stream",
     "text": [
      "IOPub message rate exceeded.\n",
      "The notebook server will temporarily stop sending output\n",
      "to the client in order to avoid crashing it.\n",
      "To change this limit, set the config variable\n",
      "`--NotebookApp.iopub_msg_rate_limit`.\n",
      "\n",
      "Current values:\n",
      "NotebookApp.iopub_msg_rate_limit=1000.0 (msgs/sec)\n",
      "NotebookApp.rate_limit_window=3.0 (secs)\n",
      "\n"
     ]
    },
    {
     "name": "stdout",
     "output_type": "stream",
     "text": [
      "[==========----------------------------------------] 20.4% 338.8/1662.8MB downloaded"
     ]
    },
    {
     "name": "stderr",
     "output_type": "stream",
     "text": [
      "IOPub message rate exceeded.\n",
      "The notebook server will temporarily stop sending output\n",
      "to the client in order to avoid crashing it.\n",
      "To change this limit, set the config variable\n",
      "`--NotebookApp.iopub_msg_rate_limit`.\n",
      "\n",
      "Current values:\n",
      "NotebookApp.iopub_msg_rate_limit=1000.0 (msgs/sec)\n",
      "NotebookApp.rate_limit_window=3.0 (secs)\n",
      "\n"
     ]
    },
    {
     "name": "stdout",
     "output_type": "stream",
     "text": [
      "[===========---------------------------------------] 22.5% 374.9/1662.8MB downloaded"
     ]
    },
    {
     "name": "stderr",
     "output_type": "stream",
     "text": [
      "IOPub message rate exceeded.\n",
      "The notebook server will temporarily stop sending output\n",
      "to the client in order to avoid crashing it.\n",
      "To change this limit, set the config variable\n",
      "`--NotebookApp.iopub_msg_rate_limit`.\n",
      "\n",
      "Current values:\n",
      "NotebookApp.iopub_msg_rate_limit=1000.0 (msgs/sec)\n",
      "NotebookApp.rate_limit_window=3.0 (secs)\n",
      "\n"
     ]
    },
    {
     "name": "stdout",
     "output_type": "stream",
     "text": [
      "[============--------------------------------------] 24.7% 411.0/1662.8MB downloaded"
     ]
    },
    {
     "name": "stderr",
     "output_type": "stream",
     "text": [
      "IOPub message rate exceeded.\n",
      "The notebook server will temporarily stop sending output\n",
      "to the client in order to avoid crashing it.\n",
      "To change this limit, set the config variable\n",
      "`--NotebookApp.iopub_msg_rate_limit`.\n",
      "\n",
      "Current values:\n",
      "NotebookApp.iopub_msg_rate_limit=1000.0 (msgs/sec)\n",
      "NotebookApp.rate_limit_window=3.0 (secs)\n",
      "\n"
     ]
    },
    {
     "name": "stdout",
     "output_type": "stream",
     "text": [
      "[=============-------------------------------------] 26.7% 444.7/1662.8MB downloaded"
     ]
    },
    {
     "name": "stderr",
     "output_type": "stream",
     "text": [
      "IOPub message rate exceeded.\n",
      "The notebook server will temporarily stop sending output\n",
      "to the client in order to avoid crashing it.\n",
      "To change this limit, set the config variable\n",
      "`--NotebookApp.iopub_msg_rate_limit`.\n",
      "\n",
      "Current values:\n",
      "NotebookApp.iopub_msg_rate_limit=1000.0 (msgs/sec)\n",
      "NotebookApp.rate_limit_window=3.0 (secs)\n",
      "\n"
     ]
    },
    {
     "name": "stdout",
     "output_type": "stream",
     "text": [
      "[==============------------------------------------] 28.8% 478.7/1662.8MB downloaded"
     ]
    },
    {
     "name": "stderr",
     "output_type": "stream",
     "text": [
      "IOPub message rate exceeded.\n",
      "The notebook server will temporarily stop sending output\n",
      "to the client in order to avoid crashing it.\n",
      "To change this limit, set the config variable\n",
      "`--NotebookApp.iopub_msg_rate_limit`.\n",
      "\n",
      "Current values:\n",
      "NotebookApp.iopub_msg_rate_limit=1000.0 (msgs/sec)\n",
      "NotebookApp.rate_limit_window=3.0 (secs)\n",
      "\n"
     ]
    },
    {
     "name": "stdout",
     "output_type": "stream",
     "text": [
      "[===============-----------------------------------] 30.9% 514.2/1662.8MB downloaded"
     ]
    },
    {
     "name": "stderr",
     "output_type": "stream",
     "text": [
      "IOPub message rate exceeded.\n",
      "The notebook server will temporarily stop sending output\n",
      "to the client in order to avoid crashing it.\n",
      "To change this limit, set the config variable\n",
      "`--NotebookApp.iopub_msg_rate_limit`.\n",
      "\n",
      "Current values:\n",
      "NotebookApp.iopub_msg_rate_limit=1000.0 (msgs/sec)\n",
      "NotebookApp.rate_limit_window=3.0 (secs)\n",
      "\n"
     ]
    },
    {
     "name": "stdout",
     "output_type": "stream",
     "text": [
      "[================----------------------------------] 33.1% 549.8/1662.8MB downloaded"
     ]
    },
    {
     "name": "stderr",
     "output_type": "stream",
     "text": [
      "IOPub message rate exceeded.\n",
      "The notebook server will temporarily stop sending output\n",
      "to the client in order to avoid crashing it.\n",
      "To change this limit, set the config variable\n",
      "`--NotebookApp.iopub_msg_rate_limit`.\n",
      "\n",
      "Current values:\n",
      "NotebookApp.iopub_msg_rate_limit=1000.0 (msgs/sec)\n",
      "NotebookApp.rate_limit_window=3.0 (secs)\n",
      "\n"
     ]
    },
    {
     "name": "stdout",
     "output_type": "stream",
     "text": [
      "[=================---------------------------------] 35.1% 583.9/1662.8MB downloaded"
     ]
    },
    {
     "name": "stderr",
     "output_type": "stream",
     "text": [
      "IOPub message rate exceeded.\n",
      "The notebook server will temporarily stop sending output\n",
      "to the client in order to avoid crashing it.\n",
      "To change this limit, set the config variable\n",
      "`--NotebookApp.iopub_msg_rate_limit`.\n",
      "\n",
      "Current values:\n",
      "NotebookApp.iopub_msg_rate_limit=1000.0 (msgs/sec)\n",
      "NotebookApp.rate_limit_window=3.0 (secs)\n",
      "\n"
     ]
    },
    {
     "name": "stdout",
     "output_type": "stream",
     "text": [
      "[==================--------------------------------] 37.2% 618.6/1662.8MB downloaded"
     ]
    },
    {
     "name": "stderr",
     "output_type": "stream",
     "text": [
      "IOPub message rate exceeded.\n",
      "The notebook server will temporarily stop sending output\n",
      "to the client in order to avoid crashing it.\n",
      "To change this limit, set the config variable\n",
      "`--NotebookApp.iopub_msg_rate_limit`.\n",
      "\n",
      "Current values:\n",
      "NotebookApp.iopub_msg_rate_limit=1000.0 (msgs/sec)\n",
      "NotebookApp.rate_limit_window=3.0 (secs)\n",
      "\n"
     ]
    },
    {
     "name": "stdout",
     "output_type": "stream",
     "text": [
      "[===================-------------------------------] 39.4% 654.4/1662.8MB downloaded"
     ]
    },
    {
     "name": "stderr",
     "output_type": "stream",
     "text": [
      "IOPub message rate exceeded.\n",
      "The notebook server will temporarily stop sending output\n",
      "to the client in order to avoid crashing it.\n",
      "To change this limit, set the config variable\n",
      "`--NotebookApp.iopub_msg_rate_limit`.\n",
      "\n",
      "Current values:\n",
      "NotebookApp.iopub_msg_rate_limit=1000.0 (msgs/sec)\n",
      "NotebookApp.rate_limit_window=3.0 (secs)\n",
      "\n"
     ]
    },
    {
     "name": "stdout",
     "output_type": "stream",
     "text": [
      "[====================------------------------------] 41.5% 689.9/1662.8MB downloaded"
     ]
    },
    {
     "name": "stderr",
     "output_type": "stream",
     "text": [
      "IOPub message rate exceeded.\n",
      "The notebook server will temporarily stop sending output\n",
      "to the client in order to avoid crashing it.\n",
      "To change this limit, set the config variable\n",
      "`--NotebookApp.iopub_msg_rate_limit`.\n",
      "\n",
      "Current values:\n",
      "NotebookApp.iopub_msg_rate_limit=1000.0 (msgs/sec)\n",
      "NotebookApp.rate_limit_window=3.0 (secs)\n",
      "\n"
     ]
    },
    {
     "name": "stdout",
     "output_type": "stream",
     "text": [
      "[=====================-----------------------------] 43.6% 725.8/1662.8MB downloaded"
     ]
    },
    {
     "name": "stderr",
     "output_type": "stream",
     "text": [
      "IOPub message rate exceeded.\n",
      "The notebook server will temporarily stop sending output\n",
      "to the client in order to avoid crashing it.\n",
      "To change this limit, set the config variable\n",
      "`--NotebookApp.iopub_msg_rate_limit`.\n",
      "\n",
      "Current values:\n",
      "NotebookApp.iopub_msg_rate_limit=1000.0 (msgs/sec)\n",
      "NotebookApp.rate_limit_window=3.0 (secs)\n",
      "\n"
     ]
    },
    {
     "name": "stdout",
     "output_type": "stream",
     "text": [
      "[=======================---------------------------] 47.8% 795.5/1662.8MB downloaded"
     ]
    },
    {
     "name": "stderr",
     "output_type": "stream",
     "text": [
      "IOPub message rate exceeded.\n",
      "The notebook server will temporarily stop sending output\n",
      "to the client in order to avoid crashing it.\n",
      "To change this limit, set the config variable\n",
      "`--NotebookApp.iopub_msg_rate_limit`.\n",
      "\n",
      "Current values:\n",
      "NotebookApp.iopub_msg_rate_limit=1000.0 (msgs/sec)\n",
      "NotebookApp.rate_limit_window=3.0 (secs)\n",
      "\n"
     ]
    },
    {
     "name": "stdout",
     "output_type": "stream",
     "text": [
      "[========================--------------------------] 49.7% 826.9/1662.8MB downloaded"
     ]
    },
    {
     "name": "stderr",
     "output_type": "stream",
     "text": [
      "IOPub message rate exceeded.\n",
      "The notebook server will temporarily stop sending output\n",
      "to the client in order to avoid crashing it.\n",
      "To change this limit, set the config variable\n",
      "`--NotebookApp.iopub_msg_rate_limit`.\n",
      "\n",
      "Current values:\n",
      "NotebookApp.iopub_msg_rate_limit=1000.0 (msgs/sec)\n",
      "NotebookApp.rate_limit_window=3.0 (secs)\n",
      "\n"
     ]
    },
    {
     "name": "stdout",
     "output_type": "stream",
     "text": [
      "[=========================-------------------------] 51.8% 860.7/1662.8MB downloaded"
     ]
    },
    {
     "name": "stderr",
     "output_type": "stream",
     "text": [
      "IOPub message rate exceeded.\n",
      "The notebook server will temporarily stop sending output\n",
      "to the client in order to avoid crashing it.\n",
      "To change this limit, set the config variable\n",
      "`--NotebookApp.iopub_msg_rate_limit`.\n",
      "\n",
      "Current values:\n",
      "NotebookApp.iopub_msg_rate_limit=1000.0 (msgs/sec)\n",
      "NotebookApp.rate_limit_window=3.0 (secs)\n",
      "\n"
     ]
    },
    {
     "name": "stdout",
     "output_type": "stream",
     "text": [
      "[==========================------------------------] 53.4% 888.3/1662.8MB downloaded"
     ]
    },
    {
     "name": "stderr",
     "output_type": "stream",
     "text": [
      "IOPub message rate exceeded.\n",
      "The notebook server will temporarily stop sending output\n",
      "to the client in order to avoid crashing it.\n",
      "To change this limit, set the config variable\n",
      "`--NotebookApp.iopub_msg_rate_limit`.\n",
      "\n",
      "Current values:\n",
      "NotebookApp.iopub_msg_rate_limit=1000.0 (msgs/sec)\n",
      "NotebookApp.rate_limit_window=3.0 (secs)\n",
      "\n"
     ]
    },
    {
     "name": "stdout",
     "output_type": "stream",
     "text": [
      "[===========================-----------------------] 55.3% 918.8/1662.8MB downloaded"
     ]
    },
    {
     "name": "stderr",
     "output_type": "stream",
     "text": [
      "IOPub message rate exceeded.\n",
      "The notebook server will temporarily stop sending output\n",
      "to the client in order to avoid crashing it.\n",
      "To change this limit, set the config variable\n",
      "`--NotebookApp.iopub_msg_rate_limit`.\n",
      "\n",
      "Current values:\n",
      "NotebookApp.iopub_msg_rate_limit=1000.0 (msgs/sec)\n",
      "NotebookApp.rate_limit_window=3.0 (secs)\n",
      "\n"
     ]
    },
    {
     "name": "stdout",
     "output_type": "stream",
     "text": [
      "[============================----------------------] 57.4% 953.7/1662.8MB downloaded"
     ]
    },
    {
     "name": "stderr",
     "output_type": "stream",
     "text": [
      "IOPub message rate exceeded.\n",
      "The notebook server will temporarily stop sending output\n",
      "to the client in order to avoid crashing it.\n",
      "To change this limit, set the config variable\n",
      "`--NotebookApp.iopub_msg_rate_limit`.\n",
      "\n",
      "Current values:\n",
      "NotebookApp.iopub_msg_rate_limit=1000.0 (msgs/sec)\n",
      "NotebookApp.rate_limit_window=3.0 (secs)\n",
      "\n"
     ]
    },
    {
     "name": "stdout",
     "output_type": "stream",
     "text": [
      "[=============================---------------------] 59.4% 988.3/1662.8MB downloaded"
     ]
    },
    {
     "name": "stderr",
     "output_type": "stream",
     "text": [
      "IOPub message rate exceeded.\n",
      "The notebook server will temporarily stop sending output\n",
      "to the client in order to avoid crashing it.\n",
      "To change this limit, set the config variable\n",
      "`--NotebookApp.iopub_msg_rate_limit`.\n",
      "\n",
      "Current values:\n",
      "NotebookApp.iopub_msg_rate_limit=1000.0 (msgs/sec)\n",
      "NotebookApp.rate_limit_window=3.0 (secs)\n",
      "\n"
     ]
    },
    {
     "name": "stdout",
     "output_type": "stream",
     "text": [
      "[==============================--------------------] 61.6% 1024.3/1662.8MB downloaded"
     ]
    },
    {
     "name": "stderr",
     "output_type": "stream",
     "text": [
      "IOPub message rate exceeded.\n",
      "The notebook server will temporarily stop sending output\n",
      "to the client in order to avoid crashing it.\n",
      "To change this limit, set the config variable\n",
      "`--NotebookApp.iopub_msg_rate_limit`.\n",
      "\n",
      "Current values:\n",
      "NotebookApp.iopub_msg_rate_limit=1000.0 (msgs/sec)\n",
      "NotebookApp.rate_limit_window=3.0 (secs)\n",
      "\n"
     ]
    },
    {
     "name": "stdout",
     "output_type": "stream",
     "text": [
      "[===============================-------------------] 63.7% 1058.9/1662.8MB downloaded"
     ]
    },
    {
     "name": "stderr",
     "output_type": "stream",
     "text": [
      "IOPub message rate exceeded.\n",
      "The notebook server will temporarily stop sending output\n",
      "to the client in order to avoid crashing it.\n",
      "To change this limit, set the config variable\n",
      "`--NotebookApp.iopub_msg_rate_limit`.\n",
      "\n",
      "Current values:\n",
      "NotebookApp.iopub_msg_rate_limit=1000.0 (msgs/sec)\n",
      "NotebookApp.rate_limit_window=3.0 (secs)\n",
      "\n"
     ]
    },
    {
     "name": "stdout",
     "output_type": "stream",
     "text": [
      "[================================------------------] 65.8% 1093.8/1662.8MB downloaded"
     ]
    },
    {
     "name": "stderr",
     "output_type": "stream",
     "text": [
      "IOPub message rate exceeded.\n",
      "The notebook server will temporarily stop sending output\n",
      "to the client in order to avoid crashing it.\n",
      "To change this limit, set the config variable\n",
      "`--NotebookApp.iopub_msg_rate_limit`.\n",
      "\n",
      "Current values:\n",
      "NotebookApp.iopub_msg_rate_limit=1000.0 (msgs/sec)\n",
      "NotebookApp.rate_limit_window=3.0 (secs)\n",
      "\n"
     ]
    },
    {
     "name": "stdout",
     "output_type": "stream",
     "text": [
      "[=================================-----------------] 67.9% 1128.5/1662.8MB downloaded"
     ]
    },
    {
     "name": "stderr",
     "output_type": "stream",
     "text": [
      "IOPub message rate exceeded.\n",
      "The notebook server will temporarily stop sending output\n",
      "to the client in order to avoid crashing it.\n",
      "To change this limit, set the config variable\n",
      "`--NotebookApp.iopub_msg_rate_limit`.\n",
      "\n",
      "Current values:\n",
      "NotebookApp.iopub_msg_rate_limit=1000.0 (msgs/sec)\n",
      "NotebookApp.rate_limit_window=3.0 (secs)\n",
      "\n"
     ]
    },
    {
     "name": "stdout",
     "output_type": "stream",
     "text": [
      "[==================================----------------] 69.9% 1162.7/1662.8MB downloaded"
     ]
    },
    {
     "name": "stderr",
     "output_type": "stream",
     "text": [
      "IOPub message rate exceeded.\n",
      "The notebook server will temporarily stop sending output\n",
      "to the client in order to avoid crashing it.\n",
      "To change this limit, set the config variable\n",
      "`--NotebookApp.iopub_msg_rate_limit`.\n",
      "\n",
      "Current values:\n",
      "NotebookApp.iopub_msg_rate_limit=1000.0 (msgs/sec)\n",
      "NotebookApp.rate_limit_window=3.0 (secs)\n",
      "\n"
     ]
    },
    {
     "name": "stdout",
     "output_type": "stream",
     "text": [
      "[====================================--------------] 72.0% 1197.8/1662.8MB downloaded"
     ]
    },
    {
     "name": "stderr",
     "output_type": "stream",
     "text": [
      "IOPub message rate exceeded.\n",
      "The notebook server will temporarily stop sending output\n",
      "to the client in order to avoid crashing it.\n",
      "To change this limit, set the config variable\n",
      "`--NotebookApp.iopub_msg_rate_limit`.\n",
      "\n",
      "Current values:\n",
      "NotebookApp.iopub_msg_rate_limit=1000.0 (msgs/sec)\n",
      "NotebookApp.rate_limit_window=3.0 (secs)\n",
      "\n"
     ]
    },
    {
     "name": "stdout",
     "output_type": "stream",
     "text": [
      "[=====================================-------------] 74.2% 1233.8/1662.8MB downloaded"
     ]
    },
    {
     "name": "stderr",
     "output_type": "stream",
     "text": [
      "IOPub message rate exceeded.\n",
      "The notebook server will temporarily stop sending output\n",
      "to the client in order to avoid crashing it.\n",
      "To change this limit, set the config variable\n",
      "`--NotebookApp.iopub_msg_rate_limit`.\n",
      "\n",
      "Current values:\n",
      "NotebookApp.iopub_msg_rate_limit=1000.0 (msgs/sec)\n",
      "NotebookApp.rate_limit_window=3.0 (secs)\n",
      "\n"
     ]
    },
    {
     "name": "stdout",
     "output_type": "stream",
     "text": [
      "[======================================------------] 76.3% 1269.3/1662.8MB downloaded"
     ]
    },
    {
     "name": "stderr",
     "output_type": "stream",
     "text": [
      "IOPub message rate exceeded.\n",
      "The notebook server will temporarily stop sending output\n",
      "to the client in order to avoid crashing it.\n",
      "To change this limit, set the config variable\n",
      "`--NotebookApp.iopub_msg_rate_limit`.\n",
      "\n",
      "Current values:\n",
      "NotebookApp.iopub_msg_rate_limit=1000.0 (msgs/sec)\n",
      "NotebookApp.rate_limit_window=3.0 (secs)\n",
      "\n"
     ]
    },
    {
     "name": "stdout",
     "output_type": "stream",
     "text": [
      "[=======================================-----------] 78.5% 1305.0/1662.8MB downloaded"
     ]
    },
    {
     "name": "stderr",
     "output_type": "stream",
     "text": [
      "IOPub message rate exceeded.\n",
      "The notebook server will temporarily stop sending output\n",
      "to the client in order to avoid crashing it.\n",
      "To change this limit, set the config variable\n",
      "`--NotebookApp.iopub_msg_rate_limit`.\n",
      "\n",
      "Current values:\n",
      "NotebookApp.iopub_msg_rate_limit=1000.0 (msgs/sec)\n",
      "NotebookApp.rate_limit_window=3.0 (secs)\n",
      "\n"
     ]
    },
    {
     "name": "stdout",
     "output_type": "stream",
     "text": [
      "[========================================----------] 80.6% 1340.1/1662.8MB downloaded"
     ]
    },
    {
     "name": "stderr",
     "output_type": "stream",
     "text": [
      "IOPub message rate exceeded.\n",
      "The notebook server will temporarily stop sending output\n",
      "to the client in order to avoid crashing it.\n",
      "To change this limit, set the config variable\n",
      "`--NotebookApp.iopub_msg_rate_limit`.\n",
      "\n",
      "Current values:\n",
      "NotebookApp.iopub_msg_rate_limit=1000.0 (msgs/sec)\n",
      "NotebookApp.rate_limit_window=3.0 (secs)\n",
      "\n"
     ]
    },
    {
     "name": "stdout",
     "output_type": "stream",
     "text": [
      "[=========================================---------] 82.7% 1375.7/1662.8MB downloaded"
     ]
    },
    {
     "name": "stderr",
     "output_type": "stream",
     "text": [
      "IOPub message rate exceeded.\n",
      "The notebook server will temporarily stop sending output\n",
      "to the client in order to avoid crashing it.\n",
      "To change this limit, set the config variable\n",
      "`--NotebookApp.iopub_msg_rate_limit`.\n",
      "\n",
      "Current values:\n",
      "NotebookApp.iopub_msg_rate_limit=1000.0 (msgs/sec)\n",
      "NotebookApp.rate_limit_window=3.0 (secs)\n",
      "\n"
     ]
    },
    {
     "name": "stdout",
     "output_type": "stream",
     "text": [
      "[==========================================--------] 84.7% 1408.5/1662.8MB downloaded"
     ]
    },
    {
     "name": "stderr",
     "output_type": "stream",
     "text": [
      "IOPub message rate exceeded.\n",
      "The notebook server will temporarily stop sending output\n",
      "to the client in order to avoid crashing it.\n",
      "To change this limit, set the config variable\n",
      "`--NotebookApp.iopub_msg_rate_limit`.\n",
      "\n",
      "Current values:\n",
      "NotebookApp.iopub_msg_rate_limit=1000.0 (msgs/sec)\n",
      "NotebookApp.rate_limit_window=3.0 (secs)\n",
      "\n"
     ]
    },
    {
     "name": "stdout",
     "output_type": "stream",
     "text": [
      "[===========================================-------] 86.8% 1444.0/1662.8MB downloaded"
     ]
    },
    {
     "name": "stderr",
     "output_type": "stream",
     "text": [
      "IOPub message rate exceeded.\n",
      "The notebook server will temporarily stop sending output\n",
      "to the client in order to avoid crashing it.\n",
      "To change this limit, set the config variable\n",
      "`--NotebookApp.iopub_msg_rate_limit`.\n",
      "\n",
      "Current values:\n",
      "NotebookApp.iopub_msg_rate_limit=1000.0 (msgs/sec)\n",
      "NotebookApp.rate_limit_window=3.0 (secs)\n",
      "\n"
     ]
    },
    {
     "name": "stdout",
     "output_type": "stream",
     "text": [
      "[============================================------] 89.0% 1479.4/1662.8MB downloaded"
     ]
    },
    {
     "name": "stderr",
     "output_type": "stream",
     "text": [
      "IOPub message rate exceeded.\n",
      "The notebook server will temporarily stop sending output\n",
      "to the client in order to avoid crashing it.\n",
      "To change this limit, set the config variable\n",
      "`--NotebookApp.iopub_msg_rate_limit`.\n",
      "\n",
      "Current values:\n",
      "NotebookApp.iopub_msg_rate_limit=1000.0 (msgs/sec)\n",
      "NotebookApp.rate_limit_window=3.0 (secs)\n",
      "\n"
     ]
    },
    {
     "name": "stdout",
     "output_type": "stream",
     "text": [
      "[=============================================-----] 91.1% 1514.3/1662.8MB downloaded"
     ]
    },
    {
     "name": "stderr",
     "output_type": "stream",
     "text": [
      "IOPub message rate exceeded.\n",
      "The notebook server will temporarily stop sending output\n",
      "to the client in order to avoid crashing it.\n",
      "To change this limit, set the config variable\n",
      "`--NotebookApp.iopub_msg_rate_limit`.\n",
      "\n",
      "Current values:\n",
      "NotebookApp.iopub_msg_rate_limit=1000.0 (msgs/sec)\n",
      "NotebookApp.rate_limit_window=3.0 (secs)\n",
      "\n"
     ]
    },
    {
     "name": "stdout",
     "output_type": "stream",
     "text": [
      "[==============================================----] 93.0% 1546.8/1662.8MB downloaded"
     ]
    },
    {
     "name": "stderr",
     "output_type": "stream",
     "text": [
      "IOPub message rate exceeded.\n",
      "The notebook server will temporarily stop sending output\n",
      "to the client in order to avoid crashing it.\n",
      "To change this limit, set the config variable\n",
      "`--NotebookApp.iopub_msg_rate_limit`.\n",
      "\n",
      "Current values:\n",
      "NotebookApp.iopub_msg_rate_limit=1000.0 (msgs/sec)\n",
      "NotebookApp.rate_limit_window=3.0 (secs)\n",
      "\n"
     ]
    },
    {
     "name": "stdout",
     "output_type": "stream",
     "text": [
      "[===============================================---] 95.1% 1580.8/1662.8MB downloaded"
     ]
    },
    {
     "name": "stderr",
     "output_type": "stream",
     "text": [
      "IOPub message rate exceeded.\n",
      "The notebook server will temporarily stop sending output\n",
      "to the client in order to avoid crashing it.\n",
      "To change this limit, set the config variable\n",
      "`--NotebookApp.iopub_msg_rate_limit`.\n",
      "\n",
      "Current values:\n",
      "NotebookApp.iopub_msg_rate_limit=1000.0 (msgs/sec)\n",
      "NotebookApp.rate_limit_window=3.0 (secs)\n",
      "\n"
     ]
    },
    {
     "name": "stdout",
     "output_type": "stream",
     "text": [
      "[================================================--] 97.2% 1616.0/1662.8MB downloaded"
     ]
    },
    {
     "name": "stderr",
     "output_type": "stream",
     "text": [
      "IOPub message rate exceeded.\n",
      "The notebook server will temporarily stop sending output\n",
      "to the client in order to avoid crashing it.\n",
      "To change this limit, set the config variable\n",
      "`--NotebookApp.iopub_msg_rate_limit`.\n",
      "\n",
      "Current values:\n",
      "NotebookApp.iopub_msg_rate_limit=1000.0 (msgs/sec)\n",
      "NotebookApp.rate_limit_window=3.0 (secs)\n",
      "\n"
     ]
    },
    {
     "name": "stdout",
     "output_type": "stream",
     "text": [
      "[=================================================-] 99.4% 1652.7/1662.8MB downloaded"
     ]
    },
    {
     "name": "stderr",
     "output_type": "stream",
     "text": [
      "IOPub message rate exceeded.\n",
      "The notebook server will temporarily stop sending output\n",
      "to the client in order to avoid crashing it.\n",
      "To change this limit, set the config variable\n",
      "`--NotebookApp.iopub_msg_rate_limit`.\n",
      "\n",
      "Current values:\n",
      "NotebookApp.iopub_msg_rate_limit=1000.0 (msgs/sec)\n",
      "NotebookApp.rate_limit_window=3.0 (secs)\n",
      "\n"
     ]
    }
   ],
   "source": [
    "w2v_vectors = gensim.downloader.load('word2vec-google-news-300')"
   ]
  },
  {
   "cell_type": "code",
   "execution_count": 24,
   "id": "3e6b6e28",
   "metadata": {},
   "outputs": [
    {
     "data": {
      "text/plain": [
       "[',',\n",
       " '.',\n",
       " 'фильм',\n",
       " \"'\",\n",
       " '>',\n",
       " '<',\n",
       " '»',\n",
       " '«',\n",
       " 'b',\n",
       " '-',\n",
       " 'свой',\n",
       " '/',\n",
       " ')',\n",
       " '(',\n",
       " '!',\n",
       " '?',\n",
       " '—',\n",
       " ':',\n",
       " 'герой',\n",
       " 'хороший',\n",
       " '10',\n",
       " 'i',\n",
       " 'история',\n",
       " 'самый',\n",
       " '–',\n",
       " 'актёр',\n",
       " 'картина',\n",
       " 'персонаж',\n",
       " 'сюжет',\n",
       " 'смотреть',\n",
       " 'роль',\n",
       " 'мир',\n",
       " 'большой',\n",
       " 'главный',\n",
       " 'зритель',\n",
       " 'кино',\n",
       " '…',\n",
       " 'стать',\n",
       " 'игра',\n",
       " '...',\n",
       " 'просмотр',\n",
       " 'режиссёр',\n",
       " 'часть',\n",
       " 'говорить',\n",
       " 'друг',\n",
       " 'новый',\n",
       " 'сцена',\n",
       " 'момент',\n",
       " 'знать',\n",
       " 'посмотреть',\n",
       " 'работа',\n",
       " 'конец',\n",
       " 'видеть',\n",
       " 'сделать',\n",
       " 'любовь',\n",
       " 'книга',\n",
       " 'хотеться',\n",
       " 'стоить',\n",
       " 'дело',\n",
       " 'место',\n",
       " 'что-то',\n",
       " 'образ',\n",
       " 'показать',\n",
       " 'слово',\n",
       " 'казаться',\n",
       " 'понравиться',\n",
       " 'интересный',\n",
       " 'вообще',\n",
       " 'должный',\n",
       " 'увидеть',\n",
       " 'думать',\n",
       " 'начало',\n",
       " 'являться',\n",
       " 'ребёнок',\n",
       " 'делать',\n",
       " 'настоящий',\n",
       " 'музыка',\n",
       " 'экран',\n",
       " 'актёрский',\n",
       " 'главное',\n",
       " 'получиться',\n",
       " 'последний',\n",
       " 'играть',\n",
       " 'мультфильм',\n",
       " 'понять',\n",
       " 'происходить',\n",
       " 'сыграть',\n",
       " 'какой-то',\n",
       " 'чувство',\n",
       " 'глаз',\n",
       " 'взгляд',\n",
       " 'сторона',\n",
       " 'жить',\n",
       " 'идти',\n",
       " 'понимать',\n",
       " 'любить',\n",
       " 'душа',\n",
       " 'идея',\n",
       " 'некоторый',\n",
       " 'больший',\n",
       " 'смысл',\n",
       " 'эмоция',\n",
       " 'дать',\n",
       " 'событие',\n",
       " 'общий',\n",
       " 'атмосфера',\n",
       " 'прекрасный',\n",
       " 'ждать',\n",
       " 'поэтому',\n",
       " 'смочь',\n",
       " 'вопрос',\n",
       " 'красивый',\n",
       " 'лицо',\n",
       " 'настолько',\n",
       " 'итог',\n",
       " 'любой',\n",
       " 'маленький',\n",
       " 'юмор',\n",
       " 'жанр',\n",
       " 'впечатление',\n",
       " 'война',\n",
       " 'сильный',\n",
       " 'остаться',\n",
       " 'плохой',\n",
       " 'данный',\n",
       " 'отличный',\n",
       " 'минута',\n",
       " 'сценарий',\n",
       " 'простой',\n",
       " 'становиться',\n",
       " 'тема',\n",
       " 'никто',\n",
       " 'любимый',\n",
       " 'сразу',\n",
       " 'полный',\n",
       " 'внимание',\n",
       " 'считать',\n",
       " 'пытаться',\n",
       " 'проблема',\n",
       " 'начинать',\n",
       " 'совершенно',\n",
       " 'действие',\n",
       " 'отношение',\n",
       " 'голова',\n",
       " 'выйти',\n",
       " 'план',\n",
       " 'случай',\n",
       " ';',\n",
       " 'шедевр',\n",
       " 'сила',\n",
       " 'мысль',\n",
       " 'остальной',\n",
       " 'получить',\n",
       " 'выглядеть',\n",
       " 'оказаться',\n",
       " 'великолепный',\n",
       " 'нолан',\n",
       " 'давать',\n",
       " 'возможно',\n",
       " 'гарри',\n",
       " 'многие',\n",
       " 'подобный',\n",
       " 'кадр',\n",
       " 'создать',\n",
       " 'отметить',\n",
       " 'огромный',\n",
       " 'час',\n",
       " 'добрый',\n",
       " 'семья',\n",
       " 'яркий',\n",
       " 'высокий',\n",
       " 'кто-то',\n",
       " 'создатель',\n",
       " 'девушка',\n",
       " 'снять',\n",
       " 'показывать',\n",
       " 'лента',\n",
       " 'уровень',\n",
       " 'заставлять',\n",
       " 'найти',\n",
       " 'разный',\n",
       " 'верить',\n",
       " 'сердце',\n",
       " 'вместе',\n",
       " 'оставаться',\n",
       " 'смерть',\n",
       " 'из-за',\n",
       " 'никакой',\n",
       " 'драма',\n",
       " 'правда',\n",
       " 'вызывать',\n",
       " 'целое',\n",
       " 'рука',\n",
       " 'несмотря',\n",
       " 'абсолютно',\n",
       " 'далёкий',\n",
       " 'дом',\n",
       " 'диалог',\n",
       " 'замечательный',\n",
       " 'решить',\n",
       " 'сказка',\n",
       " 'единственный',\n",
       " 'вид',\n",
       " '2',\n",
       " 'великий',\n",
       " '3',\n",
       " 'смотреться',\n",
       " 'отлично',\n",
       " 'современный',\n",
       " 'вполне',\n",
       " 'мнение',\n",
       " 'многий',\n",
       " 'точно',\n",
       " 'начать',\n",
       " 'город',\n",
       " 'ожидать',\n",
       " 'реальный',\n",
       " 'удаться',\n",
       " 'достаточно',\n",
       " 'немой',\n",
       " 'спецэффект',\n",
       " 'автор',\n",
       " 'обычный',\n",
       " 'финал',\n",
       " 'характер',\n",
       " 'весьма',\n",
       " 'комедия',\n",
       " 'ощущение',\n",
       " 'ради',\n",
       " 'плюс',\n",
       " 'потрясать',\n",
       " 'очередной',\n",
       " 'сюжетный',\n",
       " 'деньга',\n",
       " 'молодой',\n",
       " 'экранизация',\n",
       " 'героиня',\n",
       " 'оскар',\n",
       " 'ситуация',\n",
       " 'кинематограф',\n",
       " 'практически',\n",
       " 'отец',\n",
       " 'сериал',\n",
       " 'интересно',\n",
       " 'снятой',\n",
       " 'снимать',\n",
       " 'способный',\n",
       " 'линия',\n",
       " '9',\n",
       " 'мечта',\n",
       " 'пара',\n",
       " 'вроде',\n",
       " 'нужный',\n",
       " 'тарантино',\n",
       " 'всё-таки',\n",
       " 'сильно',\n",
       " 'человеческий',\n",
       " 'парень',\n",
       " 'наверное',\n",
       " 'поставить',\n",
       " 'назвать',\n",
       " 'читать',\n",
       " 'путь',\n",
       " 'произведение',\n",
       " 'судьба',\n",
       " 'женщина',\n",
       " 'тёмный',\n",
       " 'написать',\n",
       " 'взять',\n",
       " 'полностью',\n",
       " 'желание',\n",
       " 'качество',\n",
       " 'взрослый',\n",
       " 'лично',\n",
       " 'собственный',\n",
       " 'рецензия',\n",
       " 'живой',\n",
       " 'американский',\n",
       " 'саундтрек',\n",
       " 'близкий',\n",
       " 'благодаря',\n",
       " 'картинка',\n",
       " 'глубокий',\n",
       " 'злодей',\n",
       " 'оценка',\n",
       " 'достойный',\n",
       " 'количество',\n",
       " 'цель',\n",
       " 'шутка',\n",
       " 'похожий',\n",
       " 'эпизод',\n",
       " 'будущее',\n",
       " 'поттер',\n",
       " 'оставить',\n",
       " 'вещь',\n",
       " 'состав',\n",
       " 'известный',\n",
       " 'приятный',\n",
       " 'скорее',\n",
       " 'отдельный',\n",
       " 'например',\n",
       " 'работать',\n",
       " 'пусть',\n",
       " 'нравиться',\n",
       " 'реальность',\n",
       " 'детство',\n",
       " 'сценарист',\n",
       " 'джон',\n",
       " 'кинотеатр',\n",
       " 'чёрный',\n",
       " 'оригинальный',\n",
       " 'узнать',\n",
       " 'кстати',\n",
       " 'ужас',\n",
       " 'протяжение',\n",
       " 'готовый',\n",
       " 'передать',\n",
       " 'фон',\n",
       " 'далее',\n",
       " 'пойти',\n",
       " 'гениальный',\n",
       " 'наблюдать',\n",
       " 'невозможно',\n",
       " 'мера',\n",
       " '8',\n",
       " 'свет',\n",
       " 'многое',\n",
       " 'справиться',\n",
       " 'дух',\n",
       " 'страх',\n",
       " 'пожалуй',\n",
       " 'представить',\n",
       " 'исполнение',\n",
       " 'честно',\n",
       " 'общество',\n",
       " 'страна',\n",
       " 'повествование',\n",
       " 'столько',\n",
       " 'минус',\n",
       " 'писать',\n",
       " 'показаться',\n",
       " 'возможность',\n",
       " 'деталь',\n",
       " 'сложный',\n",
       " 'пример',\n",
       " 'факт',\n",
       " 'детский',\n",
       " 'равно',\n",
       " 'надежда',\n",
       " 'песня',\n",
       " 'джокер',\n",
       " 'роман',\n",
       " 'помнить',\n",
       " 'положительный',\n",
       " 'удовольствие',\n",
       " 'старый',\n",
       " 'серьёзный',\n",
       " 'безусловно',\n",
       " 'брат',\n",
       " 'слеза',\n",
       " 'ибо',\n",
       " 'сон',\n",
       " 'успех',\n",
       " 'стиль',\n",
       " 'как-то',\n",
       " 'фраза',\n",
       " 'столь',\n",
       " 'либо',\n",
       " 'зло',\n",
       " 'страшный',\n",
       " 'иной',\n",
       " 'сей',\n",
       " 'захватывать',\n",
       " 'большинство',\n",
       " 'сложно',\n",
       " 'личность',\n",
       " '1',\n",
       " 'некий',\n",
       " 'название',\n",
       " 'представлять',\n",
       " 'музыкальный',\n",
       " 'выбор',\n",
       " 'заставить',\n",
       " 'триллер',\n",
       " 'причина',\n",
       " 'забыть',\n",
       " 'пройти',\n",
       " 'серия',\n",
       " 'всякий',\n",
       " 'особый',\n",
       " 'смешной',\n",
       " 'трилогия',\n",
       " 'создавать',\n",
       " 'мужчина',\n",
       " 'концовка',\n",
       " 'точка',\n",
       " 'эффект',\n",
       " 'находиться',\n",
       " 'приключение',\n",
       " 'проект',\n",
       " 'принцип',\n",
       " 'появляться',\n",
       " 'лёгкий',\n",
       " 'девочка',\n",
       " '”',\n",
       " 'счастие',\n",
       " 'жена',\n",
       " 'причём',\n",
       " 'множество',\n",
       " 'идеальный',\n",
       " 'прийтись',\n",
       " 'понятно',\n",
       " 'оказываться',\n",
       " 'земля',\n",
       " 'выход',\n",
       " 'сожаление',\n",
       " 'предыдущий',\n",
       " 'бэтмена',\n",
       " '“',\n",
       " 'ранний',\n",
       " 'очередь',\n",
       " 'память',\n",
       " 'знакомый',\n",
       " 'рассказывать',\n",
       " 'выходить',\n",
       " 'заслуживать',\n",
       " 'заметить',\n",
       " 'милый',\n",
       " 'ум',\n",
       " 'мальчик',\n",
       " 'порадовать',\n",
       " 'ход',\n",
       " 'продолжение',\n",
       " 'половина',\n",
       " 'странный',\n",
       " 'русский',\n",
       " 'невероятный',\n",
       " 'бояться',\n",
       " 'чувствовать',\n",
       " 'ожидание',\n",
       " 'насколько',\n",
       " 'ставить',\n",
       " 'приятно',\n",
       " 's',\n",
       " 'кристофер',\n",
       " 'творение',\n",
       " 'развитие',\n",
       " 'вовсе',\n",
       " 'бывать',\n",
       " 'среди',\n",
       " 'команда',\n",
       " 'иначе',\n",
       " 'актриса',\n",
       " 'особо',\n",
       " 'присутствовать',\n",
       " 'составлять',\n",
       " 'комикс',\n",
       " 'мировой',\n",
       " 'начинаться',\n",
       " 'порой',\n",
       " 'необычный',\n",
       " 'оставлять',\n",
       " 'никак',\n",
       " 'талант',\n",
       " 'радовать',\n",
       " 'касаться',\n",
       " 'обязательно',\n",
       " 'чудо',\n",
       " 'явно',\n",
       " 'боевик',\n",
       " '5',\n",
       " 'словно',\n",
       " 'съёмка',\n",
       " 'целый',\n",
       " 'помощь',\n",
       " 'талантливый',\n",
       " 'надеяться',\n",
       " '7',\n",
       " 'джексон',\n",
       " 'дружба',\n",
       " 'ответ',\n",
       " 'джек',\n",
       " 'качественный',\n",
       " 'финальный',\n",
       " 'буквально',\n",
       " 'появиться',\n",
       " 'кольцо',\n",
       " 'вспомнить',\n",
       " 'относиться',\n",
       " 'век',\n",
       " 'право',\n",
       " 'невероятно',\n",
       " 'отзыв',\n",
       " 'выше',\n",
       " 'неплохой',\n",
       " 'визуальный',\n",
       " 'кровь',\n",
       " 'родитель',\n",
       " 'p',\n",
       " 'хватать',\n",
       " 'восторг',\n",
       " 'интерес',\n",
       " 'вселенная',\n",
       " 'нечто',\n",
       " 'напоминать',\n",
       " 'мультик',\n",
       " 'умный',\n",
       " 'прийти',\n",
       " 'фанат',\n",
       " 'получать',\n",
       " 'жестокий',\n",
       " 'пересматривать',\n",
       " 'лишний',\n",
       " 'постоянно',\n",
       " '..',\n",
       " 'речь',\n",
       " 'подобрать',\n",
       " 'алиса',\n",
       " 'потерять',\n",
       " 'красота',\n",
       " 'бог',\n",
       " 'поступок',\n",
       " 'прошлое',\n",
       " 'волшебный',\n",
       " 'долгий',\n",
       " 'раскрыть',\n",
       " 'вызвать',\n",
       " 'плохо',\n",
       " 'подумать',\n",
       " 'запоминаться',\n",
       " 'король',\n",
       " 'возраст',\n",
       " 'помочь',\n",
       " 'задуматься',\n",
       " 'следовать',\n",
       " 'искусство',\n",
       " 'сын',\n",
       " 'сидеть',\n",
       " 'рыцарь',\n",
       " 'существовать',\n",
       " 'решение',\n",
       " 'важно',\n",
       " 'любитель',\n",
       " 'изменить',\n",
       " 'попасть',\n",
       " 'добро',\n",
       " 'шикарный',\n",
       " 'легко',\n",
       " 'битва',\n",
       " 'переживать',\n",
       " 'произойти',\n",
       " 'машина',\n",
       " 'собственно',\n",
       " 'следующий',\n",
       " 'рассказать',\n",
       " 'джеймс',\n",
       " 'вернуться',\n",
       " 'определённый',\n",
       " 'костюм',\n",
       " 'помогать',\n",
       " 'искать',\n",
       " 'небольшой',\n",
       " 'мать',\n",
       " 'создание',\n",
       " 'стараться',\n",
       " 'голос',\n",
       " 'мрачный',\n",
       " 'держать',\n",
       " 'планета',\n",
       " 'счёт',\n",
       " 'мозг',\n",
       " 'советский',\n",
       " 'спасти',\n",
       " 'называть',\n",
       " 'основный',\n",
       " 'жаль',\n",
       " 'личный',\n",
       " 'вести',\n",
       " 'убить',\n",
       " 'идеально',\n",
       " 'миллион',\n",
       " 'настроение',\n",
       " 'получаться',\n",
       " 'порядок',\n",
       " 'питер',\n",
       " 'улыбка',\n",
       " 'хоббит',\n",
       " 'трудно',\n",
       " 'черта',\n",
       " 'удивительный',\n",
       " 'наоборот',\n",
       " 'удивить',\n",
       " 'где-то',\n",
       " 'белый',\n",
       " 'фантастический',\n",
       " 'зал',\n",
       " 'боль',\n",
       " 'слышать',\n",
       " 'сомнение',\n",
       " 'трейлер',\n",
       " '4',\n",
       " 'компания',\n",
       " 'чистый',\n",
       " 'брать',\n",
       " 'добавить',\n",
       " 'отсутствие',\n",
       " 'радость',\n",
       " 'использовать',\n",
       " 'тяжёлый',\n",
       " 'задача',\n",
       " 'народ',\n",
       " 'операторский',\n",
       " 'майкл',\n",
       " 'забавный',\n",
       " 'дэвид',\n",
       " 'крайне',\n",
       " 'гораздо',\n",
       " 'борьба',\n",
       " 'крутой',\n",
       " 'студия',\n",
       " 'социальный',\n",
       " 'повод',\n",
       " 'скучный',\n",
       " 'принять',\n",
       " 'красиво',\n",
       " 'счастливый',\n",
       " 'вновь',\n",
       " 'трогательный',\n",
       " 'верный',\n",
       " 'возникать',\n",
       " 'попытка',\n",
       " 'система',\n",
       " 'элемент',\n",
       " 'секунда',\n",
       " 'великолепно',\n",
       " 'напряжение',\n",
       " 'финчер',\n",
       " 'роберт',\n",
       " 'мечтать',\n",
       " 'позволять',\n",
       " 'появление',\n",
       " 'таки',\n",
       " 'поклонник',\n",
       " 'глубина',\n",
       " 'забывать',\n",
       " 'внутренний',\n",
       " 'по-настоящему',\n",
       " 'недостаток',\n",
       " 'исключение',\n",
       " 'отличаться',\n",
       " 'декорация',\n",
       " '6',\n",
       " 'приходиться',\n",
       " 'убийство',\n",
       " 'титр',\n",
       " 'неожиданный',\n",
       " 'уйти',\n",
       " 'рекомендовать',\n",
       " 'убивать',\n",
       " 'приходить',\n",
       " 'собака',\n",
       " 'мститель',\n",
       " 'итак',\n",
       " 'властелин',\n",
       " 'свобода',\n",
       " 'сопровождение',\n",
       " 'дикаприо',\n",
       " 'смеяться',\n",
       " 'глупый',\n",
       " 'одновременно',\n",
       " 'классический',\n",
       " 'эмоциональный',\n",
       " 'ряд',\n",
       " 'убийца',\n",
       " 'правило',\n",
       " 'спустя',\n",
       " 'чей',\n",
       " 'голливуд',\n",
       " 'понятный',\n",
       " 'ценность',\n",
       " 'род',\n",
       " 'результат',\n",
       " 'сравнение',\n",
       " 'видно',\n",
       " 'режиссёрский',\n",
       " 'отличие',\n",
       " 'число',\n",
       " 'вместо',\n",
       " 'классика',\n",
       " 'советовать',\n",
       " 'продолжать',\n",
       " 'дракон',\n",
       " 'графика',\n",
       " 'богатый',\n",
       " 'находить',\n",
       " 'уверенный',\n",
       " 'впервые',\n",
       " 'оригинал',\n",
       " 'зрение',\n",
       " 'высота',\n",
       " 'очевидный',\n",
       " 'поверить',\n",
       " 'истинный',\n",
       " 'звучать',\n",
       " 'поскольку',\n",
       " 'пересмотреть',\n",
       " 'принц',\n",
       " 'природа',\n",
       " 'криминальный',\n",
       " 'правильный',\n",
       " 'прежде',\n",
       " 'мистер',\n",
       " 'решать',\n",
       " 'поворот',\n",
       " 'светлый',\n",
       " 'вера',\n",
       " 'отдельно',\n",
       " 'зелёный',\n",
       " 'слабый',\n",
       " 'море',\n",
       " 'звезда',\n",
       " 'подходить',\n",
       " 'достоинство',\n",
       " 'закончиться',\n",
       " 'естественно',\n",
       " 'весёлый',\n",
       " 'основа',\n",
       " 'воспоминание',\n",
       " 'экшен',\n",
       " 'ужасный',\n",
       " 'ничто',\n",
       " 'версия',\n",
       " 'прочитать',\n",
       " 'меняться',\n",
       " 'однозначно',\n",
       " 'список',\n",
       " 'куча',\n",
       " 'ходить',\n",
       " 'человечество',\n",
       " 'разговор',\n",
       " 'америка',\n",
       " 'аватар',\n",
       " 'поколение',\n",
       " 'бюджет',\n",
       " 'странно',\n",
       " 'суметь',\n",
       " 'цвет',\n",
       " 'исполнить',\n",
       " 'квентин',\n",
       " 'жизненный',\n",
       " 'гений',\n",
       " 'слава',\n",
       " 'вампир',\n",
       " 'мотив',\n",
       " 'желать',\n",
       " 'фантазия',\n",
       " 'вечный',\n",
       " 'враг',\n",
       " 'тело',\n",
       " 'испытывать',\n",
       " 'оценить',\n",
       " 'компьютерный',\n",
       " 'удачный',\n",
       " 'родный',\n",
       " 'жертва',\n",
       " 'придумать',\n",
       " 'фантастика',\n",
       " 'состояние',\n",
       " 'обладать',\n",
       " 'банальный',\n",
       " 'язык',\n",
       " 'группа',\n",
       " 'вывод',\n",
       " 'переживание',\n",
       " 'юный',\n",
       " 'остров',\n",
       " 'брюс',\n",
       " 'вкус',\n",
       " 'мелочь',\n",
       " 'проходить',\n",
       " 'вряд',\n",
       " 'случиться',\n",
       " 'мастер',\n",
       " 'семейный',\n",
       " 'бежать',\n",
       " 'малый',\n",
       " 'эдвард',\n",
       " 'постановка',\n",
       " 'мораль',\n",
       " 'поведение',\n",
       " 'оператор',\n",
       " 'эпоха',\n",
       " 'участие',\n",
       " 'уникальный',\n",
       " 'описать',\n",
       " 'легенда',\n",
       " 'запомниться',\n",
       " 'зря',\n",
       " 'ошибка',\n",
       " 'культовый',\n",
       " 'различный',\n",
       " 'прочий',\n",
       " 'видимо',\n",
       " 'путешествие',\n",
       " 'принимать',\n",
       " '?!',\n",
       " 'тип',\n",
       " 'бороться',\n",
       " 'закон',\n",
       " 'режиссура',\n",
       " 'выбрать',\n",
       " 'степень',\n",
       " 'школа',\n",
       " 'жестокость',\n",
       " 'неплохо',\n",
       " 'внутри',\n",
       " '`',\n",
       " 'рейтинг',\n",
       " 'чужой',\n",
       " 'дорога',\n",
       " 'намного',\n",
       " 'правильно',\n",
       " 'отрицательный',\n",
       " 'хронометраж',\n",
       " 'поиск',\n",
       " 'искренний',\n",
       " 'хватить',\n",
       " 'поразить',\n",
       " 'разум',\n",
       " 'творчество',\n",
       " 'смех',\n",
       " 'балл',\n",
       " 'судить',\n",
       " 'попадать',\n",
       " 'знаменитый',\n",
       " 'экранный',\n",
       " 'мартин',\n",
       " 'быстро',\n",
       " 'понимание',\n",
       " 'прямо',\n",
       " 'пейзаж',\n",
       " 'уважение',\n",
       " 'выделить',\n",
       " 'прошлый',\n",
       " 'согласиться',\n",
       " 'тайна',\n",
       " 'безумный',\n",
       " 'существо',\n",
       " 'типичный',\n",
       " 'помимо',\n",
       " 'блокбастер',\n",
       " 'во-первых',\n",
       " 'сознание',\n",
       " 'злой',\n",
       " 'середина',\n",
       " 'пугать',\n",
       " 'равнодушный',\n",
       " 'плакать',\n",
       " 'крис',\n",
       " 'увы',\n",
       " 'удивительно',\n",
       " 'интрига',\n",
       " 'доктор',\n",
       " 'власть',\n",
       " 'военный',\n",
       " 'дочь',\n",
       " 'нести',\n",
       " 'действовать',\n",
       " 'сопереживать',\n",
       " 'камера',\n",
       " 'сходить',\n",
       " 'нога',\n",
       " 'собрать',\n",
       " 'форма',\n",
       " 'исторический',\n",
       " 'завораживать',\n",
       " 'бой',\n",
       " 'трагедия',\n",
       " 'питта',\n",
       " 'окружающий',\n",
       " 'второстепенный',\n",
       " 'основной',\n",
       " 'масса',\n",
       " 'грань',\n",
       " 'пол',\n",
       " '+',\n",
       " 'тонкий',\n",
       " 'клуб',\n",
       " 'философский',\n",
       " 'кэмерон',\n",
       " 'аудитория',\n",
       " 'голливудский',\n",
       " 'претензия',\n",
       " 'терять',\n",
       " 'драматический',\n",
       " 'признаться',\n",
       " 'детектив',\n",
       " 'звук',\n",
       " '%',\n",
       " 'психологический',\n",
       " 'животное',\n",
       " 'разочаровать',\n",
       " 'поражать',\n",
       " 'начаться',\n",
       " 'карьера',\n",
       " 'глава',\n",
       " 'простить',\n",
       " 'хит',\n",
       " 'марк',\n",
       " 'скорсез',\n",
       " 'браво',\n",
       " 'впечатлить',\n",
       " 'российский',\n",
       " 'исключительно',\n",
       " 'особенный',\n",
       " 'заслужить',\n",
       " 'наполнить',\n",
       " 'душевный',\n",
       " 'золотой',\n",
       " 'гэтсби',\n",
       " 'особенность',\n",
       " 'дисней',\n",
       " 'сиквел',\n",
       " 'навсегда',\n",
       " 'подарить',\n",
       " 'd',\n",
       " 'гора',\n",
       " 'опасный',\n",
       " 'нечего',\n",
       " 'способ',\n",
       " 'рамка',\n",
       " 'супергерой',\n",
       " 'несомненно',\n",
       " 'звёздный',\n",
       " 'открыть',\n",
       " 'воля',\n",
       " 'способность',\n",
       " 'дыхание',\n",
       " 'связь',\n",
       " 'умереть',\n",
       " 'художественный',\n",
       " 'награда',\n",
       " 'спасать',\n",
       " 'ребята',\n",
       " 'леонардо',\n",
       " 'похвала',\n",
       " 'восприятие',\n",
       " 'минимум',\n",
       " 'пустой',\n",
       " 'любовный',\n",
       " 'труд',\n",
       " 'шаг',\n",
       " 'шанс',\n",
       " 'затянутый',\n",
       " 'безумно',\n",
       " 'краска',\n",
       " 'магия',\n",
       " 'раскрывать',\n",
       " 'стоять',\n",
       " 'поздний',\n",
       " 'встреча',\n",
       " 'воспринимать',\n",
       " 'позволить',\n",
       " 'харизматичный',\n",
       " 'связать',\n",
       " 'отдать',\n",
       " 'небо',\n",
       " 'приём',\n",
       " 'реально',\n",
       " 'сравнивать',\n",
       " 'подросток',\n",
       " 'искренне',\n",
       " 'ясно',\n",
       " 'композитор',\n",
       " 'житель',\n",
       " 'обстоятельство',\n",
       " 'красный',\n",
       " 'крайний',\n",
       " 'определённо',\n",
       " 'франшиза',\n",
       " 'прокат',\n",
       " 'сага',\n",
       " 'уходить',\n",
       " 'погоня',\n",
       " 'популярный',\n",
       " 'мощный',\n",
       " 'стремиться',\n",
       " 'железный',\n",
       " 'кой',\n",
       " 'удаваться',\n",
       " 'титаник',\n",
       " 'улица',\n",
       " 'серый',\n",
       " 'менять',\n",
       " 'успеть',\n",
       " 'процесс',\n",
       " 'какой-нибудь',\n",
       " 'женский',\n",
       " 'робот',\n",
       " 'анимация',\n",
       " ...]"
      ]
     },
     "execution_count": 24,
     "metadata": {},
     "output_type": "execute_result"
    }
   ],
   "source": [
    "model.wv.index_to_key"
   ]
  },
  {
   "cell_type": "code",
   "execution_count": 32,
   "id": "74768db3",
   "metadata": {},
   "outputs": [
    {
     "ename": "IndexError",
     "evalue": "index 3000030 is out of bounds for axis 0 with size 3000000",
     "output_type": "error",
     "traceback": [
      "\u001b[1;31m---------------------------------------------------------------------------\u001b[0m",
      "\u001b[1;31mIndexError\u001b[0m                                Traceback (most recent call last)",
      "\u001b[1;32m~\\AppData\\Local\\Temp\\ipykernel_22652\\204331215.py\u001b[0m in \u001b[0;36m<module>\u001b[1;34m\u001b[0m\n\u001b[1;32m----> 1\u001b[1;33m \u001b[0mw2v_vectors\u001b[0m\u001b[1;33m.\u001b[0m\u001b[0mget_vector\u001b[0m\u001b[1;33m(\u001b[0m\u001b[1;34m'кино'\u001b[0m\u001b[1;33m)\u001b[0m\u001b[1;33m\u001b[0m\u001b[1;33m\u001b[0m\u001b[0m\n\u001b[0m",
      "\u001b[1;32mD:\\ProgramData\\anaconda3\\lib\\site-packages\\gensim\\models\\keyedvectors.py\u001b[0m in \u001b[0;36mget_vector\u001b[1;34m(self, key, norm)\u001b[0m\n\u001b[0;32m    441\u001b[0m             \u001b[0mresult\u001b[0m \u001b[1;33m=\u001b[0m \u001b[0mself\u001b[0m\u001b[1;33m.\u001b[0m\u001b[0mvectors\u001b[0m\u001b[1;33m[\u001b[0m\u001b[0mindex\u001b[0m\u001b[1;33m]\u001b[0m \u001b[1;33m/\u001b[0m \u001b[0mself\u001b[0m\u001b[1;33m.\u001b[0m\u001b[0mnorms\u001b[0m\u001b[1;33m[\u001b[0m\u001b[0mindex\u001b[0m\u001b[1;33m]\u001b[0m\u001b[1;33m\u001b[0m\u001b[1;33m\u001b[0m\u001b[0m\n\u001b[0;32m    442\u001b[0m         \u001b[1;32melse\u001b[0m\u001b[1;33m:\u001b[0m\u001b[1;33m\u001b[0m\u001b[1;33m\u001b[0m\u001b[0m\n\u001b[1;32m--> 443\u001b[1;33m             \u001b[0mresult\u001b[0m \u001b[1;33m=\u001b[0m \u001b[0mself\u001b[0m\u001b[1;33m.\u001b[0m\u001b[0mvectors\u001b[0m\u001b[1;33m[\u001b[0m\u001b[0mindex\u001b[0m\u001b[1;33m]\u001b[0m\u001b[1;33m\u001b[0m\u001b[1;33m\u001b[0m\u001b[0m\n\u001b[0m\u001b[0;32m    444\u001b[0m \u001b[1;33m\u001b[0m\u001b[0m\n\u001b[0;32m    445\u001b[0m         \u001b[0mresult\u001b[0m\u001b[1;33m.\u001b[0m\u001b[0msetflags\u001b[0m\u001b[1;33m(\u001b[0m\u001b[0mwrite\u001b[0m\u001b[1;33m=\u001b[0m\u001b[1;32mFalse\u001b[0m\u001b[1;33m)\u001b[0m  \u001b[1;31m# disallow direct tampering that would invalidate `norms` etc\u001b[0m\u001b[1;33m\u001b[0m\u001b[1;33m\u001b[0m\u001b[0m\n",
      "\u001b[1;31mIndexError\u001b[0m: index 3000030 is out of bounds for axis 0 with size 3000000"
     ]
    }
   ],
   "source": [
    "w2v_vectors.get_vector('кино')"
   ]
  },
  {
   "cell_type": "code",
   "execution_count": 25,
   "id": "99d7b597",
   "metadata": {},
   "outputs": [
    {
     "ename": "ValueError",
     "evalue": "all the input array dimensions for the concatenation axis must match exactly, but along dimension 1, the array at index 0 has size 300 and the array at index 1 has size 100",
     "output_type": "error",
     "traceback": [
      "\u001b[1;31m---------------------------------------------------------------------------\u001b[0m",
      "\u001b[1;31mValueError\u001b[0m                                Traceback (most recent call last)",
      "\u001b[1;32m~\\AppData\\Local\\Temp\\ipykernel_22652\\2740777326.py\u001b[0m in \u001b[0;36m<module>\u001b[1;34m\u001b[0m\n\u001b[1;32m----> 1\u001b[1;33m \u001b[0mw2v_vectors\u001b[0m\u001b[1;33m.\u001b[0m\u001b[0madd_vectors\u001b[0m\u001b[1;33m(\u001b[0m\u001b[0mmodel\u001b[0m\u001b[1;33m.\u001b[0m\u001b[0mwv\u001b[0m\u001b[1;33m.\u001b[0m\u001b[0mindex_to_key\u001b[0m\u001b[1;33m,\u001b[0m \u001b[0mmodel\u001b[0m\u001b[1;33m.\u001b[0m\u001b[0mwv\u001b[0m\u001b[1;33m.\u001b[0m\u001b[0mget_normed_vectors\u001b[0m\u001b[1;33m(\u001b[0m\u001b[1;33m)\u001b[0m\u001b[1;33m)\u001b[0m\u001b[1;33m\u001b[0m\u001b[1;33m\u001b[0m\u001b[0m\n\u001b[0m",
      "\u001b[1;32mD:\\ProgramData\\anaconda3\\lib\\site-packages\\gensim\\models\\keyedvectors.py\u001b[0m in \u001b[0;36madd_vectors\u001b[1;34m(self, keys, weights, extras, replace)\u001b[0m\n\u001b[0;32m    530\u001b[0m \u001b[1;33m\u001b[0m\u001b[0m\n\u001b[0;32m    531\u001b[0m         \u001b[1;31m# add vectors, extras for new entities\u001b[0m\u001b[1;33m\u001b[0m\u001b[1;33m\u001b[0m\u001b[0m\n\u001b[1;32m--> 532\u001b[1;33m         \u001b[0mself\u001b[0m\u001b[1;33m.\u001b[0m\u001b[0mvectors\u001b[0m \u001b[1;33m=\u001b[0m \u001b[0mvstack\u001b[0m\u001b[1;33m(\u001b[0m\u001b[1;33m(\u001b[0m\u001b[0mself\u001b[0m\u001b[1;33m.\u001b[0m\u001b[0mvectors\u001b[0m\u001b[1;33m,\u001b[0m \u001b[0mweights\u001b[0m\u001b[1;33m[\u001b[0m\u001b[1;33m~\u001b[0m\u001b[0min_vocab_mask\u001b[0m\u001b[1;33m]\u001b[0m\u001b[1;33m.\u001b[0m\u001b[0mastype\u001b[0m\u001b[1;33m(\u001b[0m\u001b[0mself\u001b[0m\u001b[1;33m.\u001b[0m\u001b[0mvectors\u001b[0m\u001b[1;33m.\u001b[0m\u001b[0mdtype\u001b[0m\u001b[1;33m)\u001b[0m\u001b[1;33m)\u001b[0m\u001b[1;33m)\u001b[0m\u001b[1;33m\u001b[0m\u001b[1;33m\u001b[0m\u001b[0m\n\u001b[0m\u001b[0;32m    533\u001b[0m         \u001b[1;32mfor\u001b[0m \u001b[0mattr\u001b[0m\u001b[1;33m,\u001b[0m \u001b[0mextra\u001b[0m \u001b[1;32min\u001b[0m \u001b[0mextras\u001b[0m\u001b[1;33m:\u001b[0m\u001b[1;33m\u001b[0m\u001b[1;33m\u001b[0m\u001b[0m\n\u001b[0;32m    534\u001b[0m             \u001b[0mself\u001b[0m\u001b[1;33m.\u001b[0m\u001b[0mexpandos\u001b[0m\u001b[1;33m[\u001b[0m\u001b[0mattr\u001b[0m\u001b[1;33m]\u001b[0m \u001b[1;33m=\u001b[0m \u001b[0mnp\u001b[0m\u001b[1;33m.\u001b[0m\u001b[0mvstack\u001b[0m\u001b[1;33m(\u001b[0m\u001b[1;33m(\u001b[0m\u001b[0mself\u001b[0m\u001b[1;33m.\u001b[0m\u001b[0mexpandos\u001b[0m\u001b[1;33m[\u001b[0m\u001b[0mattr\u001b[0m\u001b[1;33m]\u001b[0m\u001b[1;33m,\u001b[0m \u001b[0mextra\u001b[0m\u001b[1;33m[\u001b[0m\u001b[1;33m~\u001b[0m\u001b[0min_vocab_mask\u001b[0m\u001b[1;33m]\u001b[0m\u001b[1;33m)\u001b[0m\u001b[1;33m)\u001b[0m\u001b[1;33m\u001b[0m\u001b[1;33m\u001b[0m\u001b[0m\n",
      "\u001b[1;32m<__array_function__ internals>\u001b[0m in \u001b[0;36mvstack\u001b[1;34m(*args, **kwargs)\u001b[0m\n",
      "\u001b[1;32mD:\\ProgramData\\anaconda3\\lib\\site-packages\\numpy\\core\\shape_base.py\u001b[0m in \u001b[0;36mvstack\u001b[1;34m(tup)\u001b[0m\n\u001b[0;32m    280\u001b[0m     \u001b[1;32mif\u001b[0m \u001b[1;32mnot\u001b[0m \u001b[0misinstance\u001b[0m\u001b[1;33m(\u001b[0m\u001b[0marrs\u001b[0m\u001b[1;33m,\u001b[0m \u001b[0mlist\u001b[0m\u001b[1;33m)\u001b[0m\u001b[1;33m:\u001b[0m\u001b[1;33m\u001b[0m\u001b[1;33m\u001b[0m\u001b[0m\n\u001b[0;32m    281\u001b[0m         \u001b[0marrs\u001b[0m \u001b[1;33m=\u001b[0m \u001b[1;33m[\u001b[0m\u001b[0marrs\u001b[0m\u001b[1;33m]\u001b[0m\u001b[1;33m\u001b[0m\u001b[1;33m\u001b[0m\u001b[0m\n\u001b[1;32m--> 282\u001b[1;33m     \u001b[1;32mreturn\u001b[0m \u001b[0m_nx\u001b[0m\u001b[1;33m.\u001b[0m\u001b[0mconcatenate\u001b[0m\u001b[1;33m(\u001b[0m\u001b[0marrs\u001b[0m\u001b[1;33m,\u001b[0m \u001b[1;36m0\u001b[0m\u001b[1;33m)\u001b[0m\u001b[1;33m\u001b[0m\u001b[1;33m\u001b[0m\u001b[0m\n\u001b[0m\u001b[0;32m    283\u001b[0m \u001b[1;33m\u001b[0m\u001b[0m\n\u001b[0;32m    284\u001b[0m \u001b[1;33m\u001b[0m\u001b[0m\n",
      "\u001b[1;32m<__array_function__ internals>\u001b[0m in \u001b[0;36mconcatenate\u001b[1;34m(*args, **kwargs)\u001b[0m\n",
      "\u001b[1;31mValueError\u001b[0m: all the input array dimensions for the concatenation axis must match exactly, but along dimension 1, the array at index 0 has size 300 and the array at index 1 has size 100"
     ]
    }
   ],
   "source": [
    "w2v_vectors.add_vectors(model.wv.index_to_key, model.wv.get_normed_vectors())"
   ]
  },
  {
   "cell_type": "code",
   "execution_count": 20,
   "id": "c53b43a8",
   "metadata": {},
   "outputs": [
    {
     "ename": "KeyError",
     "evalue": "\"Key 'коффи' not present\"",
     "output_type": "error",
     "traceback": [
      "\u001b[1;31m---------------------------------------------------------------------------\u001b[0m",
      "\u001b[1;31mKeyError\u001b[0m                                  Traceback (most recent call last)",
      "\u001b[1;32m~\\AppData\\Local\\Temp\\ipykernel_22652\\3382251486.py\u001b[0m in \u001b[0;36m<module>\u001b[1;34m\u001b[0m\n\u001b[1;32m----> 1\u001b[1;33m \u001b[0mw2v_vectors\u001b[0m\u001b[1;33m.\u001b[0m\u001b[0mmost_similar\u001b[0m\u001b[1;33m(\u001b[0m\u001b[1;34m'коффи'\u001b[0m\u001b[1;33m)\u001b[0m\u001b[1;33m\u001b[0m\u001b[1;33m\u001b[0m\u001b[0m\n\u001b[0m",
      "\u001b[1;32mD:\\ProgramData\\anaconda3\\lib\\site-packages\\gensim\\models\\keyedvectors.py\u001b[0m in \u001b[0;36mmost_similar\u001b[1;34m(self, positive, negative, topn, clip_start, clip_end, restrict_vocab, indexer)\u001b[0m\n\u001b[0;32m    771\u001b[0m                 \u001b[0mmean\u001b[0m\u001b[1;33m.\u001b[0m\u001b[0mappend\u001b[0m\u001b[1;33m(\u001b[0m\u001b[0mweight\u001b[0m \u001b[1;33m*\u001b[0m \u001b[0mkey\u001b[0m\u001b[1;33m)\u001b[0m\u001b[1;33m\u001b[0m\u001b[1;33m\u001b[0m\u001b[0m\n\u001b[0;32m    772\u001b[0m             \u001b[1;32melse\u001b[0m\u001b[1;33m:\u001b[0m\u001b[1;33m\u001b[0m\u001b[1;33m\u001b[0m\u001b[0m\n\u001b[1;32m--> 773\u001b[1;33m                 \u001b[0mmean\u001b[0m\u001b[1;33m.\u001b[0m\u001b[0mappend\u001b[0m\u001b[1;33m(\u001b[0m\u001b[0mweight\u001b[0m \u001b[1;33m*\u001b[0m \u001b[0mself\u001b[0m\u001b[1;33m.\u001b[0m\u001b[0mget_vector\u001b[0m\u001b[1;33m(\u001b[0m\u001b[0mkey\u001b[0m\u001b[1;33m,\u001b[0m \u001b[0mnorm\u001b[0m\u001b[1;33m=\u001b[0m\u001b[1;32mTrue\u001b[0m\u001b[1;33m)\u001b[0m\u001b[1;33m)\u001b[0m\u001b[1;33m\u001b[0m\u001b[1;33m\u001b[0m\u001b[0m\n\u001b[0m\u001b[0;32m    774\u001b[0m                 \u001b[1;32mif\u001b[0m \u001b[0mself\u001b[0m\u001b[1;33m.\u001b[0m\u001b[0mhas_index_for\u001b[0m\u001b[1;33m(\u001b[0m\u001b[0mkey\u001b[0m\u001b[1;33m)\u001b[0m\u001b[1;33m:\u001b[0m\u001b[1;33m\u001b[0m\u001b[1;33m\u001b[0m\u001b[0m\n\u001b[0;32m    775\u001b[0m                     \u001b[0mall_keys\u001b[0m\u001b[1;33m.\u001b[0m\u001b[0madd\u001b[0m\u001b[1;33m(\u001b[0m\u001b[0mself\u001b[0m\u001b[1;33m.\u001b[0m\u001b[0mget_index\u001b[0m\u001b[1;33m(\u001b[0m\u001b[0mkey\u001b[0m\u001b[1;33m)\u001b[0m\u001b[1;33m)\u001b[0m\u001b[1;33m\u001b[0m\u001b[1;33m\u001b[0m\u001b[0m\n",
      "\u001b[1;32mD:\\ProgramData\\anaconda3\\lib\\site-packages\\gensim\\models\\keyedvectors.py\u001b[0m in \u001b[0;36mget_vector\u001b[1;34m(self, key, norm)\u001b[0m\n\u001b[0;32m    436\u001b[0m \u001b[1;33m\u001b[0m\u001b[0m\n\u001b[0;32m    437\u001b[0m         \"\"\"\n\u001b[1;32m--> 438\u001b[1;33m         \u001b[0mindex\u001b[0m \u001b[1;33m=\u001b[0m \u001b[0mself\u001b[0m\u001b[1;33m.\u001b[0m\u001b[0mget_index\u001b[0m\u001b[1;33m(\u001b[0m\u001b[0mkey\u001b[0m\u001b[1;33m)\u001b[0m\u001b[1;33m\u001b[0m\u001b[1;33m\u001b[0m\u001b[0m\n\u001b[0m\u001b[0;32m    439\u001b[0m         \u001b[1;32mif\u001b[0m \u001b[0mnorm\u001b[0m\u001b[1;33m:\u001b[0m\u001b[1;33m\u001b[0m\u001b[1;33m\u001b[0m\u001b[0m\n\u001b[0;32m    440\u001b[0m             \u001b[0mself\u001b[0m\u001b[1;33m.\u001b[0m\u001b[0mfill_norms\u001b[0m\u001b[1;33m(\u001b[0m\u001b[1;33m)\u001b[0m\u001b[1;33m\u001b[0m\u001b[1;33m\u001b[0m\u001b[0m\n",
      "\u001b[1;32mD:\\ProgramData\\anaconda3\\lib\\site-packages\\gensim\\models\\keyedvectors.py\u001b[0m in \u001b[0;36mget_index\u001b[1;34m(self, key, default)\u001b[0m\n\u001b[0;32m    410\u001b[0m             \u001b[1;32mreturn\u001b[0m \u001b[0mdefault\u001b[0m\u001b[1;33m\u001b[0m\u001b[1;33m\u001b[0m\u001b[0m\n\u001b[0;32m    411\u001b[0m         \u001b[1;32melse\u001b[0m\u001b[1;33m:\u001b[0m\u001b[1;33m\u001b[0m\u001b[1;33m\u001b[0m\u001b[0m\n\u001b[1;32m--> 412\u001b[1;33m             \u001b[1;32mraise\u001b[0m \u001b[0mKeyError\u001b[0m\u001b[1;33m(\u001b[0m\u001b[1;34mf\"Key '{key}' not present\"\u001b[0m\u001b[1;33m)\u001b[0m\u001b[1;33m\u001b[0m\u001b[1;33m\u001b[0m\u001b[0m\n\u001b[0m\u001b[0;32m    413\u001b[0m \u001b[1;33m\u001b[0m\u001b[0m\n\u001b[0;32m    414\u001b[0m     \u001b[1;32mdef\u001b[0m \u001b[0mget_vector\u001b[0m\u001b[1;33m(\u001b[0m\u001b[0mself\u001b[0m\u001b[1;33m,\u001b[0m \u001b[0mkey\u001b[0m\u001b[1;33m,\u001b[0m \u001b[0mnorm\u001b[0m\u001b[1;33m=\u001b[0m\u001b[1;32mFalse\u001b[0m\u001b[1;33m)\u001b[0m\u001b[1;33m:\u001b[0m\u001b[1;33m\u001b[0m\u001b[1;33m\u001b[0m\u001b[0m\n",
      "\u001b[1;31mKeyError\u001b[0m: \"Key 'коффи' not present\""
     ]
    }
   ],
   "source": [
    "w2v_vectors.most_similar('коффи')"
   ]
  },
  {
   "cell_type": "code",
   "execution_count": 19,
   "id": "7f5f13dc",
   "metadata": {},
   "outputs": [],
   "source": [
    "new_vector = w2v_vectors['queen'] - w2v_vectors['woman'] + w2v_vectors['man']"
   ]
  },
  {
   "cell_type": "code",
   "execution_count": 20,
   "id": "3f76878d",
   "metadata": {},
   "outputs": [
    {
     "data": {
      "text/plain": [
       "[('nat', 0.8628743886947632),\n",
       " ('man', 0.8274872899055481),\n",
       " ('tom', 0.8135091066360474),\n",
       " ('val', 0.7990008592605591),\n",
       " ('omg', 0.7952776551246643),\n",
       " ('ken', 0.7896935343742371),\n",
       " ('boom', 0.7883124947547913),\n",
       " ('bam', 0.7844099402427673),\n",
       " ('nina', 0.7789903283119202),\n",
       " ('miss', 0.7762445211410522)]"
      ]
     },
     "execution_count": 20,
     "metadata": {},
     "output_type": "execute_result"
    }
   ],
   "source": [
    "w2v_vectors.most_similar(positive=[new_vector])"
   ]
  }
 ],
 "metadata": {
  "kernelspec": {
   "display_name": "Python 3 (ipykernel)",
   "language": "python",
   "name": "python3"
  },
  "language_info": {
   "codemirror_mode": {
    "name": "ipython",
    "version": 3
   },
   "file_extension": ".py",
   "mimetype": "text/x-python",
   "name": "python",
   "nbconvert_exporter": "python",
   "pygments_lexer": "ipython3",
   "version": "3.9.13"
  }
 },
 "nbformat": 4,
 "nbformat_minor": 5
}
