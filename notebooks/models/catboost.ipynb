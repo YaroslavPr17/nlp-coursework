{
 "cells": [
  {
   "cell_type": "markdown",
   "id": "8e432971",
   "metadata": {},
   "source": [
    "# Exploring `CatBoost`"
   ]
  },
  {
   "cell_type": "code",
   "execution_count": null,
   "id": "6d76ebfb",
   "metadata": {},
   "outputs": [],
   "source": [
    "cnt_vec = CountVectorizer(tokenizer=TreebankWordTokenizer().tokenize)\n",
    "X_train = cnt_vec.fit_transform(train.review)\n",
    "X_test  = cnt_vec.transform(test.review)\n",
    "\n",
    "print('CountVectorizing finished.')\n",
    "\n",
    "cc = cb.CatBoostClassifier()\n",
    "cc.fit(X_train, train.label)\n",
    "pred = cc.predict(X_test)\n",
    "\n",
    "print(f1_score(test.label, pred, pos_label=2))\n",
    "print(f1_score(test.label, pred, pos_label=0))\n",
    "print(classification_report(test.label, pred))"
   ]
  },
  {
   "cell_type": "code",
   "execution_count": null,
   "id": "7bf8b801",
   "metadata": {},
   "outputs": [],
   "source": [
    "pred = cc.predict(X_test)\n",
    "\n",
    "print(f1_score(test.label, pred, pos_label=2))\n",
    "print(f1_score(test.label, pred, pos_label=0))\n",
    "print(classification_report(test.label, pred))"
   ]
  },
  {
   "cell_type": "code",
   "execution_count": null,
   "id": "3f58d952",
   "metadata": {},
   "outputs": [],
   "source": [
    "cc.feature_importances_"
   ]
  },
  {
   "cell_type": "code",
   "execution_count": null,
   "id": "fb744bed",
   "metadata": {},
   "outputs": [],
   "source": [
    "cc.feature_names_"
   ]
  },
  {
   "cell_type": "code",
   "execution_count": null,
   "id": "f2ef5903",
   "metadata": {},
   "outputs": [],
   "source": [
    "cnt_vec = CountVectorizer(tokenizer=TreebankWordTokenizer().tokenize)\n",
    "X_train = cnt_vec.fit_transform(train.review)\n",
    "X_test  = cnt_vec.transform(test.review)\n",
    "\n",
    "print('CountVectorizing finished.')\n",
    "\n",
    "cc = cb.CatBoostClassifier(thread_count=12)\n",
    "cc.fit(X_train, train.label)\n",
    "pred = cc.predict(X_test)\n",
    "\n",
    "print(f1_score(test.label, pred, pos_label=2))\n",
    "print(f1_score(test.label, pred, pos_label=0))\n",
    "print(classification_report(test.label, pred))"
   ]
  },
  {
   "cell_type": "code",
   "execution_count": null,
   "id": "1a760e32",
   "metadata": {},
   "outputs": [],
   "source": []
  },
  {
   "cell_type": "code",
   "execution_count": null,
   "id": "dbf6910e",
   "metadata": {},
   "outputs": [],
   "source": []
  },
  {
   "cell_type": "code",
   "execution_count": null,
   "id": "33dca955",
   "metadata": {},
   "outputs": [],
   "source": []
  },
  {
   "cell_type": "code",
   "execution_count": null,
   "id": "55511587",
   "metadata": {},
   "outputs": [],
   "source": []
  }
 ],
 "metadata": {
  "kernelspec": {
   "display_name": "Python 3 (ipykernel)",
   "language": "python",
   "name": "python3"
  },
  "language_info": {
   "codemirror_mode": {
    "name": "ipython",
    "version": 3
   },
   "file_extension": ".py",
   "mimetype": "text/x-python",
   "name": "python",
   "nbconvert_exporter": "python",
   "pygments_lexer": "ipython3",
   "version": "3.9.13"
  }
 },
 "nbformat": 4,
 "nbformat_minor": 5
}
