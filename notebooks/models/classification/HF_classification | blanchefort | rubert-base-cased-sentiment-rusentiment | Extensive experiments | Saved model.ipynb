{
 "cells": [
  {
   "cell_type": "code",
   "execution_count": 57,
   "id": "be9ef99f",
   "metadata": {
    "cellId": "89x33gtepb7bhs2ewzcs3j",
    "execution_id": "51f50528-d670-45d0-ba3d-f3b962afd888"
   },
   "outputs": [
    {
     "name": "stdout",
     "output_type": "stream",
     "text": [
      "/home/jupyter\n"
     ]
    }
   ],
   "source": [
    "%cd ../../.."
   ]
  },
  {
   "cell_type": "code",
   "execution_count": 115,
   "id": "0948417d",
   "metadata": {
    "cellId": "4c5rr7ok4bvmqndfgkahls"
   },
   "outputs": [],
   "source": [
    "from datasets_ import DatasetLoader\n",
    "\n",
    "from datasets import load_dataset\n",
    "from sklearn.model_selection import train_test_split\n",
    "from sklearn.metrics import classification_report\n",
    "from sklearn.utils import resample\n",
    "\n",
    "import matplotlib.pyplot as plt\n",
    "%matplotlib notebook\n",
    "\n",
    "import torch\n",
    "import torch.nn as nn\n",
    "from torch.utils.data import Dataset, DataLoader\n",
    "\n",
    "from transformers import AdamW\n",
    "\n",
    "from tqdm import tqdm\n",
    "import numpy as np\n",
    "import pandas as pd\n",
    "\n",
    "import sys\n",
    "\n",
    "from nltk import WhitespaceTokenizer\n",
    "\n",
    "from transformers import (\n",
    "    pipeline,                       \n",
    "    AutoModelForSequenceClassification,                       \n",
    "    BertForSequenceClassification,                       \n",
    "    AutoTokenizer,\n",
    "    AdamW,\n",
    ")"
   ]
  },
  {
   "cell_type": "code",
   "execution_count": 116,
   "id": "5ecd63a5",
   "metadata": {
    "cellId": "w8spuah1bk4pnxvt00hh5"
   },
   "outputs": [
    {
     "name": "stdout",
     "output_type": "stream",
     "text": [
      "/home/jupyter/work/resources/nlp-coursework/data/reviews_Review_Label/reviews_Review_Label.csv\n",
      "1    48477\n",
      "0     6869\n",
      "Name: label, dtype: int64\n",
      "1    48477\n",
      "0    48477\n",
      "Name: label, dtype: int64\n",
      "(96954, 2) (23721, 2)\n"
     ]
    }
   ],
   "source": [
    "train, test = DatasetLoader.load_reviews_Review_Label_dataset(train_test_split=True,\n",
    "                                                              classnames_to_int=True,\n",
    "                                                              remove_neutral_class=True,\n",
    "                                                              show_path=True,)\n",
    "train.label[train['label'] == 2] = 1\n",
    "test.label[test['label'] == 2] = 1\n",
    "\n",
    "print(train.label.value_counts())\n",
    "train = pd.concat([train, resample(train[train.label == 0], n_samples=41608, random_state=42)])\n",
    "print(train.label.value_counts())\n",
    "\n",
    "print(train.shape, test.shape)"
   ]
  },
  {
   "cell_type": "code",
   "execution_count": 60,
   "id": "aabc6edf",
   "metadata": {
    "cellId": "sbsvhfqnp70awz511lnn4o"
   },
   "outputs": [
    {
     "data": {
      "text/html": [
       "<div>\n",
       "<style scoped>\n",
       "    .dataframe tbody tr th:only-of-type {\n",
       "        vertical-align: middle;\n",
       "    }\n",
       "\n",
       "    .dataframe tbody tr th {\n",
       "        vertical-align: top;\n",
       "    }\n",
       "\n",
       "    .dataframe thead th {\n",
       "        text-align: right;\n",
       "    }\n",
       "</style>\n",
       "<table border=\"1\" class=\"dataframe\">\n",
       "  <thead>\n",
       "    <tr style=\"text-align: right;\">\n",
       "      <th></th>\n",
       "      <th>review</th>\n",
       "      <th>label</th>\n",
       "    </tr>\n",
       "  </thead>\n",
       "  <tbody>\n",
       "    <tr>\n",
       "      <th>25749</th>\n",
       "      <td>Большое количество фильмов советского кинемато...</td>\n",
       "      <td>1</td>\n",
       "    </tr>\n",
       "    <tr>\n",
       "      <th>44489</th>\n",
       "      <td>Тяжело ответить на вопрос, что же такое Догвил...</td>\n",
       "      <td>1</td>\n",
       "    </tr>\n",
       "    <tr>\n",
       "      <th>53162</th>\n",
       "      <td>В наше время такие героини, как скажем наприме...</td>\n",
       "      <td>0</td>\n",
       "    </tr>\n",
       "    <tr>\n",
       "      <th>25843</th>\n",
       "      <td>В 2001 году нам довелось познакомиться с новой...</td>\n",
       "      <td>1</td>\n",
       "    </tr>\n",
       "    <tr>\n",
       "      <th>44609</th>\n",
       "      <td>«Это фильм?», «У них не хватило денег на декор...</td>\n",
       "      <td>1</td>\n",
       "    </tr>\n",
       "    <tr>\n",
       "      <th>...</th>\n",
       "      <td>...</td>\n",
       "      <td>...</td>\n",
       "    </tr>\n",
       "    <tr>\n",
       "      <th>14104</th>\n",
       "      <td>- Через столько лет?\\r\\n- Всегда\\r\\n\\r\\nБезусл...</td>\n",
       "      <td>1</td>\n",
       "    </tr>\n",
       "    <tr>\n",
       "      <th>22232</th>\n",
       "      <td>После просмотра трейлера, я был под большим вп...</td>\n",
       "      <td>1</td>\n",
       "    </tr>\n",
       "    <tr>\n",
       "      <th>73314</th>\n",
       "      <td>Многие не верят, но я легко подключаюсь к прои...</td>\n",
       "      <td>1</td>\n",
       "    </tr>\n",
       "    <tr>\n",
       "      <th>47848</th>\n",
       "      <td>Как часто нам нужна поддержка? Да, пожалуй, оч...</td>\n",
       "      <td>1</td>\n",
       "    </tr>\n",
       "    <tr>\n",
       "      <th>10215</th>\n",
       "      <td>15 апреля 2012 исполнилось ровно 100 лет с тог...</td>\n",
       "      <td>1</td>\n",
       "    </tr>\n",
       "  </tbody>\n",
       "</table>\n",
       "<p>23721 rows × 2 columns</p>\n",
       "</div>"
      ],
      "text/plain": [
       "                                                  review  label\n",
       "25749  Большое количество фильмов советского кинемато...      1\n",
       "44489  Тяжело ответить на вопрос, что же такое Догвил...      1\n",
       "53162  В наше время такие героини, как скажем наприме...      0\n",
       "25843  В 2001 году нам довелось познакомиться с новой...      1\n",
       "44609  «Это фильм?», «У них не хватило денег на декор...      1\n",
       "...                                                  ...    ...\n",
       "14104  - Через столько лет?\\r\\n- Всегда\\r\\n\\r\\nБезусл...      1\n",
       "22232  После просмотра трейлера, я был под большим вп...      1\n",
       "73314  Многие не верят, но я легко подключаюсь к прои...      1\n",
       "47848  Как часто нам нужна поддержка? Да, пожалуй, оч...      1\n",
       "10215  15 апреля 2012 исполнилось ровно 100 лет с тог...      1\n",
       "\n",
       "[23721 rows x 2 columns]"
      ]
     },
     "execution_count": 60,
     "metadata": {},
     "output_type": "execute_result"
    }
   ],
   "source": [
    "test"
   ]
  },
  {
   "cell_type": "code",
   "execution_count": 73,
   "id": "74fa862f",
   "metadata": {
    "cellId": "01g0gxwnau2vi30y4jae4ji"
   },
   "outputs": [
    {
     "data": {
      "application/vnd.jupyter.widget-view+json": {
       "model_id": "103dc7934c814754b809ad1beab04177",
       "version_major": 2,
       "version_minor": 0
      },
      "text/plain": [
       "Downloading:   0%|          | 0.00/495 [00:00<?, ?B/s]"
      ]
     },
     "metadata": {},
     "output_type": "display_data"
    },
    {
     "data": {
      "application/vnd.jupyter.widget-view+json": {
       "model_id": "06683bca59124d74856d1e12d396dba7",
       "version_major": 2,
       "version_minor": 0
      },
      "text/plain": [
       "Downloading:   0%|          | 0.00/952 [00:00<?, ?B/s]"
      ]
     },
     "metadata": {},
     "output_type": "display_data"
    },
    {
     "data": {
      "application/vnd.jupyter.widget-view+json": {
       "model_id": "9134a0e15ec440ce99f716876e0c4366",
       "version_major": 2,
       "version_minor": 0
      },
      "text/plain": [
       "Downloading:   0%|          | 0.00/1.34M [00:00<?, ?B/s]"
      ]
     },
     "metadata": {},
     "output_type": "display_data"
    },
    {
     "data": {
      "application/vnd.jupyter.widget-view+json": {
       "model_id": "dc243e616a6e498fb402bb2f5d0e637c",
       "version_major": 2,
       "version_minor": 0
      },
      "text/plain": [
       "Downloading:   0%|          | 0.00/112 [00:00<?, ?B/s]"
      ]
     },
     "metadata": {},
     "output_type": "display_data"
    },
    {
     "data": {
      "application/vnd.jupyter.widget-view+json": {
       "model_id": "f45cedcdbd1b4232988282fbcc599fe6",
       "version_major": 2,
       "version_minor": 0
      },
      "text/plain": [
       "Downloading:   0%|          | 0.00/679M [00:00<?, ?B/s]"
      ]
     },
     "metadata": {},
     "output_type": "display_data"
    }
   ],
   "source": [
    "# \n",
    "\n",
    "checkpoint = 'blanchefort/rubert-base-cased-sentiment-rusentiment'\n",
    "tokenizer = AutoTokenizer.from_pretrained(checkpoint)\n",
    "model = AutoModelForSequenceClassification.from_pretrained(checkpoint)"
   ]
  },
  {
   "cell_type": "code",
   "execution_count": 117,
   "id": "adf66da3",
   "metadata": {
    "cellId": "ry90x4apxooggfk7qvxrtr"
   },
   "outputs": [],
   "source": [
    "class ReviewDataset(Dataset):\n",
    "    def __init__(self, reviews, labels, tokenizer, max_model_input_length=512):\n",
    "        self.reviews = reviews\n",
    "        self.labels = labels\n",
    "        self.tokenizer = tokenizer\n",
    "        self.max_model_input_length = max_model_input_length\n",
    "        \n",
    "    def __len__(self):\n",
    "        return len(self.labels)\n",
    "        \n",
    "    def __getitem__(self, idx):\n",
    "        review = self.reviews.iloc[idx]\n",
    "        label = self.labels.iloc[idx]\n",
    "        review_tokenized = self.tokenizer(\n",
    "            review,\n",
    "            add_special_tokens=True,\n",
    "            max_length=self.max_model_input_length,\n",
    "            padding='max_length',\n",
    "            return_attention_mask=True,\n",
    "            return_tensors='pt',\n",
    "            truncation=True,\n",
    "        )\n",
    "        input_ids = review_tokenized['input_ids'].flatten()\n",
    "        attn_mask = review_tokenized['attention_mask'].flatten()\n",
    "        \n",
    "        return {\n",
    "            'review': review,\n",
    "            'input_ids': input_ids,\n",
    "            'attention_mask': attn_mask,\n",
    "            'label': label,\n",
    "        }\n",
    "        "
   ]
  },
  {
   "cell_type": "code",
   "execution_count": 44,
   "id": "ff3ead4c",
   "metadata": {
    "cellId": "68mb9a5939hr4t65g86fs",
    "scrolled": true
   },
   "outputs": [
    {
     "data": {
      "text/plain": [
       "BertForSequenceClassification(\n",
       "  (bert): BertModel(\n",
       "    (embeddings): BertEmbeddings(\n",
       "      (word_embeddings): Embedding(119547, 768, padding_idx=0)\n",
       "      (position_embeddings): Embedding(512, 768)\n",
       "      (token_type_embeddings): Embedding(2, 768)\n",
       "      (LayerNorm): LayerNorm((768,), eps=1e-12, elementwise_affine=True)\n",
       "      (dropout): Dropout(p=0.1, inplace=False)\n",
       "    )\n",
       "    (encoder): BertEncoder(\n",
       "      (layer): ModuleList(\n",
       "        (0): BertLayer(\n",
       "          (attention): BertAttention(\n",
       "            (self): BertSelfAttention(\n",
       "              (query): Linear(in_features=768, out_features=768, bias=True)\n",
       "              (key): Linear(in_features=768, out_features=768, bias=True)\n",
       "              (value): Linear(in_features=768, out_features=768, bias=True)\n",
       "              (dropout): Dropout(p=0.1, inplace=False)\n",
       "            )\n",
       "            (output): BertSelfOutput(\n",
       "              (dense): Linear(in_features=768, out_features=768, bias=True)\n",
       "              (LayerNorm): LayerNorm((768,), eps=1e-12, elementwise_affine=True)\n",
       "              (dropout): Dropout(p=0.1, inplace=False)\n",
       "            )\n",
       "          )\n",
       "          (intermediate): BertIntermediate(\n",
       "            (dense): Linear(in_features=768, out_features=3072, bias=True)\n",
       "          )\n",
       "          (output): BertOutput(\n",
       "            (dense): Linear(in_features=3072, out_features=768, bias=True)\n",
       "            (LayerNorm): LayerNorm((768,), eps=1e-12, elementwise_affine=True)\n",
       "            (dropout): Dropout(p=0.1, inplace=False)\n",
       "          )\n",
       "        )\n",
       "        (1): BertLayer(\n",
       "          (attention): BertAttention(\n",
       "            (self): BertSelfAttention(\n",
       "              (query): Linear(in_features=768, out_features=768, bias=True)\n",
       "              (key): Linear(in_features=768, out_features=768, bias=True)\n",
       "              (value): Linear(in_features=768, out_features=768, bias=True)\n",
       "              (dropout): Dropout(p=0.1, inplace=False)\n",
       "            )\n",
       "            (output): BertSelfOutput(\n",
       "              (dense): Linear(in_features=768, out_features=768, bias=True)\n",
       "              (LayerNorm): LayerNorm((768,), eps=1e-12, elementwise_affine=True)\n",
       "              (dropout): Dropout(p=0.1, inplace=False)\n",
       "            )\n",
       "          )\n",
       "          (intermediate): BertIntermediate(\n",
       "            (dense): Linear(in_features=768, out_features=3072, bias=True)\n",
       "          )\n",
       "          (output): BertOutput(\n",
       "            (dense): Linear(in_features=3072, out_features=768, bias=True)\n",
       "            (LayerNorm): LayerNorm((768,), eps=1e-12, elementwise_affine=True)\n",
       "            (dropout): Dropout(p=0.1, inplace=False)\n",
       "          )\n",
       "        )\n",
       "        (2): BertLayer(\n",
       "          (attention): BertAttention(\n",
       "            (self): BertSelfAttention(\n",
       "              (query): Linear(in_features=768, out_features=768, bias=True)\n",
       "              (key): Linear(in_features=768, out_features=768, bias=True)\n",
       "              (value): Linear(in_features=768, out_features=768, bias=True)\n",
       "              (dropout): Dropout(p=0.1, inplace=False)\n",
       "            )\n",
       "            (output): BertSelfOutput(\n",
       "              (dense): Linear(in_features=768, out_features=768, bias=True)\n",
       "              (LayerNorm): LayerNorm((768,), eps=1e-12, elementwise_affine=True)\n",
       "              (dropout): Dropout(p=0.1, inplace=False)\n",
       "            )\n",
       "          )\n",
       "          (intermediate): BertIntermediate(\n",
       "            (dense): Linear(in_features=768, out_features=3072, bias=True)\n",
       "          )\n",
       "          (output): BertOutput(\n",
       "            (dense): Linear(in_features=3072, out_features=768, bias=True)\n",
       "            (LayerNorm): LayerNorm((768,), eps=1e-12, elementwise_affine=True)\n",
       "            (dropout): Dropout(p=0.1, inplace=False)\n",
       "          )\n",
       "        )\n",
       "        (3): BertLayer(\n",
       "          (attention): BertAttention(\n",
       "            (self): BertSelfAttention(\n",
       "              (query): Linear(in_features=768, out_features=768, bias=True)\n",
       "              (key): Linear(in_features=768, out_features=768, bias=True)\n",
       "              (value): Linear(in_features=768, out_features=768, bias=True)\n",
       "              (dropout): Dropout(p=0.1, inplace=False)\n",
       "            )\n",
       "            (output): BertSelfOutput(\n",
       "              (dense): Linear(in_features=768, out_features=768, bias=True)\n",
       "              (LayerNorm): LayerNorm((768,), eps=1e-12, elementwise_affine=True)\n",
       "              (dropout): Dropout(p=0.1, inplace=False)\n",
       "            )\n",
       "          )\n",
       "          (intermediate): BertIntermediate(\n",
       "            (dense): Linear(in_features=768, out_features=3072, bias=True)\n",
       "          )\n",
       "          (output): BertOutput(\n",
       "            (dense): Linear(in_features=3072, out_features=768, bias=True)\n",
       "            (LayerNorm): LayerNorm((768,), eps=1e-12, elementwise_affine=True)\n",
       "            (dropout): Dropout(p=0.1, inplace=False)\n",
       "          )\n",
       "        )\n",
       "        (4): BertLayer(\n",
       "          (attention): BertAttention(\n",
       "            (self): BertSelfAttention(\n",
       "              (query): Linear(in_features=768, out_features=768, bias=True)\n",
       "              (key): Linear(in_features=768, out_features=768, bias=True)\n",
       "              (value): Linear(in_features=768, out_features=768, bias=True)\n",
       "              (dropout): Dropout(p=0.1, inplace=False)\n",
       "            )\n",
       "            (output): BertSelfOutput(\n",
       "              (dense): Linear(in_features=768, out_features=768, bias=True)\n",
       "              (LayerNorm): LayerNorm((768,), eps=1e-12, elementwise_affine=True)\n",
       "              (dropout): Dropout(p=0.1, inplace=False)\n",
       "            )\n",
       "          )\n",
       "          (intermediate): BertIntermediate(\n",
       "            (dense): Linear(in_features=768, out_features=3072, bias=True)\n",
       "          )\n",
       "          (output): BertOutput(\n",
       "            (dense): Linear(in_features=3072, out_features=768, bias=True)\n",
       "            (LayerNorm): LayerNorm((768,), eps=1e-12, elementwise_affine=True)\n",
       "            (dropout): Dropout(p=0.1, inplace=False)\n",
       "          )\n",
       "        )\n",
       "        (5): BertLayer(\n",
       "          (attention): BertAttention(\n",
       "            (self): BertSelfAttention(\n",
       "              (query): Linear(in_features=768, out_features=768, bias=True)\n",
       "              (key): Linear(in_features=768, out_features=768, bias=True)\n",
       "              (value): Linear(in_features=768, out_features=768, bias=True)\n",
       "              (dropout): Dropout(p=0.1, inplace=False)\n",
       "            )\n",
       "            (output): BertSelfOutput(\n",
       "              (dense): Linear(in_features=768, out_features=768, bias=True)\n",
       "              (LayerNorm): LayerNorm((768,), eps=1e-12, elementwise_affine=True)\n",
       "              (dropout): Dropout(p=0.1, inplace=False)\n",
       "            )\n",
       "          )\n",
       "          (intermediate): BertIntermediate(\n",
       "            (dense): Linear(in_features=768, out_features=3072, bias=True)\n",
       "          )\n",
       "          (output): BertOutput(\n",
       "            (dense): Linear(in_features=3072, out_features=768, bias=True)\n",
       "            (LayerNorm): LayerNorm((768,), eps=1e-12, elementwise_affine=True)\n",
       "            (dropout): Dropout(p=0.1, inplace=False)\n",
       "          )\n",
       "        )\n",
       "        (6): BertLayer(\n",
       "          (attention): BertAttention(\n",
       "            (self): BertSelfAttention(\n",
       "              (query): Linear(in_features=768, out_features=768, bias=True)\n",
       "              (key): Linear(in_features=768, out_features=768, bias=True)\n",
       "              (value): Linear(in_features=768, out_features=768, bias=True)\n",
       "              (dropout): Dropout(p=0.1, inplace=False)\n",
       "            )\n",
       "            (output): BertSelfOutput(\n",
       "              (dense): Linear(in_features=768, out_features=768, bias=True)\n",
       "              (LayerNorm): LayerNorm((768,), eps=1e-12, elementwise_affine=True)\n",
       "              (dropout): Dropout(p=0.1, inplace=False)\n",
       "            )\n",
       "          )\n",
       "          (intermediate): BertIntermediate(\n",
       "            (dense): Linear(in_features=768, out_features=3072, bias=True)\n",
       "          )\n",
       "          (output): BertOutput(\n",
       "            (dense): Linear(in_features=3072, out_features=768, bias=True)\n",
       "            (LayerNorm): LayerNorm((768,), eps=1e-12, elementwise_affine=True)\n",
       "            (dropout): Dropout(p=0.1, inplace=False)\n",
       "          )\n",
       "        )\n",
       "        (7): BertLayer(\n",
       "          (attention): BertAttention(\n",
       "            (self): BertSelfAttention(\n",
       "              (query): Linear(in_features=768, out_features=768, bias=True)\n",
       "              (key): Linear(in_features=768, out_features=768, bias=True)\n",
       "              (value): Linear(in_features=768, out_features=768, bias=True)\n",
       "              (dropout): Dropout(p=0.1, inplace=False)\n",
       "            )\n",
       "            (output): BertSelfOutput(\n",
       "              (dense): Linear(in_features=768, out_features=768, bias=True)\n",
       "              (LayerNorm): LayerNorm((768,), eps=1e-12, elementwise_affine=True)\n",
       "              (dropout): Dropout(p=0.1, inplace=False)\n",
       "            )\n",
       "          )\n",
       "          (intermediate): BertIntermediate(\n",
       "            (dense): Linear(in_features=768, out_features=3072, bias=True)\n",
       "          )\n",
       "          (output): BertOutput(\n",
       "            (dense): Linear(in_features=3072, out_features=768, bias=True)\n",
       "            (LayerNorm): LayerNorm((768,), eps=1e-12, elementwise_affine=True)\n",
       "            (dropout): Dropout(p=0.1, inplace=False)\n",
       "          )\n",
       "        )\n",
       "        (8): BertLayer(\n",
       "          (attention): BertAttention(\n",
       "            (self): BertSelfAttention(\n",
       "              (query): Linear(in_features=768, out_features=768, bias=True)\n",
       "              (key): Linear(in_features=768, out_features=768, bias=True)\n",
       "              (value): Linear(in_features=768, out_features=768, bias=True)\n",
       "              (dropout): Dropout(p=0.1, inplace=False)\n",
       "            )\n",
       "            (output): BertSelfOutput(\n",
       "              (dense): Linear(in_features=768, out_features=768, bias=True)\n",
       "              (LayerNorm): LayerNorm((768,), eps=1e-12, elementwise_affine=True)\n",
       "              (dropout): Dropout(p=0.1, inplace=False)\n",
       "            )\n",
       "          )\n",
       "          (intermediate): BertIntermediate(\n",
       "            (dense): Linear(in_features=768, out_features=3072, bias=True)\n",
       "          )\n",
       "          (output): BertOutput(\n",
       "            (dense): Linear(in_features=3072, out_features=768, bias=True)\n",
       "            (LayerNorm): LayerNorm((768,), eps=1e-12, elementwise_affine=True)\n",
       "            (dropout): Dropout(p=0.1, inplace=False)\n",
       "          )\n",
       "        )\n",
       "        (9): BertLayer(\n",
       "          (attention): BertAttention(\n",
       "            (self): BertSelfAttention(\n",
       "              (query): Linear(in_features=768, out_features=768, bias=True)\n",
       "              (key): Linear(in_features=768, out_features=768, bias=True)\n",
       "              (value): Linear(in_features=768, out_features=768, bias=True)\n",
       "              (dropout): Dropout(p=0.1, inplace=False)\n",
       "            )\n",
       "            (output): BertSelfOutput(\n",
       "              (dense): Linear(in_features=768, out_features=768, bias=True)\n",
       "              (LayerNorm): LayerNorm((768,), eps=1e-12, elementwise_affine=True)\n",
       "              (dropout): Dropout(p=0.1, inplace=False)\n",
       "            )\n",
       "          )\n",
       "          (intermediate): BertIntermediate(\n",
       "            (dense): Linear(in_features=768, out_features=3072, bias=True)\n",
       "          )\n",
       "          (output): BertOutput(\n",
       "            (dense): Linear(in_features=3072, out_features=768, bias=True)\n",
       "            (LayerNorm): LayerNorm((768,), eps=1e-12, elementwise_affine=True)\n",
       "            (dropout): Dropout(p=0.1, inplace=False)\n",
       "          )\n",
       "        )\n",
       "        (10): BertLayer(\n",
       "          (attention): BertAttention(\n",
       "            (self): BertSelfAttention(\n",
       "              (query): Linear(in_features=768, out_features=768, bias=True)\n",
       "              (key): Linear(in_features=768, out_features=768, bias=True)\n",
       "              (value): Linear(in_features=768, out_features=768, bias=True)\n",
       "              (dropout): Dropout(p=0.1, inplace=False)\n",
       "            )\n",
       "            (output): BertSelfOutput(\n",
       "              (dense): Linear(in_features=768, out_features=768, bias=True)\n",
       "              (LayerNorm): LayerNorm((768,), eps=1e-12, elementwise_affine=True)\n",
       "              (dropout): Dropout(p=0.1, inplace=False)\n",
       "            )\n",
       "          )\n",
       "          (intermediate): BertIntermediate(\n",
       "            (dense): Linear(in_features=768, out_features=3072, bias=True)\n",
       "          )\n",
       "          (output): BertOutput(\n",
       "            (dense): Linear(in_features=3072, out_features=768, bias=True)\n",
       "            (LayerNorm): LayerNorm((768,), eps=1e-12, elementwise_affine=True)\n",
       "            (dropout): Dropout(p=0.1, inplace=False)\n",
       "          )\n",
       "        )\n",
       "        (11): BertLayer(\n",
       "          (attention): BertAttention(\n",
       "            (self): BertSelfAttention(\n",
       "              (query): Linear(in_features=768, out_features=768, bias=True)\n",
       "              (key): Linear(in_features=768, out_features=768, bias=True)\n",
       "              (value): Linear(in_features=768, out_features=768, bias=True)\n",
       "              (dropout): Dropout(p=0.1, inplace=False)\n",
       "            )\n",
       "            (output): BertSelfOutput(\n",
       "              (dense): Linear(in_features=768, out_features=768, bias=True)\n",
       "              (LayerNorm): LayerNorm((768,), eps=1e-12, elementwise_affine=True)\n",
       "              (dropout): Dropout(p=0.1, inplace=False)\n",
       "            )\n",
       "          )\n",
       "          (intermediate): BertIntermediate(\n",
       "            (dense): Linear(in_features=768, out_features=3072, bias=True)\n",
       "          )\n",
       "          (output): BertOutput(\n",
       "            (dense): Linear(in_features=3072, out_features=768, bias=True)\n",
       "            (LayerNorm): LayerNorm((768,), eps=1e-12, elementwise_affine=True)\n",
       "            (dropout): Dropout(p=0.1, inplace=False)\n",
       "          )\n",
       "        )\n",
       "      )\n",
       "    )\n",
       "    (pooler): BertPooler(\n",
       "      (dense): Linear(in_features=768, out_features=768, bias=True)\n",
       "      (activation): Tanh()\n",
       "    )\n",
       "  )\n",
       "  (dropout): Dropout(p=0.1, inplace=False)\n",
       "  (classifier): Linear(in_features=768, out_features=3, bias=True)\n",
       ")"
      ]
     },
     "execution_count": 44,
     "metadata": {},
     "output_type": "execute_result"
    }
   ],
   "source": [
    "model"
   ]
  },
  {
   "cell_type": "code",
   "execution_count": 120,
   "id": "db132e38",
   "metadata": {
    "cellId": "23gco4smd52qtjquvkcsf"
   },
   "outputs": [],
   "source": [
    "class BertClassifier:\n",
    "    def __init__(self, checkpoint, n_classes=2):\n",
    "        \n",
    "        self.model = BertForSequenceClassification.from_pretrained(checkpoint, local_files_only=False)\n",
    "        self.tokenizer = AutoTokenizer.from_pretrained(checkpoint)\n",
    "        self.device = torch.device(\"cuda:0\" if torch.cuda.is_available() else \"cpu\")\n",
    "        self.max_len = 512\n",
    "        self.out_features = 768\n",
    "        self.model.classifier = torch.nn.Linear(self.out_features, n_classes)\n",
    "        self.model.to(self.device)\n",
    "        self.loss_fn = nn.CrossEntropyLoss()\n",
    "        \n",
    "        self.optimizer = torch.optim.Adam(self.model.classifier.parameters(), lr=1e-3)\n",
    "        self.scheduler = torch.optim.lr_scheduler.StepLR(self.optimizer, step_size=1, gamma=0.5)\n",
    "        \n",
    "        self.all_losses = []\n",
    "        self.epoch_losses = []\n",
    "        self.epoch_acc = []       \n",
    "        \n",
    "\n",
    "    def fit(self):\n",
    "        self.model.train()\n",
    "        losses = []\n",
    "        correct_predictions = 0\n",
    "        \n",
    "        t = tqdm(train_dataloader, file=sys.stdout, ncols=100)\n",
    "\n",
    "        for data in t:\n",
    "            input_ids = data['input_ids'].to(self.device)\n",
    "            attention_mask = data['attention_mask'].to(self.device).to(float)\n",
    "            labels = data['label'].to(self.device)\n",
    "\n",
    "            outputs = self.model(\n",
    "                input_ids=input_ids,\n",
    "                attention_mask=attention_mask\n",
    "                )\n",
    "\n",
    "            preds = outputs.logits.argmax(dim=1)\n",
    "            \n",
    "            loss = self.loss_fn(outputs.logits, labels)\n",
    "\n",
    "            correct_predictions += torch.sum(preds == labels)\n",
    "\n",
    "            losses.append(loss.item())\n",
    "\n",
    "            loss.backward()\n",
    "            self.optimizer.step()\n",
    "            self.optimizer.zero_grad()\n",
    "            \n",
    "            t.set_postfix(ordered_dict={'loss': loss.item()}, refresh=True)\n",
    "\n",
    "\n",
    "        train_acc = correct_predictions.double() / len(train_dataset)\n",
    "        train_loss = np.mean(losses)\n",
    "        self.all_losses.extend(losses)\n",
    "        self.epoch_losses.append(train_loss)\n",
    "        self.epoch_acc.append(train_acc)\n",
    "        return train_acc, train_loss\n",
    "    \n",
    "    \n",
    "    def evaluate(self):\n",
    "        self.model.eval()\n",
    "        losses = []\n",
    "        correct_predictions = 0\n",
    "        \n",
    "        all_preds = []\n",
    "        \n",
    "        t = tqdm(test_dataloader, file=sys.stdout, ncols=100)\n",
    "\n",
    "        with torch.no_grad():\n",
    "            for data in t:\n",
    "                input_ids = data[\"input_ids\"].to(self.device)\n",
    "                attention_mask = data[\"attention_mask\"].to(self.device)\n",
    "                labels = data[\"label\"].to(self.device)\n",
    "\n",
    "                outputs = self.model(\n",
    "                    input_ids=input_ids,\n",
    "                    attention_mask=attention_mask\n",
    "                )\n",
    "\n",
    "                preds = torch.argmax(outputs.logits, dim=1)\n",
    "                loss = self.loss_fn(outputs.logits, labels)\n",
    "                correct_predictions += torch.sum(preds == labels)\n",
    "                \n",
    "                all_preds.extend(preds.tolist())\n",
    "                \n",
    "                losses.append(loss.item())\n",
    "                \n",
    "                t.set_postfix(ordered_dict={'loss': loss.item()}, refresh=True)\n",
    "                \n",
    "        print('Classification report:')\n",
    "        print(classification_report(test_dataset.labels, all_preds))\n",
    "\n",
    "        val_acc = correct_predictions.double() / len(test_dataset)\n",
    "        val_loss = np.mean(losses)\n",
    "        return val_acc.item(), val_loss\n",
    "    \n",
    "\n",
    "    \n",
    "    def train(self, n_epochs, pretrain_test=False):\n",
    "        try:\n",
    "            best_accuracy = 0\n",
    "\n",
    "            if pretrain_test:\n",
    "                print('Pre-training test:')\n",
    "                val_acc, val_loss = self.evaluate()\n",
    "                print(f'Test loss {val_loss} accuracy {val_acc}')\n",
    "                print('-' * 10)\n",
    "\n",
    "            for epoch in range(n_epochs):\n",
    "                print(f'Epoch {epoch + 1}/{n_epochs}')\n",
    "                train_acc, train_loss = self.fit()\n",
    "                print(f'Train loss {train_loss} accuracy {train_acc}')\n",
    "\n",
    "                val_acc, val_loss = self.evaluate()\n",
    "                print(f'Test loss {val_loss} accuracy {val_acc}')\n",
    "                print('-' * 10)\n",
    "                \n",
    "                # self.scheduler.step()\n",
    "    \n",
    "        except KeyboardInterrupt:\n",
    "            print('Training was manually stopped. ')\n"
   ]
  },
  {
   "cell_type": "code",
   "execution_count": 121,
   "id": "4a797008",
   "metadata": {
    "cellId": "z0nz0aygf11kd894xj6pz"
   },
   "outputs": [
    {
     "data": {
      "application/vnd.jupyter.widget-view+json": {
       "model_id": "0614cae864504abfac1140c50a15a371",
       "version_major": 2,
       "version_minor": 0
      },
      "text/plain": [
       "Downloading:   0%|          | 0.00/952 [00:00<?, ?B/s]"
      ]
     },
     "metadata": {},
     "output_type": "display_data"
    },
    {
     "data": {
      "application/vnd.jupyter.widget-view+json": {
       "model_id": "06d7dd17eaf9406a9b5f050c3311e734",
       "version_major": 2,
       "version_minor": 0
      },
      "text/plain": [
       "Downloading:   0%|          | 0.00/679M [00:00<?, ?B/s]"
      ]
     },
     "metadata": {},
     "output_type": "display_data"
    },
    {
     "data": {
      "application/vnd.jupyter.widget-view+json": {
       "model_id": "6e9015d391234ea180f143e8f4e03b2e",
       "version_major": 2,
       "version_minor": 0
      },
      "text/plain": [
       "Downloading:   0%|          | 0.00/495 [00:00<?, ?B/s]"
      ]
     },
     "metadata": {},
     "output_type": "display_data"
    },
    {
     "data": {
      "application/vnd.jupyter.widget-view+json": {
       "model_id": "dc8f5037b1f74de98199c303bddf7a97",
       "version_major": 2,
       "version_minor": 0
      },
      "text/plain": [
       "Downloading:   0%|          | 0.00/1.34M [00:00<?, ?B/s]"
      ]
     },
     "metadata": {},
     "output_type": "display_data"
    },
    {
     "data": {
      "application/vnd.jupyter.widget-view+json": {
       "model_id": "52660c1db73a43f1a4fc73677e44b64e",
       "version_major": 2,
       "version_minor": 0
      },
      "text/plain": [
       "Downloading:   0%|          | 0.00/112 [00:00<?, ?B/s]"
      ]
     },
     "metadata": {},
     "output_type": "display_data"
    }
   ],
   "source": [
    "#!g1.4\n",
    "\n",
    "clf = BertClassifier('blanchefort/rubert-base-cased-sentiment-rusentiment')\n",
    "\n",
    "train_dataset = ReviewDataset(train.review, train.label, clf.tokenizer)\n",
    "test_dataset = ReviewDataset(test.review, test.label, clf.tokenizer)\n",
    "\n",
    "train_dataloader = DataLoader(train_dataset, batch_size=4, shuffle=True)\n",
    "test_dataloader = DataLoader(test_dataset, batch_size=4, shuffle=False)"
   ]
  },
  {
   "cell_type": "code",
   "execution_count": 122,
   "id": "cf6c2dc6",
   "metadata": {
    "cellId": "bjyxcz68n9fqcagx4xou6h"
   },
   "outputs": [
    {
     "name": "stdout",
     "output_type": "stream",
     "text": [
      "All parameters: 177854978\n",
      "Trainable parameters: 1538\n"
     ]
    }
   ],
   "source": [
    "#!g1.4\n",
    "\n",
    "for param in clf.model.bert.parameters():\n",
    "    param.requires_grad = False\n",
    "print('All parameters:', sum(p.numel() for p in clf.model.parameters()))\n",
    "print('Trainable parameters:', sum(p.numel() for p in clf.model.parameters() if p.requires_grad))"
   ]
  },
  {
   "cell_type": "markdown",
   "id": "806268f1",
   "metadata": {
    "cellId": "q5a8xaa2apc5nqzad2lu8",
    "execution_id": "b0e1d520-5357-4d9f-bd13-f2d05e81aa89"
   },
   "source": [
    "#### batch_size=16, g1.1"
   ]
  },
  {
   "cell_type": "code",
   "execution_count": 94,
   "id": "6c883764",
   "metadata": {
    "cellId": "b8cpuui5zbj3vie1cl1fk"
   },
   "outputs": [
    {
     "data": {
      "text/plain": [
       "device(type='cuda', index=0)"
      ]
     },
     "execution_count": 94,
     "metadata": {},
     "output_type": "execute_result"
    }
   ],
   "source": [
    "#!g1.1\n",
    "\n",
    "clf.model.device"
   ]
  },
  {
   "cell_type": "code",
   "execution_count": 95,
   "id": "4bda8c40",
   "metadata": {
    "cellId": "9zxwo8uuu16w58cs0u20o",
    "scrolled": true
   },
   "outputs": [
    {
     "name": "stdout",
     "output_type": "stream",
     "text": [
      "100%|███████████████████████████████████████████████| 6060/6060 [22:42<00:00,  4.45it/s, loss=0.249]\n",
      "Train loss 0.3155554527957792 accuracy 0.8647709222930462\n",
      "100%|███████████████████████████████████████████████| 1483/1483 [05:18<00:00,  4.66it/s, loss=0.331]\n",
      "Classification report:\n",
      "              precision    recall  f1-score   support\n",
      "\n",
      "           0       0.59      0.82      0.68      2979\n",
      "           1       0.97      0.92      0.94     20742\n",
      "\n",
      "    accuracy                           0.91     23721\n",
      "   macro avg       0.78      0.87      0.81     23721\n",
      "weighted avg       0.92      0.91      0.91     23721\n",
      "\n",
      "Test loss 0.22344129933490195 accuracy 0.9050630243244383\n",
      "----------\n",
      "Epoch 3/3\n",
      "  9%|████▎                                           | 542/6060 [02:02<20:42,  4.44it/s, loss=0.528]\n",
      "Training was manually stopped. \n"
     ]
    }
   ],
   "source": [
    "#!g1.1\n",
    "\n",
    "# # batch_size = 16. First\n",
    "clf.train(3, pretrain_test=True)"
   ]
  },
  {
   "cell_type": "code",
   "execution_count": 103,
   "id": "e656d88a",
   "metadata": {
    "cellId": "mveexbo76pxbgq94kv8qa"
   },
   "outputs": [
    {
     "data": {
      "text/plain": [
       "5e-05"
      ]
     },
     "execution_count": 103,
     "metadata": {},
     "output_type": "execute_result"
    }
   ],
   "source": [
    "#!g1.1\n",
    "\n",
    "clf.optimizer.param_groups[0]['lr'] = 5e-5\n",
    "clf.optimizer.param_groups[0]['lr']"
   ]
  },
  {
   "cell_type": "code",
   "execution_count": 104,
   "id": "7af17aa9",
   "metadata": {
    "cellId": "s1cjnt0py19rs9qu2qrsy"
   },
   "outputs": [
    {
     "name": "stdout",
     "output_type": "stream",
     "text": [
      "All parameters: 177854978\n",
      "Trainable parameters: 177854978\n"
     ]
    }
   ],
   "source": [
    "#!g1.1\n",
    "\n",
    "for param in clf.model.bert.parameters():\n",
    "    param.requires_grad = True\n",
    "print('All parameters:', sum(p.numel() for p in clf.model.parameters()))\n",
    "print('Trainable parameters:', sum(p.numel() for p in clf.model.parameters() if p.requires_grad))"
   ]
  },
  {
   "cell_type": "code",
   "execution_count": 105,
   "id": "26e8c1bd",
   "metadata": {
    "cellId": "upeplwefujg28jt0or8xvrj",
    "scrolled": true
   },
   "outputs": [
    {
     "name": "stdout",
     "output_type": "stream",
     "text": [
      "100%|███████████████████████████████████████████████| 6060/6060 [54:12<00:00,  1.86it/s, loss=0.672]\n",
      "Train loss 0.30535650802991376 accuracy 0.8695566969903253\n",
      "100%|███████████████████████████████████████████████| 1483/1483 [05:16<00:00,  4.68it/s, loss=0.337]\n",
      "Classification report:\n",
      "              precision    recall  f1-score   support\n",
      "\n",
      "           0       0.60      0.83      0.70      2979\n",
      "           1       0.97      0.92      0.95     20742\n",
      "\n",
      "    accuracy                           0.91     23721\n",
      "   macro avg       0.79      0.88      0.82     23721\n",
      "weighted avg       0.93      0.91      0.92     23721\n",
      "\n",
      "Test loss 0.2183518936394118 accuracy 0.9090257577673792\n",
      "----------\n",
      "Epoch 2/2\n",
      "  5%|██▎                                             | 299/6060 [02:40<51:37,  1.86it/s, loss=0.279]\n",
      "Training was manually stopped. \n"
     ]
    }
   ],
   "source": [
    "#!g1.1\n",
    "\n",
    "clf.train(2, pretrain_test=True)"
   ]
  },
  {
   "cell_type": "markdown",
   "id": "22c68b36",
   "metadata": {
    "cellId": "7j6q93s7zzlfek8eheaolh"
   },
   "source": [
    "---"
   ]
  },
  {
   "cell_type": "markdown",
   "id": "e3094bd2",
   "metadata": {
    "cellId": "3okd0wq69oq985ycvu4skh",
    "execution_id": "9a67dae3-b054-4d23-8210-10caacfd2adc"
   },
   "source": [
    "#### batch_size=4, g1.4"
   ]
  },
  {
   "cell_type": "code",
   "execution_count": 123,
   "id": "8156ca18",
   "metadata": {
    "cellId": "snhqoje9aycto9dlz2uz7b"
   },
   "outputs": [
    {
     "name": "stdout",
     "output_type": "stream",
     "text": [
      "100%|███████████████████████████████████████████████| 5931/5931 [05:03<00:00, 19.52it/s, loss=0.704]\n",
      "Classification report:\n",
      "              precision    recall  f1-score   support\n",
      "\n",
      "           0       0.17      0.92      0.28      2979\n",
      "           1       0.97      0.34      0.50     20742\n",
      "\n",
      "    accuracy                           0.41     23721\n",
      "   macro avg       0.57      0.63      0.39     23721\n",
      "weighted avg       0.87      0.41      0.47     23721\n",
      "\n",
      "Test loss 0.7023873747932712 accuracy 0.4114076135070191\n",
      "----------\n",
      "Epoch 1/3\n",
      "  3%|█▌                                             | 786/24239 [00:44<22:12, 17.60it/s, loss=0.139]\n",
      "Training was manually stopped. \n"
     ]
    }
   ],
   "source": [
    "#!g1.4\n",
    "\n",
    "clf.train(3, pretrain_test=True)"
   ]
  },
  {
   "cell_type": "code",
   "execution_count": 124,
   "id": "1d049704",
   "metadata": {
    "cellId": "mn3k0bjpkxnatrb649r9"
   },
   "outputs": [
    {
     "name": "stdout",
     "output_type": "stream",
     "text": [
      "100%|███████████████████████████████████████████████| 5931/5931 [05:43<00:00, 17.25it/s, loss=0.106]\n",
      "Classification report:\n",
      "              precision    recall  f1-score   support\n",
      "\n",
      "           0       0.54      0.86      0.67      2979\n",
      "           1       0.98      0.90      0.93     20742\n",
      "\n",
      "    accuracy                           0.89     23721\n",
      "   macro avg       0.76      0.88      0.80     23721\n",
      "weighted avg       0.92      0.89      0.90     23721\n",
      "\n",
      "Test loss 0.2497088952682337 accuracy 0.8910248303191265\n",
      "----------\n",
      "Epoch 2/3\n",
      "  6%|██▉                                           | 1559/24239 [01:35<23:15, 16.25it/s, loss=0.179]\n",
      "Training was manually stopped. \n"
     ]
    }
   ],
   "source": [
    "#!g1.1\n",
    "clf.train(3, pretrain_test=False)"
   ]
  },
  {
   "cell_type": "code",
   "execution_count": 126,
   "id": "f1d9c30d",
   "metadata": {
    "cellId": "rd6ry8jkwoqtiq4wm6qnk"
   },
   "outputs": [
    {
     "name": "stdout",
     "output_type": "stream",
     "text": [
      "All parameters: 177854978\n",
      "Trainable parameters: 177854978\n"
     ]
    }
   ],
   "source": [
    "#!g1.1\n",
    "clf.optimizer.param_groups[0]['lr'] = 2e-5\n",
    "\n",
    "for param in clf.model.bert.parameters():\n",
    "    param.requires_grad = True\n",
    "print('All parameters:', sum(p.numel() for p in clf.model.parameters()))\n",
    "print('Trainable parameters:', sum(p.numel() for p in clf.model.parameters() if p.requires_grad))"
   ]
  },
  {
   "cell_type": "code",
   "execution_count": 127,
   "id": "81a6b9d0",
   "metadata": {
    "cellId": "d8bp0tl5k45ma6f0gjsha"
   },
   "outputs": [
    {
     "name": "stdout",
     "output_type": "stream",
     "text": [
      "100%|███████████████████████████████████████████████| 5931/5931 [05:43<00:00, 17.25it/s, loss=0.113]\n",
      "Classification report:\n",
      "              precision    recall  f1-score   support\n",
      "\n",
      "           0       0.59      0.85      0.69      2979\n",
      "           1       0.98      0.91      0.94     20742\n",
      "\n",
      "    accuracy                           0.91     23721\n",
      "   macro avg       0.78      0.88      0.82     23721\n",
      "weighted avg       0.93      0.91      0.91     23721\n",
      "\n",
      "Test loss 0.2258297441507776 accuracy 0.9058218456220227\n",
      "----------\n"
     ]
    }
   ],
   "source": [
    "#!g1.1\n",
    "clf.train(1, pretrain_test=True)"
   ]
  },
  {
   "cell_type": "code",
   "execution_count": 129,
   "id": "0c3d9d75",
   "metadata": {
    "cellId": "h1yyynu9w380aphbco3z1c"
   },
   "outputs": [
    {
     "data": {
      "image/png": "[encoded data removed]",
      "text/plain": [
       "<Figure size 432x288 with 1 Axes>"
      ]
     },
     "metadata": {
      "needs_background": "light"
     },
     "output_type": "display_data"
    }
   ],
   "source": [
    "#!g1.1\n",
    "\n",
    "plt.plot(clf.all_losses[-500:])\n",
    "plt.xlabel('Train step')\n",
    "plt.ylabel('Train Loss')\n",
    "\n",
    "plt.show()"
   ]
  },
  {
   "cell_type": "code",
   "execution_count": 130,
   "id": "342a8222",
   "metadata": {
    "cellId": "146mu3c589sh2agodnqfoyi"
   },
   "outputs": [
    {
     "data": {
      "image/png": "[encoded data removed]",
      "text/plain": [
       "<Figure size 432x288 with 1 Axes>"
      ]
     },
     "metadata": {
      "needs_background": "light"
     },
     "output_type": "display_data"
    }
   ],
   "source": [
    "#!g1.1\n",
    "\n",
    "clf.epoch_acc = list(map(lambda t: t.cpu(), clf.epoch_acc))\n",
    "\n",
    "plt.plot(clf.epoch_acc)\n",
    "plt.xlabel('Train epoch number')\n",
    "plt.ylabel('Train Accuracy')\n",
    "\n",
    "plt.show()"
   ]
  },
  {
   "cell_type": "code",
   "execution_count": null,
   "id": "2d02cdcb",
   "metadata": {
    "cellId": "6esiisbqo1zh33pcwx16s"
   },
   "outputs": [],
   "source": [
    "plt.plot(clf.epoch_losses)\n",
    "plt.xlabel('Train epoch number')\n",
    "plt.ylabel('Train Loss')\n",
    "\n",
    "plt.show()"
   ]
  },
  {
   "cell_type": "code",
   "execution_count": null,
   "id": "5680dba1",
   "metadata": {
    "cellId": "1kphv2i5mnwlxhj3lypvhr"
   },
   "outputs": [],
   "source": []
  },
  {
   "cell_type": "code",
   "execution_count": null,
   "id": "5551f2fe",
   "metadata": {
    "cellId": "gqaq6bzj8ubbw8eb07zrxd"
   },
   "outputs": [],
   "source": [
    "clf.model.save_pretrained('models/rubert_clf')\n",
    "clf.tokenizer.save_pretrained('models/rubert_clf')"
   ]
  }
 ],
 "metadata": {
  "language_info": {
   "codemirror_mode": {
    "name": "ipython",
    "version": 3
   },
   "file_extension": ".py",
   "mimetype": "text/x-python",
   "name": "python",
   "nbconvert_exporter": "python",
   "pygments_lexer": "ipython3",
   "version": "3.7.7"
  },
  "notebookId": "c7ef3396-f0e5-477b-a912-f5f6b2c49809",
  "notebookPath": "nlp-coursework/notebooks/models/classification/HF_classification | blanchefort | rubert-base-cased-sentiment-rusentiment | Extensive experiments | Saved model.ipynb"
 },
 "nbformat": 4,
 "nbformat_minor": 5
}
