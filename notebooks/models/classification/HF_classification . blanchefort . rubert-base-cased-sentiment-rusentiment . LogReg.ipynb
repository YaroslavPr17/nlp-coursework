{
 "cells": [
  {
   "cell_type": "markdown",
   "id": "d58387d7",
   "metadata": {},
   "source": [
    "# `HF_classification . blanchefort . rubert-base-cased-sentiment-rusentiment . LogReg` notebook\n",
    "### Descriprion\n",
    "This notebook is one of those which were used to training large DL models from `transformers` library and measuring classification performance. Here the model **rubert-base** was trained. Then it provided Logistic regression classifier with embeddings for reviews (documents, in terms of NLP). Then LogisticRegression model was trained with these representations and did not show results better than Linear layer from PyTorch."
   ]
  },
  {
   "cell_type": "code",
   "execution_count": 322,
   "id": "5438f2e9",
   "metadata": {
    "cellId": "0xxdhr3vx2u52gwq43dpj5"
   },
   "outputs": [
    {
     "data": {
      "text/plain": [
       "'/home/jupyter/work/resources/nlp-coursework'"
      ]
     },
     "execution_count": 322,
     "metadata": {},
     "output_type": "execute_result"
    }
   ],
   "source": [
    "#!g1.1\n",
    "%pwd"
   ]
  },
  {
   "cell_type": "code",
   "execution_count": 288,
   "id": "3ecd1286",
   "metadata": {
    "cellId": "nv8sxkxqv7vnvewes4ih8"
   },
   "outputs": [
    {
     "name": "stdout",
     "output_type": "stream",
     "text": [
      "/home/jupyter/work/resources/nlp-coursework\n"
     ]
    }
   ],
   "source": [
    "%cd ../../.."
   ]
  },
  {
   "cell_type": "code",
   "execution_count": 323,
   "id": "d0bd6696",
   "metadata": {
    "cellId": "urfecp39ztgxjxwo57r8s"
   },
   "outputs": [],
   "source": [
    "#!g1.1\n",
    "from datasets_ import DatasetLoader\n",
    "from src.nlp.application import BertLogRegClassifier, ReviewDataset\n",
    "\n",
    "from datasets import load_dataset\n",
    "\n",
    "from sklearn.model_selection import train_test_split\n",
    "from sklearn.linear_model import LogisticRegression\n",
    "from sklearn.metrics import classification_report\n",
    "from sklearn.utils import resample\n",
    "\n",
    "import matplotlib.pyplot as plt\n",
    "\n",
    "import torch\n",
    "import torch.nn as nn\n",
    "from torch.utils.data import Dataset, DataLoader\n",
    "\n",
    "from transformers import AdamW\n",
    "\n",
    "from tqdm import tqdm\n",
    "import numpy as np\n",
    "import pandas as pd\n",
    "\n",
    "import sys\n",
    "import os\n",
    "os.environ[\"TOKENIZERS_PARALLELISM\"] = \"true\"\n",
    "\n",
    "from nltk import WhitespaceTokenizer\n",
    "\n",
    "from IPython.display import clear_output\n",
    "\n",
    "from transformers import (\n",
    "    pipeline,                       \n",
    "    AutoModelForSequenceClassification,                       \n",
    "    BertForSequenceClassification,                       \n",
    "    AutoTokenizer,\n",
    "    AdamW,\n",
    ")"
   ]
  },
  {
   "cell_type": "code",
   "execution_count": 324,
   "id": "fbb9ea51",
   "metadata": {
    "cellId": "n5sf6fd918pxj27foa3m2"
   },
   "outputs": [
    {
     "name": "stdout",
     "output_type": "stream",
     "text": [
      "/home/jupyter/work/resources/nlp-coursework/data/reviews_Review_Label/reviews_Review_Label.csv\n",
      "label\n",
      "1    48477\n",
      "0     6869\n",
      "Name: count, dtype: int64\n",
      "label\n",
      "0    48477\n",
      "1    48477\n",
      "Name: count, dtype: int64\n",
      "(96954, 2) (23721, 2)\n"
     ]
    },
    {
     "name": "stderr",
     "output_type": "stream",
     "text": [
      "<ipython-input-3-8adfedff2195>:5: SettingWithCopyWarning: \n",
      "A value is trying to be set on a copy of a slice from a DataFrame\n",
      "\n",
      "See the caveats in the documentation: https://pandas.pydata.org/pandas-docs/stable/user_guide/indexing.html#returning-a-view-versus-a-copy\n",
      "  train.label[train['label'] == 2] = 1\n",
      "<ipython-input-3-8adfedff2195>:6: SettingWithCopyWarning: \n",
      "A value is trying to be set on a copy of a slice from a DataFrame\n",
      "\n",
      "See the caveats in the documentation: https://pandas.pydata.org/pandas-docs/stable/user_guide/indexing.html#returning-a-view-versus-a-copy\n",
      "  test.label[test['label'] == 2] = 1\n"
     ]
    }
   ],
   "source": [
    "#!g1.1\n",
    "train, test = DatasetLoader.load_reviews_Review_Label_dataset(train_test_split=True,\n",
    "                                                              classnames_to_int=True,\n",
    "                                                              remove_neutral_class=True,\n",
    "                                                              show_path=True,)\n",
    "train.label[train['label'] == 2] = 1\n",
    "test.label[test['label'] == 2] = 1\n",
    "\n",
    "print(train.label.value_counts())\n",
    "train = pd.concat([train, resample(train[train.label == 0], n_samples=41608, random_state=42)])\n",
    "print(train.label.value_counts())\n",
    "\n",
    "print(train.shape, test.shape)"
   ]
  },
  {
   "cell_type": "code",
   "execution_count": 331,
   "id": "489c786e",
   "metadata": {
    "cellId": "y8iherydr3nbg042unkpi"
   },
   "outputs": [],
   "source": [
    "#!g1.1\n",
    "# clf = BertLogRegClassifier('blanchefort/rubert-base-cased-sentiment-rusentiment')\n",
    "\n",
    "train_dataset = ReviewDataset(train.review, train.label, clf.tokenizer)\n",
    "test_dataset = ReviewDataset(test.review, test.label, clf.tokenizer)\n",
    "\n",
    "train_dataloader = DataLoader(train_dataset, batch_size=64, shuffle=True)\n",
    "test_dataloader = DataLoader(test_dataset, batch_size=64, shuffle=False)"
   ]
  },
  {
   "cell_type": "code",
   "execution_count": 332,
   "id": "250a7bdc",
   "metadata": {
    "cellId": "qj9g5p1vpw53gnxi6wuen"
   },
   "outputs": [
    {
     "name": "stdout",
     "output_type": "stream",
     "text": [
      "All parameters: 177853440\n",
      "Trainable parameters: 0\n"
     ]
    }
   ],
   "source": [
    "#!g1.1\n",
    "for param in clf.model.parameters():\n",
    "    param.requires_grad = False\n",
    "print('All parameters:', sum(p.numel() for p in clf.model.parameters()))\n",
    "print('Trainable parameters:', sum(p.numel() for p in clf.model.parameters() if p.requires_grad))"
   ]
  },
  {
   "cell_type": "code",
   "execution_count": 333,
   "id": "3ec86d32",
   "metadata": {
    "cellId": "4suae590xl8zr69oy5irrf",
    "scrolled": true
   },
   "outputs": [
    {
     "data": {
      "application/vnd.jupyter.widget-view+json": {
       "model_id": "788446087cd54516ad8eb75787f70cbc",
       "version_major": 2,
       "version_minor": 0
      },
      "text/plain": [
       "  0%|                                                                      | 0/1515 [00:00<?, ?it/s]"
      ]
     },
     "metadata": {},
     "output_type": "display_data"
    }
   ],
   "source": [
    "#!g1.1\n",
    "clf.fit(train_dataloader)"
   ]
  },
  {
   "cell_type": "code",
   "execution_count": 328,
   "id": "37b3936e",
   "metadata": {
    "cellId": "djsow7cwlmp00b3lb67x9hpr"
   },
   "outputs": [
    {
     "data": {
      "text/plain": [
       "(100, 768)"
      ]
     },
     "execution_count": 328,
     "metadata": {},
     "output_type": "execute_result"
    }
   ],
   "source": [
    "#!g1.1\n",
    "clf.all_train_embeddings.shape"
   ]
  },
  {
   "cell_type": "code",
   "execution_count": 334,
   "id": "33dc60b4",
   "metadata": {
    "cellId": "gm4qlrs0656ykdcw2yhudq"
   },
   "outputs": [
    {
     "data": {
      "application/vnd.jupyter.widget-view+json": {
       "model_id": "d1ec678dc5f247a9b998ff6bd50062d1",
       "version_major": 2,
       "version_minor": 0
      },
      "text/plain": [
       "  0%|                                                                       | 0/371 [00:00<?, ?it/s]"
      ]
     },
     "metadata": {},
     "output_type": "display_data"
    },
    {
     "name": "stdout",
     "output_type": "stream",
     "text": [
      "              precision    recall  f1-score   support\n",
      "\n",
      "           0       0.57      0.90      0.70      2979\n",
      "           1       0.98      0.90      0.94     20742\n",
      "\n",
      "    accuracy                           0.90     23721\n",
      "   macro avg       0.78      0.90      0.82     23721\n",
      "weighted avg       0.93      0.90      0.91     23721\n",
      "\n"
     ]
    },
    {
     "data": {
      "text/plain": [
       "array([1, 0, 0, ..., 1, 0, 1])"
      ]
     },
     "execution_count": 334,
     "metadata": {},
     "output_type": "execute_result"
    }
   ],
   "source": [
    "#!g1.1\n",
    "clf.predict(test_dataloader, print_report=True)"
   ]
  },
  {
   "cell_type": "code",
   "execution_count": 336,
   "id": "62519742",
   "metadata": {
    "cellId": "vvvchjwtvrlzcs84lv5b3"
   },
   "outputs": [],
   "source": [
    "#!g1.1\n",
    "import dill\n",
    "\n",
    "with open('models/clf.model', 'rb') as f:\n",
    "    pretrained_nn_clf = dill.load(f)"
   ]
  },
  {
   "cell_type": "code",
   "execution_count": 337,
   "id": "73e38f9c",
   "metadata": {
    "cellId": "5g3smschlkub79uk4dwlu"
   },
   "outputs": [],
   "source": [
    "#!g1.1\n",
    "clf.model = pretrained_nn_clf.model"
   ]
  },
  {
   "cell_type": "code",
   "execution_count": 339,
   "id": "97254331",
   "metadata": {
    "cellId": "o7hxel75tgy0enrdxmu2g"
   },
   "outputs": [],
   "source": [
    "#!g1.1\n",
    "clf.model.dropout = torch.nn.Sequential()\n",
    "clf.model.classifier = torch.nn.Sequential()"
   ]
  },
  {
   "cell_type": "code",
   "execution_count": 341,
   "id": "0541aad2",
   "metadata": {
    "cellId": "ttoctvtylh8ue7uu7pc2uq"
   },
   "outputs": [
    {
     "data": {
      "application/vnd.jupyter.widget-view+json": {
       "model_id": "cb2cd15b994c46f3af7cfcf484ba5997",
       "version_major": 2,
       "version_minor": 0
      },
      "text/plain": [
       "  0%|                                                                       | 0/371 [00:00<?, ?it/s]"
      ]
     },
     "metadata": {},
     "output_type": "display_data"
    },
    {
     "name": "stdout",
     "output_type": "stream",
     "text": [
      "              precision    recall  f1-score   support\n",
      "\n",
      "           0       0.77      0.83      0.80      2979\n",
      "           1       0.98      0.96      0.97     20742\n",
      "\n",
      "    accuracy                           0.95     23721\n",
      "   macro avg       0.87      0.90      0.89     23721\n",
      "weighted avg       0.95      0.95      0.95     23721\n",
      "\n"
     ]
    }
   ],
   "source": [
    "#!g1.1\n",
    "preds = clf.predict(test_dataloader, print_report=True)"
   ]
  }
 ],
 "metadata": {
  "kernelspec": {
   "display_name": "Python 3 (ipykernel)",
   "language": "python",
   "name": "python3"
  },
  "language_info": {
   "codemirror_mode": {
    "name": "ipython",
    "version": 3
   },
   "file_extension": ".py",
   "mimetype": "text/x-python",
   "name": "python",
   "nbconvert_exporter": "python",
   "pygments_lexer": "ipython3",
   "version": "3.10.4"
  },
  "notebookId": "5d2f7ca9-1e42-4d83-a268-79b7cd6956b8",
  "notebookPath": "nlp-coursework/notebooks/models/classification/HF_classification . blanchefort . rubert-base-cased-sentiment-rusentiment . LogReg.ipynb"
 },
 "nbformat": 4,
 "nbformat_minor": 5
}
