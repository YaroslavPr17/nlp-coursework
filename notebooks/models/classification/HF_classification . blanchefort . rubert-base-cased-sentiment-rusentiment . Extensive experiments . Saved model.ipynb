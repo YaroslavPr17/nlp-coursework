{
 "cells": [
  {
   "cell_type": "markdown",
   "id": "2171248e",
   "metadata": {
    "cellId": "rldiasyf4s88xlzosjix7"
   },
   "source": [
    "# `HF_classification . blanchefort . rubert-base-cased-sentiment-rusentiment . Extensive experiments . Saved model` notebook\n",
    "### Descriprion\n",
    "This notebook is one of those which were used to training large DL models from `transformers` library and measuring classification performance. Experiments with **rubert-base** model was conducted here. The model was profoundly explored via local resources and usage of Yandex.DataSphere platform. "
   ]
  },
  {
   "cell_type": "code",
   "execution_count": 195,
   "id": "4368a915",
   "metadata": {
    "cellId": "89x33gtepb7bhs2ewzcs3j"
   },
   "outputs": [
    {
     "data": {
      "text/plain": [
       "'/home/jupyter/work/resources/nlp-coursework'"
      ]
     },
     "execution_count": 195,
     "metadata": {},
     "output_type": "execute_result"
    }
   ],
   "source": [
    "#!g2.mig\n",
    "%pwd"
   ]
  },
  {
   "cell_type": "code",
   "execution_count": 8,
   "id": "b8b8a727",
   "metadata": {
    "cellId": "1bijrdh8hryjvdioq9vl58"
   },
   "outputs": [
    {
     "name": "stdout",
     "output_type": "stream",
     "text": [
      "/home/jupyter/work/resources/nlp-coursework\n"
     ]
    }
   ],
   "source": [
    "#!g2.mig\n",
    "%cd ../../.."
   ]
  },
  {
   "cell_type": "code",
   "execution_count": 9,
   "id": "2b42c166",
   "metadata": {
    "cellId": "unoapouo1rrvsoum0s55a"
   },
   "outputs": [
    {
     "name": "stdout",
     "output_type": "stream",
     "text": [
      "Defaulting to user installation because normal site-packages is not writeable\n",
      "Requirement already satisfied: numpy==1.21 in /home/jupyter/.local/lib/python3.8/site-packages (1.21.0)\n",
      "^C\n",
      "\u001b[31mERROR: Operation cancelled by user\u001b[0m\n"
     ]
    }
   ],
   "source": [
    "#!g2.mig\n",
    "%pip install numpy==1.21"
   ]
  },
  {
   "cell_type": "code",
   "execution_count": 10,
   "id": "498fe609",
   "metadata": {
    "cellId": "4c5rr7ok4bvmqndfgkahls"
   },
   "outputs": [],
   "source": [
    "#!g2.mig\n",
    "from datasets_ import DatasetLoader\n",
    "from src.nlp.application import BertClassifier, ReviewDataset\n",
    "\n",
    "from datasets import load_dataset\n",
    "from sklearn.model_selection import train_test_split\n",
    "from sklearn.metrics import classification_report\n",
    "from sklearn.utils import resample\n",
    "\n",
    "import matplotlib.pyplot as plt\n",
    "%matplotlib inline\n",
    "\n",
    "import torch\n",
    "import torch.nn as nn\n",
    "from torch.utils.data import Dataset, DataLoader\n",
    "\n",
    "from transformers import AdamW\n",
    "\n",
    "from tqdm import tqdm\n",
    "import numpy as np\n",
    "import pandas as pd\n",
    "\n",
    "import sys\n",
    "\n",
    "from nltk import WhitespaceTokenizer\n",
    "\n",
    "from transformers import (\n",
    "    pipeline,                       \n",
    "    AutoModelForSequenceClassification,                       \n",
    "    BertForSequenceClassification,                       \n",
    "    AutoTokenizer,\n",
    "    AdamW,\n",
    ")"
   ]
  },
  {
   "cell_type": "code",
   "execution_count": 11,
   "id": "bd9f89de",
   "metadata": {
    "cellId": "w8spuah1bk4pnxvt00hh5"
   },
   "outputs": [
    {
     "name": "stdout",
     "output_type": "stream",
     "text": [
      "data/reviews_Review_Label/reviews_Review_Label.csv\n",
      "Dataset 'reviews_Review_Label.csv' was found in local storage.\n",
      "label\n",
      "1    48477\n",
      "0     6869\n",
      "Name: count, dtype: int64\n",
      "label\n",
      "0    48477\n",
      "1    48477\n",
      "Name: count, dtype: int64\n",
      "(96954, 2) (23721, 2)\n"
     ]
    }
   ],
   "source": [
    "#!g2.mig\n",
    "train, test = DatasetLoader.load_reviews_Review_Label_dataset(train_test_split=True,\n",
    "                                                              classnames_to_int=True,\n",
    "                                                              remove_neutral_class=True,\n",
    "                                                              show_path=True,)\n",
    "train.label[train['label'] == 2] = 1\n",
    "test.label[test['label'] == 2] = 1\n",
    "\n",
    "print(train.label.value_counts())\n",
    "train = pd.concat([train, resample(train[train.label == 0], n_samples=41608, random_state=42)])\n",
    "print(train.label.value_counts())\n",
    "\n",
    "print(train.shape, test.shape)"
   ]
  },
  {
   "cell_type": "code",
   "execution_count": 12,
   "id": "e9a730da",
   "metadata": {
    "cellId": "sbsvhfqnp70awz511lnn4o"
   },
   "outputs": [
    {
     "data": {
      "text/html": [
       "<div>\n",
       "<style scoped>\n",
       "    .dataframe tbody tr th:only-of-type {\n",
       "        vertical-align: middle;\n",
       "    }\n",
       "\n",
       "    .dataframe tbody tr th {\n",
       "        vertical-align: top;\n",
       "    }\n",
       "\n",
       "    .dataframe thead th {\n",
       "        text-align: right;\n",
       "    }\n",
       "</style>\n",
       "<table border=\"1\" class=\"dataframe\">\n",
       "  <thead>\n",
       "    <tr style=\"text-align: right;\">\n",
       "      <th></th>\n",
       "      <th>review</th>\n",
       "      <th>label</th>\n",
       "    </tr>\n",
       "  </thead>\n",
       "  <tbody>\n",
       "    <tr>\n",
       "      <th>25749</th>\n",
       "      <td>Большое количество фильмов советского кинемато...</td>\n",
       "      <td>1</td>\n",
       "    </tr>\n",
       "    <tr>\n",
       "      <th>44489</th>\n",
       "      <td>Тяжело ответить на вопрос, что же такое Догвил...</td>\n",
       "      <td>1</td>\n",
       "    </tr>\n",
       "    <tr>\n",
       "      <th>53162</th>\n",
       "      <td>В наше время такие героини, как скажем наприме...</td>\n",
       "      <td>0</td>\n",
       "    </tr>\n",
       "    <tr>\n",
       "      <th>25843</th>\n",
       "      <td>В 2001 году нам довелось познакомиться с новой...</td>\n",
       "      <td>1</td>\n",
       "    </tr>\n",
       "    <tr>\n",
       "      <th>44609</th>\n",
       "      <td>«Это фильм?», «У них не хватило денег на декор...</td>\n",
       "      <td>1</td>\n",
       "    </tr>\n",
       "    <tr>\n",
       "      <th>...</th>\n",
       "      <td>...</td>\n",
       "      <td>...</td>\n",
       "    </tr>\n",
       "    <tr>\n",
       "      <th>14104</th>\n",
       "      <td>- Через столько лет?- ВсегдаБезусловно, истори...</td>\n",
       "      <td>1</td>\n",
       "    </tr>\n",
       "    <tr>\n",
       "      <th>22232</th>\n",
       "      <td>После просмотра трейлера, я был под большим вп...</td>\n",
       "      <td>1</td>\n",
       "    </tr>\n",
       "    <tr>\n",
       "      <th>73314</th>\n",
       "      <td>Многие не верят, но я легко подключаюсь к прои...</td>\n",
       "      <td>1</td>\n",
       "    </tr>\n",
       "    <tr>\n",
       "      <th>47848</th>\n",
       "      <td>Как часто нам нужна поддержка? Да, пожалуй, оч...</td>\n",
       "      <td>1</td>\n",
       "    </tr>\n",
       "    <tr>\n",
       "      <th>10215</th>\n",
       "      <td>15 апреля 2012 исполнилось ровно 100 лет с тог...</td>\n",
       "      <td>1</td>\n",
       "    </tr>\n",
       "  </tbody>\n",
       "</table>\n",
       "<p>23721 rows × 2 columns</p>\n",
       "</div>"
      ],
      "text/plain": [
       "                                                  review  label\n",
       "25749  Большое количество фильмов советского кинемато...      1\n",
       "44489  Тяжело ответить на вопрос, что же такое Догвил...      1\n",
       "53162  В наше время такие героини, как скажем наприме...      0\n",
       "25843  В 2001 году нам довелось познакомиться с новой...      1\n",
       "44609  «Это фильм?», «У них не хватило денег на декор...      1\n",
       "...                                                  ...    ...\n",
       "14104  - Через столько лет?- ВсегдаБезусловно, истори...      1\n",
       "22232  После просмотра трейлера, я был под большим вп...      1\n",
       "73314  Многие не верят, но я легко подключаюсь к прои...      1\n",
       "47848  Как часто нам нужна поддержка? Да, пожалуй, оч...      1\n",
       "10215  15 апреля 2012 исполнилось ровно 100 лет с тог...      1\n",
       "\n",
       "[23721 rows x 2 columns]"
      ]
     },
     "execution_count": 12,
     "metadata": {},
     "output_type": "execute_result"
    }
   ],
   "source": [
    "#!g2.mig\n",
    "test"
   ]
  },
  {
   "cell_type": "code",
   "execution_count": 13,
   "id": "d977cd55",
   "metadata": {
    "cellId": "z0nz0aygf11kd894xj6pz"
   },
   "outputs": [
    {
     "data": {
      "application/vnd.jupyter.widget-view+json": {
       "model_id": "87e17298fb09446f85031f3568b6e12d",
       "version_major": 2,
       "version_minor": 0
      },
      "text/plain": [
       "Downloading:   0%|          | 0.00/952 [00:00<?, ?B/s]"
      ]
     },
     "metadata": {},
     "output_type": "display_data"
    },
    {
     "data": {
      "application/vnd.jupyter.widget-view+json": {
       "model_id": "cf67320b1a384ae29f2523129f7ccfdd",
       "version_major": 2,
       "version_minor": 0
      },
      "text/plain": [
       "Downloading:   0%|          | 0.00/679M [00:00<?, ?B/s]"
      ]
     },
     "metadata": {},
     "output_type": "display_data"
    },
    {
     "data": {
      "application/vnd.jupyter.widget-view+json": {
       "model_id": "34c203ca571448e5a0bf22e91c01c0ca",
       "version_major": 2,
       "version_minor": 0
      },
      "text/plain": [
       "Downloading:   0%|          | 0.00/495 [00:00<?, ?B/s]"
      ]
     },
     "metadata": {},
     "output_type": "display_data"
    },
    {
     "data": {
      "application/vnd.jupyter.widget-view+json": {
       "model_id": "5bd75a115bea4dcaa432ed22509340cc",
       "version_major": 2,
       "version_minor": 0
      },
      "text/plain": [
       "Downloading:   0%|          | 0.00/1.34M [00:00<?, ?B/s]"
      ]
     },
     "metadata": {},
     "output_type": "display_data"
    },
    {
     "data": {
      "application/vnd.jupyter.widget-view+json": {
       "model_id": "71d04ce3b8e743328d8d7e5f32154a29",
       "version_major": 2,
       "version_minor": 0
      },
      "text/plain": [
       "Downloading:   0%|          | 0.00/112 [00:00<?, ?B/s]"
      ]
     },
     "metadata": {},
     "output_type": "display_data"
    }
   ],
   "source": [
    "#!g2.mig\n",
    "\n",
    "clf = BertClassifier('blanchefort/rubert-base-cased-sentiment-rusentiment')\n",
    "\n",
    "train_dataset = ReviewDataset(train.review, train.label, clf.tokenizer)\n",
    "test_dataset = ReviewDataset(test.review, test.label, clf.tokenizer)\n",
    "\n",
    "train_dataloader = DataLoader(train_dataset, batch_size=16, shuffle=True)\n",
    "test_dataloader = DataLoader(test_dataset, batch_size=16, shuffle=False)"
   ]
  },
  {
   "cell_type": "code",
   "execution_count": 8,
   "id": "7cbc1a7a",
   "metadata": {
    "cellId": "bjyxcz68n9fqcagx4xou6h"
   },
   "outputs": [
    {
     "name": "stdout",
     "output_type": "stream",
     "text": [
      "All parameters: 177854978\n",
      "Trainable parameters: 1538\n"
     ]
    }
   ],
   "source": [
    "#!g2.mig\n",
    "\n",
    "for param in clf.model.bert.parameters():\n",
    "    param.requires_grad = False\n",
    "print('All parameters:', sum(p.numel() for p in clf.model.parameters()))\n",
    "print('Trainable parameters:', sum(p.numel() for p in clf.model.parameters() if p.requires_grad))"
   ]
  },
  {
   "cell_type": "code",
   "execution_count": 9,
   "id": "42608ef5",
   "metadata": {
    "cellId": "b8cpuui5zbj3vie1cl1fk"
   },
   "outputs": [
    {
     "data": {
      "text/plain": [
       "device(type='cuda', index=0)"
      ]
     },
     "execution_count": 9,
     "metadata": {},
     "output_type": "execute_result"
    }
   ],
   "source": [
    "#!g2.mig\n",
    "\n",
    "clf.model.device"
   ]
  },
  {
   "cell_type": "code",
   "execution_count": 11,
   "id": "84075e47",
   "metadata": {
    "cellId": "9zxwo8uuu16w58cs0u20o",
    "scrolled": true
   },
   "outputs": [
    {
     "data": {
      "application/vnd.jupyter.widget-view+json": {
       "model_id": "cea77fcff2c7405a86710cf014f2b03d",
       "version_major": 2,
       "version_minor": 0
      },
      "text/plain": [
       "  0%|                                                                      | 0/1483 [00:00<?, ?it/s]"
      ]
     },
     "metadata": {},
     "output_type": "display_data"
    },
    {
     "data": {
      "application/vnd.jupyter.widget-view+json": {
       "model_id": "eea10c9ebd2f41a8b982ee75321a43e3",
       "version_major": 2,
       "version_minor": 0
      },
      "text/plain": [
       "  0%|                                                                      | 0/6060 [00:00<?, ?it/s]"
      ]
     },
     "metadata": {},
     "output_type": "display_data"
    },
    {
     "data": {
      "application/vnd.jupyter.widget-view+json": {
       "model_id": "bee62c164e3145988ac63d725e3fef53",
       "version_major": 2,
       "version_minor": 0
      },
      "text/plain": [
       "  0%|                                                                      | 0/1483 [00:00<?, ?it/s]"
      ]
     },
     "metadata": {},
     "output_type": "display_data"
    },
    {
     "name": "stdout",
     "output_type": "stream",
     "text": [
      "Pre-training test:\n",
      "Classification report:\n",
      "              precision    recall  f1-score   support\n",
      "\n",
      "           0       0.00      0.00      0.00      2979\n",
      "           1       0.85      0.82      0.84     20742\n",
      "\n",
      "    accuracy                           0.72     23721\n",
      "   macro avg       0.43      0.41      0.42     23721\n",
      "weighted avg       0.74      0.72      0.73     23721\n",
      "\n",
      "Test loss 0.6365046148676368 accuracy 0.7180557312086336\n",
      "----------\n",
      "Epoch 1/1\n",
      "Train loss 0.3308159988896042 accuracy 0.8562823607071395\n",
      "Classification report:\n",
      "              precision    recall  f1-score   support\n",
      "\n",
      "           0       0.64      0.77      0.69      2979\n",
      "           1       0.97      0.94      0.95     20742\n",
      "\n",
      "    accuracy                           0.92     23721\n",
      "   macro avg       0.80      0.85      0.82     23721\n",
      "weighted avg       0.92      0.92      0.92     23721\n",
      "\n",
      "Test loss 0.2107675949014869 accuracy 0.9153914253193373\n",
      "----------\n"
     ]
    }
   ],
   "source": [
    "#!g2.mig\n",
    "\n",
    "clf.train(1, train_dataloader, test_dataloader, pretrain_test=True)"
   ]
  },
  {
   "cell_type": "code",
   "execution_count": 30,
   "id": "1a65b284",
   "metadata": {
    "cellId": "kvpbz1bfwqd8hrc1q97ct7"
   },
   "outputs": [
    {
     "data": {
      "text/plain": [
       "Text(0, 0.5, 'Train Loss')"
      ]
     },
     "execution_count": 30,
     "metadata": {},
     "output_type": "execute_result"
    },
    {
     "data": {
      "image/png": "[encoded data removed]",
      "text/plain": [
       "<Figure size 432x288 with 1 Axes>"
      ]
     },
     "metadata": {
      "needs_background": "light"
     },
     "output_type": "display_data"
    }
   ],
   "source": [
    "#!g2.mig\n",
    "\n",
    "plt.plot(clf.all_losses)\n",
    "plt.xlabel('Train step')\n",
    "plt.ylabel('Train Loss')"
   ]
  },
  {
   "cell_type": "code",
   "execution_count": 21,
   "id": "8280d52a",
   "metadata": {
    "cellId": "jbit4vuok3o98hogf7oute"
   },
   "outputs": [],
   "source": [
    "#!g2.mig\n",
    "import dill\n",
    "\n",
    "with open('clf', 'wb') as f:\n",
    "    dill.dump(clf, f)"
   ]
  },
  {
   "cell_type": "code",
   "execution_count": null,
   "id": "2c21ccb4",
   "metadata": {
    "cellId": "j3eppbylzyo1rl5k2skol3"
   },
   "outputs": [],
   "source": [
    "#!g2.mig\n",
    "import dill\n",
    "\n",
    "with open('clf', 'rb') as f:\n",
    "    clf = dill.load(f)"
   ]
  },
  {
   "cell_type": "code",
   "execution_count": 15,
   "id": "688188d1",
   "metadata": {
    "cellId": "6yr0ye9k69ltlsk35iwpcl"
   },
   "outputs": [
    {
     "data": {
      "text/plain": [
       "Adam (\n",
       "Parameter Group 0\n",
       "    amsgrad: False\n",
       "    betas: (0.9, 0.999)\n",
       "    eps: 1e-08\n",
       "    initial_lr: 0.001\n",
       "    lr: 0.001\n",
       "    weight_decay: 0\n",
       ")"
      ]
     },
     "execution_count": 15,
     "metadata": {},
     "output_type": "execute_result"
    }
   ],
   "source": [
    "#!g2.mig\n",
    "clf.optimizer"
   ]
  },
  {
   "cell_type": "code",
   "execution_count": 16,
   "id": "dea73eee",
   "metadata": {
    "cellId": "mveexbo76pxbgq94kv8qa"
   },
   "outputs": [
    {
     "data": {
      "text/plain": [
       "Adam (\n",
       "Parameter Group 0\n",
       "    amsgrad: False\n",
       "    betas: (0.9, 0.999)\n",
       "    eps: 1e-08\n",
       "    lr: 5e-05\n",
       "    weight_decay: 0\n",
       ")"
      ]
     },
     "execution_count": 16,
     "metadata": {},
     "output_type": "execute_result"
    }
   ],
   "source": [
    "#!g2.mig\n",
    "\n",
    "clf.optimizer = torch.optim.Adam(clf.model.parameters(), lr=5e-5)\n",
    "clf.optimizer"
   ]
  },
  {
   "cell_type": "code",
   "execution_count": 17,
   "id": "5dfbf9b2",
   "metadata": {
    "cellId": "s1cjnt0py19rs9qu2qrsy"
   },
   "outputs": [
    {
     "name": "stdout",
     "output_type": "stream",
     "text": [
      "All parameters: 177854978\n",
      "Trainable parameters: 177854978\n"
     ]
    }
   ],
   "source": [
    "#!g2.mig\n",
    "\n",
    "for param in clf.model.bert.parameters():\n",
    "    param.requires_grad = True\n",
    "print('All parameters:', sum(p.numel() for p in clf.model.parameters()))\n",
    "print('Trainable parameters:', sum(p.numel() for p in clf.model.parameters() if p.requires_grad))"
   ]
  },
  {
   "cell_type": "code",
   "execution_count": null,
   "id": "a68eb9e3",
   "metadata": {
    "cellId": "upeplwefujg28jt0or8xvrj",
    "scrolled": true
   },
   "outputs": [],
   "source": [
    "#!g2.mig\n",
    "\n",
    "clf.train(1, train_dataloader, test_dataloader, pretrain_test=False)"
   ]
  },
  {
   "cell_type": "code",
   "execution_count": 166,
   "id": "94a610d1",
   "metadata": {
    "cellId": "choy3z7bmwfi3kpd96njci"
   },
   "outputs": [
    {
     "data": {
      "image/png": "[encoded data removed]",
      "text/plain": [
       "<Figure size 432x288 with 1 Axes>"
      ]
     },
     "metadata": {
      "needs_background": "light"
     },
     "output_type": "display_data"
    }
   ],
   "source": [
    "#!g2.mig\n",
    "\n",
    "plt.plot(clf.all_losses)\n",
    "plt.xlabel('Train step')\n",
    "plt.ylabel('Train Loss')\n",
    "\n",
    "plt.show()"
   ]
  },
  {
   "cell_type": "code",
   "execution_count": 170,
   "id": "d545c2c6",
   "metadata": {
    "cellId": "sbt3m5hovnmgp1pgi9i7"
   },
   "outputs": [
    {
     "data": {
      "text/plain": [
       "Adam (\n",
       "Parameter Group 0\n",
       "    amsgrad: False\n",
       "    betas: (0.9, 0.999)\n",
       "    eps: 1e-08\n",
       "    lr: 1e-05\n",
       "    weight_decay: 0\n",
       ")"
      ]
     },
     "metadata": {},
     "output_type": "display_data"
    }
   ],
   "source": [
    "#!g2.mig\n",
    "clf.optimizer = torch.optim.Adam(clf.model.parameters(), lr=1e-5)\n",
    "clf.optimizer"
   ]
  },
  {
   "cell_type": "code",
   "execution_count": 171,
   "id": "2d045a9a",
   "metadata": {
    "cellId": "3ogoc0d79ehb0hj22d2ud"
   },
   "outputs": [
    {
     "name": "stdout",
     "output_type": "stream",
     "text": [
      "100%|█████████████████████████████████████████████| 6060/6060 [56:31<00:00,  1.79it/s, loss=0.00553]\n",
      "Train loss 0.010916641023597157 accuracy 0.9972564308847495\n",
      "100%|█████████████████████████████████████████████| 1483/1483 [05:15<00:00,  4.70it/s, loss=0.00306]\n",
      "Classification report:\n",
      "              precision    recall  f1-score   support\n",
      "\n",
      "           0       0.91      0.70      0.79      2979\n",
      "           1       0.96      0.99      0.97     20742\n",
      "\n",
      "    accuracy                           0.95     23721\n",
      "   macro avg       0.93      0.84      0.88     23721\n",
      "weighted avg       0.95      0.95      0.95     23721\n",
      "\n",
      "Test loss 0.3306930817049535 accuracy 0.95307954976603\n",
      "----------\n"
     ]
    }
   ],
   "source": [
    "#!g2.mig\n",
    "clf.train(1, pretrain_test=False)"
   ]
  },
  {
   "cell_type": "code",
   "execution_count": 172,
   "id": "74cb26f6",
   "metadata": {
    "cellId": "e8fupw0dzpdiqabm3sjma8"
   },
   "outputs": [
    {
     "data": {
      "image/png": "[encoded data removed]",
      "text/plain": [
       "<Figure size 432x288 with 1 Axes>"
      ]
     },
     "metadata": {
      "needs_background": "light"
     },
     "output_type": "display_data"
    }
   ],
   "source": [
    "#!g2.mig\n",
    "\n",
    "plt.plot(clf.all_losses)\n",
    "plt.xlabel('Train step')\n",
    "plt.ylabel('Train Loss')\n",
    "\n",
    "plt.show()"
   ]
  },
  {
   "cell_type": "code",
   "execution_count": 169,
   "id": "0c0517a9",
   "metadata": {
    "cellId": "3eyvwyfbrmjpu2yiwgj11p"
   },
   "outputs": [],
   "source": [
    "#!g2.mig\n",
    "import dill\n",
    "\n",
    "with open('models/clf.model', 'wb') as f:\n",
    "    dill.dump(clf, f)"
   ]
  },
  {
   "cell_type": "code",
   "execution_count": 175,
   "id": "dc131675",
   "metadata": {
    "cellId": "7kpqh1s40icjkygwto56c"
   },
   "outputs": [],
   "source": [
    "#!g2.mig\n",
    "clf.tokenizer.save_pretrained('models/overfitted')\n",
    "clf.model.save_pretrained('models/overfitted')"
   ]
  },
  {
   "cell_type": "code",
   "execution_count": 188,
   "id": "1e326a4d",
   "metadata": {
    "cellId": "hkevzdalorqev9x9o24o8"
   },
   "outputs": [
    {
     "data": {
      "text/plain": [
       "BertConfig {\n",
       "  \"_name_or_path\": \"models/overfitted\",\n",
       "  \"architectures\": [\n",
       "    \"BertForSequenceClassification\"\n",
       "  ],\n",
       "  \"attention_probs_dropout_prob\": 0.1,\n",
       "  \"classifier_dropout\": null,\n",
       "  \"directionality\": \"bidi\",\n",
       "  \"gradient_checkpointing\": false,\n",
       "  \"hidden_act\": \"gelu\",\n",
       "  \"hidden_dropout_prob\": 0.1,\n",
       "  \"hidden_size\": 768,\n",
       "  \"id2label\": {\n",
       "    \"0\": \"NEUTRAL\",\n",
       "    \"1\": \"POSITIVE\",\n",
       "    \"2\": \"NEGATIVE\"\n",
       "  },\n",
       "  \"initializer_range\": 0.02,\n",
       "  \"intermediate_size\": 3072,\n",
       "  \"label2id\": {\n",
       "    \"NEGATIVE\": 2,\n",
       "    \"NEUTRAL\": 0,\n",
       "    \"POSITIVE\": 1\n",
       "  },\n",
       "  \"layer_norm_eps\": 1e-12,\n",
       "  \"max_position_embeddings\": 512,\n",
       "  \"model_type\": \"bert\",\n",
       "  \"num_attention_heads\": 12,\n",
       "  \"num_hidden_layers\": 12,\n",
       "  \"output_past\": true,\n",
       "  \"pad_token_id\": 0,\n",
       "  \"pooler_fc_size\": 768,\n",
       "  \"pooler_num_attention_heads\": 12,\n",
       "  \"pooler_num_fc_layers\": 3,\n",
       "  \"pooler_size_per_head\": 128,\n",
       "  \"pooler_type\": \"first_token_transform\",\n",
       "  \"position_embedding_type\": \"absolute\",\n",
       "  \"torch_dtype\": \"float32\",\n",
       "  \"transformers_version\": \"4.14.0\",\n",
       "  \"type_vocab_size\": 2,\n",
       "  \"use_cache\": true,\n",
       "  \"vocab_size\": 119547\n",
       "}"
      ]
     },
     "metadata": {},
     "output_type": "display_data"
    }
   ],
   "source": [
    "#!g2.mig\n",
    "clf.model.config"
   ]
  }
 ],
 "metadata": {
  "language_info": {
   "codemirror_mode": {
    "name": "ipython",
    "version": 3
   },
   "file_extension": ".py",
   "mimetype": "text/x-python",
   "name": "python",
   "nbconvert_exporter": "python",
   "pygments_lexer": "ipython3",
   "version": "3.7.7"
  },
  "notebookId": "c7ef3396-f0e5-477b-a912-f5f6b2c49809",
  "notebookPath": "nlp-coursework/notebooks/models/classification/HF_classification . blanchefort . rubert-base-cased-sentiment-rusentiment . Extensive experiments . Saved model.ipynb"
 },
 "nbformat": 4,
 "nbformat_minor": 5
}
