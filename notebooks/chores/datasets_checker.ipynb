{
 "cells": [
  {
   "cell_type": "code",
   "execution_count": 1,
   "id": "49054021",
   "metadata": {},
   "outputs": [
    {
     "name": "stdout",
     "output_type": "stream",
     "text": [
      "C:\\Users\\Yaroslav Pristalov\\Documents\\Programming\\nlp-coursework\n"
     ]
    }
   ],
   "source": [
    "%cd ../.."
   ]
  },
  {
   "cell_type": "code",
   "execution_count": 2,
   "id": "e6f86fed",
   "metadata": {},
   "outputs": [],
   "source": [
    "import dill"
   ]
  },
  {
   "cell_type": "code",
   "execution_count": 3,
   "id": "e33408a3",
   "metadata": {},
   "outputs": [
    {
     "name": "stdout",
     "output_type": "stream",
     "text": [
      "Data was loaded from 'reviews_Review_Label_razdel_no.df'\n",
      "_tokenizer='razdel', stopwords=no\n",
      "                                                  review     label\n",
      "15517  прежде чем писать рецензия , я хотеться бы поб...  POSITIVE\n",
      "\n",
      "---------------------------------------------------------------\n",
      "\n",
      "Data was loaded from 'reviews_Review_Label_razdel_nltk.df'\n",
      "_tokenizer='razdel', stopwords=nltk\n",
      "                                                  review     label\n",
      "90453  ещё далёкий 2007 , увидеть реклама трансформер...  POSITIVE\n",
      "\n",
      "---------------------------------------------------------------\n",
      "\n",
      "Data was loaded from 'reviews_Review_Label_rutokenizer_no.df'\n",
      "_tokenizer='rutokenizer', stopwords=no\n",
      "                                                  review     label\n",
      "42773  это один из немногий фильм , который смотреть ...  POSITIVE\n",
      "\n",
      "---------------------------------------------------------------\n",
      "\n",
      "Data was loaded from 'reviews_Review_Label_rutokenizer_nltk.df'\n",
      "_tokenizer='rutokenizer', stopwords=nltk\n",
      "                                                  review     label\n",
      "26779  безумный титан танос шествовать вселенная , ра...  POSITIVE\n",
      "\n",
      "---------------------------------------------------------------\n",
      "\n"
     ]
    }
   ],
   "source": [
    "for _tokenizer in ['razdel', 'rutokenizer']:\n",
    "    for i, _stopwords in enumerate([[], 'nltk_fake']):        \n",
    "        i_to_sw_name = {0: 'no', 1: 'nltk'}\n",
    "        \n",
    "        with open(f'reviews_Review_Label_{_tokenizer}_{i_to_sw_name[i]}.df', 'rb') as file:\n",
    "            data = dill.load(file)\n",
    "            print(f\"Data was loaded from '{file.name}'\")\n",
    "        \n",
    "        print(f'{_tokenizer=}, stopwords={i_to_sw_name[i]}')\n",
    "        \n",
    "        print(data.sample())\n",
    "        \n",
    "        print('\\n---------------------------------------------------------------\\n')"
   ]
  }
 ],
 "metadata": {
  "kernelspec": {
   "display_name": "Python 3 (ipykernel)",
   "language": "python",
   "name": "python3"
  },
  "language_info": {
   "codemirror_mode": {
    "name": "ipython",
    "version": 3
   },
   "file_extension": ".py",
   "mimetype": "text/x-python",
   "name": "python",
   "nbconvert_exporter": "python",
   "pygments_lexer": "ipython3",
   "version": "3.9.13"
  }
 },
 "nbformat": 4,
 "nbformat_minor": 5
}
