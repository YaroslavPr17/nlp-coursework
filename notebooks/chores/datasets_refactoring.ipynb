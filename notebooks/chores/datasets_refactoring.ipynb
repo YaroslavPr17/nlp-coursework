{
 "cells": [
  {
   "cell_type": "code",
   "execution_count": 1,
   "id": "0cb6d499",
   "metadata": {},
   "outputs": [
    {
     "name": "stdout",
     "output_type": "stream",
     "text": [
      "/home/pristalovya/Документы/nlp-coursework\n"
     ]
    }
   ],
   "source": [
    "%cd ../.."
   ]
  },
  {
   "cell_type": "code",
   "execution_count": 2,
   "id": "77f569f3",
   "metadata": {},
   "outputs": [],
   "source": [
    "from datasets import DatasetLoader\n",
    "import dill\n",
    "import numpy as np"
   ]
  },
  {
   "cell_type": "code",
   "execution_count": 11,
   "id": "e6f11e74",
   "metadata": {},
   "outputs": [
    {
     "data": {
      "text/html": [
       "<div>\n",
       "<style scoped>\n",
       "    .dataframe tbody tr th:only-of-type {\n",
       "        vertical-align: middle;\n",
       "    }\n",
       "\n",
       "    .dataframe tbody tr th {\n",
       "        vertical-align: top;\n",
       "    }\n",
       "\n",
       "    .dataframe thead th {\n",
       "        text-align: right;\n",
       "    }\n",
       "</style>\n",
       "<table border=\"1\" class=\"dataframe\">\n",
       "  <thead>\n",
       "    <tr style=\"text-align: right;\">\n",
       "      <th></th>\n",
       "      <th>review</th>\n",
       "      <th>label</th>\n",
       "    </tr>\n",
       "  </thead>\n",
       "  <tbody>\n",
       "    <tr>\n",
       "      <th>0</th>\n",
       "      <td>« зелёный миля » смотреть : 10 год назад . пер...</td>\n",
       "      <td>NEUTRAL</td>\n",
       "    </tr>\n",
       "    <tr>\n",
       "      <th>1</th>\n",
       "      <td>период конец девяностый год - начало двухтысяч...</td>\n",
       "      <td>POSITIVE</td>\n",
       "    </tr>\n",
       "    <tr>\n",
       "      <th>2</th>\n",
       "      <td>очень сложно писать рецензия фильм , это прост...</td>\n",
       "      <td>POSITIVE</td>\n",
       "    </tr>\n",
       "    <tr>\n",
       "      <th>3</th>\n",
       "      <td>любимый многий миллион ценитель киноискусство ...</td>\n",
       "      <td>POSITIVE</td>\n",
       "    </tr>\n",
       "    <tr>\n",
       "      <th>4</th>\n",
       "      <td>наш мир существовать разный фильм . цеплять , ...</td>\n",
       "      <td>POSITIVE</td>\n",
       "    </tr>\n",
       "    <tr>\n",
       "      <th>...</th>\n",
       "      <td>...</td>\n",
       "      <td>...</td>\n",
       "    </tr>\n",
       "    <tr>\n",
       "      <th>90641</th>\n",
       "      <td>, фильм - хороший представитель жанр ' биограф...</td>\n",
       "      <td>POSITIVE</td>\n",
       "    </tr>\n",
       "    <tr>\n",
       "      <th>90642</th>\n",
       "      <td>фильм « ламборгиня : человек - легенда » снято...</td>\n",
       "      <td>NEGATIVE</td>\n",
       "    </tr>\n",
       "    <tr>\n",
       "      <th>90643</th>\n",
       "      <td>эй , рагацци , это серьёзно , показывать италь...</td>\n",
       "      <td>NEGATIVE</td>\n",
       "    </tr>\n",
       "    <tr>\n",
       "      <th>90644</th>\n",
       "      <td>вообще , говорить байопик , стоить отметить , ...</td>\n",
       "      <td>NEGATIVE</td>\n",
       "    </tr>\n",
       "    <tr>\n",
       "      <th>90645</th>\n",
       "      <td>визуальный качество , , также безупречный – ед...</td>\n",
       "      <td>NEUTRAL</td>\n",
       "    </tr>\n",
       "  </tbody>\n",
       "</table>\n",
       "<p>90646 rows × 2 columns</p>\n",
       "</div>"
      ],
      "text/plain": [
       "                                                  review     label\n",
       "0      « зелёный миля » смотреть : 10 год назад . пер...   NEUTRAL\n",
       "1      период конец девяностый год - начало двухтысяч...  POSITIVE\n",
       "2      очень сложно писать рецензия фильм , это прост...  POSITIVE\n",
       "3      любимый многий миллион ценитель киноискусство ...  POSITIVE\n",
       "4      наш мир существовать разный фильм . цеплять , ...  POSITIVE\n",
       "...                                                  ...       ...\n",
       "90641  , фильм - хороший представитель жанр ' биограф...  POSITIVE\n",
       "90642  фильм « ламборгиня : человек - легенда » снято...  NEGATIVE\n",
       "90643  эй , рагацци , это серьёзно , показывать италь...  NEGATIVE\n",
       "90644  вообще , говорить байопик , стоить отметить , ...  NEGATIVE\n",
       "90645  визуальный качество , , также безупречный – ед...   NEUTRAL\n",
       "\n",
       "[90646 rows x 2 columns]"
      ]
     },
     "execution_count": 11,
     "metadata": {},
     "output_type": "execute_result"
    }
   ],
   "source": [
    "with open('reviews_Review_Label_rutokenizer_nltk.df', 'rb') as f:\n",
    "    dataset = dill.load(f)\n",
    "dataset"
   ]
  },
  {
   "cell_type": "code",
   "execution_count": 12,
   "id": "1003c34c",
   "metadata": {},
   "outputs": [],
   "source": [
    "dataset.to_csv('data/reviews_Review_Label/reviews_Review_Label_rutokenizer_nltk.csv')"
   ]
  },
  {
   "cell_type": "code",
   "execution_count": 4,
   "id": "9fa3d944",
   "metadata": {},
   "outputs": [
    {
     "name": "stdout",
     "output_type": "stream",
     "text": [
      "/home/pristalovya/Документы/nlp-coursework/data/reviews_Review_Label/reviews_Review_Label_rutokenizer_nltk.csv\n"
     ]
    },
    {
     "data": {
      "text/html": [
       "<div>\n",
       "<style scoped>\n",
       "    .dataframe tbody tr th:only-of-type {\n",
       "        vertical-align: middle;\n",
       "    }\n",
       "\n",
       "    .dataframe tbody tr th {\n",
       "        vertical-align: top;\n",
       "    }\n",
       "\n",
       "    .dataframe thead th {\n",
       "        text-align: right;\n",
       "    }\n",
       "</style>\n",
       "<table border=\"1\" class=\"dataframe\">\n",
       "  <thead>\n",
       "    <tr style=\"text-align: right;\">\n",
       "      <th></th>\n",
       "      <th>review</th>\n",
       "      <th>label</th>\n",
       "    </tr>\n",
       "  </thead>\n",
       "  <tbody>\n",
       "    <tr>\n",
       "      <th>0</th>\n",
       "      <td>« зелёный миля » смотреть : 10 год назад . пер...</td>\n",
       "      <td>NEUTRAL</td>\n",
       "    </tr>\n",
       "    <tr>\n",
       "      <th>1</th>\n",
       "      <td>период конец девяностый год - начало двухтысяч...</td>\n",
       "      <td>POSITIVE</td>\n",
       "    </tr>\n",
       "    <tr>\n",
       "      <th>2</th>\n",
       "      <td>очень сложно писать рецензия фильм , это прост...</td>\n",
       "      <td>POSITIVE</td>\n",
       "    </tr>\n",
       "    <tr>\n",
       "      <th>3</th>\n",
       "      <td>любимый многий миллион ценитель киноискусство ...</td>\n",
       "      <td>POSITIVE</td>\n",
       "    </tr>\n",
       "    <tr>\n",
       "      <th>4</th>\n",
       "      <td>наш мир существовать разный фильм . цеплять , ...</td>\n",
       "      <td>POSITIVE</td>\n",
       "    </tr>\n",
       "    <tr>\n",
       "      <th>...</th>\n",
       "      <td>...</td>\n",
       "      <td>...</td>\n",
       "    </tr>\n",
       "    <tr>\n",
       "      <th>90641</th>\n",
       "      <td>, фильм - хороший представитель жанр ' биограф...</td>\n",
       "      <td>POSITIVE</td>\n",
       "    </tr>\n",
       "    <tr>\n",
       "      <th>90642</th>\n",
       "      <td>фильм « ламборгиня : человек - легенда » снято...</td>\n",
       "      <td>NEGATIVE</td>\n",
       "    </tr>\n",
       "    <tr>\n",
       "      <th>90643</th>\n",
       "      <td>эй , рагацци , это серьёзно , показывать италь...</td>\n",
       "      <td>NEGATIVE</td>\n",
       "    </tr>\n",
       "    <tr>\n",
       "      <th>90644</th>\n",
       "      <td>вообще , говорить байопик , стоить отметить , ...</td>\n",
       "      <td>NEGATIVE</td>\n",
       "    </tr>\n",
       "    <tr>\n",
       "      <th>90645</th>\n",
       "      <td>визуальный качество , , также безупречный – ед...</td>\n",
       "      <td>NEUTRAL</td>\n",
       "    </tr>\n",
       "  </tbody>\n",
       "</table>\n",
       "<p>90646 rows × 2 columns</p>\n",
       "</div>"
      ],
      "text/plain": [
       "                                                  review     label\n",
       "0      « зелёный миля » смотреть : 10 год назад . пер...   NEUTRAL\n",
       "1      период конец девяностый год - начало двухтысяч...  POSITIVE\n",
       "2      очень сложно писать рецензия фильм , это прост...  POSITIVE\n",
       "3      любимый многий миллион ценитель киноискусство ...  POSITIVE\n",
       "4      наш мир существовать разный фильм . цеплять , ...  POSITIVE\n",
       "...                                                  ...       ...\n",
       "90641  , фильм - хороший представитель жанр ' биограф...  POSITIVE\n",
       "90642  фильм « ламборгиня : человек - легенда » снято...  NEGATIVE\n",
       "90643  эй , рагацци , это серьёзно , показывать италь...  NEGATIVE\n",
       "90644  вообще , говорить байопик , стоить отметить , ...  NEGATIVE\n",
       "90645  визуальный качество , , также безупречный – ед...   NEUTRAL\n",
       "\n",
       "[90646 rows x 2 columns]"
      ]
     },
     "execution_count": 4,
     "metadata": {},
     "output_type": "execute_result"
    }
   ],
   "source": [
    "dataset = DatasetLoader.load_reviews_Review_Label_dataset(tokenizer='rutokenizer', stopwords='nltk', show_path=True)\n",
    "dataset"
   ]
  },
  {
   "cell_type": "code",
   "execution_count": null,
   "id": "54ae0b65",
   "metadata": {},
   "outputs": [],
   "source": []
  }
 ],
 "metadata": {
  "kernelspec": {
   "display_name": "Python 3 (ipykernel)",
   "language": "python",
   "name": "python3"
  },
  "language_info": {
   "codemirror_mode": {
    "name": "ipython",
    "version": 3
   },
   "file_extension": ".py",
   "mimetype": "text/x-python",
   "name": "python",
   "nbconvert_exporter": "python",
   "pygments_lexer": "ipython3",
   "version": "3.10.4"
  }
 },
 "nbformat": 4,
 "nbformat_minor": 5
}
