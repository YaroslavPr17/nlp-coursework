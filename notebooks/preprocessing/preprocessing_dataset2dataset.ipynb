{
 "cells": [
  {
   "cell_type": "markdown",
   "id": "efaabfc8",
   "metadata": {},
   "source": [
    "# Preprocessing for training"
   ]
  },
  {
   "cell_type": "code",
   "execution_count": null,
   "id": "47806538",
   "metadata": {},
   "outputs": [],
   "source": [
    "from pandarallel import pandarallel\n",
    "pandarallel.initialize(progress_bar=True)\n",
    "\n",
    "from src.nlp.preprocessing import clean"
   ]
  },
  {
   "cell_type": "code",
   "execution_count": null,
   "id": "fc19bacd",
   "metadata": {},
   "outputs": [],
   "source": [
    "from datasets.getters import load_reviews_Review_Label\n",
    "\n",
    "data = load_reviews_Review_Label()\n",
    "data"
   ]
  },
  {
   "cell_type": "code",
   "execution_count": null,
   "id": "bcca7ca1",
   "metadata": {},
   "outputs": [],
   "source": [
    "%%time\n",
    "\n",
    "data['review'] = data['review'].parallel_apply(clean, args=(TreebankWordTokenizer().tokenize, \n",
    "                                                            nltk.corpus.stopwords.words('russian')))\n",
    "data"
   ]
  },
  {
   "cell_type": "code",
   "execution_count": null,
   "id": "f8e66ff4",
   "metadata": {},
   "outputs": [],
   "source": [
    "with open('datasets/clean_dataset.df', 'wb') as f:\n",
    "    dill.dump(data, f)"
   ]
  }
 ],
 "metadata": {
  "kernelspec": {
   "display_name": "Python 3 (ipykernel)",
   "language": "python",
   "name": "python3"
  },
  "language_info": {
   "codemirror_mode": {
    "name": "ipython",
    "version": 3
   },
   "file_extension": ".py",
   "mimetype": "text/x-python",
   "name": "python",
   "nbconvert_exporter": "python",
   "pygments_lexer": "ipython3",
   "version": "3.9.13"
  }
 },
 "nbformat": 4,
 "nbformat_minor": 5
}
