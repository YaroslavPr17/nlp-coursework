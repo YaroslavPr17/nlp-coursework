{
 "cells": [
  {
   "cell_type": "markdown",
   "id": "efaabfc8",
   "metadata": {},
   "source": [
    "# Preprocessing for training\n",
    "\n",
    "## Description:\n",
    "Described the ways which basic (raw) dataset was preprocessed to become clean with *tokenization*, *lemmatization* and *stopwords elimination* applied. \n",
    "\n",
    "`pandarallel` is used to parallelize computations on 6-core CPU.\n",
    "\n",
    "## Contents:\n",
    "* imports & dataset initialization\n",
    "* \\[`razdel`, `TreebankWordTokenizer`, `rutokenizer`] $\\times$\n",
    "    [`nltk.~.words('russian')`, `spacy.~.STOP_WORDS`, no_named_custom_stopwords] \n",
    "* \\[`razdel`, `rutokenizer`] $\\times$ [`[]`]\n",
    "* Attempt to utilize `rulemma` and `rupostagger` (required), but parallelization is not successsful."
   ]
  },
  {
   "cell_type": "code",
   "execution_count": 1,
   "id": "f6d7e683",
   "metadata": {},
   "outputs": [
    {
     "name": "stdout",
     "output_type": "stream",
     "text": [
      "C:\\Users\\Yaroslav Pristalov\\Documents\\Programming\\nlp-coursework\n",
      "INFO: Pandarallel will run on 12 workers.\n",
      "INFO: Pandarallel will use standard multiprocessing data transfer (pipe) to transfer data between the main process and workers.\n",
      "\n",
      "WARNING: You are on Windows. If you detect any issue with pandarallel, be sure you checked out the Troubleshooting page:\n",
      "https://nalepae.github.io/pandarallel/troubleshooting/\n"
     ]
    }
   ],
   "source": [
    "%cd ../..\n",
    "\n",
    "import dill\n",
    "from pandarallel import pandarallel\n",
    "pandarallel.initialize(progress_bar=True, nb_workers=12)\n",
    "\n",
    "from src.nlp.preprocessing import clean\n",
    "from datasets.getters import load_reviews_Review_Label\n",
    "\n",
    "from nltk.corpus import stopwords\n",
    "from spacy.lang.ru import stop_words\n"
   ]
  },
  {
   "cell_type": "code",
   "execution_count": 2,
   "id": "fc19bacd",
   "metadata": {},
   "outputs": [
    {
     "data": {
      "text/html": [
       "<div>\n",
       "<style scoped>\n",
       "    .dataframe tbody tr th:only-of-type {\n",
       "        vertical-align: middle;\n",
       "    }\n",
       "\n",
       "    .dataframe tbody tr th {\n",
       "        vertical-align: top;\n",
       "    }\n",
       "\n",
       "    .dataframe thead th {\n",
       "        text-align: right;\n",
       "    }\n",
       "</style>\n",
       "<table border=\"1\" class=\"dataframe\">\n",
       "  <thead>\n",
       "    <tr style=\"text-align: right;\">\n",
       "      <th></th>\n",
       "      <th>review</th>\n",
       "      <th>label</th>\n",
       "    </tr>\n",
       "  </thead>\n",
       "  <tbody>\n",
       "    <tr>\n",
       "      <th>0</th>\n",
       "      <td>«Зеленую милю» я смотрела два раза: 10 лет наз...</td>\n",
       "      <td>NEUTRAL</td>\n",
       "    </tr>\n",
       "    <tr>\n",
       "      <th>1</th>\n",
       "      <td>Период конца девяностых годов-начало двухтысяч...</td>\n",
       "      <td>POSITIVE</td>\n",
       "    </tr>\n",
       "    <tr>\n",
       "      <th>2</th>\n",
       "      <td>Очень сложно писать рецензию на этот фильм, та...</td>\n",
       "      <td>POSITIVE</td>\n",
       "    </tr>\n",
       "    <tr>\n",
       "      <th>3</th>\n",
       "      <td>Любимая многими миллионами ценителями киноиску...</td>\n",
       "      <td>POSITIVE</td>\n",
       "    </tr>\n",
       "    <tr>\n",
       "      <th>4</th>\n",
       "      <td>В нашем мире существует много разных фильмов. ...</td>\n",
       "      <td>POSITIVE</td>\n",
       "    </tr>\n",
       "    <tr>\n",
       "      <th>...</th>\n",
       "      <td>...</td>\n",
       "      <td>...</td>\n",
       "    </tr>\n",
       "    <tr>\n",
       "      <th>90641</th>\n",
       "      <td>Конечно, этот фильм - не лучший представитель ...</td>\n",
       "      <td>POSITIVE</td>\n",
       "    </tr>\n",
       "    <tr>\n",
       "      <th>90642</th>\n",
       "      <td>Фильм «Ламборгини: Человек-легенда» снят в 202...</td>\n",
       "      <td>NEGATIVE</td>\n",
       "    </tr>\n",
       "    <tr>\n",
       "      <th>90643</th>\n",
       "      <td>Эй, рагацци, вы это серьёзно, ТАК показывать и...</td>\n",
       "      <td>NEGATIVE</td>\n",
       "    </tr>\n",
       "    <tr>\n",
       "      <th>90644</th>\n",
       "      <td>Вообще, говоря о байопиках, стоит отметить, чт...</td>\n",
       "      <td>NEGATIVE</td>\n",
       "    </tr>\n",
       "    <tr>\n",
       "      <th>90645</th>\n",
       "      <td>Визуальное качество, впрочем, также не безупре...</td>\n",
       "      <td>NEUTRAL</td>\n",
       "    </tr>\n",
       "  </tbody>\n",
       "</table>\n",
       "<p>90646 rows × 2 columns</p>\n",
       "</div>"
      ],
      "text/plain": [
       "                                                  review     label\n",
       "0      «Зеленую милю» я смотрела два раза: 10 лет наз...   NEUTRAL\n",
       "1      Период конца девяностых годов-начало двухтысяч...  POSITIVE\n",
       "2      Очень сложно писать рецензию на этот фильм, та...  POSITIVE\n",
       "3      Любимая многими миллионами ценителями киноиску...  POSITIVE\n",
       "4      В нашем мире существует много разных фильмов. ...  POSITIVE\n",
       "...                                                  ...       ...\n",
       "90641  Конечно, этот фильм - не лучший представитель ...  POSITIVE\n",
       "90642  Фильм «Ламборгини: Человек-легенда» снят в 202...  NEGATIVE\n",
       "90643  Эй, рагацци, вы это серьёзно, ТАК показывать и...  NEGATIVE\n",
       "90644  Вообще, говоря о байопиках, стоит отметить, чт...  NEGATIVE\n",
       "90645  Визуальное качество, впрочем, также не безупре...   NEUTRAL\n",
       "\n",
       "[90646 rows x 2 columns]"
      ]
     },
     "execution_count": 2,
     "metadata": {},
     "output_type": "execute_result"
    }
   ],
   "source": [
    "data = load_reviews_Review_Label()\n",
    "data"
   ]
  },
  {
   "cell_type": "code",
   "execution_count": 3,
   "id": "42010f1e",
   "metadata": {
    "scrolled": true
   },
   "outputs": [
    {
     "name": "stdout",
     "output_type": "stream",
     "text": [
      "_tokenizer='razdel', stopwords=nltk\n",
      "data.shape=(90646, 2)\n"
     ]
    },
    {
     "data": {
      "application/vnd.jupyter.widget-view+json": {
       "model_id": "d954a07e2a9f4aedbab716c4f30ccd3d",
       "version_major": 2,
       "version_minor": 0
      },
      "text/plain": [
       "VBox(children=(HBox(children=(IntProgress(value=0, description='0.00%', max=7554), Label(value='0 / 7554'))), …"
      ]
     },
     "metadata": {},
     "output_type": "display_data"
    },
    {
     "name": "stdout",
     "output_type": "stream",
     "text": [
      "Wall time: 1h 1min 35s\n",
      "data was saved to reviews_Review_Label_razdel_nltk.df\n",
      "\n",
      "\n",
      "_tokenizer='razdel', stopwords=spacy\n",
      "data.shape=(90646, 2)\n"
     ]
    },
    {
     "data": {
      "application/vnd.jupyter.widget-view+json": {
       "model_id": "c2f238f4265244f0b90d9cad74669dab",
       "version_major": 2,
       "version_minor": 0
      },
      "text/plain": [
       "VBox(children=(HBox(children=(IntProgress(value=0, description='0.00%', max=7554), Label(value='0 / 7554'))), …"
      ]
     },
     "metadata": {},
     "output_type": "display_data"
    },
    {
     "name": "stdout",
     "output_type": "stream",
     "text": [
      "Wall time: 1h 1min 43s\n",
      "data was saved to reviews_Review_Label_razdel_spacy.df\n",
      "\n",
      "\n",
      "_tokenizer='razdel', stopwords=third_party_nltk\n",
      "data.shape=(90646, 2)\n"
     ]
    },
    {
     "data": {
      "application/vnd.jupyter.widget-view+json": {
       "model_id": "015bbfebabed4f808bfe30709cb78328",
       "version_major": 2,
       "version_minor": 0
      },
      "text/plain": [
       "VBox(children=(HBox(children=(IntProgress(value=0, description='0.00%', max=7554), Label(value='0 / 7554'))), …"
      ]
     },
     "metadata": {},
     "output_type": "display_data"
    },
    {
     "name": "stdout",
     "output_type": "stream",
     "text": [
      "Wall time: 1h 2min 48s\n",
      "data was saved to reviews_Review_Label_razdel_third_party_nltk.df\n",
      "\n",
      "\n",
      "_tokenizer='TreebankWordTokenizer', stopwords=nltk\n",
      "data.shape=(90646, 2)\n"
     ]
    },
    {
     "data": {
      "application/vnd.jupyter.widget-view+json": {
       "model_id": "040ccc9e90a649b2af451b3b4ea4581b",
       "version_major": 2,
       "version_minor": 0
      },
      "text/plain": [
       "VBox(children=(HBox(children=(IntProgress(value=0, description='0.00%', max=7554), Label(value='0 / 7554'))), …"
      ]
     },
     "metadata": {},
     "output_type": "display_data"
    },
    {
     "name": "stdout",
     "output_type": "stream",
     "text": [
      "Wall time: 1h 2min 15s\n",
      "data was saved to reviews_Review_Label_TreebankWordTokenizer_nltk.df\n",
      "\n",
      "\n",
      "_tokenizer='TreebankWordTokenizer', stopwords=spacy\n",
      "data.shape=(90646, 2)\n"
     ]
    },
    {
     "data": {
      "application/vnd.jupyter.widget-view+json": {
       "model_id": "a731da0470c241cd809e1b31e41fca4d",
       "version_major": 2,
       "version_minor": 0
      },
      "text/plain": [
       "VBox(children=(HBox(children=(IntProgress(value=0, description='0.00%', max=7554), Label(value='0 / 7554'))), …"
      ]
     },
     "metadata": {},
     "output_type": "display_data"
    },
    {
     "name": "stdout",
     "output_type": "stream",
     "text": [
      "Wall time: 1h 2min 51s\n",
      "data was saved to reviews_Review_Label_TreebankWordTokenizer_spacy.df\n",
      "\n",
      "\n",
      "_tokenizer='TreebankWordTokenizer', stopwords=third_party_nltk\n",
      "data.shape=(90646, 2)\n"
     ]
    },
    {
     "data": {
      "application/vnd.jupyter.widget-view+json": {
       "model_id": "c5998b2bf3774ca5a70d6c6115d17cd3",
       "version_major": 2,
       "version_minor": 0
      },
      "text/plain": [
       "VBox(children=(HBox(children=(IntProgress(value=0, description='0.00%', max=7554), Label(value='0 / 7554'))), …"
      ]
     },
     "metadata": {},
     "output_type": "display_data"
    },
    {
     "name": "stdout",
     "output_type": "stream",
     "text": [
      "Wall time: 1h 1min 21s\n",
      "data was saved to reviews_Review_Label_TreebankWordTokenizer_third_party_nltk.df\n",
      "\n",
      "\n",
      "_tokenizer='rutokenizer', stopwords=nltk\n",
      "data.shape=(90646, 2)\n"
     ]
    },
    {
     "data": {
      "application/vnd.jupyter.widget-view+json": {
       "model_id": "6189527feab342f2a418675c37c04631",
       "version_major": 2,
       "version_minor": 0
      },
      "text/plain": [
       "VBox(children=(HBox(children=(IntProgress(value=0, description='0.00%', max=7554), Label(value='0 / 7554'))), …"
      ]
     },
     "metadata": {},
     "output_type": "display_data"
    },
    {
     "name": "stdout",
     "output_type": "stream",
     "text": [
      "Wall time: 1h 4min 18s\n",
      "data was saved to reviews_Review_Label_rutokenizer_nltk.df\n",
      "\n",
      "\n",
      "_tokenizer='rutokenizer', stopwords=spacy\n",
      "data.shape=(90646, 2)\n"
     ]
    },
    {
     "data": {
      "application/vnd.jupyter.widget-view+json": {
       "model_id": "1bc0cf7d0b234768bf0829d8b7340cbd",
       "version_major": 2,
       "version_minor": 0
      },
      "text/plain": [
       "VBox(children=(HBox(children=(IntProgress(value=0, description='0.00%', max=7554), Label(value='0 / 7554'))), …"
      ]
     },
     "metadata": {},
     "output_type": "display_data"
    },
    {
     "name": "stdout",
     "output_type": "stream",
     "text": [
      "Wall time: 1h 3min 47s\n",
      "data was saved to reviews_Review_Label_rutokenizer_spacy.df\n",
      "\n",
      "\n",
      "_tokenizer='rutokenizer', stopwords=third_party_nltk\n",
      "data.shape=(90646, 2)\n"
     ]
    },
    {
     "data": {
      "application/vnd.jupyter.widget-view+json": {
       "model_id": "4ea2a7d1342b4a0e911e89c1ee175fd2",
       "version_major": 2,
       "version_minor": 0
      },
      "text/plain": [
       "VBox(children=(HBox(children=(IntProgress(value=0, description='0.00%', max=7554), Label(value='0 / 7554'))), …"
      ]
     },
     "metadata": {},
     "output_type": "display_data"
    },
    {
     "name": "stdout",
     "output_type": "stream",
     "text": [
      "Wall time: 1h 6min 27s\n",
      "data was saved to reviews_Review_Label_rutokenizer_third_party_nltk.df\n",
      "\n",
      "\n"
     ]
    }
   ],
   "source": [
    "with open('stop-ru.txt', 'rt', encoding='UTF-8') as sw:\n",
    "    _file_stop_words = sw.read().split('\\n')\n",
    "\n",
    "for _tokenizer in ['razdel', 'TreebankWordTokenizer', 'rutokenizer']:\n",
    "    for i, _stopwords in enumerate([stopwords.words('russian'), stop_words.STOP_WORDS, _file_stop_words]):        \n",
    "        i_to_sw_name = {0: 'nltk', 1: 'spacy', 2: 'third_party_nltk'}\n",
    "        print(f'{_tokenizer=}, stopwords={i_to_sw_name[i]}')\n",
    "        data = load_reviews_Review_Label()\n",
    "        print(f'{data.shape=}')\n",
    "        \n",
    "        %time data['review'] = data['review'].parallel_apply(clean, args=(_tokenizer, _stopwords))\n",
    "\n",
    "        \n",
    "        with open(f'reviews_Review_Label_{_tokenizer}_{i_to_sw_name[i]}.df', 'wb') as file:\n",
    "            dill.dump(data, file)\n",
    "            print(f'data was saved to {file.name}\\n\\n')"
   ]
  },
  {
   "cell_type": "code",
   "execution_count": 3,
   "id": "4da7b1ae",
   "metadata": {
    "scrolled": false
   },
   "outputs": [
    {
     "name": "stdout",
     "output_type": "stream",
     "text": [
      "_tokenizer='razdel', stopwords=no\n",
      "data.shape=(90646, 2)\n",
      "<function clean at 0x000002685B247C10> razdel []\n"
     ]
    },
    {
     "data": {
      "application/vnd.jupyter.widget-view+json": {
       "model_id": "38c2aa6a66644495b83ed92b895379de",
       "version_major": 2,
       "version_minor": 0
      },
      "text/plain": [
       "VBox(children=(HBox(children=(IntProgress(value=0, description='0.00%', max=7554), Label(value='0 / 7554'))), …"
      ]
     },
     "metadata": {},
     "output_type": "display_data"
    },
    {
     "name": "stdout",
     "output_type": "stream",
     "text": [
      "Wall time: 1h 11min 7s\n",
      "data was saved to reviews_Review_Label_razdel_no.df\n",
      "\n",
      "\n",
      "_tokenizer='rutokenizer', stopwords=no\n",
      "data.shape=(90646, 2)\n",
      "<function clean at 0x000002685B247C10> rutokenizer []\n"
     ]
    },
    {
     "data": {
      "application/vnd.jupyter.widget-view+json": {
       "model_id": "cf5190d85f4d436a9f42ac4b1df24bdb",
       "version_major": 2,
       "version_minor": 0
      },
      "text/plain": [
       "VBox(children=(HBox(children=(IntProgress(value=0, description='0.00%', max=7554), Label(value='0 / 7554'))), …"
      ]
     },
     "metadata": {},
     "output_type": "display_data"
    },
    {
     "name": "stdout",
     "output_type": "stream",
     "text": [
      "Wall time: 1h 11min 21s\n",
      "data was saved to reviews_Review_Label_rutokenizer_no.df\n",
      "\n",
      "\n"
     ]
    }
   ],
   "source": [
    "for _tokenizer in ['razdel', 'rutokenizer']:\n",
    "    for i, _stopwords in enumerate([[]]):        \n",
    "        i_to_sw_name = {0: 'no'}\n",
    "        print(f'{_tokenizer=}, stopwords={i_to_sw_name[i]}')\n",
    "        data = load_reviews_Review_Label()\n",
    "        print(f'{data.shape=}')\n",
    "        \n",
    "        %time data['review'] = data['review'].parallel_apply(clean, args=(_tokenizer, _stopwords))\n",
    "\n",
    "        \n",
    "        with open(f'reviews_Review_Label_{_tokenizer}_{i_to_sw_name[i]}.df', 'wb') as file:\n",
    "            dill.dump(data, file)\n",
    "            print(f'data was saved to {file.name}\\n\\n')"
   ]
  },
  {
   "cell_type": "code",
   "execution_count": null,
   "id": "4842e567",
   "metadata": {},
   "outputs": [
    {
     "name": "stdout",
     "output_type": "stream",
     "text": [
      "_tokenizer='razdel', stopwords=nltk, lemmatizer=rulemma\n",
      "data.shape=(90646, 2)\n",
      "Wall time: 1.15 s\n",
      "data was saved to reviews_Review_Label_razdel_rulemma_nltk.df\n",
      "\n",
      "\n",
      "_tokenizer='razdel', stopwords=spacy, lemmatizer=rulemma\n",
      "data.shape=(90646, 2)\n",
      "Wall time: 1.01 s\n",
      "data was saved to reviews_Review_Label_razdel_rulemma_spacy.df\n",
      "\n",
      "\n",
      "_tokenizer='razdel', stopwords=third_party_nltk, lemmatizer=rulemma\n",
      "data.shape=(90646, 2)\n"
     ]
    }
   ],
   "source": [
    "# Unsuccessful, since requires copying loaded databases several times or loading again each iteration which is inappropriate.\n",
    "\n",
    "with open('stop-ru.txt', 'rt', encoding='UTF-8') as sw:\n",
    "    _file_stop_words = sw.read().split('\\n')\n",
    "    \n",
    "import rulemma\n",
    "import rupostagger\n",
    "    \n",
    "lemmatizer = rulemma.Lemmatizer()\n",
    "lemmatizer.load()\n",
    "\n",
    "tagger = rupostagger.RuPosTagger()\n",
    "tagger.load()\n",
    "\n",
    "for _tokenizer in ['razdel', 'TreebankWordTokenizer', 'rutokenizer']:\n",
    "    for i, _stopwords in enumerate([stopwords.words('russian'), stop_words.STOP_WORDS, _file_stop_words]):        \n",
    "        i_to_sw_name = {0: 'nltk', 1: 'spacy', 2: 'third_party_nltk'}\n",
    "        print(f'{_tokenizer=}, stopwords={i_to_sw_name[i]}, lemmatizer=rulemma')\n",
    "        data = load_reviews_Review_Label()\n",
    "        print(f'{data.shape=}')\n",
    "        \n",
    "        %time data['review'] = data['review'][:10].apply(clean, args=(_tokenizer, _stopwords, 'rulemma', tagger, lemmatizer))\n",
    "\n",
    "        \n",
    "        with open(f'reviews_Review_Label_{_tokenizer}_rulemma_{i_to_sw_name[i]}.df', 'wb') as file:\n",
    "            dill.dump(data, file)\n",
    "            print(f'data was saved to {file.name}\\n\\n')"
   ]
  }
 ],
 "metadata": {
  "kernelspec": {
   "display_name": "Python 3 (ipykernel)",
   "language": "python",
   "name": "python3"
  },
  "language_info": {
   "codemirror_mode": {
    "name": "ipython",
    "version": 3
   },
   "file_extension": ".py",
   "mimetype": "text/x-python",
   "name": "python",
   "nbconvert_exporter": "python",
   "pygments_lexer": "ipython3",
   "version": "3.9.13"
  }
 },
 "nbformat": 4,
 "nbformat_minor": 5
}
