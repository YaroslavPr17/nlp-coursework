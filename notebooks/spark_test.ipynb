{
 "cells": [
  {
   "cell_type": "code",
   "execution_count": 1,
   "id": "d06dedab",
   "metadata": {},
   "outputs": [],
   "source": [
    "%cd .."
   ]
  },
  {
   "cell_type": "code",
   "execution_count": 2,
   "id": "3d1f2e62",
   "metadata": {},
   "outputs": [
    {
     "data": {
      "text/plain": [
       "'/home/pristalovya/Inter/Programming/nlp-coursework'"
      ]
     },
     "execution_count": 2,
     "metadata": {},
     "output_type": "execute_result"
    }
   ],
   "source": [
    "%pwd"
   ]
  },
  {
   "cell_type": "code",
   "execution_count": 3,
   "id": "bb748b5c",
   "metadata": {},
   "outputs": [],
   "source": [
    "from datasets_ import DatasetLoader "
   ]
  },
  {
   "cell_type": "code",
   "execution_count": 1,
   "id": "0ffb9545",
   "metadata": {
    "collapsed": true
   },
   "outputs": [
    {
     "name": "stdout",
     "output_type": "stream",
     "text": [
      "Collecting pyspark\n",
      "  Downloading pyspark-3.4.1.tar.gz (310.8 MB)\n",
      "\u001b[2K     \u001b[90m━━━━━━━━━━━━━━━━━━━━━━━━━━━━━━━━━━━━━━━\u001b[0m \u001b[32m310.8/310.8 MB\u001b[0m \u001b[31m3.9 MB/s\u001b[0m eta \u001b[36m0:00:00\u001b[0m00:01\u001b[0m00:01\u001b[0m\n",
      "\u001b[?25h  Preparing metadata (setup.py) ... \u001b[?25ldone\n",
      "\u001b[?25hCollecting py4j\n",
      "  Downloading py4j-0.10.9.7-py2.py3-none-any.whl (200 kB)\n",
      "\u001b[2K     \u001b[90m━━━━━━━━━━━━━━━━━━━━━━━━━━━━━━━━━━━━━━\u001b[0m \u001b[32m200.5/200.5 kB\u001b[0m \u001b[31m10.7 MB/s\u001b[0m eta \u001b[36m0:00:00\u001b[0m\n",
      "\u001b[?25hBuilding wheels for collected packages: pyspark\n",
      "  Building wheel for pyspark (setup.py) ... \u001b[?25ldone\n",
      "\u001b[?25h  Created wheel for pyspark: filename=pyspark-3.4.1-py2.py3-none-any.whl size=311285398 sha256=e4416c7b323edc134b8374d581ea4a50181b9117c7b3bc8ec7425621713622d7\n",
      "  Stored in directory: /home/pristalovya/.cache/pip/wheels/0d/77/a3/ff2f74cc9ab41f8f594dabf0579c2a7c6de920d584206e0834\n",
      "Successfully built pyspark\n",
      "Installing collected packages: py4j, pyspark\n",
      "Successfully installed py4j-0.10.9.7 pyspark-3.4.1\n"
     ]
    }
   ],
   "source": [
    "!pip install pyspark py4j"
   ]
  },
  {
   "cell_type": "code",
   "execution_count": 5,
   "id": "fa8cb7f1",
   "metadata": {},
   "outputs": [
    {
     "name": "stderr",
     "output_type": "stream",
     "text": [
      "23/08/03 17:02:30 WARN Utils: Your hostname, pristalovya-ubuntu resolves to a loopback address: 127.0.1.1; using 192.168.1.199 instead (on interface eno1)\n",
      "23/08/03 17:02:30 WARN Utils: Set SPARK_LOCAL_IP if you need to bind to another address\n",
      "Setting default log level to \"WARN\".\n",
      "To adjust logging level use sc.setLogLevel(newLevel). For SparkR, use setLogLevel(newLevel).\n",
      "23/08/03 17:02:30 WARN NativeCodeLoader: Unable to load native-hadoop library for your platform... using builtin-java classes where applicable\n"
     ]
    }
   ],
   "source": [
    "from pyspark.sql import SparkSession\n",
    "\n",
    "spark = SparkSession.builder\\\n",
    "        .master(\"local[*]\")\\\n",
    "        .appName('PySpark_test_coursework')\\\n",
    "        .getOrCreate()"
   ]
  },
  {
   "cell_type": "code",
   "execution_count": 34,
   "id": "a3380843",
   "metadata": {},
   "outputs": [
    {
     "name": "stdout",
     "output_type": "stream",
     "text": [
      "root\n",
      " |-- _c0: integer (nullable = true)\n",
      " |-- review: string (nullable = true)\n",
      " |-- kinopoiskId: integer (nullable = true)\n",
      " |-- type: string (nullable = true)\n",
      " |-- date: string (nullable = true)\n",
      " |-- positiveRating: integer (nullable = true)\n",
      " |-- negativeRating: integer (nullable = true)\n",
      " |-- author: string (nullable = true)\n",
      " |-- title: string (nullable = true)\n",
      " |-- film_id: integer (nullable = true)\n",
      "\n"
     ]
    }
   ],
   "source": [
    "import pyspark.sql.types as types\n",
    "\n",
    "data_scheme = [\n",
    "               types.StructField('_c0', types.IntegerType(), False),\n",
    "               types.StructField('review', types.StringType(), False),\n",
    "               types.StructField('kinopoiskId', types.IntegerType(), False),\n",
    "               types.StructField('type', types.StringType(), True),\n",
    "               types.StructField('date', types.StringType(), True),\n",
    "               types.StructField('positiveRating', types.IntegerType(), True),\n",
    "               types.StructField('negativeRating', types.IntegerType(), True),\n",
    "               types.StructField('author', types.StringType(), True),\n",
    "               types.StructField('title', types.StringType(), True),\n",
    "               types.StructField('film_id', types.IntegerType(), False),\n",
    "            ]\n",
    "\n",
    "final_struct = types.StructType(fields=data_scheme)\n",
    "\n",
    "data = spark.read.csv(\n",
    "    'data/reviews.csv',\n",
    "    header=True,\n",
    "    schema=final_struct\n",
    ")\n",
    "\n",
    "data.printSchema()"
   ]
  },
  {
   "cell_type": "code",
   "execution_count": 35,
   "id": "3502f710",
   "metadata": {},
   "outputs": [
    {
     "data": {
      "text/plain": [
       "DataFrame[_c0: int, review: string, kinopoiskId: int, type: string, date: string, positiveRating: int, negativeRating: int, author: string, title: string, film_id: int]"
      ]
     },
     "execution_count": 35,
     "metadata": {},
     "output_type": "execute_result"
    }
   ],
   "source": [
    "data"
   ]
  },
  {
   "cell_type": "code",
   "execution_count": 36,
   "id": "ddccf820",
   "metadata": {},
   "outputs": [
    {
     "data": {
      "text/plain": [
       "StructType([StructField('_c0', IntegerType(), True), StructField('review', StringType(), True), StructField('kinopoiskId', IntegerType(), True), StructField('type', StringType(), True), StructField('date', StringType(), True), StructField('positiveRating', IntegerType(), True), StructField('negativeRating', IntegerType(), True), StructField('author', StringType(), True), StructField('title', StringType(), True), StructField('film_id', IntegerType(), True)])"
      ]
     },
     "execution_count": 36,
     "metadata": {},
     "output_type": "execute_result"
    }
   ],
   "source": [
    "data.schema"
   ]
  },
  {
   "cell_type": "code",
   "execution_count": 37,
   "id": "62213b6e",
   "metadata": {},
   "outputs": [
    {
     "data": {
      "text/plain": [
       "[('_c0', 'int'),\n",
       " ('review', 'string'),\n",
       " ('kinopoiskId', 'int'),\n",
       " ('type', 'string'),\n",
       " ('date', 'string'),\n",
       " ('positiveRating', 'int'),\n",
       " ('negativeRating', 'int'),\n",
       " ('author', 'string'),\n",
       " ('title', 'string'),\n",
       " ('film_id', 'int')]"
      ]
     },
     "execution_count": 37,
     "metadata": {},
     "output_type": "execute_result"
    }
   ],
   "source": [
    "data.dtypes"
   ]
  },
  {
   "cell_type": "code",
   "execution_count": 38,
   "id": "cb382578",
   "metadata": {
    "scrolled": true
   },
   "outputs": [
    {
     "name": "stderr",
     "output_type": "stream",
     "text": [
      "23/08/03 17:10:41 WARN CSVHeaderChecker: CSV header does not conform to the schema.\n",
      " Header: , review, kinopoiskId, type, date, positiveRating, negativeRating, author, title, film_id\n",
      " Schema: _c0, review, kinopoiskId, type, date, positiveRating, negativeRating, author, title, film_id\n",
      "Expected: _c0 but found: \n",
      "CSV file: file:///home/pristalovya/Inter/Programming/nlp-coursework/data/reviews.csv\n"
     ]
    },
    {
     "data": {
      "text/plain": [
       "[Row(_c0=0, review='«Зеленую милю» я смотрела два раза: 10 лет назад и сейчас.         Первый раз у меня было примерно такое впечатление, о котором говорят большинство зрителей. Я плакала над глубокой и грустной историей, которая надолго оставила след в душе, тем более, что я была подростком.          Несколько лет назад прочитала оригинальный роман Кинга и периодически думала, насколько хороша и точна экранизация (хотя сам фильм я уже успела подзабыть, некоторые моменты еще были живы в памяти).         Сейчас же я решила освежить впечатления и пощекотать эмоции, но это парадоксальным образом не сработало. После взросления и прочтения книги фильм Дарабонта показался мне плоским, как блин, и даже немного не раскрывающим темы, на которые замахивается. Это довольно странно, учитывая, что фильм идет три часа, при этом являясь экранизацией не такой уж и большой книги.        Темы расизма, злоупотребления властью, жизни и смерти — все это отдается на откуп зрительскому восприятию. Особенно нелепа вся эта линия с травлей Перси: за весь  фильм толком непонятно, за что сослуживцы так его ненавидят. За то, что хочет убить милое, но потенциально вредное животное? За то, что работает по блату (во времена Депрессии, ага)? Если честно, эта сюжетная линия выглядит как разборки старшеклассников, а не как работа тюремного блока.         И кстати, ради большей слезовыжималки сценаристы умолчали преступление Делакруа, выставив его чуть ли не положительным персонажем. Мне и в романе-то не нравилось постоянные заигрывания тюремщиков с ним, но здесь это выкрутили да абсурда.        Вина ли это сценариста и режиссера? Да нет, в общем. Просто «Зеленую милю» невозможно экранизировать. Помимо самих событий там много рефлексии, печальных воспоминаний, внутренних рассуждений героев о морали и общественных нормах. Это не такой большой, но плотный роман, под завязку забитый вещами, которые нельзя перевести на язык кино.         И все же я считаю, что Дарабонт сделал все, что в его силах, и фильм получился настолько хорошим, насколько это вообще было возможно. И кстати, кое-что получилось идеально: атмосфера фильма идеально передает общий тон книги. Про актерскую игру и речи нет. Особенно запал в душу Майкл Кларк Дункан. Он проделал фантастическую работу даже по меркам профессиональных актеров, а ведь у него вроде как не было полноценного образования.        Хотя сейчас я уже не испытываю от фильма тех же чувств, что и раньше, считаю огромной несправедливостью, что он не взял ни одного «Оскара». Очень жаль: у картины были все шансы.', kinopoiskId=3221833, type='NEUTRAL', date='2023-01-28T20:58:59', positiveRating=4, negativeRating=7, author='Yanchessa', title=None, film_id=435),\n",
       " Row(_c0=1, review=\"Период конца девяностых годов-начало двухтысячных подарил нам большое количество великолепных и качественных кинолент, которые до сегодняшнего дня мы пересматриваем и каждый раз получаем удовольствие, 'Зелёная миля' режиссёра Фрэнка Дарабонта как раз из тех фильмов, и который я также совсем недавно пересмотрел. Фильм снят по мотивам романа Стивена Кинга 'Зеленая Миля'.            Главную роль исполнил легендарный Том Хэнкс, который давно уже вошёл в список Голливуда как один из лучших харизматичных и талантливых актёров. События в картине разворачиваются в 1935 году, Том иполнил роля начальника тюремного блока смертников по имени Пол Эджкомб. Работа не самая приятная, так как каждый день приходится иметь дело с омерзительными личностями, сидящими в тюремных камерах, хотя не все эти личности и омерзительные, некоторые из выглядят вполне нормальными людьми, но никогда не знаешь о чём они думают, ведь всё же эти люди совершили убийства, а у Пола также есть проблем со здоровьем.         Всё меняется, когда в один из дней в тюрьму привозят гиганта Джона Коффи (Майкл Кларк Дункан), и с того самого момента для Пола и его коллег по работе много в жизни изменится.        Атмосфера фильма выдержана на высоком уровне, тюремный блок, камеры, заключенные - вс по минимуму, но это и придаёт фильму свою мрачную атмосферу.          Фильм можно отнести к драме, к более глубокой и осмысленной драме, так как фильм затрагивает несколько важных жизненных аспектов, в фильме также имеются и смешные моменты, и грустные моменты, и неприятные моменты. Каждый персонаж обладает своим уникальным характером, в особенности тюремщики. Из них отмечу Майкла Кларка Дункана (покойся  миром), Майкла Джитера, исполнивший роль Эдуарда Делокруа, приручившего ручного мышонка, Сэма Рокуэлла.          Среди надзирателей, это конечно же Том Хэнкс, Том - великолпный актёр, ни раз я в этом убеждаюсь. В этом фильме он имел особую связь с Джоном Коффи, в к нему в напарниках были: Дэвид Морс, Барри Пеппер, Джеффри ДеМанн, Джеймс Кромуэлл, и конечно же самый противный персонаж - это персонаж Перси, роль которого исполнил Даг Хатчисон. Среди женского состава - Бонни Хант, исполнившая роль жены Пола и Патришиа Кларксон, которая сыграл роль больной жены начальника тюрьмы (Джеймс Кромуэлл).           Несмотря на очень долгую продолжительность фильма, фильм не кажется затянутым и смотрится на одном дыхании и держит в напряжении, за персонажами интересно наблюдать.         Концовка фильма тоже заставляет о многом задуматься и оставляет после себя немало размышлений, и в тоже время заставляет немного ужаснуться.            'Зелёная миля' - шедевр, которого уже никогда не будет, фильм, занесённый в золотой список кинематографа.\", kinopoiskId=3146204, type='POSITIVE', date='2022-05-06T09:26:39', positiveRating=13, negativeRating=2, author='Fozzy', title='Магия или реальность', film_id=435)]"
      ]
     },
     "execution_count": 38,
     "metadata": {},
     "output_type": "execute_result"
    }
   ],
   "source": [
    "data.head(2)"
   ]
  },
  {
   "cell_type": "code",
   "execution_count": 39,
   "id": "1ec9af14",
   "metadata": {
    "scrolled": true
   },
   "outputs": [
    {
     "name": "stdout",
     "output_type": "stream",
     "text": [
      "+---+--------------------+-----------+--------+-------------------+--------------+--------------+--------------------+--------------------+-------+\n",
      "|_c0|              review|kinopoiskId|    type|               date|positiveRating|negativeRating|              author|               title|film_id|\n",
      "+---+--------------------+-----------+--------+-------------------+--------------+--------------+--------------------+--------------------+-------+\n",
      "|  0|«Зеленую милю» я ...|    3221833| NEUTRAL|2023-01-28T20:58:59|             4|             7|           Yanchessa|                null|    435|\n",
      "|  1|Период конца девя...|    3146204|POSITIVE|2022-05-06T09:26:39|            13|             2|               Fozzy|Магия или реальность|    435|\n",
      "|  2|Очень сложно писа...|    3120334|POSITIVE|2022-01-24T21:36:34|            21|             2|           Denis2oo3|Что происходит на...|    435|\n",
      "|  3|Любимая многими м...|    3104371|POSITIVE|2021-12-19T09:09:50|            10|             2|           kingwayne|Живи долго и счас...|    435|\n",
      "|  4|В нашем мире суще...|    3096653|POSITIVE|2021-12-01T05:31:18|            18|             2|Юлия Березина - 1765|             Шедевр!|    435|\n",
      "|  5|В 1999 году этот ...|    3056956|POSITIVE|2021-08-10T16:49:00|             1|             0|      Павел Рубченко|Странник. Просто ...|    435|\n",
      "|  6|В 1999 году этот ...|    3056946|POSITIVE|2021-08-10T16:41:00|             1|             0|           Павел2014|Странник. Просто ...|    435|\n",
      "|  7|Один из лучших фи...|    3036741|POSITIVE|2021-06-10T20:03:00|             1|             0|     OliverBlack2434|           Best Film|    435|\n",
      "|  8|Середина и конец ...|    3010937|POSITIVE|2021-03-28T14:13:00|             4|             0|   misha.naumoff2012|Гигант с душой ре...|    435|\n",
      "|  9|Не читая книгу, м...|    2959236|POSITIVE|2020-10-25T16:59:00|             0|             0|       ewan.varapaev|                null|    435|\n",
      "| 10|Смотря этот фильм...|    2947181|POSITIVE|2020-09-12T12:36:00|             2|             0|       timurakhrarov|Три часа удовольс...|    435|\n",
      "| 11|Эта мистическая и...|    2904365|POSITIVE|2020-04-25T17:19:00|             5|             1|               SpeLL|                null|    435|\n",
      "| 12|Один из самых сил...|    2898430|POSITIVE|2020-04-12T10:41:00|             8|             0|            1van-998|       Я устал, босс|    435|\n",
      "| 13|Чего ожидаешь, ко...|    2882971|NEGATIVE|2020-02-26T18:21:00|            37|            61|         Мирабадский|Добро всегда добр...|    435|\n",
      "| 14|Еще один представ...|    2876984|POSITIVE|2020-02-08T17:19:00|             3|             1|    Mister_Christmas|#сел_посмотреть «...|    435|\n",
      "| 15|Еще один представ...|    2871313|POSITIVE|2020-01-24T16:54:00|             0|             0|    Mister_Christmas|#сел_посмотреть «...|    435|\n",
      "| 16|Буду ли смотреть ...|    2855665|POSITIVE|2019-12-12T23:19:00|             3|             1|   filmsobjectcritic|   Сколько же жуков?|    435|\n",
      "| 17|На данную драму н...|    2847677|POSITIVE|2019-11-14T02:34:00|             5|             1|          DarkPrince|Иногда «зеленая м...|    435|\n",
      "| 18|Эпиграф: «Оказыва...|    2820396|POSITIVE|2019-08-05T16:28:00|             2|             1|           LiliaOmel|Оскар — 2000. Ном...|    435|\n",
      "| 19|Я кажется единств...|    2760013|POSITIVE|2019-01-15T14:57:00|             4|             0|             Yanibek|- Всё, что происх...|    435|\n",
      "+---+--------------------+-----------+--------+-------------------+--------------+--------------+--------------------+--------------------+-------+\n",
      "only showing top 20 rows\n",
      "\n"
     ]
    },
    {
     "name": "stderr",
     "output_type": "stream",
     "text": [
      "23/08/03 17:11:24 WARN CSVHeaderChecker: CSV header does not conform to the schema.\n",
      " Header: , review, kinopoiskId, type, date, positiveRating, negativeRating, author, title, film_id\n",
      " Schema: _c0, review, kinopoiskId, type, date, positiveRating, negativeRating, author, title, film_id\n",
      "Expected: _c0 but found: \n",
      "CSV file: file:///home/pristalovya/Inter/Programming/nlp-coursework/data/reviews.csv\n"
     ]
    }
   ],
   "source": [
    "data.show()"
   ]
  },
  {
   "cell_type": "code",
   "execution_count": 46,
   "id": "d7eb208e",
   "metadata": {},
   "outputs": [
    {
     "data": {
      "text/plain": [
       "DataFrame[_c0: int, review: string, kinopoiskId: int, type: string, date: string, positiveRating: int, negativeRating: int, author: string, title: string, film_id: int]"
      ]
     },
     "execution_count": 46,
     "metadata": {},
     "output_type": "execute_result"
    }
   ],
   "source": [
    "data."
   ]
  },
  {
   "cell_type": "code",
   "execution_count": null,
   "id": "a1a80de7",
   "metadata": {},
   "outputs": [],
   "source": []
  },
  {
   "cell_type": "code",
   "execution_count": null,
   "id": "1d6b6740",
   "metadata": {},
   "outputs": [],
   "source": []
  },
  {
   "cell_type": "code",
   "execution_count": null,
   "id": "a2950ee2",
   "metadata": {},
   "outputs": [],
   "source": []
  },
  {
   "cell_type": "code",
   "execution_count": null,
   "id": "ef92c26f",
   "metadata": {},
   "outputs": [],
   "source": []
  },
  {
   "cell_type": "code",
   "execution_count": 36,
   "id": "5cc9a536",
   "metadata": {},
   "outputs": [],
   "source": []
  },
  {
   "cell_type": "code",
   "execution_count": 29,
   "id": "38601304",
   "metadata": {},
   "outputs": [
    {
     "name": "stdout",
     "output_type": "stream",
     "text": [
      "Dataset 'reviews.csv' was found in local storage.\n"
     ]
    }
   ],
   "source": [
    "df = DatasetLoader.load_reviews()"
   ]
  },
  {
   "cell_type": "code",
   "execution_count": 30,
   "id": "e43a6ab2",
   "metadata": {},
   "outputs": [
    {
     "data": {
      "text/plain": [
       "review            object\n",
       "kinopoiskId        int64\n",
       "type              object\n",
       "date              object\n",
       "positiveRating     int64\n",
       "negativeRating     int64\n",
       "author            object\n",
       "title             object\n",
       "film_id            int64\n",
       "dtype: object"
      ]
     },
     "execution_count": 30,
     "metadata": {},
     "output_type": "execute_result"
    }
   ],
   "source": [
    "df.dtypes"
   ]
  },
  {
   "cell_type": "code",
   "execution_count": 31,
   "id": "a3c518cf",
   "metadata": {},
   "outputs": [
    {
     "data": {
      "text/html": [
       "<div>\n",
       "<style scoped>\n",
       "    .dataframe tbody tr th:only-of-type {\n",
       "        vertical-align: middle;\n",
       "    }\n",
       "\n",
       "    .dataframe tbody tr th {\n",
       "        vertical-align: top;\n",
       "    }\n",
       "\n",
       "    .dataframe thead th {\n",
       "        text-align: right;\n",
       "    }\n",
       "</style>\n",
       "<table border=\"1\" class=\"dataframe\">\n",
       "  <thead>\n",
       "    <tr style=\"text-align: right;\">\n",
       "      <th></th>\n",
       "      <th>review</th>\n",
       "      <th>kinopoiskId</th>\n",
       "      <th>type</th>\n",
       "      <th>date</th>\n",
       "      <th>positiveRating</th>\n",
       "      <th>negativeRating</th>\n",
       "      <th>author</th>\n",
       "      <th>title</th>\n",
       "      <th>film_id</th>\n",
       "    </tr>\n",
       "  </thead>\n",
       "  <tbody>\n",
       "    <tr>\n",
       "      <th>0</th>\n",
       "      <td>«Зеленую милю» я смотрела два раза: 10 лет наз...</td>\n",
       "      <td>3221833</td>\n",
       "      <td>NEUTRAL</td>\n",
       "      <td>2023-01-28T20:58:59</td>\n",
       "      <td>4</td>\n",
       "      <td>7</td>\n",
       "      <td>Yanchessa</td>\n",
       "      <td>NaN</td>\n",
       "      <td>435</td>\n",
       "    </tr>\n",
       "    <tr>\n",
       "      <th>1</th>\n",
       "      <td>Период конца девяностых годов-начало двухтысяч...</td>\n",
       "      <td>3146204</td>\n",
       "      <td>POSITIVE</td>\n",
       "      <td>2022-05-06T09:26:39</td>\n",
       "      <td>13</td>\n",
       "      <td>2</td>\n",
       "      <td>Fozzy</td>\n",
       "      <td>Магия или реальность</td>\n",
       "      <td>435</td>\n",
       "    </tr>\n",
       "    <tr>\n",
       "      <th>2</th>\n",
       "      <td>Очень сложно писать рецензию на этот фильм, та...</td>\n",
       "      <td>3120334</td>\n",
       "      <td>POSITIVE</td>\n",
       "      <td>2022-01-24T21:36:34</td>\n",
       "      <td>21</td>\n",
       "      <td>2</td>\n",
       "      <td>Denis2oo3</td>\n",
       "      <td>Что происходит на миле, остается на миле</td>\n",
       "      <td>435</td>\n",
       "    </tr>\n",
       "    <tr>\n",
       "      <th>3</th>\n",
       "      <td>Любимая многими миллионами ценителями киноиску...</td>\n",
       "      <td>3104371</td>\n",
       "      <td>POSITIVE</td>\n",
       "      <td>2021-12-19T09:09:50</td>\n",
       "      <td>10</td>\n",
       "      <td>2</td>\n",
       "      <td>kingwayne</td>\n",
       "      <td>Живи долго и счастливо!</td>\n",
       "      <td>435</td>\n",
       "    </tr>\n",
       "    <tr>\n",
       "      <th>4</th>\n",
       "      <td>В нашем мире существует много разных фильмов. ...</td>\n",
       "      <td>3096653</td>\n",
       "      <td>POSITIVE</td>\n",
       "      <td>2021-12-01T05:31:18</td>\n",
       "      <td>18</td>\n",
       "      <td>2</td>\n",
       "      <td>Юлия Березина - 1765</td>\n",
       "      <td>Шедевр!</td>\n",
       "      <td>435</td>\n",
       "    </tr>\n",
       "    <tr>\n",
       "      <th>...</th>\n",
       "      <td>...</td>\n",
       "      <td>...</td>\n",
       "      <td>...</td>\n",
       "      <td>...</td>\n",
       "      <td>...</td>\n",
       "      <td>...</td>\n",
       "      <td>...</td>\n",
       "      <td>...</td>\n",
       "      <td>...</td>\n",
       "    </tr>\n",
       "    <tr>\n",
       "      <th>90641</th>\n",
       "      <td>Конечно, этот фильм - не лучший представитель ...</td>\n",
       "      <td>3214923</td>\n",
       "      <td>POSITIVE</td>\n",
       "      <td>2023-01-09T20:54:53</td>\n",
       "      <td>6</td>\n",
       "      <td>6</td>\n",
       "      <td>drakefake</td>\n",
       "      <td>Учимся видеть хорошее</td>\n",
       "      <td>969760</td>\n",
       "    </tr>\n",
       "    <tr>\n",
       "      <th>90642</th>\n",
       "      <td>Фильм «Ламборгини: Человек-легенда» снят в 202...</td>\n",
       "      <td>3214599</td>\n",
       "      <td>NEGATIVE</td>\n",
       "      <td>2023-01-09T01:55:11</td>\n",
       "      <td>3</td>\n",
       "      <td>1</td>\n",
       "      <td>Georgy_Olegovich</td>\n",
       "      <td>Марксисткий пасквиль против Ламборгини</td>\n",
       "      <td>969760</td>\n",
       "    </tr>\n",
       "    <tr>\n",
       "      <th>90643</th>\n",
       "      <td>Эй, рагацци, вы это серьёзно, ТАК показывать и...</td>\n",
       "      <td>3211347</td>\n",
       "      <td>NEGATIVE</td>\n",
       "      <td>2022-12-29T19:07:13</td>\n",
       "      <td>48</td>\n",
       "      <td>4</td>\n",
       "      <td>Rosinanto</td>\n",
       "      <td>Американизированная версия итальянской биографии.</td>\n",
       "      <td>969760</td>\n",
       "    </tr>\n",
       "    <tr>\n",
       "      <th>90644</th>\n",
       "      <td>Вообще, говоря о байопиках, стоит отметить, чт...</td>\n",
       "      <td>3209833</td>\n",
       "      <td>NEGATIVE</td>\n",
       "      <td>2022-12-24T19:23:18</td>\n",
       "      <td>72</td>\n",
       "      <td>7</td>\n",
       "      <td>Павел - 5699</td>\n",
       "      <td>Унылая повесть про яркую личность</td>\n",
       "      <td>969760</td>\n",
       "    </tr>\n",
       "    <tr>\n",
       "      <th>90645</th>\n",
       "      <td>Визуальное качество, впрочем, также не безупре...</td>\n",
       "      <td>3201042</td>\n",
       "      <td>NEUTRAL</td>\n",
       "      <td>2022-11-26T19:49:37</td>\n",
       "      <td>309</td>\n",
       "      <td>28</td>\n",
       "      <td>devalmont</td>\n",
       "      <td>Ферруччо Ламборгини</td>\n",
       "      <td>969760</td>\n",
       "    </tr>\n",
       "  </tbody>\n",
       "</table>\n",
       "<p>90646 rows × 9 columns</p>\n",
       "</div>"
      ],
      "text/plain": [
       "                                                  review  kinopoiskId  \\\n",
       "0      «Зеленую милю» я смотрела два раза: 10 лет наз...      3221833   \n",
       "1      Период конца девяностых годов-начало двухтысяч...      3146204   \n",
       "2      Очень сложно писать рецензию на этот фильм, та...      3120334   \n",
       "3      Любимая многими миллионами ценителями киноиску...      3104371   \n",
       "4      В нашем мире существует много разных фильмов. ...      3096653   \n",
       "...                                                  ...          ...   \n",
       "90641  Конечно, этот фильм - не лучший представитель ...      3214923   \n",
       "90642  Фильм «Ламборгини: Человек-легенда» снят в 202...      3214599   \n",
       "90643  Эй, рагацци, вы это серьёзно, ТАК показывать и...      3211347   \n",
       "90644  Вообще, говоря о байопиках, стоит отметить, чт...      3209833   \n",
       "90645  Визуальное качество, впрочем, также не безупре...      3201042   \n",
       "\n",
       "           type                 date  positiveRating  negativeRating  \\\n",
       "0       NEUTRAL  2023-01-28T20:58:59               4               7   \n",
       "1      POSITIVE  2022-05-06T09:26:39              13               2   \n",
       "2      POSITIVE  2022-01-24T21:36:34              21               2   \n",
       "3      POSITIVE  2021-12-19T09:09:50              10               2   \n",
       "4      POSITIVE  2021-12-01T05:31:18              18               2   \n",
       "...         ...                  ...             ...             ...   \n",
       "90641  POSITIVE  2023-01-09T20:54:53               6               6   \n",
       "90642  NEGATIVE  2023-01-09T01:55:11               3               1   \n",
       "90643  NEGATIVE  2022-12-29T19:07:13              48               4   \n",
       "90644  NEGATIVE  2022-12-24T19:23:18              72               7   \n",
       "90645   NEUTRAL  2022-11-26T19:49:37             309              28   \n",
       "\n",
       "                     author  \\\n",
       "0                 Yanchessa   \n",
       "1                     Fozzy   \n",
       "2                 Denis2oo3   \n",
       "3                 kingwayne   \n",
       "4      Юлия Березина - 1765   \n",
       "...                     ...   \n",
       "90641             drakefake   \n",
       "90642      Georgy_Olegovich   \n",
       "90643             Rosinanto   \n",
       "90644          Павел - 5699   \n",
       "90645             devalmont   \n",
       "\n",
       "                                                   title  film_id  \n",
       "0                                                    NaN      435  \n",
       "1                                   Магия или реальность      435  \n",
       "2               Что происходит на миле, остается на миле      435  \n",
       "3                                Живи долго и счастливо!      435  \n",
       "4                                                Шедевр!      435  \n",
       "...                                                  ...      ...  \n",
       "90641                              Учимся видеть хорошее   969760  \n",
       "90642             Марксисткий пасквиль против Ламборгини   969760  \n",
       "90643  Американизированная версия итальянской биографии.   969760  \n",
       "90644                  Унылая повесть про яркую личность   969760  \n",
       "90645                                Ферруччо Ламборгини   969760  \n",
       "\n",
       "[90646 rows x 9 columns]"
      ]
     },
     "execution_count": 31,
     "metadata": {},
     "output_type": "execute_result"
    }
   ],
   "source": [
    "df"
   ]
  },
  {
   "cell_type": "code",
   "execution_count": null,
   "id": "0372d6fc",
   "metadata": {},
   "outputs": [],
   "source": []
  }
 ],
 "metadata": {
  "kernelspec": {
   "display_name": "Python 3 (ipykernel)",
   "language": "python",
   "name": "python3"
  },
  "language_info": {
   "codemirror_mode": {
    "name": "ipython",
    "version": 3
   },
   "file_extension": ".py",
   "mimetype": "text/x-python",
   "name": "python",
   "nbconvert_exporter": "python",
   "pygments_lexer": "ipython3",
   "version": "3.10.4"
  }
 },
 "nbformat": 4,
 "nbformat_minor": 5
}
